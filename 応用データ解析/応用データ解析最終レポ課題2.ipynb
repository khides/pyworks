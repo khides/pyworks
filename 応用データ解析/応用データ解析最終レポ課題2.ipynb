{
  "cells": [
    {
      "cell_type": "code",
      "execution_count": 2,
      "metadata": {
        "id": "EbtbcnEW3-oI"
      },
      "outputs": [],
      "source": [
        "#必要なモジュールをインポート\n",
        "from sklearn.svm import SVR\n",
        "from sklearn.preprocessing import StandardScaler\n",
        "from sklearn.datasets import load_boston\n",
        "from sklearn.model_selection import train_test_split\n",
        "from sklearn.model_selection import cross_val_score\n",
        "from sklearn.metrics import r2_score\n",
        "from sklearn.metrics import mean_squared_error\n",
        "from sklearn.metrics import mean_absolute_error\n",
        "import pandas as pd\n",
        "import numpy as np\n",
        "import matplotlib.pyplot as plt"
      ]
    },
    {
      "cell_type": "code",
      "execution_count": null,
      "metadata": {
        "colab": {
          "base_uri": "https://localhost:8080/"
        },
        "id": "LeoWvJA1ECaY",
        "outputId": "8990dab5-e02a-4d59-fcae-dc81010fab8e"
      },
      "outputs": [
        {
          "name": "stderr",
          "output_type": "stream",
          "text": [
            "/usr/local/lib/python3.8/dist-packages/sklearn/utils/deprecation.py:87: FutureWarning: Function load_boston is deprecated; `load_boston` is deprecated in 1.0 and will be removed in 1.2.\n",
            "\n",
            "    The Boston housing prices dataset has an ethical problem. You can refer to\n",
            "    the documentation of this function for further details.\n",
            "\n",
            "    The scikit-learn maintainers therefore strongly discourage the use of this\n",
            "    dataset unless the purpose of the code is to study and educate about\n",
            "    ethical issues in data science and machine learning.\n",
            "\n",
            "    In this special case, you can fetch the dataset from the original\n",
            "    source::\n",
            "\n",
            "        import pandas as pd\n",
            "        import numpy as np\n",
            "\n",
            "\n",
            "        data_url = \"http://lib.stat.cmu.edu/datasets/boston\"\n",
            "        raw_df = pd.read_csv(data_url, sep=\"\\s+\", skiprows=22, header=None)\n",
            "        data = np.hstack([raw_df.values[::2, :], raw_df.values[1::2, :2]])\n",
            "        target = raw_df.values[1::2, 2]\n",
            "\n",
            "    Alternative datasets include the California housing dataset (i.e.\n",
            "    :func:`~sklearn.datasets.fetch_california_housing`) and the Ames housing\n",
            "    dataset. You can load the datasets as follows::\n",
            "\n",
            "        from sklearn.datasets import fetch_california_housing\n",
            "        housing = fetch_california_housing()\n",
            "\n",
            "    for the California housing dataset and::\n",
            "\n",
            "        from sklearn.datasets import fetch_openml\n",
            "        housing = fetch_openml(name=\"house_prices\", as_frame=True)\n",
            "\n",
            "    for the Ames housing dataset.\n",
            "    \n",
            "  warnings.warn(msg, category=FutureWarning)\n"
          ]
        }
      ],
      "source": [
        "#scikit-learn内にあるボストンの住宅価格データセットをbostonという変数に代入。\n",
        "boston = load_boston()\n",
        "#Xに住宅の特徴量（属性データ）を代入。特徴量は、ここでは犯罪率、広さ、部屋数など。\n",
        "X=boston.data\n",
        "#yに正解データとなる住宅価格を代入。\n",
        "y=boston.target"
      ]
    },
    {
      "cell_type": "code",
      "execution_count": 5,
      "metadata": {
        "colab": {
          "base_uri": "https://localhost:8080/"
        },
        "id": "g-JYINrD5h3_",
        "outputId": "10f422fb-2f47-4030-8022-3825397933fc"
      },
      "outputs": [
        {
          "output_type": "stream",
          "name": "stdout",
          "text": [
            "0.2954040615291168\n"
          ]
        }
      ],
      "source": [
        "\n",
        "X_train, X_test, y_train, y_test = train_test_split(X, y, test_size=0.3, random_state=0)\n",
        "scaler = StandardScaler()\n",
        "scaler.fit(X_train)\n",
        "reg = SVR()\n",
        "X_train_stdized = scaler.transform(X_train)\n",
        "X_test_stdized = scaler.transform(X_test)\n",
        "reg.fit(scaler.transform(X_train), y_train)\n",
        "y_pred = reg.predict(scaler.transform(X_test))\n",
        "print(reg.score(scaler.transform(X_test),y_test))"
      ]
    },
    {
      "cell_type": "code",
      "execution_count": null,
      "metadata": {
        "colab": {
          "background_save": true
        },
        "id": "kwgeKsW4-I71"
      },
      "outputs": [],
      "source": [
        "best_score = 0\n",
        "best_parameters  = {}\n",
        "param_list = [0.001, 0.01, 0.1, 1, 10, 100]\n",
        "kernel_list = [\"linear\", \"poly\", \"rbf\"]\n",
        "\n",
        "## SVRの場合\n",
        "for gamma in param_list:\n",
        "    for C in param_list:\n",
        "       for epsilon in param_list:\n",
        "          for kernel in kernel_list:\n",
        "              model = SVR(gamma=gamma, C=C, epsilon=epsilon, kernel=kernel)\n",
        "              # cross validation\n",
        "              scores = cross_val_score(model, X_train_stdized, y_train, cv=3)\n",
        "              #print(\"scores\", scores)\n",
        "              # k 個の評価値の平均を用いる\n",
        "              score = scores.mean()\n",
        "              #print(score, gamma, C, kernel)\n",
        "              if score > best_score:\n",
        "                  best_score = score\n",
        "                  best_parameters = {'gamma' : gamma, 'C' : C, 'epsilon' : epsilon, 'kernel' : kernel}\n",
        "\n",
        "model = SVR(**best_parameters)\n",
        "# best_parameters を使って，training set + validation set に対してモデルを作成する。\n",
        "model.fit(X_train_stdized, y_train)\n",
        "# 最後にtest setを使って誤差評価。\n",
        "\n",
        "test_score = model.score(X_test_stdized, y_test)\n",
        "\n",
        "print('Best score on validation set: {}'.format(best_score))\n",
        "print('Best parameters: {}'.format(best_parameters))\n",
        "print('Test set score with best parameters: {}'.format(test_score))\n",
        "\n",
        "y_pred =model.predict(X_test_stdized) \n",
        "\n",
        "from sklearn.metrics import r2_score\n",
        "r2 = r2_score(y_test, y_pred)\n",
        "from sklearn.metrics import mean_squared_error\n",
        "rmse = np.sqrt(mean_squared_error(y_test, y_pred))\n",
        "from sklearn.metrics import mean_absolute_error\n",
        "mae = mean_absolute_error(y_test, y_pred)\n",
        "print(f'test_score: {test_score}')\n",
        "print(f'r2: {r2}')\n",
        "print(f'rmse: {rmse}')\n",
        "print(f'mae: {mae}')\n"
      ]
    },
    {
      "cell_type": "code",
      "execution_count": 4,
      "metadata": {
        "colab": {
          "base_uri": "https://localhost:8080/"
        },
        "id": "t0F_e74oXmuj",
        "outputId": "c1102255-3737-4f6f-b8d8-a2d68992c390"
      },
      "outputs": [
        {
          "output_type": "stream",
          "name": "stdout",
          "text": [
            "[6.320e-03 1.800e+01 2.310e+00 0.000e+00 5.380e-01 6.520e+01 4.090e+00\n",
            " 1.000e+00 2.960e+02 1.530e+01 3.969e+02]\n"
          ]
        },
        {
          "output_type": "stream",
          "name": "stderr",
          "text": [
            "/usr/local/lib/python3.8/dist-packages/sklearn/utils/deprecation.py:87: FutureWarning: Function load_boston is deprecated; `load_boston` is deprecated in 1.0 and will be removed in 1.2.\n",
            "\n",
            "    The Boston housing prices dataset has an ethical problem. You can refer to\n",
            "    the documentation of this function for further details.\n",
            "\n",
            "    The scikit-learn maintainers therefore strongly discourage the use of this\n",
            "    dataset unless the purpose of the code is to study and educate about\n",
            "    ethical issues in data science and machine learning.\n",
            "\n",
            "    In this special case, you can fetch the dataset from the original\n",
            "    source::\n",
            "\n",
            "        import pandas as pd\n",
            "        import numpy as np\n",
            "\n",
            "\n",
            "        data_url = \"http://lib.stat.cmu.edu/datasets/boston\"\n",
            "        raw_df = pd.read_csv(data_url, sep=\"\\s+\", skiprows=22, header=None)\n",
            "        data = np.hstack([raw_df.values[::2, :], raw_df.values[1::2, :2]])\n",
            "        target = raw_df.values[1::2, 2]\n",
            "\n",
            "    Alternative datasets include the California housing dataset (i.e.\n",
            "    :func:`~sklearn.datasets.fetch_california_housing`) and the Ames housing\n",
            "    dataset. You can load the datasets as follows::\n",
            "\n",
            "        from sklearn.datasets import fetch_california_housing\n",
            "        housing = fetch_california_housing()\n",
            "\n",
            "    for the California housing dataset and::\n",
            "\n",
            "        from sklearn.datasets import fetch_openml\n",
            "        housing = fetch_openml(name=\"house_prices\", as_frame=True)\n",
            "\n",
            "    for the Ames housing dataset.\n",
            "    \n",
            "  warnings.warn(msg, category=FutureWarning)\n"
          ]
        }
      ],
      "source": [
        "# RM, LSTA除いた時\n",
        "boston = load_boston()\n",
        "X=boston.data\n",
        "y=boston.target\n",
        "X = np.delete(X, 5, 1)\n",
        "X = np.delete(X, -1, 1)\n",
        "print(X[0])"
      ]
    },
    {
      "cell_type": "code",
      "execution_count": 8,
      "metadata": {
        "colab": {
          "base_uri": "https://localhost:8080/"
        },
        "id": "0zwRAHkLjR7H",
        "outputId": "722db753-ed32-4af4-9fae-2b0ca756e291"
      },
      "outputs": [
        {
          "output_type": "stream",
          "name": "stdout",
          "text": [
            "Test set score with best parameters: 0.5467896120481599\n",
            "test_score: 0.5467896120481599\n",
            "r2: 0.5467896120481599\n",
            "rmse: 6.143027779801729\n",
            "mae: 3.8826104075440346\n"
          ]
        }
      ],
      "source": [
        "model = SVR(gamma=0.1, C=100, epsilon=1, kernel='rbf')\n",
        "# best_parameters を使って，training set + validation set に対してモデルを作成する。\n",
        "model.fit(X_train_stdized, y_train)\n",
        "# 最後にtest setを使って誤差評価。\n",
        "\n",
        "test_score = model.score(X_test_stdized, y_test)\n",
        "\n",
        "print('Test set score with best parameters: {}'.format(test_score))\n",
        "\n",
        "y_pred =model.predict(X_test_stdized) \n",
        "\n",
        "from sklearn.metrics import r2_score\n",
        "r2 = r2_score(y_test, y_pred)\n",
        "from sklearn.metrics import mean_squared_error\n",
        "rmse = np.sqrt(mean_squared_error(y_test, y_pred))\n",
        "from sklearn.metrics import mean_absolute_error\n",
        "mae = mean_absolute_error(y_test, y_pred)\n",
        "print(f'test_score: {test_score}')\n",
        "print(f'r2: {r2}')\n",
        "print(f'rmse: {rmse}')\n",
        "print(f'mae: {mae}')"
      ]
    }
  ],
  "metadata": {
    "colab": {
      "provenance": []
    },
    "kernelspec": {
      "display_name": "Python 3",
      "name": "python3"
    },
    "language_info": {
      "name": "python"
    }
  },
  "nbformat": 4,
  "nbformat_minor": 0
}