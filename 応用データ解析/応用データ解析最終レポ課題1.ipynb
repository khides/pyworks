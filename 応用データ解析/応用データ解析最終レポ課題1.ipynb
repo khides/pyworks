{
  "cells": [
    {
      "cell_type": "code",
      "execution_count": null,
      "id": "bbcaa923",
      "metadata": {
        "id": "bbcaa923"
      },
      "outputs": [],
      "source": [
        "import numpy as np\n",
        "import matplotlib.pyplot as plt\n",
        "\n",
        "import torch\n",
        "import torch.nn.functional\n",
        "import torch.utils.data\n",
        "\n",
        "from sklearn.model_selection import train_test_split"
      ]
    },
    {
      "cell_type": "code",
      "execution_count": null,
      "id": "fc562270",
      "metadata": {
        "id": "fc562270"
      },
      "outputs": [],
      "source": [
        "## データ作成\n",
        "numX = 10\n",
        "\n",
        "np.random.seed(1)\n",
        "#x = np.random.uniform(0, 1, numX)\n",
        "x = np.linspace(0, 1, numX)\n",
        "print(x)\n",
        "print(len(x))"
      ]
    },
    {
      "cell_type": "markdown",
      "id": "442f6254",
      "metadata": {
        "id": "442f6254"
      },
      "source": [
        "予測対象の関数を定義"
      ]
    },
    {
      "cell_type": "code",
      "execution_count": null,
      "id": "4c800486",
      "metadata": {
        "id": "4c800486"
      },
      "outputs": [],
      "source": [
        "y = 5 * x * np.sin(2 * np.pi * x) + 4 * np.exp((x + 1) ** (-1)) + np.random.normal(loc=0.0, scale=1.0 ,size=(1,numX))"
      ]
    },
    {
      "cell_type": "code",
      "execution_count": null,
      "id": "614cec5e",
      "metadata": {
        "id": "614cec5e"
      },
      "outputs": [],
      "source": [
        "fig = plt.figure()\n",
        "ax = fig.add_subplot()\n",
        "ax.scatter(x, y)\n",
        "#ax.plot(x, y[0], c='r')\n",
        "ax.set_xlabel('x')\n",
        "ax.set_ylabel('y')\n",
        "fig.savefig(\"sample_data.png\")\n",
        "fig.show()"
      ]
    },
    {
      "cell_type": "code",
      "execution_count": null,
      "id": "e5bace6e",
      "metadata": {
        "id": "e5bace6e"
      },
      "outputs": [],
      "source": [
        "## モデル定義\n",
        "class Net(torch.nn.Module):\n",
        "\n",
        "  def __init__(self):\n",
        "    super(Net, self).__init__()\n",
        "    self.fc1 = torch.nn.Linear(1, 100)\n",
        "    self.fc2 = torch.nn.Linear(100, 100)\n",
        "    self.fc3 = torch.nn.Linear(100, 1)\n",
        "    \n",
        "    self.dropout = torch.nn.Dropout(p=0.25)\n",
        "\n",
        "  def forward(self, x):\n",
        "    x = torch.nn.functional.leaky_relu(self.fc1(x))\n",
        "    x = self.dropout(x)\n",
        "    x = torch.nn.functional.leaky_relu(self.fc2(x))\n",
        "    x = self.dropout(x)\n",
        "    x = self.fc3(x)\n",
        "    return x"
      ]
    },
    {
      "cell_type": "code",
      "execution_count": null,
      "id": "acd66bd4",
      "metadata": {
        "id": "acd66bd4"
      },
      "outputs": [],
      "source": [
        "## 学習データ準備\n",
        "\n",
        "## 必要に応じてtrain_test_split\n",
        "#x_train, x_test, y_train, y_test = train_test_split(x, y, test_size=0.0, random_state=None)\n",
        "x_train = x\n",
        "y_train = y"
      ]
    },
    {
      "cell_type": "code",
      "execution_count": null,
      "id": "ba6743b0",
      "metadata": {
        "id": "ba6743b0"
      },
      "outputs": [],
      "source": [
        "## 必要に応じて標準化\n",
        "y_mean = y_train.mean()\n",
        "y_std = y_train.std()\n",
        "y_train = (y_train-y_mean)/y_std\n",
        "#y_test = (y_test-y_mean)/y_std\n"
      ]
    },
    {
      "cell_type": "code",
      "execution_count": null,
      "id": "dbc359ab",
      "metadata": {
        "id": "dbc359ab"
      },
      "outputs": [],
      "source": [
        "# データ形式をpytorchに合わせる\n",
        "x_tensor = torch.from_numpy(x_train.reshape(-1, 1)).float()\n",
        "y_tensor = torch.from_numpy(y_train.reshape(-1, 1)).float()\n"
      ]
    },
    {
      "cell_type": "code",
      "execution_count": null,
      "id": "822048b2",
      "metadata": {
        "id": "822048b2"
      },
      "outputs": [],
      "source": [
        "# crate instance\n",
        "net = Net()"
      ]
    },
    {
      "cell_type": "code",
      "execution_count": null,
      "id": "168e776f",
      "metadata": {
        "id": "168e776f"
      },
      "outputs": [],
      "source": [
        "# set training mode\n",
        "net.train()"
      ]
    },
    {
      "cell_type": "code",
      "execution_count": null,
      "id": "b1d954d6",
      "metadata": {
        "id": "b1d954d6"
      },
      "outputs": [],
      "source": [
        "# set training parameters\n",
        "optimizer = torch.optim.Adam(net.parameters(), lr=0.01)\n",
        "#optimizer = torch.optim.SGD(net.parameters(), lr=0.01)\n",
        "criterion = torch.nn.MSELoss()\n",
        "num_epochs = 2000\n"
      ]
    },
    {
      "cell_type": "code",
      "execution_count": null,
      "id": "091edfed",
      "metadata": {
        "id": "091edfed"
      },
      "outputs": [],
      "source": [
        "# start to train\n",
        "epoch_loss = []\n",
        "eval_loss = []\n",
        "for epoch in range(num_epochs):\n",
        "    # forward\n",
        "    outputs = net(x_tensor)\n",
        "    \n",
        "    # calculate loss\n",
        "    loss = criterion(outputs, y_tensor)\n",
        "    \n",
        "    # update weights\n",
        "    optimizer.zero_grad()\n",
        "    loss.backward()\n",
        "    optimizer.step()\n",
        "    \n",
        "    x_test = np.random.random(10)\n",
        "    x_test = torch.from_numpy(x_test.reshape(-1, 1)).float()\n",
        "    y_test = net(x_test)\n",
        "    y_true = 5*x_test * np.sin(2*np.pi*x_test) + 2 * np.exp(2*x_test)\n",
        "    y_true=(y_true-y_mean)/y_std\n",
        "    test_loss = criterion(y_test, y_true)\n",
        "    \n",
        "    # save loss of this epoch\n",
        "    epoch_loss.append(loss.data.numpy().tolist())\n",
        "    eval_loss.append(test_loss.data.numpy().tolist())"
      ]
    },
    {
      "cell_type": "code",
      "execution_count": null,
      "id": "4bea4044",
      "metadata": {
        "colab": {
          "base_uri": "https://localhost:8080/",
          "height": 279
        },
        "id": "4bea4044",
        "outputId": "7be615c0-6299-43db-a16e-6b852a5f36d5"
      },
      "outputs": [
        {
          "output_type": "display_data",
          "data": {
            "text/plain": [
              "<Figure size 432x288 with 1 Axes>"
            ],
            "image/png": "[encoded data removed]"
          },
          "metadata": {
            "needs_background": "light"
          }
        }
      ],
      "source": [
        "fig = plt.figure()\n",
        "ax = fig.add_subplot()\n",
        "#ax.plot(list(range(len(epoch_loss))), epoch_loss)\n",
        "#ax.plot(list(range(len(eval_loss))), eval_loss)\n",
        "ax.plot(list(range(200)), epoch_loss[:200])\n",
        "ax.plot(list(range(200)), eval_loss[:200])\n",
        "ax.set_yscale('log')\n",
        "ax.set_xlabel('#epoch')\n",
        "ax.set_ylabel('loss')\n",
        "fig.savefig(\"learning curve.png\")\n",
        "fig.show()\n"
      ]
    },
    {
      "cell_type": "code",
      "execution_count": null,
      "id": "d2988c22",
      "metadata": {
        "colab": {
          "base_uri": "https://localhost:8080/"
        },
        "id": "d2988c22",
        "outputId": "6fe88efc-65f5-40ca-b6bd-f905ca301d96"
      },
      "outputs": [
        {
          "output_type": "execute_result",
          "data": {
            "text/plain": [
              "Net(\n",
              "  (fc1): Linear(in_features=1, out_features=100, bias=True)\n",
              "  (fc2): Linear(in_features=100, out_features=100, bias=True)\n",
              "  (fc3): Linear(in_features=100, out_features=1, bias=True)\n",
              "  (dropout): Dropout(p=0.25, inplace=False)\n",
              ")"
            ]
          },
          "metadata": {},
          "execution_count": 216
        }
      ],
      "source": [
        "# set validaiton mode\n",
        "net.eval()\n"
      ]
    },
    {
      "cell_type": "code",
      "execution_count": null,
      "id": "918a05a6",
      "metadata": {
        "id": "918a05a6"
      },
      "outputs": [],
      "source": [
        "# generate new 'x'\n",
        "x_new = np.linspace(0,1, numX)\n",
        "x_new_tensor = torch.from_numpy(x_new.reshape(-1, 1)).float()\n"
      ]
    },
    {
      "cell_type": "code",
      "execution_count": null,
      "id": "6e0bd8be",
      "metadata": {
        "id": "6e0bd8be"
      },
      "outputs": [],
      "source": [
        "# predict 'y'\n",
        "with torch.no_grad():\n",
        "    y_pred_tensor = net(x_new_tensor)\n"
      ]
    },
    {
      "cell_type": "code",
      "execution_count": null,
      "id": "e1ac0540",
      "metadata": {
        "id": "e1ac0540"
      },
      "outputs": [],
      "source": [
        "# convert tensor to numpy\n",
        "y_pred = y_pred_tensor.data.numpy()\n"
      ]
    },
    {
      "cell_type": "code",
      "execution_count": null,
      "id": "a2416aa9",
      "metadata": {
        "colab": {
          "base_uri": "https://localhost:8080/",
          "height": 265
        },
        "id": "a2416aa9",
        "outputId": "891f604d-dbde-4956-c34a-be54f5f96358"
      },
      "outputs": [
        {
          "output_type": "display_data",
          "data": {
            "text/plain": [
              "<Figure size 432x288 with 1 Axes>"
            ],
            "image/png": "[encoded data removed]"
          },
          "metadata": {
            "needs_background": "light"
          }
        }
      ],
      "source": [
        "# plots\n",
        "fig = plt.figure()\n",
        "ax = fig.add_subplot()\n",
        "ax.scatter(x, y)\n",
        "ax.plot(x_new, y_pred* y_std+y_mean, c='r')\n",
        "#ax.scatter(x, y_pred* y_std+y_mean)\n",
        "fig.savefig(\"prediction.png\")\n",
        "fig.show()"
      ]
    },
    {
      "cell_type": "code",
      "execution_count": null,
      "id": "ca500ed8",
      "metadata": {
        "id": "ca500ed8",
        "outputId": "b3415b5a-6cc1-4a08-f86f-31e158409eb8",
        "colab": {
          "base_uri": "https://localhost:8080/"
        }
      },
      "outputs": [
        {
          "output_type": "stream",
          "name": "stdout",
          "text": [
            "0.3561602566507279\n",
            "[12.49747268  9.58376026  9.63156071  8.83840712  9.6187393   4.35603393\n",
            "  6.14653562  2.4292038   4.2539382   6.34551471]\n",
            "[12.583056   9.960738   9.572311   9.246649   9.150322   5.0089903\n",
            "  5.778191   3.0926123  4.5247016  6.5531745]\n",
            "[-0.08558377 -0.37697792  0.05924931 -0.40824167  0.46841734 -0.65295636\n",
            "  0.36834453 -0.66340847 -0.2707634  -0.20765979]\n"
          ]
        }
      ],
      "source": [
        "yy = y_pred* y_std+y_mean\n",
        "print(np.average(np.sqrt( (y[0]-yy[:,0])*(y[0]-yy[:,0]) )) )\n",
        "print(y[0])\n",
        "print(yy[:,0])\n",
        "print(y[0] - yy[:,0])"
      ]
    },
    {
      "cell_type": "code",
      "execution_count": null,
      "id": "4aa3646c",
      "metadata": {
        "id": "4aa3646c"
      },
      "outputs": [],
      "source": [
        "y = 5*x * np.sin(2*np.pi*x) + 2 * np.exp(2*x) + np.random.normal(loc=0.0, scale=1.0 ,size=(1,numX))"
      ]
    },
    {
      "cell_type": "code",
      "execution_count": null,
      "id": "61ac5d79",
      "metadata": {
        "id": "61ac5d79"
      },
      "outputs": [],
      "source": [
        "y_ = 5*x * np.sin(2*np.pi*x) + 2 * np.exp(2*x) + np.random.normal(loc=0.0, scale=0.0 ,size=(1,numX))"
      ]
    },
    {
      "cell_type": "code",
      "execution_count": null,
      "id": "cd1400fa",
      "metadata": {
        "id": "cd1400fa",
        "outputId": "7d26505f-b380-489c-a7b9-7f1ca6f6a458",
        "colab": {
          "base_uri": "https://localhost:8080/",
          "height": 265
        }
      },
      "outputs": [
        {
          "output_type": "display_data",
          "data": {
            "text/plain": [
              "<Figure size 432x288 with 1 Axes>"
            ],
            "image/png": "[encoded data removed]"
          },
          "metadata": {
            "needs_background": "light"
          }
        }
      ],
      "source": [
        "# plots\n",
        "fig = plt.figure()\n",
        "ax = fig.add_subplot()\n",
        "ax.scatter(x, y)\n",
        "ax.plot(x, y_[0], 'r')\n",
        "ax.plot(x_new, y_pred* y_std+y_mean, c='k')\n",
        "fig.savefig(\"prediction.png\")\n",
        "fig.show()"
      ]
    },
    {
      "cell_type": "code",
      "execution_count": null,
      "id": "a797e161",
      "metadata": {
        "id": "a797e161"
      },
      "outputs": [],
      "source": []
    },
    {
      "cell_type": "code",
      "execution_count": null,
      "id": "1b3e9dd1",
      "metadata": {
        "id": "1b3e9dd1",
        "outputId": "aef8d19b-a28f-4eff-f30a-5139dfef1aa9",
        "colab": {
          "base_uri": "https://localhost:8080/"
        }
      },
      "outputs": [
        {
          "output_type": "stream",
          "name": "stdout",
          "text": [
            "[0.         0.11111111 0.22222222 0.33333333 0.44444444 0.55555556\n",
            " 0.66666667 0.77777778 0.88888889 1.        ]\n"
          ]
        }
      ],
      "source": [
        "#x_test = np.random.random(10)\n",
        "x_test = np.linspace(0,1, 1000)\n",
        "print(x)"
      ]
    },
    {
      "cell_type": "code",
      "execution_count": null,
      "id": "4ddd0722",
      "metadata": {
        "id": "4ddd0722"
      },
      "outputs": [],
      "source": [
        "\n",
        "x_test_tensor = torch.from_numpy(x_test.reshape(-1, 1)).float()\n",
        "y_test_tensor = net(x_test_tensor)\n",
        "y_test = y_test_tensor.data.numpy()\n",
        "y_test = y_test * y_std+y_mean"
      ]
    },
    {
      "cell_type": "code",
      "execution_count": null,
      "id": "9938d198",
      "metadata": {
        "id": "9938d198",
        "outputId": "abe20a81-a2f4-4265-ef95-e55251c280de",
        "colab": {
          "base_uri": "https://localhost:8080/",
          "height": 265
        }
      },
      "outputs": [
        {
          "output_type": "display_data",
          "data": {
            "text/plain": [
              "<Figure size 432x288 with 1 Axes>"
            ],
            "image/png": "[encoded data removed]"
          },
          "metadata": {
            "needs_background": "light"
          }
        }
      ],
      "source": [
        "# plots\n",
        "fig = plt.figure()\n",
        "ax = fig.add_subplot()\n",
        "ax.scatter(x, y)\n",
        "ax.plot(x_test, y_test, c='r')\n",
        "#ax.scatter(x, y_pred* y_std+y_mean)\n",
        "fig.savefig(\"prediction.png\")\n",
        "fig.show()"
      ]
    },
    {
      "cell_type": "code",
      "execution_count": null,
      "id": "b792963b",
      "metadata": {
        "id": "b792963b",
        "outputId": "e72e2da7-a70c-4371-97e6-12592686badb",
        "colab": {
          "base_uri": "https://localhost:8080/",
          "height": 244
        }
      },
      "outputs": [
        {
          "output_type": "error",
          "ename": "ValueError",
          "evalue": "ignored",
          "traceback": [
            "\u001b[0;31m---------------------------------------------------------------------------\u001b[0m",
            "\u001b[0;31mValueError\u001b[0m                                Traceback (most recent call last)",
            "\u001b[0;32m<ipython-input-229-68920a734a84>\u001b[0m in \u001b[0;36m<module>\u001b[0;34m\u001b[0m\n\u001b[1;32m      1\u001b[0m \u001b[0myy\u001b[0m \u001b[0;34m=\u001b[0m \u001b[0my_test\u001b[0m\u001b[0;34m\u001b[0m\u001b[0;34m\u001b[0m\u001b[0m\n\u001b[0;32m----> 2\u001b[0;31m \u001b[0mprint\u001b[0m\u001b[0;34m(\u001b[0m\u001b[0mnp\u001b[0m\u001b[0;34m.\u001b[0m\u001b[0maverage\u001b[0m\u001b[0;34m(\u001b[0m\u001b[0mnp\u001b[0m\u001b[0;34m.\u001b[0m\u001b[0msqrt\u001b[0m\u001b[0;34m(\u001b[0m \u001b[0;34m(\u001b[0m\u001b[0my\u001b[0m\u001b[0;34m[\u001b[0m\u001b[0;36m0\u001b[0m\u001b[0;34m]\u001b[0m\u001b[0;34m-\u001b[0m\u001b[0myy\u001b[0m\u001b[0;34m[\u001b[0m\u001b[0;34m:\u001b[0m\u001b[0;34m,\u001b[0m\u001b[0;36m0\u001b[0m\u001b[0;34m]\u001b[0m\u001b[0;34m)\u001b[0m\u001b[0;34m*\u001b[0m\u001b[0;34m(\u001b[0m\u001b[0my\u001b[0m\u001b[0;34m[\u001b[0m\u001b[0;36m0\u001b[0m\u001b[0;34m]\u001b[0m\u001b[0;34m-\u001b[0m\u001b[0myy\u001b[0m\u001b[0;34m[\u001b[0m\u001b[0;34m:\u001b[0m\u001b[0;34m,\u001b[0m\u001b[0;36m0\u001b[0m\u001b[0;34m]\u001b[0m\u001b[0;34m)\u001b[0m \u001b[0;34m)\u001b[0m\u001b[0;34m)\u001b[0m \u001b[0;34m)\u001b[0m\u001b[0;34m\u001b[0m\u001b[0;34m\u001b[0m\u001b[0m\n\u001b[0m\u001b[1;32m      3\u001b[0m \u001b[0mprint\u001b[0m\u001b[0;34m(\u001b[0m\u001b[0my\u001b[0m\u001b[0;34m[\u001b[0m\u001b[0;36m0\u001b[0m\u001b[0;34m]\u001b[0m\u001b[0;34m)\u001b[0m\u001b[0;34m\u001b[0m\u001b[0;34m\u001b[0m\u001b[0m\n\u001b[1;32m      4\u001b[0m \u001b[0mprint\u001b[0m\u001b[0;34m(\u001b[0m\u001b[0myy\u001b[0m\u001b[0;34m[\u001b[0m\u001b[0;34m:\u001b[0m\u001b[0;34m,\u001b[0m\u001b[0;36m0\u001b[0m\u001b[0;34m]\u001b[0m\u001b[0;34m)\u001b[0m\u001b[0;34m\u001b[0m\u001b[0;34m\u001b[0m\u001b[0m\n\u001b[1;32m      5\u001b[0m \u001b[0mprint\u001b[0m\u001b[0;34m(\u001b[0m\u001b[0my\u001b[0m\u001b[0;34m[\u001b[0m\u001b[0;36m0\u001b[0m\u001b[0;34m]\u001b[0m \u001b[0;34m-\u001b[0m \u001b[0myy\u001b[0m\u001b[0;34m[\u001b[0m\u001b[0;34m:\u001b[0m\u001b[0;34m,\u001b[0m\u001b[0;36m0\u001b[0m\u001b[0;34m]\u001b[0m\u001b[0;34m)\u001b[0m\u001b[0;34m\u001b[0m\u001b[0;34m\u001b[0m\u001b[0m\n",
            "\u001b[0;31mValueError\u001b[0m: operands could not be broadcast together with shapes (10,) (1000,) "
          ]
        }
      ],
      "source": [
        "yy = y_test\n",
        "print(np.average(np.sqrt( (y[0]-yy[:,0])*(y[0]-yy[:,0]) )) )\n",
        "print(y[0])\n",
        "print(yy[:,0])\n",
        "print(y[0] - yy[:,0])"
      ]
    },
    {
      "cell_type": "code",
      "execution_count": null,
      "id": "eb0b9409",
      "metadata": {
        "id": "eb0b9409"
      },
      "outputs": [],
      "source": []
    },
    {
      "cell_type": "code",
      "execution_count": null,
      "id": "8649591b",
      "metadata": {
        "id": "8649591b"
      },
      "outputs": [],
      "source": []
    },
    {
      "cell_type": "code",
      "execution_count": null,
      "id": "787e8f43",
      "metadata": {
        "id": "787e8f43"
      },
      "outputs": [],
      "source": []
    },
    {
      "cell_type": "code",
      "execution_count": null,
      "id": "a260e8fc",
      "metadata": {
        "id": "a260e8fc"
      },
      "outputs": [],
      "source": []
    }
  ],
  "metadata": {
    "kernelspec": {
      "display_name": "Python 3 (ipykernel)",
      "language": "python",
      "name": "python3"
    },
    "language_info": {
      "codemirror_mode": {
        "name": "ipython",
        "version": 3
      },
      "file_extension": ".py",
      "mimetype": "text/x-python",
      "name": "python",
      "nbconvert_exporter": "python",
      "pygments_lexer": "ipython3",
      "version": "3.9.7"
    },
    "colab": {
      "provenance": []
    }
  },
  "nbformat": 4,
  "nbformat_minor": 5
}