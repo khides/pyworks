{
  "nbformat": 4,
  "nbformat_minor": 0,
  "metadata": {
    "colab": {
      "provenance": [],
      "collapsed_sections": [
        "lKQHj74YiSFk",
        "DXMgcXr36djm",
        "oYI6_mpQhuW9"
      ]
    },
    "kernelspec": {
      "name": "python3",
      "display_name": "Python 3"
    },
    "language_info": {
      "name": "python"
    }
  },
  "cells": [
    {
      "cell_type": "markdown",
      "metadata": {
        "id": "lKQHj74YiSFk"
      },
      "source": [
        "\n",
        "\n",
        "## 航空宇宙情報システム学第二\n",
        "\n",
        "<h1><center> 第1回 ガイダンス・ファイル入出力 </center> </h1>\n",
        "\n",
        "<center>\n",
        "\n",
        "2023年4月11日\n",
        "\n",
        "担当教員: 矢入健久\n",
        "\n",
        "e-mail: yairi@g.ecc.u-tokyo.ac.jp\n",
        "</center>\n",
        "\n",
        "\n"
      ]
    },
    {
      "cell_type": "markdown",
      "source": [
        "# 航空宇宙情報システム学第二ガイダンス\n",
        "\n",
        "## はじめに\n",
        "\n",
        "本郷（専門課程）への進学おめでとうございます。3年生のSセメスター、Aセメスターは科目数や課題が非常に多くて大変だという噂がありますが、弊科目は、**1限の授業であるということ、7号館ではなく浅野地区の情報基盤センターの演習室で行うこと以外は**、比較的「優しい」科目であると自負しています。\n",
        "(2限の土屋先生の講義に十分に間に合うように、毎回**10分早く**終わるように心がけます。)\n",
        "\n",
        "先学期(2Aセメスター)の航空宇宙情報システム学第一では、数式処理システムMathematicaや、グラフィカルなモデリング環境SIMULINKを手短に紹介した後、Pythonによるプログラミングの基本、常微分方程式の解法などを学びました。\n",
        "\n",
        "航空宇宙情報システム学第二では、引き続きPythonを使いながら、ベクトル・行列演算、データ解析、最適化などを学んでいきたいと思います。\n",
        "\n",
        "先学期の第一の最初の授業でも示しましたが、航空宇宙情報システム学第一(2A)、第二(3S)、第三(3A,システムコース)で扱う内容を再度書いておくと、\n",
        "\n",
        "#### 情報システム学第一(2年Aセメ)\n",
        "- モデルベーズドなシミュレーションを行うためのプログ\n",
        "ラミング\n",
        "- モデル≒微分方程式(数力演習と勝手に連携)\n",
        "\n",
        "#### 情報システム学第二(3年Sセメ)\n",
        "- 行列・ベクトル、データ処理\n",
        "- 多変量解析(機械学習基礎)\n",
        "- 数値最適化\n",
        "\n",
        "#### 情報システム学第三(3年Aセメ)\n",
        "- 状態・モデル推定(モデルとデータの融合)\n",
        "- 航空・宇宙でのリアルなケーススタディ\n",
        "\n",
        "\n",
        "## スケジュール (予定)\n",
        "\n",
        "|回|日|内容|\n",
        "|:-|:-|:-|\n",
        "|1|4/11| ガイダンス, ファイルの読み書き |\n",
        "|2|4/18| NumPyによるベクトル・行列計算 |\n",
        "|3|4/25| 便利なライブラリMatploltlib, SciPy, Pandas |\n",
        "|4|5/2| 線形最小二乗法と最尤法 |\n",
        "|5|5/9| 正則化と変数選択 |\n",
        "|6|5/16| ベイズの定理と最大事後確率推定 |\n",
        "|7|5/23| 線形判別（ロジスティック回帰） |\n",
        "|8|6/6 (5/30)*| 主成分分析と多次元尺度法 |\n",
        "|9|6/13| クラスタリング（k-means法, 混合ガウス分布モデル) |\n",
        "|10|6/20|探索（経路探索, 幅優先, 深さ優先, Dijkstra, A* アルゴリズム）|\n",
        "|11|6/27|制約なし最適化 |\n",
        "|12|7/4|非線形最小二乗法 |\n",
        "|13|7/11|制約あり最適化 |\n",
        "\n",
        "(*) 8回目は今の所6/6を予定していますが、学会出張が入る可能性があり、その場合は5/30の補講日を使わせてもらうつもりです。\n",
        "\n",
        "今年新たな試みとして、機械学習の基本である多変量解析の話題（線形判別、主成分分析、クラスタリング、正則化、など）を扱ってみたいと考えています。\n",
        "\n",
        "# 諸連絡\n",
        "* 第一では駒場の情報教育棟の演習室で行いましたが、第二は本郷(浅野地区)の情報基盤センターの演習室で行います。7号館から少し歩きますが、気分転換だと思ってください。。\n",
        "* 演習室に設置されているECCSの端末にログインするためには、UTokyoアカウントと連動しているECCSアカウントが必要です。ユーザー名は10桁の番号、パスワードはUTokyoアカウントと同じ（はず）です。\n",
        "* 授業ポータルサイトへのアクセスには<font color=red>ECCSクラウドメールにサインインしておく</font>必要があります。\n",
        "* 成績は（１）出席（２）小課題、に基づいて判定します。\n",
        "* 小課題は隔週で6回程度出題することを予定しています。\n",
        "* 矢入研M1の中島琢登君がティーチングアシスタント(TA)を務めてくれます。\n",
        "  * 小課題の採点、質問の回答、などを担当します。\n",
        "  * とりあえず、質問や相談事が有ったら、気軽にポータルサイトのコメント欄で知らせてください。メールでも構いません。\n",
        "* 演習室の端末を使って講義を受けることを推奨しますが、自前のノートPCを持参してUTokyo WIFIに接続して使ってもらっても構いません。\n"
      ],
      "metadata": {
        "id": "DXMgcXr36djm"
      }
    },
    {
      "cell_type": "markdown",
      "source": [
        "\n",
        "---\n",
        "\n",
        "# ファイル入出力\n",
        "\n",
        "## はじめに\n",
        "先学期、Pythonによるプログラミングの基本を一通りやりましたが、時間が足りなくて扱わなかったことの一つが、「ファイルを開いてデータを読み書きする」ことでした（その代わり、Webページからデータをスクレイピングしてみましたが。）。\n",
        "\n",
        "前述のように、今学期はデータ処理・分析を一つのテーマとしているので、プログラム(ソースコード)からデータファイルを読み込むのは必須です。そこで、今日はテキストファイルをデータとして読み込んで処理する基本的な方法を扱います。\n",
        "\n",
        "## 今日扱うデータファイル\n",
        "* <font color=\"red\">**weather_tokyo_1980_2023.csv**</font> :\n",
        "1980年6月1日から2023年4月7日まで約43年間の東京の気象情報（年月日、最高気温、最低気温、降雨量、日照時間、平均風速、平均蒸気圧、平均雲量）を<font color=\"blue\">**カンマ区切り**</font>で列挙したものです。\n",
        "* [気象庁「過去の気象データ・ダウンロード」](http://www.data.jma.go.jp/gmd/risk/obsdl/) よりダウンロードしたデータから作成しました。\n",
        "* 先頭行（ヘッダー）には、項目名が書かれていて、2行目以降に日付と数値データが並んでいます。\n",
        "* <font color=\"blue\">テキストエディタで</font>開いてみると、\n",
        "```\n",
        "date,temp_hi,temp_lo,rain,sun,wind,vapor,cloud\n",
        "1980/6/1,25,18.7,0,1.1,1.7,20.1,10\n",
        "1980/6/2,27.3,21.1,13.5,5.4,3.2,21.9,10\n",
        "1980/6/3,28.3,20.4,2,5.7,2.4,22.3,9\n",
        ":\n",
        ":\n",
        "2021/6/8,31.4,18.8,0,9,2.2,19.6,6.8\n",
        "2021/6/9,31.1,19.5,0,13.1,2.8,16.4,1.5\n",
        "2021/6/10,30.7,19,0,13.2,2.7,18.7,0.8\n",
        "```\n",
        "* このようなカンマ区切りのテキストで表現されたデータファイルは、<font color=\"blue\">csv</font>フォーマットと呼ばれます。\n",
        "* Excelなどのスプレッドシートアプリで開くと、テーブル状に表示されます。"
      ],
      "metadata": {
        "id": "FnadTWEXPSI6"
      }
    },
    {
      "cell_type": "markdown",
      "source": [
        "## Colaboratory でファイルを開く準備\n",
        "\n",
        "ColabはブラウザさえあればPythonプログラミングができて非常に便利なのですが、クラウド上で動作しているので、データファイルにアクセスするのが少々面倒です。\n",
        "\n",
        "おそらく、一番簡単と思われるのは、\n",
        "1. 使いたいファイルをGoogleドライブにアップロードする。\n",
        "2. GoogleドライブをColabからマウントする。\n",
        "3. Colab ノートブックでアップロードしたファイルを開く。\n",
        "\n",
        "という手順なので、ここではこれに従います。\n",
        "\n",
        "必須ではないのですが、まず、Colab上の現在のフォルダ(ディレクトリ)を確かめておきます。"
      ],
      "metadata": {
        "id": "w-MDojzAZBaO"
      }
    },
    {
      "cell_type": "code",
      "execution_count": null,
      "metadata": {
        "id": "9rF_K76c5Yn7",
        "colab": {
          "base_uri": "https://localhost:8080/",
          "height": 35
        },
        "outputId": "4a167648-f5d7-4f3b-d8d4-cabcff54fdef"
      },
      "outputs": [
        {
          "output_type": "execute_result",
          "data": {
            "text/plain": [
              "'/content'"
            ],
            "application/vnd.google.colaboratory.intrinsic+json": {
              "type": "string"
            }
          },
          "metadata": {},
          "execution_count": 1
        }
      ],
      "source": [
        "import os\n",
        "# カレントディレクトリ\n",
        "os.getcwd()"
      ]
    },
    {
      "cell_type": "markdown",
      "source": [
        "### データファイルをローカルにダウンロード\n",
        "\n",
        "とりあえず、[weather_tokyo_1980_2023.csv](https://drive.google.com/file/d/1jjwQ3TtFUavc05BTygKiQEYsxkoOq1AG/view?usp=share_link) を、現在作業しているPCのローカルフォルダ(*注)にダウンロードしましょう。フォルダはどこでも構いません。\n",
        "\n",
        "  - (*注) ECCSの端末の場合、ホームフォルダがサーバー上にあるので厳密には「ローカル」とは呼べませんが、ここでは気にしないことにしましょう。\n",
        "\n",
        "### Googleドライブにアップロード\n",
        "\n",
        "ローカルにダウンロードしたファイル(weather_tokyo_1980_2023.csv)を、自身のGoogleドライブの<font color=\"red\">\"マイドライブ\"直下</font>にアップロードしてください。\n",
        "* <font color=\"blue\">ファイルやディレクトリの「パス」について理解している</font>人は、\n",
        "”マイドライブ”以外のフォルダ（サブフォルダ）にファイルを置いても全く問題ありません。\n",
        "\n",
        "### Googleドライブをマウント(*)\n",
        "\n",
        "\n",
        "* Colabの左側にあるフォルダアイコンをクリックします。\n",
        "\n",
        "![](https://drive.google.com/uc?export=view&id=1BvF_JtsyT7cbwJliubNea56dGpJTpAzj)\n",
        "\n",
        "* GOOGLEドライブのアイコンをクリックします。\n",
        "\n",
        "![](https://drive.google.com/uc?export=view&id=17zMWuO1ouKWFLhhqPGDhxaFn-TiJY4sn)\n",
        "\n",
        "* 「アクセスを許可しますか」のような確認があるので、「接続する」を選択\n",
        "\n",
        "![](https://drive.google.com/uc?export=view&id=1_4p9oWDaTC7Ww-0yWhVmL6RXxoIcgzqK)\n",
        "\n",
        "* マウントされた(アクセス可能になった)Googleドライブが、\"drive\"という名前で現れます。\n",
        "\n",
        "![](https://drive.google.com/uc?export=view&id=18-yo4PGx8IHOmuIsR7lYGNXA0h2eafR-)\n",
        "\n",
        "これで、ColabからGoogleドライブ内のファイルにアクセスできるようになります。\n",
        "\n",
        "* (雑談) 「マウント」という言葉に「？」と思う人も多いかと思います。計算機(コンピュータ)業界では、「現在使っている処理系に、別のファイルシステムの接続して利用可能にすること」を「マウント」と呼びます。例えば、USBメモリをPCのUSB端子に挿すと、USBメモリ上のファイルやフォルダにアクセスできるようになりますよね。この状態を「マウント」と呼びます。\n",
        "\n"
      ],
      "metadata": {
        "id": "oYI6_mpQhuW9"
      }
    },
    {
      "cell_type": "markdown",
      "source": [
        "### ファイルが存在するかを確認\n",
        "\n",
        "ここまでの作業が想定通りに出来ていれば、データファイル(weather_tokyo_1980_2023.csv)に、Colab上で、\"drive/My Drive/weather_tokyo_1980_2023.csv\"というパスでアクセスできるはずです。\n",
        "\n",
        "以下のコードを実行してみてください。"
      ],
      "metadata": {
        "id": "ntqLkrTiiNvm"
      }
    },
    {
      "cell_type": "code",
      "source": [
        "import os.path\n",
        "os.path.exists(\"drive/My Drive/weather_tokyo_1980_2023.csv\")"
      ],
      "metadata": {
        "colab": {
          "base_uri": "https://localhost:8080/"
        },
        "id": "aMpXzIPYibg4",
        "outputId": "f0fb9d80-1fbe-4bfb-d3d3-55f6ced0c7b9"
      },
      "execution_count": null,
      "outputs": [
        {
          "output_type": "execute_result",
          "data": {
            "text/plain": [
              "True"
            ]
          },
          "metadata": {},
          "execution_count": 2
        }
      ]
    },
    {
      "cell_type": "markdown",
      "source": [
        "結果が、<font color=\"blue\">\"True\"となっていれば、OK</font>です。\n",
        "\n",
        "<font color=\"red\">\"False\"となった場合は、どこかが違っている</font>ので、冷静になってもう一度やり直してください。"
      ],
      "metadata": {
        "id": "j6D-k2NJmR7W"
      }
    },
    {
      "cell_type": "markdown",
      "source": [
        "## CSVファイルの読み込み\n",
        "\n",
        "* 本当は、CSVファイルを扱う場合、**csvモジュール**を使った方が確実です。また、より汎用かつ強力なデータ分析ライブラリとして、**後日紹介するpandas**があります。ですが、<font color=\"red\">ここでは練習を兼ねて、組み込み関数`open`や文字列メソッドを使った基本的な方法で読み込みます。</font>\n",
        "* まず、カンマのことは気にせずに、全行をリストに読み込んで、読み込まれた行数を表示してみます。\n",
        "```\n",
        ">>> lines = open('drive/My Drive/weather_tokyo_1980_2023.csv').readlines()\n",
        ">>> print(len(lines)) # 読み込んだ行数\n",
        "```\n",
        "* 先頭行（ヘッダー）を表示させてみると、\n",
        "```\n",
        ">>> print(lines[0])\n",
        "date,temp_hi,temp_lo,rain,sun,wind,vapor,cloud\n",
        "```"
      ],
      "metadata": {
        "id": "Q8rZOHDSoqHB"
      }
    },
    {
      "cell_type": "code",
      "source": [
        "fh = open('drive/My Drive/weather_tokyo_1980_2023.csv')\n",
        "line = fh.readline()\n",
        "print(line)"
      ],
      "metadata": {
        "colab": {
          "base_uri": "https://localhost:8080/"
        },
        "id": "PN8zxWhkuGvm",
        "outputId": "f304d0da-0d25-4e31-afb5-5f1f2b2b614a"
      },
      "execution_count": null,
      "outputs": [
        {
          "output_type": "stream",
          "name": "stdout",
          "text": [
            "date,temp_hi,temp_lo,rain,sun,wind,vapor,cloud\n",
            "\n"
          ]
        }
      ]
    },
    {
      "cell_type": "code",
      "source": [
        "line = fh.readline()\n",
        "print(line)"
      ],
      "metadata": {
        "colab": {
          "base_uri": "https://localhost:8080/"
        },
        "id": "DQg8qMwYuup7",
        "outputId": "5535dc17-b4c4-4d58-c06d-ba73b43d340d"
      },
      "execution_count": null,
      "outputs": [
        {
          "output_type": "stream",
          "name": "stdout",
          "text": [
            "1980/6/1,25,18.7,0,1.1,1.7,20.1,10\n",
            "\n"
          ]
        }
      ]
    },
    {
      "cell_type": "code",
      "source": [
        "for i in range(10):\n",
        "  line = fh.readline()\n",
        "  print(line)"
      ],
      "metadata": {
        "colab": {
          "base_uri": "https://localhost:8080/"
        },
        "id": "7ZFQJkuCu35p",
        "outputId": "2089c30f-a079-44a4-8ff8-cbc7e1703a1d"
      },
      "execution_count": null,
      "outputs": [
        {
          "output_type": "stream",
          "name": "stdout",
          "text": [
            "1980/6/2,27.3,21.1,13.5,5.4,3.2,21.9,10\n",
            "\n",
            "1980/6/3,28.3,20.4,2,5.7,2.4,22.3,9\n",
            "\n",
            "1980/6/4,24.9,20.4,0,5.7,3.4,14.6,7\n",
            "\n",
            "1980/6/5,27.2,19.4,0,11,2.2,16.5,5.3\n",
            "\n",
            "1980/6/6,28.5,19.5,0,11,2.6,18.6,3.8\n",
            "\n",
            "1980/6/7,28.2,19.4,0,12.6,3.8,20.3,3.5\n",
            "\n",
            "1980/6/8,24.9,20.4,12,0,4,22.8,9.8\n",
            "\n",
            "1980/6/9,24.8,22,11,0,6.3,24,8.8\n",
            "\n",
            "1980/6/10,27.2,22.7,0,0.5,2.6,24.1,10\n",
            "\n",
            "1980/6/11,25.7,21.1,0,3.6,2.8,18.1,9.5\n",
            "\n"
          ]
        }
      ]
    },
    {
      "cell_type": "code",
      "source": [
        "lines = open('drive/My Drive/weather_tokyo_1980_2023.csv').readlines() # 全行読み込み\n",
        "print(len(lines)) # 行数\n",
        "print(lines[0]) # 先頭行"
      ],
      "metadata": {
        "colab": {
          "base_uri": "https://localhost:8080/"
        },
        "id": "vkftbWJiqBC_",
        "outputId": "f37ec377-6a58-406d-f269-e4986efb71ac"
      },
      "execution_count": null,
      "outputs": [
        {
          "output_type": "stream",
          "name": "stdout",
          "text": [
            "15652\n",
            "date,temp_hi,temp_lo,rain,sun,wind,vapor,cloud\n",
            "\n"
          ]
        }
      ]
    },
    {
      "cell_type": "markdown",
      "source": [
        "**(練習)** 先頭行(ヘッダー)`lines[0]='date,temp_hi,temp_lo,rain,sun,wind,vapor,cloud'` を、カンマ(`,`)で区切って、リスト\n",
        "``\n",
        "['date', 'temp_hi', 'temp_lo', 'rain', 'sun', 'wind', 'vapor', 'cloud']\n",
        "``\n",
        "を作ってください。"
      ],
      "metadata": {
        "id": "TZI7eZWp_U03"
      }
    },
    {
      "cell_type": "code",
      "source": [
        "lines[0].strip().split(',')"
      ],
      "metadata": {
        "id": "QjOpK62hA9Kg",
        "colab": {
          "base_uri": "https://localhost:8080/"
        },
        "outputId": "5efed873-7f50-4df8-d67a-dbd387e3af44"
      },
      "execution_count": null,
      "outputs": [
        {
          "output_type": "execute_result",
          "data": {
            "text/plain": [
              "['date', 'temp_hi', 'temp_lo', 'rain', 'sun', 'wind', 'vapor', 'cloud']"
            ]
          },
          "metadata": {},
          "execution_count": 7
        }
      ]
    },
    {
      "cell_type": "markdown",
      "source": [
        "**(練習)** 先頭行の次の行も同様にカンマで区切った文字列のリストにしてください。"
      ],
      "metadata": {
        "id": "Rj5I2fSFA_Kf"
      }
    },
    {
      "cell_type": "code",
      "source": [
        "lines[1].strip().split(',')"
      ],
      "metadata": {
        "id": "0_Gud7v0BOAW",
        "colab": {
          "base_uri": "https://localhost:8080/"
        },
        "outputId": "64ee31f5-1b48-443c-8799-20e2078d9677"
      },
      "execution_count": null,
      "outputs": [
        {
          "output_type": "execute_result",
          "data": {
            "text/plain": [
              "['1980/6/1', '25', '18.7', '0', '1.1', '1.7', '20.1', '10']"
            ]
          },
          "metadata": {},
          "execution_count": 8
        }
      ]
    },
    {
      "cell_type": "markdown",
      "source": [
        "## データの整形\n",
        "* `lines`リストの各要素`lines[i]`には、ファイルの各行が文字列として入っています。末尾には改行文字'\\n'が入っているので、`strip`メソッドで除去し、さらに、<font color=\"blue\"> `split`メソッドに区切り文字カンマ(`,`)を引数として渡せば、行を分解する</font>ことができます。\n",
        "```\n",
        ">>> print(lines[1].strip().split(','))\n",
        "['1980/6/1', '25', '18.7', '0', '1.1', '1.7', '20.1', '10']\n",
        "```\n",
        "* データをどのようにオブジェクト化するかは、何通りか考えられますが、<font color=\"blue\">今回は、辞書型オブジェクト`d`のキーを各項目（列名）にし、値にその列のデータをリストで持つようにします。</font>例えば、`d['date'][0]` は'1980/6/1'になります。\n",
        "* まず、空の辞書`d`を作り、先頭行`lines[0]`から読み込んだ各項目名をキーとし、値に空のリストを割当ます。\n",
        "```\n",
        "d = dict() # 空の辞書\n",
        "columns = lines[0].strip().split(',') # 項目名のリスト\n",
        "for k in columns:\n",
        "    d[k] = [] # 各項目名をキーとして空のリストを初期値にする\n",
        "```\n",
        "* 次の行からは、各リストに値を追加していきます。\n",
        "  * 今回は'date'項目は文字列のまま扱い、他の項目は数値（実数値）に型変換しましょう。少々長くなりますが、\n",
        "```\n",
        "for line in lines[1:]: # 2行目から最終行まで\n",
        "      lst = line.strip().split(',') # カンマ区切りでリストに\n",
        "      for i in range(len(lst)): # 列の数だけループ\n",
        "        k = columns[i] # i列目の項目名\n",
        "        if k == 'date':  # 日付列のときは文字列のまま追加\n",
        "          d[k].append(lst[i])\n",
        "        else: # それ以外の列は実数値に変換して追加\n",
        "          d[k].append(float(lst[i]))\n",
        "```\n",
        "\n",
        "* 例えば、最高気温のデータは、`d['temp_hi']`でアクセスできます。\n",
        "```\n",
        "print(d['temp_hi'])\n",
        "```\n",
        "* この方式では、列単位でデータをリスト化しているので、行単位で参照する（例えば、'2020/06/15'の日照時間を参照する）のには不便ですが、今日は目をつぶることにします。\n",
        "  * Pythonで本格的にデータ処理を行う場合には、pandasライブラリを使うのがお薦めなので、後日その方法を紹介します。"
      ],
      "metadata": {
        "id": "sJ4PYoUxBQbX"
      }
    },
    {
      "cell_type": "code",
      "source": [
        "d = dict() # 空の辞書を作成\n",
        "columns = lines[0].strip().split(',') #先頭行から項目リストを取得\n",
        "for k in columns: # 各項目をキーとして、空のリストを割当\n",
        "  d[k] = []"
      ],
      "metadata": {
        "id": "ffiYAYRIi60S"
      },
      "execution_count": null,
      "outputs": []
    },
    {
      "cell_type": "code",
      "source": [
        "print(d)"
      ],
      "metadata": {
        "colab": {
          "base_uri": "https://localhost:8080/"
        },
        "id": "ivg_9nTxyAiA",
        "outputId": "5bd98d2f-e0d7-457c-f9b7-fbcb1b9d0ca8"
      },
      "execution_count": null,
      "outputs": [
        {
          "output_type": "stream",
          "name": "stdout",
          "text": [
            "{'date': [], 'temp_hi': [], 'temp_lo': [], 'rain': [], 'sun': [], 'wind': [], 'vapor': [], 'cloud': []}\n"
          ]
        }
      ]
    },
    {
      "cell_type": "code",
      "source": [
        "for line in lines[1:]: # 2行目から最終行まで\n",
        "  lst = line.strip().split(',') # カンマ区切りでリストに\n",
        "  for i in range(len(lst)): # 列の数だけループ\n",
        "    k = columns[i] # i列目の項目名\n",
        "    if k == 'date':  # 日付列のときは文字列のまま追加\n",
        "      d[k].append(lst[i])\n",
        "    else: # それ以外の列は実数値に変換して追加\n",
        "      d[k].append(float(lst[i]))"
      ],
      "metadata": {
        "id": "e1gM32QVDHIj"
      },
      "execution_count": null,
      "outputs": []
    },
    {
      "cell_type": "code",
      "source": [
        "d['rain'][1000:1010]"
      ],
      "metadata": {
        "colab": {
          "base_uri": "https://localhost:8080/"
        },
        "id": "FGmXLBCgzHi0",
        "outputId": "7835fc1a-86b4-4262-9170-fdaceae99d5b"
      },
      "execution_count": null,
      "outputs": [
        {
          "output_type": "execute_result",
          "data": {
            "text/plain": [
              "[0.0, 0.0, 0.0, 0.0, 0.0, 6.0, 0.0, 0.5, 0.0, 0.0]"
            ]
          },
          "metadata": {},
          "execution_count": 13
        }
      ]
    },
    {
      "cell_type": "markdown",
      "source": [
        "## 読み込んだデータを使ってみる\n",
        "早速、辞書型オブジェクトに格納された天気データを使ってみましょう。\n",
        "\n",
        "* `d['項目名'][インデクス]` で各データ要素にアクセスできます。\n",
        "* 例： 10000日目の日付とその日の最高気温\n",
        "```\n",
        "idx = 10000\n",
        "print(d['date'][idx],d['temp_hi'][idx])\n",
        "```"
      ],
      "metadata": {
        "id": "3qCdZaFAUuY7"
      }
    },
    {
      "cell_type": "code",
      "source": [
        "idx = 10000\n",
        "print(d['date'][idx],d['temp_hi'][idx],d['rain'][idx])"
      ],
      "metadata": {
        "colab": {
          "base_uri": "https://localhost:8080/"
        },
        "id": "ZxGkbBCEU6Y1",
        "outputId": "24aed2e9-da07-45ce-ad6e-fa8ed151a1da"
      },
      "execution_count": null,
      "outputs": [
        {
          "output_type": "stream",
          "name": "stdout",
          "text": [
            "2007/10/17 21.7 0.0\n"
          ]
        }
      ]
    },
    {
      "cell_type": "markdown",
      "source": [
        "\n",
        "**(練習)** 約43年間における東京の**最高気温(temp_hi)の最高値と平均**を求めてください。\n",
        "リストに対する組み込み関数 `max()`,`sum()`,`len()`を使うと良いと思います。"
      ],
      "metadata": {
        "id": "OS0PasuGDctP"
      }
    },
    {
      "cell_type": "code",
      "source": [
        "# 最高気温の最高\n",
        "max(d['temp_hi'])"
      ],
      "metadata": {
        "id": "SBBGEH7LDPP0",
        "colab": {
          "base_uri": "https://localhost:8080/"
        },
        "outputId": "8afa04ea-3f84-4882-cb5e-e03dcca38b3e"
      },
      "execution_count": null,
      "outputs": [
        {
          "output_type": "execute_result",
          "data": {
            "text/plain": [
              "39.5"
            ]
          },
          "metadata": {},
          "execution_count": 23
        }
      ]
    },
    {
      "cell_type": "code",
      "source": [
        "# 最高気温の平均\n",
        "sum(d['temp_hi'])/len(d['temp_hi'])"
      ],
      "metadata": {
        "colab": {
          "base_uri": "https://localhost:8080/"
        },
        "id": "8mNXjfGv0Oqx",
        "outputId": "a8329772-9d5b-4afe-e7cf-4ab788c6a228"
      },
      "execution_count": null,
      "outputs": [
        {
          "output_type": "execute_result",
          "data": {
            "text/plain": [
              "20.22954443805518"
            ]
          },
          "metadata": {},
          "execution_count": 25
        }
      ]
    },
    {
      "cell_type": "markdown",
      "source": [
        "ついでなので、上の練習問題と同様に、**最低気温(temp_lo)**の平均を求めてみてください。期待に反して、`nan` という結果が表示されると思います。"
      ],
      "metadata": {
        "id": "z6ZMmElXzOn-"
      }
    },
    {
      "cell_type": "code",
      "source": [
        "# 最低気温の最低は求まるが,\n",
        "min(d['temp_lo'])"
      ],
      "metadata": {
        "colab": {
          "base_uri": "https://localhost:8080/"
        },
        "id": "ECv_FqHR0d9x",
        "outputId": "2a76910a-5a0a-44b7-ab7c-6fab0ab189e7"
      },
      "execution_count": null,
      "outputs": [
        {
          "output_type": "execute_result",
          "data": {
            "text/plain": [
              "-4.0"
            ]
          },
          "metadata": {},
          "execution_count": 26
        }
      ]
    },
    {
      "cell_type": "code",
      "source": [
        "# 最低気温の平均はnanになってしまう\n",
        "sum(d['temp_lo'])/len(d['temp_lo'])"
      ],
      "metadata": {
        "colab": {
          "base_uri": "https://localhost:8080/"
        },
        "id": "9Jr2IWdSUKn5",
        "outputId": "df9f9824-2ff8-4600-ac96-02d59ebe9186"
      },
      "execution_count": null,
      "outputs": [
        {
          "output_type": "execute_result",
          "data": {
            "text/plain": [
              "nan"
            ]
          },
          "metadata": {},
          "execution_count": 27
        }
      ]
    },
    {
      "cell_type": "markdown",
      "source": [
        "## NaN (\"not a number\")\n",
        "\n",
        "ここで出力された `nan` というのは、\"not a number\" の略、すなわち、非数を表す値です。本来の数値であるべきなのに、何らかの理由で具体的な数値にならなかった場合に用いる値です。\n",
        "\n",
        "組み込み関数 `sum()`は、引数として、整数や実数のリストが与えられたときにその総和を返しますが、リストの中に1つでも `nan`が含まれると、総和を計算することができないので、`nan`を返します。`sum()`に限らず、`nan`に何らかの数値を足したり引いたりしても`nan`になります。"
      ],
      "metadata": {
        "id": "jAJwZBujWmRx"
      }
    },
    {
      "cell_type": "code",
      "source": [
        "1*2*float('nan')"
      ],
      "metadata": {
        "colab": {
          "base_uri": "https://localhost:8080/"
        },
        "id": "6zm4LzQDYiWX",
        "outputId": "e11e2c85-f9ab-45e1-b04f-7ab2ed69df58"
      },
      "execution_count": null,
      "outputs": [
        {
          "output_type": "execute_result",
          "data": {
            "text/plain": [
              "nan"
            ]
          },
          "metadata": {},
          "execution_count": 28
        }
      ]
    },
    {
      "cell_type": "markdown",
      "source": [
        "`nan`かどうかを判定するには、`math`モジュールに含まれる`isnan()`関数を使います。"
      ],
      "metadata": {
        "id": "kxC4JYxXamia"
      }
    },
    {
      "cell_type": "code",
      "source": [
        "import math\n",
        "print(math.isnan(1.0)) # 普通の数値なので当然False\n",
        "print(math.isnan(float('nan'))) #nan"
      ],
      "metadata": {
        "colab": {
          "base_uri": "https://localhost:8080/"
        },
        "id": "_4H3yBPPawut",
        "outputId": "c8751c43-adf5-43f9-b4e2-d7aa4425ad79"
      },
      "execution_count": null,
      "outputs": [
        {
          "output_type": "stream",
          "name": "stdout",
          "text": [
            "False\n",
            "True\n"
          ]
        }
      ]
    },
    {
      "cell_type": "markdown",
      "source": [
        "先程の例題で、どうして「(日別)最低気温の平均値」が`nan`になってしまったのか、原因を探ってみましょう。\n",
        "\n",
        "一番有り得そうなのは、リスト`d[\"temp_lo\"]`の要素の中に`nan`が含まれていたから、ということです。これを確かめてみましょう。"
      ],
      "metadata": {
        "id": "JLJLjy3hb4ei"
      }
    },
    {
      "cell_type": "code",
      "source": [
        "for i in range(len(d['temp_lo'])):\n",
        "  if math.isnan(d['temp_lo'][i]):\n",
        "    print(i,d['date'][i],d['temp_lo'][i])"
      ],
      "metadata": {
        "colab": {
          "base_uri": "https://localhost:8080/"
        },
        "id": "npda4Dkbzej3",
        "outputId": "799227f8-0231-41f2-99e3-2e93ce86bfdb"
      },
      "execution_count": null,
      "outputs": [
        {
          "output_type": "stream",
          "name": "stdout",
          "text": [
            "5160 1994/7/18 nan\n"
          ]
        }
      ]
    },
    {
      "cell_type": "markdown",
      "source": [
        "確かに、リスト`d['temp_lo`]の5160番目要素が`nan`になっていました。つまり、1994年7月18日は何らかの理由で東京の最低気温を記録することができなかった、ということのようです。\n",
        "\n",
        "**(雑談)** 気になったのでネット検索したり、ChatGPTに聞いてみたり（笑）しましたが、どうしてこの日の東京の最低気温が残っていないのかわかりませんでした。そこで、東大図書館が契約している新聞データベースでこの日の毎日新聞を調べてみたところ、\n",
        "\n",
        "```\n",
        "「関東で局地雷雨　ＪＲダイヤ混乱、道路冠水 1994.07.19　東京朝刊　27頁　社会　(全808字)　」\n",
        "\n",
        "関東地方は十八日午後、上空に寒気が入り込んだ影響で大気が不安定になり、局地的な\n",
        "雷を伴った大雨に見舞われた。東京・大手町では一時間に四六ミリの雨量を記録。\n",
        "この雨で、ＪＲのダイヤが大きく乱れたほか、道路冠水などが相次いだ。\n",
        "(中略)\n",
        "各地の雨量は、大手町が午後二時から三時までに四六ミリを記録したほか、\n",
        "(中略)\n",
        "この雷雨で、東京、神奈川、埼玉の三都県で計十六万八千五百世帯が一時停電した。\n",
        "```\n",
        "という記事がありました。もしかしたら、このゲリラ豪雨が関係しているのかもしれませんね。\n",
        "\n",
        "どうでも良い話ですが、遠い記憶を辿ると、、1994年7月18日頃は、わたしは修士課程1年で、所属していた田辺・堀・中須賀研究室の夏のイベント、中間発表会と夏合宿の準備をしていたと思います。"
      ],
      "metadata": {
        "id": "VL5N5jxDddKq"
      }
    },
    {
      "cell_type": "markdown",
      "source": [
        "**(練習)** `nan`となっている日を除いて、(日別)最低気温の平均値を求めてください。"
      ],
      "metadata": {
        "id": "zXJnxQRIggQI"
      }
    },
    {
      "cell_type": "code",
      "source": [
        "# for文で一つ一つチェックしながら、合計と日数を更新する方法。\n",
        "tot,days = 0,0\n",
        "for tmp in d['temp_lo']:\n",
        "  if not math.isnan(tmp):\n",
        "    tot,days = tot+tmp,days+1\n",
        "# 最低気温の平均\n",
        "tot /days"
      ],
      "metadata": {
        "id": "e7H8-DjHhKM2",
        "colab": {
          "base_uri": "https://localhost:8080/"
        },
        "outputId": "f0837c68-a01e-4846-9183-3652d559814e"
      },
      "execution_count": null,
      "outputs": [
        {
          "output_type": "execute_result",
          "data": {
            "text/plain": [
              "12.965936102236373"
            ]
          },
          "metadata": {},
          "execution_count": 31
        }
      ]
    },
    {
      "cell_type": "code",
      "source": [
        "# リスト内包表記でフィルター処理\n",
        "lst_temp_lo = [tmp for tmp in d['temp_lo'] if not math.isnan(tmp)]\n",
        "sum(lst_temp_lo)/len(lst_temp_lo)"
      ],
      "metadata": {
        "colab": {
          "base_uri": "https://localhost:8080/"
        },
        "id": "w-oJ1NDgnoTc",
        "outputId": "80ec3d05-8517-4850-b963-502dba461b29"
      },
      "execution_count": null,
      "outputs": [
        {
          "output_type": "execute_result",
          "data": {
            "text/plain": [
              "12.965936102236373"
            ]
          },
          "metadata": {},
          "execution_count": 32
        }
      ]
    },
    {
      "cell_type": "markdown",
      "source": [
        "## 過去最高○○または最低○○の日を知るには\n",
        "\n",
        "過去43年間での東京の最高気温、最低気温、さらには、(1日の)最大降水量は、それぞれ、\n",
        "```\n",
        "print(\"最高気温:\",max(d['temp_hi']))\n",
        "print(\"最低気温:\",min(d['temp_lo']))\n",
        "print(\"最大降水量\",max(d['rain']))\n",
        "```\n",
        "のように、組み込み関数`max()`,`min()`を使えば容易に知ることができます。"
      ],
      "metadata": {
        "id": "E761lMT6rywn"
      }
    },
    {
      "cell_type": "code",
      "source": [
        "print(\"最高気温:\",max(d['temp_hi']))\n",
        "print(\"最低気温:\",min(d['temp_lo']))\n",
        "print(\"最大降水量\",max(d['rain']))"
      ],
      "metadata": {
        "colab": {
          "base_uri": "https://localhost:8080/"
        },
        "id": "eRfFZLOasswO",
        "outputId": "10beaa29-e399-4f03-fd45-cfc0faccc317"
      },
      "execution_count": null,
      "outputs": [
        {
          "output_type": "stream",
          "name": "stdout",
          "text": [
            "最高気温: 39.5\n",
            "最低気温: -4.0\n",
            "最大降水量 259.5\n"
          ]
        }
      ]
    },
    {
      "cell_type": "markdown",
      "source": [
        "しかし、これでは最高気温や最低気温、最大降水量が、何年何月何日だったのかわかりません。\n",
        "後日扱うnumpyやpandasを使えば、それらを比較的簡単に求めることができるのですが、リスト型だと以下の手順を踏む必要があり少々面倒です。\n",
        "1. `max()`関数を使ってリストの中から最大値（または最小値）を求める。\n",
        "1. リスト型の`index()`メソッドを使って、上で求めた値を取る要素のインデクスを求める。\n",
        "1. そのインデクスを使って、日付を求める。\n",
        "\n",
        "例えば、東京で最高気温を記録した年月日を求めるには、次のようにします。"
      ],
      "metadata": {
        "id": "OYprivPpvEE1"
      }
    },
    {
      "cell_type": "code",
      "source": [
        "highest_temp = max(d['temp_hi'])\n",
        "idx = d['temp_hi'].index(highest_temp)\n",
        "date_highest_temp = d['date'][idx]\n",
        "print(\"東京の最高気温\",highest_temp,\"を記録したのは、\",date_highest_temp,\"です。\")"
      ],
      "metadata": {
        "colab": {
          "base_uri": "https://localhost:8080/"
        },
        "id": "c5a-uf-swfIg",
        "outputId": "8479cee7-eaaa-45ce-e76a-01b59d5c8d89"
      },
      "execution_count": null,
      "outputs": [
        {
          "output_type": "stream",
          "name": "stdout",
          "text": [
            "東京の最高気温 39.5 を記録したのは、 2004/7/20 です。\n"
          ]
        }
      ]
    },
    {
      "cell_type": "markdown",
      "source": [
        "**(練習)** 東京の過去43年で、最低気温を記録した日、(1日の)最大降水量を記録した日を調べてください。"
      ],
      "metadata": {
        "id": "mKEbiqm6xMsX"
      }
    },
    {
      "cell_type": "code",
      "source": [
        "temp_lowest = min(d['temp_lo'])\n",
        "idx = d['temp_lo'].index(temp_lowest)\n",
        "print(\"東京の最低気温\",temp_lowest,\"を記録したのは、\",d['date'][idx],\"です。\")"
      ],
      "metadata": {
        "id": "db7gGOAzxX4R",
        "colab": {
          "base_uri": "https://localhost:8080/"
        },
        "outputId": "ad17b6d2-ce00-4fc9-fa46-e49f932b3bfc"
      },
      "execution_count": null,
      "outputs": [
        {
          "output_type": "stream",
          "name": "stdout",
          "text": [
            "東京の最低気温 -4.0 を記録したのは、 2018/1/25 です。\n"
          ]
        }
      ]
    },
    {
      "cell_type": "markdown",
      "source": [
        "## 練習問題いろいろ\n",
        "\n",
        "読み込んだ東京の天気データを使って、色々調べてみましょう。\n",
        "\n",
        "**(練習問題)** 1日に200mm以上の雨が降った日の日付と降水量を表示してください。\n",
        "* `d['rain']`のリストを最初から最後まで走査しながら、値が200以上のときの日付と降雨量を表示すれば良いです。\n",
        "* `zip()`関数を使って、各日の日付と降雨量をタプルで受け取って処理すると少しエレガントです。\n"
      ],
      "metadata": {
        "id": "g5SD9Q9d_dyW"
      }
    },
    {
      "cell_type": "code",
      "source": [],
      "metadata": {
        "id": "gN92k4m3BFTD"
      },
      "execution_count": null,
      "outputs": []
    },
    {
      "cell_type": "markdown",
      "source": [
        "**(練習問題)** 寒暖差が最も大きかった日の日付とその日の最高・最低気温を求めてください。\n",
        "* 基本的な考え方: 1日ずつ最高気温と最低気温の差を取り、それまでの記録よりも大きければ更新する。\n",
        "* まず気温差のリストを作り、その最大値のインデクスを求めるというやり方も良いと思います。\n"
      ],
      "metadata": {
        "id": "zxL3TR2_BXw8"
      }
    },
    {
      "cell_type": "code",
      "source": [],
      "metadata": {
        "id": "_tAsczSSCDWk"
      },
      "execution_count": null,
      "outputs": []
    },
    {
      "cell_type": "markdown",
      "source": [
        "**(練習問題)** 最高気温が35度以上だった日(猛暑日)の数を年別に求めてください。\n",
        "* ヒント: 日付の文字列が、'YYYY/MM/DD' のような形式になっているので、西暦年('YYYY')の部分を取り出し、それをキーとする新たな辞書型で猛暑日の日数をカウントします。"
      ],
      "metadata": {
        "id": "ELWwk18ICSy6"
      }
    },
    {
      "cell_type": "markdown",
      "source": [
        "**(練習問題)** 降水量が最も多かった１週間（連続する7日間）を調べてください。"
      ],
      "metadata": {
        "id": "Nd37qnDiwIRt"
      }
    },
    {
      "cell_type": "code",
      "source": [],
      "metadata": {
        "id": "ZU46zCYnwMHT"
      },
      "execution_count": null,
      "outputs": []
    },
    {
      "cell_type": "markdown",
      "source": [
        "**(練習問題)** 東京で43年間で最も雨の降らない月日、最も雨の降る月日のトップ10を求めてください。"
      ],
      "metadata": {
        "id": "kA-pcBNSwR5-"
      }
    },
    {
      "cell_type": "code",
      "source": [],
      "metadata": {
        "id": "WxvvG8gwwiXX"
      },
      "execution_count": null,
      "outputs": []
    },
    {
      "cell_type": "markdown",
      "source": [
        "**(練習問題)** 日別最高気温の年平均の変遷を調べてください。"
      ],
      "metadata": {
        "id": "0MfKeKqBPhXV"
      }
    },
    {
      "cell_type": "code",
      "source": [],
      "metadata": {
        "id": "6swXQKdhPq_G"
      },
      "execution_count": null,
      "outputs": []
    },
    {
      "cell_type": "markdown",
      "source": [
        "この練習問題をやってみると、<font color=\"red\">40年間で2度くらい最高気温平均が上昇しているという衝撃の結果</font>が出ると思います。ただ、これが全て地球温暖化の影響かというとそういうわけではなく、都市部のヒートアイランド現象による部分が大きいみたいです。"
      ],
      "metadata": {
        "id": "qfB7THzc1RvI"
      }
    },
    {
      "cell_type": "markdown",
      "source": [
        "**(練習問題)** 最低気温の月平均の変遷を調べてください。\n",
        "\n"
      ],
      "metadata": {
        "id": "L06BY67jxTC-"
      }
    },
    {
      "cell_type": "code",
      "source": [],
      "metadata": {
        "id": "RTt1O9vwxowo"
      },
      "execution_count": null,
      "outputs": []
    },
    {
      "cell_type": "markdown",
      "metadata": {
        "id": "n7LEbLVrqqKB"
      },
      "source": [
        "## ファイルへの書き込み\n",
        "\n",
        "* ファイルを<font color=\"red\">書き込みモードで</font>開いて、文字列を書き込みます。\n",
        "```\n",
        ">>> fout = open(‘output.txt’,‘w’) # 書き込みモード\n",
        ">>> fout.write(‘This is the first line.\\n’) # writeメソッド\n",
        ">>> line = 'This is the last line. \\n‘\n",
        ">>> fout.write(line)\n",
        ">>> fout.close() # 必ず閉じよう\n",
        "```\n",
        "* `writelines`メソッドを使って、文字列のリストをまとめて書き込む方法もあります。\n",
        "```\n",
        ">>> lines = ['First line\\n','Second line\\n','Last line']\n",
        ">>> open('output.txt','w').writelines(lines)\n",
        "```\n"
      ]
    },
    {
      "cell_type": "markdown",
      "metadata": {
        "id": "gh1ovGFArXR9"
      },
      "source": [
        "## 数値の書き込みと書式演算子・`format`メソッド\n",
        "\n",
        "* 数値をテキストファイルに書き出す場合は、文字列に変換する必要があります。例えば、変数`x`,`y`,`z`に代入されている数値を、カンマ区切りで文字列にして`output.csv`に出力したい場合、\n",
        "* (方法1) 数値を`str`関数で文字列に変換して連結する（お手軽だけど、細かい調整は難しい）\n",
        "```\n",
        "fout = open('output.csv','w')\n",
        "x,y,z = 2.5, 10.9, 22.3 #タプル代入\n",
        "line = str(x)+','+str(y)+','+str(z)+'\\n'\n",
        "fout.write(line)\n",
        "fout.close() # 使い終わったファイルは閉じる\n",
        "```\n",
        "  * 多数の数値が含まれているリストをカンマ区切りの文字列に変換する場合は、`join`メソッドを使うと便利です。\n",
        "  ```\n",
        "  line = ','.join([str(x) for x in lst])\n",
        "  ```\n",
        "* (方法2) `%`演算子で文字列の中に数値を埋め込む(C言語的。古い。)\n",
        "```\n",
        "line = '%f,%f,%f\\n' % (x,y,z)\n",
        "```\n",
        "* (方法3) `format`メソッドで文字列に埋め込む(新しい方法)\n",
        "```\n",
        "line = '{},{},{}\\n'.format(x,y,z)\n",
        "```\n",
        "* `format`メソッドはきめ細かく出力を調整することができます。[Python公式ドキュメント](https://docs.python.org/ja/3/tutorial/inputoutput.html)などを読んでください。\n",
        "\n"
      ]
    },
    {
      "cell_type": "code",
      "metadata": {
        "id": "n8V9WbpYt52G"
      },
      "source": [
        "# (方法1) 数値をstr関数で文字列に変換して連結\n",
        "fout = open('output.csv','w')\n",
        "x,y,z = 2.5,10.9,22.3\n",
        "line = str(x)+','+str(y)+','+str(z)+'\\n'\n",
        "fout.write(line)\n",
        "fout.close()"
      ],
      "execution_count": null,
      "outputs": []
    },
    {
      "cell_type": "code",
      "metadata": {
        "id": "Rx8PgAPFvIM6"
      },
      "source": [
        "# (方法2) %演算子で文字列の中に数値を埋め込む\n",
        "fout = open('output.csv','w')\n",
        "line = '%f,%f,%f' % (x,y,z)\n",
        "fout.write(line)\n",
        "fout.close()"
      ],
      "execution_count": null,
      "outputs": []
    },
    {
      "cell_type": "code",
      "metadata": {
        "id": "c7zcEWE1wj5C"
      },
      "source": [
        "# (方法3) `format`メソッドで文字列に埋め込む\n",
        "fout = open('output.csv','w')\n",
        "line = '{},{},{}\\n'.format(x,y,z)\n",
        "fout.write(line)\n",
        "fout.close()"
      ],
      "execution_count": null,
      "outputs": []
    }
  ]
}