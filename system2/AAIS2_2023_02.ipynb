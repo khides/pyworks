{
  "nbformat": 4,
  "nbformat_minor": 0,
  "metadata": {
    "colab": {
      "provenance": []
    },
    "kernelspec": {
      "name": "python3",
      "display_name": "Python 3"
    },
    "language_info": {
      "name": "python"
    }
  },
  "cells": [
    {
      "cell_type": "markdown",
      "metadata": {
        "id": "lKQHj74YiSFk"
      },
      "source": [
        "\n",
        "\n",
        "## 航空宇宙情報システム学第二\n",
        "\n",
        "<h1><center> 第2回 NumPyによる行列ベクトル計算 </center> </h1>\n",
        "\n",
        "<center>\n",
        "\n",
        "2023年4月18日\n",
        "\n",
        "担当教員: 矢入健久\n",
        "\n",
        "e-mail: yairi@g.ecc.u-tokyo.ac.jp\n",
        "</center>\n",
        "\n",
        "\n"
      ]
    },
    {
      "cell_type": "markdown",
      "metadata": {
        "id": "-OyLrq8Nj545"
      },
      "source": [
        "## NumPy とは\n",
        "* 公式サイト: http://www.numpy.org/\n",
        "* Pythonで科学計算を行うためのライブラリの一つで、最も有名なものです。\n",
        "  * 行列・ベクトルを表現するための多次元配列（multi-dimensional array）をベースとして、線形代数計算用の関数群を提供しています。\n",
        "  * 特長は、高い計算効率と扱いやすさ（わかりやすさ）を両立しているところだと思います。\n",
        "  * 「数値」計算に特化しています（一方、SymPyは数式処理を主目的としていました）。\n",
        "* 少し大袈裟かもしれませんが、<font color=\"red\">もしもNumPyが存在しなかったら、Pythonがこれほどメジャーなプログラミング言語になることはなかった</font>と思います。\n",
        "* 豊富な機能が含まれますが、今回は行列・ベクトルの基本計算部分にフォーカスして説明していきます。\n",
        "* Matplotlib （グラフ描画），SciPy （科学技術計算）などと一緒に利用されることも多いです。また、SymPy と組み合わせることもできます。"
      ]
    },
    {
      "cell_type": "markdown",
      "metadata": {
        "id": "Mm1qlBJ08UqO"
      },
      "source": [
        "## NumPy のインポート\n",
        "* さっそく使ってみよう、ということで、まずはNumPyモジュールをインポートします。\n",
        "```\n",
        ">>> import numpy\n",
        "```\n",
        "* ただしこれだと、行列`A`とベクトル`b`の掛け算を、`numpy.dot(A,b)`のように、いちいち`numpy.`を関数やオブジェクトの前に付けて呼び出す必要があり不便です。\n",
        "* 一方、\n",
        "```\n",
        ">>>from numpy import *\n",
        "```\n",
        "  とすれば、`dot(A,b)`で済みますが、名前が衝突する危険性があるのでお薦めできません。\n",
        "* そこで、今回は、モジュールに短い別名をつける方法を採用します。\n",
        "```\n",
        ">> import numpy as np\n",
        "```\n",
        "  のようなインポートの仕方を採用します。この場合、`np.dot(A,b)`のように使います。\n"
      ]
    },
    {
      "cell_type": "code",
      "metadata": {
        "id": "VWX7iAvYHeUP"
      },
      "source": [
        "# Numpy モジュールのインポート\n",
        "import numpy as np"
      ],
      "execution_count": null,
      "outputs": []
    },
    {
      "cell_type": "markdown",
      "metadata": {
        "id": "lbUg-5bvCJUo"
      },
      "source": [
        "## NumPy での行列とベクトル\n",
        "### 2次元array型による行列の表現\n",
        "* NumPyでは<font color=\"blue\">行列やベクトルを`array`型オブジェクト</font>で表現します。\n",
        "  * `array`型はリストと比べて数値計算に最適化されています。\n",
        "* 行列は<font color=\"blue\">2次元array型</font>を用いて表現します。\n",
        "* 行列(2次元array型)を<font color=\"red\">「数値のリストのリスト」から作成</font>する例 :\n",
        "```\n",
        ">>> A = np.array([[1,2,0],[-1,3,2],[0,-1,1]])\n",
        ">>> print(A)\n",
        "[[ 1 2 0]\n",
        "[-1 3 2]\n",
        "[ 0 -1 1]]\n",
        "```\n",
        "\n",
        "下のコードの例では、分かりやすいように、リストのリストを作ってから、それを`array`関数に渡して行列(2次元array型)を作っています。"
      ]
    },
    {
      "cell_type": "code",
      "metadata": {
        "colab": {
          "base_uri": "https://localhost:8080/"
        },
        "id": "GjxTsa71HbQ1",
        "outputId": "4ec8c75e-a510-4a1c-ac2a-adc14c4447d4"
      },
      "source": [
        "lst_a = [[1,2,0],[-1,3,2],[0,-1,1]] #リストのリスト\n",
        "print('list:\\n',lst_a,'\\n')\n",
        "\n",
        "A = np.array(lst_a) #2次元array\n",
        "print('matrix:\\n',A)"
      ],
      "execution_count": null,
      "outputs": [
        {
          "output_type": "stream",
          "name": "stdout",
          "text": [
            "list:\n",
            " [[1, 2, 0], [-1, 3, 2], [0, -1, 1]] \n",
            "\n",
            "matrix:\n",
            " [[ 1  2  0]\n",
            " [-1  3  2]\n",
            " [ 0 -1  1]]\n"
          ]
        }
      ]
    },
    {
      "cell_type": "markdown",
      "metadata": {
        "id": "4nc_YayWk8Ly"
      },
      "source": [
        "なお、行列の<font color=\"blue\">(i,j)成分には、`A[i,j]`でアクセスできます。</font>。スライスのことも含めて詳細は後述します。"
      ]
    },
    {
      "cell_type": "code",
      "metadata": {
        "colab": {
          "base_uri": "https://localhost:8080/"
        },
        "id": "LdryIGGXAiyN",
        "outputId": "ce649630-a398-4010-a6a8-9a5382040163"
      },
      "source": [
        "for i in range(3):\n",
        "  for j in range(3):\n",
        "    print(A[i,j], end=' ')\n",
        "  print()"
      ],
      "execution_count": null,
      "outputs": [
        {
          "output_type": "stream",
          "name": "stdout",
          "text": [
            "1 2 0 \n",
            "-1 3 2 \n",
            "0 -1 1 \n"
          ]
        }
      ]
    },
    {
      "cell_type": "markdown",
      "source": [
        "**(練習)** 行列 $\\boldsymbol{B}=\\left[ \\begin{matrix} 1 & 2 & 3 \\\\ 2 & 3 & 4 \\\\ 3 & 4 & 5 \\end{matrix} \\right]$ を作成してください。"
      ],
      "metadata": {
        "id": "EwcQf2Ffw9eC"
      }
    },
    {
      "cell_type": "code",
      "source": [
        "B = np.array([[1,2,3],[2,3,4],[3,4,5]])\n",
        "print(B)"
      ],
      "metadata": {
        "id": "Qw4HLHPgEQ8B",
        "colab": {
          "base_uri": "https://localhost:8080/"
        },
        "outputId": "817c3fb6-5647-4226-b524-816d6a3566fb"
      },
      "execution_count": null,
      "outputs": [
        {
          "output_type": "stream",
          "name": "stdout",
          "text": [
            "[[1 2 3]\n",
            " [2 3 4]\n",
            " [3 4 5]]\n"
          ]
        }
      ]
    },
    {
      "cell_type": "markdown",
      "metadata": {
        "id": "j9Jy-z4VHkNo"
      },
      "source": [
        "### 1次元array型によるベクトルの表現\n",
        "* ベクトルについては、<font color=\"blue\">1次元array型で表現する</font>のが基本です。\n",
        "```\n",
        ">>> b = np.array([1, 2, 3])\n",
        ">>> print(b)\n",
        "[1 2 3]\n",
        "```\n",
        "* この場合、行ベクトル（横長）と列ベクトル（縦長）との区別はありません。\n",
        "* <font color=\"blue\">この授業では、原則的にこの方式(1次元arrayでベクトルを表現する)を採用します。</font>"
      ]
    },
    {
      "cell_type": "code",
      "metadata": {
        "colab": {
          "base_uri": "https://localhost:8080/"
        },
        "id": "CB8qR2Q7Jd7D",
        "outputId": "43379880-0cd8-40f5-86c1-17f7d45a8658"
      },
      "source": [
        "lst_b = [1,2,3]\n",
        "print('list:\\n',lst_b)\n",
        "b = np.array(lst_b)\n",
        "print('vector:\\n',b)"
      ],
      "execution_count": null,
      "outputs": [
        {
          "output_type": "stream",
          "name": "stdout",
          "text": [
            "list:\n",
            " [1, 2, 3]\n",
            "vector:\n",
            " [1 2 3]\n"
          ]
        }
      ]
    },
    {
      "cell_type": "markdown",
      "metadata": {
        "id": "EccXQM-PJp_L"
      },
      "source": [
        "### 2次元array型によるベクトルの表現\n",
        "* <font color=\"red\">行ベクトルと列ベクトルを区別して扱いたいときは、行列と同じように2次元array</font>を使います。\n",
        "  * 行ベクトルの場合:\n",
        "  ```\n",
        "  >>> b = np.array([[1,2,3]])\n",
        "  >>> print(b)\n",
        "  [[1 2 3]]\n",
        "  ```\n",
        "  * 列ベクトルの場合:\n",
        "  ```\n",
        "  >>> b = np.array([[1],[2],[3]])\n",
        "  >>> print(b)\n",
        "  [[1]\n",
        " [2]\n",
        " [3]]\n",
        "  ```\n",
        "* 行ベクトルと列ベクトルは、（行列のように）<font color=\"red\"> 転置 </font>(transpose)することで互いに変換できます。\n",
        "* (後で出てきますが)2次元`array`型の転置は、`transpose`メソッド、または、`T`属性で得られます。\n",
        "```\n",
        ">>> b = np.array([[1,2,3]])\n",
        ">>> print(b)\n",
        ">>> print(b.T)\n",
        "```"
      ]
    },
    {
      "cell_type": "code",
      "metadata": {
        "colab": {
          "base_uri": "https://localhost:8080/"
        },
        "id": "OdLACkueKk8z",
        "outputId": "8ffbabad-daf4-4e95-c9be-8a5333ceb0f9"
      },
      "source": [
        "# 行ベクトル、列ベクトルをリスト（のリスト）から作成\n",
        "b = np.array([[1,2,3]])\n",
        "print('row vector:\\n',b)\n",
        "b = np.array([[1],[2],[3]])\n",
        "print('column vector:\\n',b)"
      ],
      "execution_count": null,
      "outputs": [
        {
          "output_type": "stream",
          "name": "stdout",
          "text": [
            "row vector:\n",
            " [[1 2 3]]\n",
            "column vector:\n",
            " [[1]\n",
            " [2]\n",
            " [3]]\n"
          ]
        }
      ]
    },
    {
      "cell_type": "code",
      "metadata": {
        "colab": {
          "base_uri": "https://localhost:8080/"
        },
        "id": "aM5zhEqQNAq8",
        "outputId": "d99c3d03-5373-4a6a-a671-1322e0f5c7a1"
      },
      "source": [
        "# 行ベクトルを転置して列ベクトルを得る\n",
        "b = np.array([[1,2,3]])\n",
        "print('row vector:\\n',b)\n",
        "print('transposed:\\n',b.T) #b.transpose() でも良い"
      ],
      "execution_count": null,
      "outputs": [
        {
          "output_type": "stream",
          "name": "stdout",
          "text": [
            "row vector:\n",
            " [[1 2 3]]\n",
            "transposed:\n",
            " [[1]\n",
            " [2]\n",
            " [3]]\n"
          ]
        }
      ]
    },
    {
      "cell_type": "markdown",
      "metadata": {
        "id": "5vBuCpBlmDtw"
      },
      "source": [
        "## ベクトルの要素（成分）の参照\n",
        "\n",
        "* リストとの場合とほぼ同様に参照・アクセスできます。\n",
        "```\n",
        ">>> a = np.array([0,1,2])\n",
        ">>> print(a[1])\n",
        "1\n",
        "```\n",
        "* array型オブジェクトは<font color=\"blue\">変更可能</font>です（これもリストと同じ。）。\n",
        "```\n",
        ">>> a[1] = -1\n",
        ">>> print(a)\n",
        "[ 0 -1 2]\n",
        "```\n",
        "* スライスも使えます（これもリストとほぼ同じように見えるが実は少し違います）。\n",
        "```\n",
        ">>> print(a[1:])\n",
        "[-1  2]\n",
        "```"
      ]
    },
    {
      "cell_type": "code",
      "metadata": {
        "colab": {
          "base_uri": "https://localhost:8080/"
        },
        "id": "ID8iZSUvm9Kd",
        "outputId": "fe180413-5f25-4984-cabd-dc3f0c8fc26f"
      },
      "source": [
        "a = np.array([0,1,2])\n",
        "print('a=',a)\n",
        "# 要素を変更\n",
        "a[1] = -1\n",
        "print('a=',a)\n",
        "# スライス\n",
        "print('a[1:]=',a[1:])"
      ],
      "execution_count": null,
      "outputs": [
        {
          "output_type": "stream",
          "name": "stdout",
          "text": [
            "a= [0 1 2]\n",
            "a= [ 0 -1  2]\n",
            "a[1:]= [-1  2]\n"
          ]
        }
      ]
    },
    {
      "cell_type": "markdown",
      "metadata": {
        "id": "LMfc53ZrpDWg"
      },
      "source": [
        "## 特殊なベクトルの作成\n",
        "\n",
        "* 利用頻度の高い<font color=\"blue\">零ベクトル、および全成分が1のベクトル</font>を作成する関数`zeros`, `ones`が用意されています。\n",
        "```\n",
        ">>> a = np.zeros(3)\n",
        ">>> b = np.ones(3)\n",
        ">>> print(a,b)\n",
        "[ 0.  0.  0.] [ 1.  1.  1.]\n",
        "```\n",
        "* 成分の値が等間隔に並んでいる（等差数列になっている）ベクトルは、`arange`関数、および、`linspace`関数で作成できます。\n",
        "```\n",
        ">>> a = np.arange(1, 10, 4)   # 最初の値, 終了値, 間隔（幅）を指定\n",
        ">>> b = np.linspace(1, 10, 4)   #最初の値, 最終の値, 要素数（次元）を指定\n",
        ">>> print(a,b)\n",
        "[1 5 9] [ 1.  4.  7. 10.]\n",
        "```\n",
        "  * 引数１個の`arange(n)`は、0から始まりn未満の整数を終わりの値とする連番のベクトルを生成します。(例: `np.arange(4)`は、`[0,1,2,3]`を生成)。\n",
        "  * 引数2個の`arange(a,b)`は、aから1ずつ増えてb未満の数で終わる数列のベクトルを生成します。(例: `np.arange(1,4)`は、`[1,2,3]`を生成)。"
      ]
    },
    {
      "cell_type": "code",
      "metadata": {
        "colab": {
          "base_uri": "https://localhost:8080/"
        },
        "id": "V1g4MVWitWEN",
        "outputId": "fe2793a8-974b-4eba-bc5a-2b7201d7cc3a"
      },
      "source": [
        "a = np.zeros(3)\n",
        "print('zero vector:',a)\n",
        "b = np.ones(3)\n",
        "print('one vector:',b)\n",
        "c = np.arange(1,10,4)\n",
        "print('range',c)\n",
        "d = np.linspace(1,10,4)\n",
        "print('linspace',d)"
      ],
      "execution_count": null,
      "outputs": [
        {
          "output_type": "stream",
          "name": "stdout",
          "text": [
            "zero vector: [0. 0. 0.]\n",
            "one vector: [1. 1. 1.]\n",
            "range [1 5 9]\n",
            "linspace [ 1.  4.  7. 10.]\n"
          ]
        }
      ]
    },
    {
      "cell_type": "markdown",
      "source": [
        "**(練習)** 初項 2, 公差 5, 項数 10 の等差数列を、`arange()`, `linspace()` でそれぞれ作ってください。"
      ],
      "metadata": {
        "id": "S-Xf4EXnO_8V"
      }
    },
    {
      "cell_type": "code",
      "source": [
        "#np.arange(2,48,5)\n",
        "2+5*np.arange(10)"
      ],
      "metadata": {
        "id": "xVhjbLlkPYXC",
        "colab": {
          "base_uri": "https://localhost:8080/"
        },
        "outputId": "6bc7eddc-01d2-4736-a305-2fc85468e05d"
      },
      "execution_count": null,
      "outputs": [
        {
          "output_type": "execute_result",
          "data": {
            "text/plain": [
              "array([ 2,  7, 12, 17, 22, 27, 32, 37, 42, 47])"
            ]
          },
          "metadata": {},
          "execution_count": 12
        }
      ]
    },
    {
      "cell_type": "markdown",
      "metadata": {
        "id": "ffpyFR4xv83a"
      },
      "source": [
        "## ベクトルの代入と複製\n",
        "\n",
        "* リストのときと同様に、ベクトルを`=`で他の変数に代入した場合、それは<font color=\"red\">別名を付けているのであって、コピーにはなりません。</font>\n",
        "```\n",
        ">>> a = np.arange(3)  # a = array([0,1,2])と同じ\n",
        ">>> b = a    # 別名を付けているだけ（複製ではない）\n",
        ">>> b[0] = -1 # 成分を変更すると、\n",
        ">>> print(a) # a の成分も変更される\n",
        "[-1  1  2]\n",
        "```\n",
        "*  ベクトル(arrayオブジェクト)を<font color=\"blue\">コピーするには、'copy'メソッド、または、`array`関数</font>を用います。\n",
        "```\n",
        ">>> b = a.copy()   # copyメソッドを使う\n",
        ">>> b = np.array(a)   # a と同じ中身のベクトルをもう一つ作る\n",
        "```\n",
        "*<font color=\"red\"> (注意) リストの場合とは異なり、スライスではコピーになりません。</font>　ビュー(view)と呼ばれる部分参照を返します。\n",
        "```\n",
        "a = np.array([1,2,3])\n",
        "b = a[:] # 注意: bはaのコピーにはならない。\n",
        "```"
      ]
    },
    {
      "cell_type": "code",
      "metadata": {
        "colab": {
          "base_uri": "https://localhost:8080/"
        },
        "id": "A1sn1kgDwJb_",
        "outputId": "9b24ded8-2b7d-4880-dea0-f105d78c9ae9"
      },
      "source": [
        "a = np.arange(3)\n",
        "print('a=',a)\n",
        "b = a  # bはaに代入されているarrayの別名。\n",
        "a[0] = -1 # 変更\n",
        "print('a=',a)\n",
        "print('b=',b) # 単なる別名なので、bも変更される。"
      ],
      "execution_count": null,
      "outputs": [
        {
          "output_type": "stream",
          "name": "stdout",
          "text": [
            "a= [0 1 2]\n",
            "a= [-1  1  2]\n",
            "b= [-1  1  2]\n"
          ]
        }
      ]
    },
    {
      "cell_type": "code",
      "metadata": {
        "colab": {
          "base_uri": "https://localhost:8080/"
        },
        "id": "jclxrmCJ2qa_",
        "outputId": "c4a4f15c-4258-432d-8322-76ec07e1b1c8"
      },
      "source": [
        "a = np.arange(3)\n",
        "print('a=',a)\n",
        "#b = np.array(a)  # bにはaのコピーが代入される\n",
        "b = a.copy()\n",
        "#b = a[:]\n",
        "a[0] = -1 # 変更\n",
        "print('a=',a)\n",
        "print('b=',b) # bは影響を受けない"
      ],
      "execution_count": null,
      "outputs": [
        {
          "output_type": "stream",
          "name": "stdout",
          "text": [
            "a= [0 1 2]\n",
            "a= [-1  1  2]\n",
            "b= [0 1 2]\n"
          ]
        }
      ]
    },
    {
      "cell_type": "markdown",
      "metadata": {
        "id": "MRwE1ZRamQNO"
      },
      "source": [
        "## ベクトルの足し算・引き算\n",
        "\n",
        "* array型で表現された<font color=\"blue\">ベクトル同士の足し算・引き算には、`+`や`-`演算子をそのまま使う</font>ことができます。\n",
        "  * 当然ですが、同次元のベクトルでなければ足し引きできません。\n",
        "* あまり使いませんが、関数として`add`,`subtract`も用意されています。\n",
        "```\n",
        ">>> a = np.array([1, 2, 3])\n",
        ">>> b = np.array([2, 4, 5])\n",
        ">>> a+b   # または、 np.add(a,b)\n",
        "array([3, 6, 8])\n",
        ">>> a-b    # または、np.subtract(a,b)\n",
        "array([-1, -2, -2])\n",
        "```\n",
        "* 数学的には少し気持ち悪いですが、<font color=\"red\">ベクトルにスカラーを足す/引くと、ベクトルの全ての要素に同じ値が足され/引かれ</font>ます。\n",
        "```\n",
        ">>> a+1\n",
        "array([2, 3, 4])   # 全要素に足される\n",
        "```"
      ]
    },
    {
      "cell_type": "code",
      "metadata": {
        "colab": {
          "base_uri": "https://localhost:8080/"
        },
        "id": "XBD8S1cuntVO",
        "outputId": "ff7c90a5-ec84-4d4a-f192-47e31a261c15"
      },
      "source": [
        "a = np.array([1,2,3])\n",
        "b = np.array([2,4,5])\n",
        "\n",
        "# 足し算\n",
        "print(a+b)\n",
        "print(np.add(a,b)) # これも同じ\n",
        "\n",
        "# 引き算\n",
        "print(a-b)\n",
        "print(np.subtract(a,b))\n",
        "\n",
        "#ベクトルにスカラーを足すと、全次元に共通に足される\n",
        "print(a+1)\n",
        "print(b-2)"
      ],
      "execution_count": null,
      "outputs": [
        {
          "output_type": "stream",
          "name": "stdout",
          "text": [
            "[3 6 8]\n",
            "[3 6 8]\n",
            "[-1 -2 -2]\n",
            "[-1 -2 -2]\n",
            "[2 3 4]\n",
            "[0 2 3]\n"
          ]
        }
      ]
    },
    {
      "cell_type": "markdown",
      "metadata": {
        "id": "CLl-Zen0oO1K"
      },
      "source": [
        "## ベクトルの<font color=\"red\">要素単位の掛け算と割り算</font>\n",
        "* array型のベクトルに対して<font color=\"red\">演算子`*`と`/`は、要素単位での(element-wise)掛け算・割り算</font>を行います。\n",
        "* あまり使いませんが、関数として`multiply`, `divide`も用意されています。\n",
        "```\n",
        ">>> a*b   #またはnp.multiply(a,b)\n",
        "array([ 2,  8, 15])\n",
        ">>> a/b   #またはnp.divide(a,b)\n",
        "array([ 0.5,  0.5,  0.6])\n",
        "```\n",
        "* <font color=\"blue\">スカラーをベクトルに掛ける/割ると、普通に全要素に適用</font>されます。\n",
        "```\n",
        ">>> 2*a\n",
        "array([ 2.,  4.,  6.])\n",
        ">>> a/2\n",
        "array([ 0.5,  1. ,  1.5])\n",
        "```\n",
        "* ちなみに、<font color=\"red\">べき乗演算子`**`もベクトルの各要素に適用され</font>ます。\n",
        "```\n",
        ">>> a**3  # または np.power(a,3)\n",
        "```\n"
      ]
    },
    {
      "cell_type": "code",
      "metadata": {
        "colab": {
          "base_uri": "https://localhost:8080/"
        },
        "id": "niaOUS75re_v",
        "outputId": "0db3f309-f027-4db2-dc01-1c976bf2501b"
      },
      "source": [
        "# ベクトルの要素積\n",
        "print(a*b)\n",
        "# ベクトルの要素単位の商\n",
        "print(a/b)\n",
        "# スカラー掛けるベクトル\n",
        "print(3.0 * a)\n",
        "# 要素単位のべき乗\n",
        "print(a**3)"
      ],
      "execution_count": null,
      "outputs": [
        {
          "output_type": "stream",
          "name": "stdout",
          "text": [
            "[ 2  8 15]\n",
            "[0.5 0.5 0.6]\n",
            "[3. 6. 9.]\n",
            "[ 1  8 27]\n"
          ]
        }
      ]
    },
    {
      "cell_type": "markdown",
      "metadata": {
        "id": "dPIuBMElsGDl"
      },
      "source": [
        "## ベクトルの要素単位の関数(ufunc)\n",
        "* Numpyには、array型オブジェクトの<font color=\"blue\">各要素単位で適用される関数</font>(universal function; ufuncと呼ばれる)が多数用意されています。\n",
        "  * 引数と同じ次元(同じサイズ)のベクトル(arrayオブジェクト)を戻り値で返します。\n",
        "  * リストに対するmap処理のようなものです。\n",
        "```\n",
        ">>> np.abs (a-b)  #要素ごとに絶対値を計算\n",
        "array([1, 2, 2])\n",
        ">>> np.exp(a)  #要素ごとにexp(x)を計算\n",
        "array([  2.71828183,   7.3890561 ,  20.08553692])\n",
        ">>> np.sqrt(a) #要素ごとに平方根\n",
        "array([ 1.        ,  1.41421356,  1.73205081])\n",
        ">>> np.sin(a)　# cos, tan, arctan 等も同様\n",
        "array([ 0.84147098,  0.90929743,  0.14112001])\n",
        "```\n",
        "\n",
        "* 他にも多数の算術関数が用意されています。気になる人は例えば[公式マニュアル](https://docs.scipy.org/doc/numpy-1.3.x/reference/ufuncs.html#available-ufuncs)を見て下さい。\n",
        "  * 演算子`+`,`-`,`*`,`/`に対応する`add`,`subtract`,`multiply`,`divide`もufuncです。"
      ]
    },
    {
      "cell_type": "code",
      "source": [
        "print(a-b)\n",
        "print(np.abs(a-b))\n",
        "print(np.exp(a))"
      ],
      "metadata": {
        "colab": {
          "base_uri": "https://localhost:8080/"
        },
        "id": "XYeskr_Zxhih",
        "outputId": "9cff7e95-cd1d-40f6-9a59-c4388b27c2c8"
      },
      "execution_count": null,
      "outputs": [
        {
          "output_type": "stream",
          "name": "stdout",
          "text": [
            "[-1 -2 -2]\n",
            "[1 2 2]\n",
            "[ 2.71828183  7.3890561  20.08553692]\n"
          ]
        }
      ]
    },
    {
      "cell_type": "code",
      "metadata": {
        "colab": {
          "base_uri": "https://localhost:8080/"
        },
        "id": "JtsDTUCnu1HJ",
        "outputId": "6e1e1294-6c3a-4b4e-c48e-cee784bf111f"
      },
      "source": [
        "# 要素単位で適用される関数たち\n",
        "# 要素ごとに絶対値\n",
        "print(a-b)\n",
        "print(np.abs(a-b))\n",
        "# 要素後ごとに指数関数\n",
        "print(np.exp(a))\n",
        "# 要素ごとに平方根\n",
        "print(np.sqrt(a))\n",
        "# 要素ごとに正弦関数\n",
        "print(np.sin(a))"
      ],
      "execution_count": null,
      "outputs": [
        {
          "output_type": "stream",
          "name": "stdout",
          "text": [
            "[-1 -2 -2]\n",
            "[1 2 2]\n",
            "[ 2.71828183  7.3890561  20.08553692]\n",
            "[1.         1.41421356 1.73205081]\n",
            "[0.84147098 0.90929743 0.14112001]\n"
          ]
        }
      ]
    },
    {
      "cell_type": "markdown",
      "metadata": {
        "id": "UC3j2CIxxpGU"
      },
      "source": [
        "## ベクトル同士の内積\n",
        "\n",
        "### まず、<font color=\"blue\">1次元array型でベクトルを表す</font>という前提での話です。\n",
        "* 2つの同じ次元数(同じ長さ)のベクトル同士の<font color=\"blue\">内積(ドット積)を計算するには、\n",
        "関数`vdot`または`inner`</font>を用います。または、`dot`を使っても構いません。\n",
        "```\n",
        ">>> np.vdot(a,b) #ベクトルのドット積\n",
        ">>> np.inner(a,b) #ベクトルの内積。1次元arrayであれば同じ値\n",
        ">>> np.dot(a,b) # これも1次元arrayであれば同じ値\n",
        "```\n",
        "* 実$n$次元ベクトル空間($\\mathbb{R}^n$)での内積の定義が、\n",
        "$$\n",
        "\\boldsymbol{a} \\cdot \\boldsymbol{b} = \\sum_{i=1}^n a_i b_i\n",
        "$$\n",
        "だったことを思い出せば、<font color=\"blue\">要素積演算子`*`と総和関数`sum`を使って</font>、\n",
        "```\n",
        ">>> np.sum(a*b) # 要素同士を掛けて全部足す\n",
        "```\n",
        "でも同じ答えが得られます。\n",
        "\n",
        "## <font color=\"red\">2次元array型で行ベクトル・列ベクトルを表現する場合</font>は注意が必要です。\n",
        "* この場合は、<font color=\"blue\">`vdot`と`np.sum(a*b)`</font>しか、正しくスカラー値の内積を計算してくれません。\n",
        "\n",
        "ということで、<font color=\"blue\">ベクトルの内積には`vdot`を使うか、定義に従って`np.sum(a*b)`を計算する</font>、と覚えておくのが無難です。\n"
      ]
    },
    {
      "cell_type": "code",
      "metadata": {
        "colab": {
          "base_uri": "https://localhost:8080/"
        },
        "id": "9aqQkOJQxoDD",
        "outputId": "99d60c6a-3593-4943-efcd-370901532368"
      },
      "source": [
        "# 1次元array型でベクトルを表現\n",
        "a = np.array([1,2,3])\n",
        "b = np.array([2,4,5])\n",
        "print('a=',a)\n",
        "print('b=',b)\n",
        "print('vdot:',np.vdot(a,b))\n",
        "print('inner:',np.inner(a,b))\n",
        "print('dot:',np.dot(a,b))\n",
        "print('sum of element-wise products:', np.sum(a*b))"
      ],
      "execution_count": null,
      "outputs": [
        {
          "output_type": "stream",
          "name": "stdout",
          "text": [
            "a= [1 2 3]\n",
            "b= [2 4 5]\n",
            "vdot: 25\n",
            "inner: 25\n",
            "dot: 25\n",
            "sum of element-wise products: 25\n"
          ]
        }
      ]
    },
    {
      "cell_type": "code",
      "metadata": {
        "colab": {
          "base_uri": "https://localhost:8080/"
        },
        "id": "ZT1BazWw8pyq",
        "outputId": "64cd786c-dafe-43e3-d31b-4a5ae95cb3f0"
      },
      "source": [
        "# 2次元array型でベクトルを表現する場合は注意\n",
        "a = np.array([[1],[2],[3]]) #列ベクトル\n",
        "b = np.array([[2],[4],[5]]) #列ベクトル\n",
        "\n",
        "print('a=',a)\n",
        "print('b=',b)\n",
        "print('vdot:',np.vdot(a,b))\n",
        "print('inner:',np.inner(a,b))\n",
        "print('sum of element-wise products:', np.sum(a*b))\n",
        "# dot だとエラーになります\n",
        "#print('dot:',np.dot(a,b))\n",
        "# 行ベクトルと列ベクトルのdot積であれば、内積に一致しますが、スカラーとしてではなく(要素数1の)行列になります\n",
        "print('dot product of row vector and column vectors:', np.dot(a.T,b))\n"
      ],
      "execution_count": null,
      "outputs": [
        {
          "output_type": "stream",
          "name": "stdout",
          "text": [
            "a= [[1]\n",
            " [2]\n",
            " [3]]\n",
            "b= [[2]\n",
            " [4]\n",
            " [5]]\n",
            "vdot: 25\n",
            "inner: [[ 2  4  5]\n",
            " [ 4  8 10]\n",
            " [ 6 12 15]]\n",
            "sum of element-wise products: 25\n",
            "dot product of row vector and column vectors: [[25]]\n"
          ]
        }
      ]
    },
    {
      "cell_type": "markdown",
      "metadata": {
        "id": "d_LA1eKR_zSG"
      },
      "source": [
        "## (発展) (3次元)ベクトルのクロス積とベクトルの直積\n",
        "\n",
        "### 本当の『外積』はどっち？\n",
        "\n",
        "* ベクトルの「内積」については、「ドット積」や「スカラー積」と呼ばれることはありますが、実質的に同じものなので混乱は生じませんが、<font color=\"red\">ベクトルの「外積」には注意が必要</font>です。\n",
        "* 多分、皆さんに馴染み深い「外積」は、<font color=\"red\">物理学・ベクトル解析で使われるクロス積・ベクトル積</font> だと思います。\n",
        "  * 2つの<font color=\"red\">3次元のベクトル</font>　$\\boldsymbol{a}=[a_1,a_2,a_3]^\\top$, $\\boldsymbol{b}=[b_1,b_2,b_3]^\\top$ の<font color=\"red\">クロス積</font>は、\n",
        "  $$\n",
        "  \\boldsymbol{a} \\times \\boldsymbol{b} = [a_2 b_3 - a_3 b_2 , a_3 b_1 - a_1 b_3 , a_1 b_2 - a_2 b_1]^\\top\n",
        "  $$\n",
        "  で定義されていました。\n",
        "  * Numpy で<font color=\"blue\">クロス積は、`cross`関数で求める</font>ことができます。\n",
        "  ```\n",
        "  >>> a = np.array([1,2,3])\n",
        "  >>> b = np.array([2,4,5])\n",
        "  >>> np.cross(a,b)\n",
        "  [-2  1  0]\n",
        "  ```\n",
        "\n",
        "* 一方、線形代数的には、通常「外積」(outer product)と言えば「直積」(direct product)・テンソル積を意味します。\n",
        "  * <font color=\"blue\">同じ次元を持つ2つの列ベクトル</font> $\\boldsymbol{a}=[a_1,a_2,\\cdots,a_n]^\\top$, $\\boldsymbol{b}=[b_1,b_2,\\cdots,b_n]^\\top$の直積は、\n",
        "  $$\n",
        "  \\boldsymbol{a} \\otimes \\boldsymbol{b} = \\boldsymbol{a} \\boldsymbol{b}^\\top\n",
        "  = \\left[ \\begin{matrix}  \n",
        "  a_1 b_1 & a_1 b_2 & \\cdots & a_1 b_n \\\\\n",
        "  a_2 b_1 & a_2 b_2 & \\cdots & a_2 b_n \\\\\n",
        "  \\vdots & \\vdots & \\ddots & \\vdots \\\\\n",
        "  a_n b_1 & a_n b_2 & \\cdots & a_n b_n\n",
        "  \\end{matrix} \\right]\n",
        "  $$\n",
        "  で定義されます。同じ列ベクトル$\\boldsymbol{a}$, $\\boldsymbol{b}$の内積(inner product)が、\n",
        "  $$\n",
        "  <\\boldsymbol{a},\\boldsymbol{b}> = \\boldsymbol{a}^\\top \\boldsymbol{b} = a_1 b_1 + a_2 b_2 + \\cdots + a_n b_n\n",
        "  $$\n",
        "  と書けることを考慮すると、こちらの方が「外積」と呼ばれるのに相応しい気がします（個人の感想です）。\n",
        "  * Numpyでは、<font color=\"blue\">ベクトルの直積・テンソル積を`outer`関数で求める</font>ことができます。\n",
        "  ```\n",
        "  >>> np.outer(a,b)\n",
        "  [[ 2  4  5]\n",
        " [ 4  8 10]\n",
        " [ 6 12 15]]\n",
        "  ```\n"
      ]
    },
    {
      "cell_type": "code",
      "metadata": {
        "colab": {
          "base_uri": "https://localhost:8080/"
        },
        "id": "BMQF-SS2_lBJ",
        "outputId": "51373e2f-3770-4cb3-c8cc-433292810ed2"
      },
      "source": [
        "a = np.array([1,2,3])\n",
        "b = np.array([2,4,5])\n",
        "print('a=',a)\n",
        "print('b=',b)\n",
        "# クロス積\n",
        "c = np.cross(a,b)\n",
        "print('cross product:',c)\n",
        "\n",
        "print('direct product:\\n',np.outer(a,b))"
      ],
      "execution_count": null,
      "outputs": [
        {
          "output_type": "stream",
          "name": "stdout",
          "text": [
            "a= [1 2 3]\n",
            "b= [2 4 5]\n",
            "cross product: [-2  1  0]\n",
            "direct product:\n",
            " [[ 2  4  5]\n",
            " [ 4  8 10]\n",
            " [ 6 12 15]]\n"
          ]
        }
      ]
    },
    {
      "cell_type": "markdown",
      "metadata": {
        "id": "_KLdy9ETWY2g"
      },
      "source": [
        "## ベクトルの(ユークリッド)ノルム\n",
        "* `numpy`の中の`linalg`サブパッケージに含まれる`norm`関数を使って求めることができます。\n",
        "\n",
        "```\n",
        ">>> import numpy.linalg as la   \n",
        ">>> la.norm(a)  #ユークリッドノルム（2-ノルム)\n",
        "3.7416573867739413\n",
        "```\n",
        "\n",
        "* より一般的な、p-ノルムを計算することも可能です。\n",
        "$$\n",
        "\\Vert \\boldsymbol{a} \\Vert_p \\equiv \\left( \\sum_{i=1}^N \\vert a_i \\vert^p \\right)^\\frac{1}{p}\n",
        "$$\n",
        "\n",
        "```\n",
        ">>> la.norm(a-b,1)  #a-bの1-ノルム\n",
        "5.0\n",
        ">>> la.norm(a-b,np.inf)  #無限大ノルム\n",
        "2.0\n",
        "```\n",
        "\n",
        "* 多くの場合、「ノルム」と言えば、「ユークリッドノルム」のことを指すので、定義（$\\Vert \\boldsymbol{a} \\Vert = \\sqrt{a_1^2+a_2^2 + \\cdots + a_n^2}$）に従って計算しても良いと思います。\n",
        "\n",
        "```\n",
        ">>> np.sqrt(np.vdot(a,a))\n",
        "3.7416573867739413\n",
        "# np.sqrt(np.sum(a*a)) や np.sqrt(np.sum(a**2))も同じ\n",
        "```\n"
      ]
    },
    {
      "cell_type": "code",
      "metadata": {
        "colab": {
          "base_uri": "https://localhost:8080/"
        },
        "id": "E9P8KEDjX6Eu",
        "outputId": "c31a7633-7f1b-4de1-b2b6-e0891e6c897b"
      },
      "source": [
        "import numpy.linalg as la\n",
        "a = np.array([1,2,3])\n",
        "b = np.array([2,4,5])\n",
        "# ユークリッドノルム(2-ノルム)\n",
        "print('Euclide norm:',la.norm(a))\n",
        "# 1-ノルム\n",
        "print('1-norm:',la.norm(a,1))\n",
        "# ∞-ノルム\n",
        "print('Infinity-norm:',la.norm(a,np.inf))\n",
        "\n",
        "# 定義に従ってユークリッドノルムを計算\n",
        "print(np.sqrt(np.vdot(a,a)))\n"
      ],
      "execution_count": null,
      "outputs": [
        {
          "output_type": "stream",
          "name": "stdout",
          "text": [
            "Euclide norm: 3.7416573867739413\n",
            "1-norm: 6.0\n",
            "Infinity-norm: 3.0\n",
            "3.7416573867739413\n"
          ]
        }
      ]
    },
    {
      "cell_type": "markdown",
      "metadata": {
        "id": "pRO-G-42ZJiJ"
      },
      "source": [
        "## 行列(2次元array)の要素\n",
        "ここからは行列(2次元array型オブジェクト)についての話です。\n",
        "* 行列`A`の(i,j)成分は、`A[i,j]`でアクセス・参照できます。\n",
        "  * リストなどと同様、インデクスが0から始まります。マイナスのインデクスも使えます。\n",
        "  * `A[i][j]`でも同じ結果になります（が、若干効率が悪くなるので通常は使いません）。\n",
        "  ```\n",
        "  >>> A = np.array([[1,2],[3,4]])\n",
        "  >>> print(A[0,1])\n",
        "  2\n",
        "  ```\n",
        "* スライスを使って、行列から行ベクトル、列ベクトルを1次元arrayとして取り出すことができます。\n",
        "  * i-行目の行ベクトルは、`A[i,:]`または`A[i]`で取り出せます。\n",
        "  * j-列目の列ベクトルは、`A[:,j]`で取り出せます。\n",
        "* <font color=\"red\">リストと異なり、array型のスライスは参照を返します。コピーではありません</font>。\n",
        "* Numpy array のindexingは奥が深いですが、使いながら少しずつ覚えれば十分です。詳しく知りたい人は、[公式ドキュメント](https://numpy.org/doc/stable/user/basics.indexing.html)などを参考にしてください。"
      ]
    },
    {
      "cell_type": "code",
      "metadata": {
        "colab": {
          "base_uri": "https://localhost:8080/"
        },
        "id": "sXxE1Q-NaBlN",
        "outputId": "d848389a-f8a7-433f-aaec-88bb62b9840f"
      },
      "source": [
        "A = np.array([[1,2],[3,4]])\n",
        "print('A=\\n',A)\n",
        "\n",
        "# (i,j)成分\n",
        "print('(1,0)-th element:',A[1,0]) #(1,0)成分\n",
        "\n",
        "# i行目\n",
        "print('0th row:',A[0,:]) # A[0]でも良い\n",
        "\n",
        "# j列目\n",
        "print('1st column',A[:,1])\n"
      ],
      "execution_count": null,
      "outputs": [
        {
          "output_type": "stream",
          "name": "stdout",
          "text": [
            "A=\n",
            " [[1 2]\n",
            " [3 4]]\n",
            "(1,0)-th element: 3\n",
            "0th row: [1 2]\n",
            "1st column [2 4]\n"
          ]
        }
      ]
    },
    {
      "cell_type": "markdown",
      "source": [
        "**(練習)** 行列 $\\boldsymbol{B}=\\left[ \\begin{matrix} 1 & 2 & 3 \\\\ 2 & 3 & 4 \\\\ 3 & 4 & 5 \\end{matrix} \\right]$ の第0行を、$\\left[\\begin{matrix} 0 & 1 & 2 \\end{matrix}\\right]$に変更してください。"
      ],
      "metadata": {
        "id": "GQbZMLhtGvRN"
      }
    },
    {
      "cell_type": "code",
      "source": [
        "B = np.array([[1,2,3],[2,3,4],[3,4,5]])\n",
        "print(B)\n",
        "print(B[0,:])\n",
        "B[0,:] = np.array([0,1,2])\n",
        "print(B)"
      ],
      "metadata": {
        "id": "gwFqsRZ-I4KB",
        "colab": {
          "base_uri": "https://localhost:8080/"
        },
        "outputId": "b8867402-1e94-4fe0-a0ec-d8cce3edeab9"
      },
      "execution_count": null,
      "outputs": [
        {
          "output_type": "stream",
          "name": "stdout",
          "text": [
            "[[1 2 3]\n",
            " [2 3 4]\n",
            " [3 4 5]]\n",
            "[1 2 3]\n",
            "[[0 1 2]\n",
            " [2 3 4]\n",
            " [3 4 5]]\n"
          ]
        }
      ]
    },
    {
      "cell_type": "markdown",
      "metadata": {
        "id": "7et0dSIIhHHR"
      },
      "source": [
        "## 行列の足し算・引き算\n",
        "* ベクトル(1次元array)の場合と同様、同じサイズ同士の行列の足し算・引き算が可能です。\n",
        "* 演算子`+`, `-`が使えます。(`add`,`subtract`関数も使えます)。\n",
        "* 行列にスカラー値を足し引きすると、全要素に同じ値が足し引きされます。\n",
        "```\n",
        ">>> A = np.array([[1,2],[-2,1]])\n",
        ">>> B = np.array([[2,-1],[2,1]])\n",
        ">>> A + B\n",
        ">>> A - B\n",
        ">>> A + 1\n",
        "```"
      ]
    },
    {
      "cell_type": "code",
      "metadata": {
        "colab": {
          "base_uri": "https://localhost:8080/"
        },
        "id": "8X8SnErMhXhq",
        "outputId": "b6bb581d-3227-4c37-96fc-732c0f85a497"
      },
      "source": [
        "A = np.array([[1,2],[-2,1]])\n",
        "B = np.array([[2,-1],[2,1]])\n",
        "print('A=\\n',A)\n",
        "print('B=\\n',B)\n",
        "\n",
        "# 足し算\n",
        "print('A+B=\\n',A+B) #np.add(A,B)でも同じ\n",
        "\n",
        "# 引き算\n",
        "print('A-B=\\n',A-B) #np.subtract(A,B)でも同じ\n",
        "\n",
        "# スカラーの足し算\n",
        "print('A+1=\\n',A+1) #np.add(A,1)でも同じ"
      ],
      "execution_count": null,
      "outputs": [
        {
          "output_type": "stream",
          "name": "stdout",
          "text": [
            "A=\n",
            " [[ 1  2]\n",
            " [-2  1]]\n",
            "B=\n",
            " [[ 2 -1]\n",
            " [ 2  1]]\n",
            "A+B=\n",
            " [[3 1]\n",
            " [0 2]]\n",
            "A-B=\n",
            " [[-1  3]\n",
            " [-4  0]]\n",
            "A+1=\n",
            " [[ 2  3]\n",
            " [-1  2]]\n"
          ]
        }
      ]
    },
    {
      "cell_type": "markdown",
      "metadata": {
        "id": "aumt3fo5i9e6"
      },
      "source": [
        "## 行列の掛け算\n",
        "* 行列とスカラー値との掛け算(行列のスカラー倍)はベクトルの場合と同じです。\n",
        "* <font color=\"red\">行列同士を演算子`*`を使って掛けると要素積</font>になります。(これもベクトルの場合と同じ)\n",
        "数式では、$\\boldsymbol{A} \\circ \\boldsymbol{B}$ のように書くようです。\n",
        "  * $\\boldsymbol{C} = \\boldsymbol{A} \\circ \\boldsymbol{B}$のとき、$\\boldsymbol{C}$の$(i,j)$成分$c_{i,j}$は、$c_{i,j}=a_{i,j}b_{i,j}$ です。\n",
        "  ```\n",
        "  >>> A*B\n",
        "  [[ 2 -2]\n",
        " [-4  1]]\n",
        "  ```\n",
        "* 線形代数でおなじみの<font color=\"blue\">行列積には`dot`関数</font>を用います。\n",
        "$\\boldsymbol{A}$と$\\boldsymbol{B}$の行列積を$\\boldsymbol{C}$とするとき、すなわち、$\\boldsymbol{C}=\\boldsymbol{A}\\boldsymbol{B}$ のとき、\n",
        "  * $\\boldsymbol{A}$の列数と$\\boldsymbol{B}$の行数が等しくないといけません。\n",
        "  * $\\boldsymbol{C}$の$(i,j)$成分$c_{i,j}$は、\n",
        "  $$c_{i,j}=\\sum_{k}^m a_{i,k} b_{k,j} $$\n",
        "  で計算されます。\n",
        "  ```\n",
        "  >>> np.dot(A,B)\n",
        "  [[ 6  1]\n",
        " [-2  3]]\n",
        "  ```"
      ]
    },
    {
      "cell_type": "code",
      "metadata": {
        "colab": {
          "base_uri": "https://localhost:8080/"
        },
        "id": "jByFl_pkkDvE",
        "outputId": "f9112946-7ced-4439-c0ff-29b9eee2e57c"
      },
      "source": [
        "A = np.array([[1,2],[-2,1]])\n",
        "B = np.array([[2,-1],[2,1]])\n",
        "print('A=\\n',A)\n",
        "print('B=\\n',B)\n",
        "\n",
        "# スカラー倍\n",
        "print('2*A = \\n',2*A)\n",
        "\n",
        "# 要素積\n",
        "print('Element-wise product:\\n',A*B)\n",
        "\n",
        "# 行列積\n",
        "print('AB=\\n',np.dot(A,B))\n",
        "print('BA=\\n',np.dot(B,A))"
      ],
      "execution_count": null,
      "outputs": [
        {
          "output_type": "stream",
          "name": "stdout",
          "text": [
            "A=\n",
            " [[ 1  2]\n",
            " [-2  1]]\n",
            "B=\n",
            " [[ 2 -1]\n",
            " [ 2  1]]\n",
            "2*A = \n",
            " [[ 2  4]\n",
            " [-4  2]]\n",
            "Element-wise product:\n",
            " [[ 2 -2]\n",
            " [-4  1]]\n",
            "AB=\n",
            " [[ 6  1]\n",
            " [-2  3]]\n",
            "BA=\n",
            " [[4 3]\n",
            " [0 5]]\n"
          ]
        }
      ]
    },
    {
      "cell_type": "markdown",
      "metadata": {
        "id": "KjBtA9MkbOga"
      },
      "source": [
        "## 行列の転置・変形\n",
        "* 転置: 行列$\\boldsymbol{A}$の転置行列$\\boldsymbol{A}^\\top$は、`A.T`(プロパティ)または、`A.transpose()`メソッドで得られます。\n",
        "```\n",
        ">>> A = np.array([[1,2],[3,4]])\n",
        ">>> A.T    # A.transpose() でも同じ結果\n",
        "array([[ 1,  3],\n",
        "           [ 2,  4]])\n",
        "```\n",
        "* 変形（行数・列数の変更）: `reshape`メソッドを使います。例えば、12個の要素を持つ1次元array(ベクトル)を、$3\\times4$行列に変更してみます。この場合<font color=\"blue\">`reshape`メソッドの引数に変形後の行列のサイズ$(3,4)$をタプルで与え</font>ます。\n",
        "```\n",
        ">>> a = np.arange(12)\n",
        ">>> a\n",
        "[ 0  1  2  3  4  5  6  7  8  9 10 11]\n",
        ">>> A = a.reshape((3,4)) # a.reshape((3,-1)) や a.reshape((-1,4)) でも可\n",
        ">>> A\n",
        "[[ 0  1  2  3]\n",
        " [ 4  5  6  7]\n",
        " [ 8  9 10 11]]\n",
        "```\n",
        "* 逆に、行列(2次元array)をベクトル(1次元array)に変形することも可能です。`flatten`メソッドを使っても良いです。\n",
        "```\n",
        ">>> print(A.reshape(12)) # A.reshape(-1)\n",
        ">>> print(A.flatten()) # 同じ\n",
        "```\n"
      ]
    },
    {
      "cell_type": "code",
      "metadata": {
        "colab": {
          "base_uri": "https://localhost:8080/"
        },
        "id": "KdWtIxuWelqu",
        "outputId": "f08c7307-df75-44f5-8d3c-9f0ff847aab1"
      },
      "source": [
        "A = np.array([[1,2],[3,4]])\n",
        "print(A)\n",
        "print('transpose:\\n',A.T) # A.transpose()も同じ"
      ],
      "execution_count": null,
      "outputs": [
        {
          "output_type": "stream",
          "name": "stdout",
          "text": [
            "[[1 2]\n",
            " [3 4]]\n",
            "transpose:\n",
            " [[1 3]\n",
            " [2 4]]\n"
          ]
        }
      ]
    },
    {
      "cell_type": "code",
      "metadata": {
        "colab": {
          "base_uri": "https://localhost:8080/"
        },
        "id": "Wmp3U2n1dWdo",
        "outputId": "babcdfe7-5af0-4888-ab29-41cd960803b6"
      },
      "source": [
        "a = np.arange(12)\n",
        "print(a) #1次元array\n",
        "# 3x4行列に変形\n",
        "A = a.reshape((3,4))\n",
        "print(A)\n",
        "# 再びベクトル(1次元array)に変形\n",
        "print(A.reshape(12))\n",
        "print(A.flatten()) # こちらでも良い\n",
        "\n",
        "print(A.reshape((6,2)))\n",
        "\n",
        "print(A.reshape((4,-1)))\n",
        "print(A.reshape((-1,2)))\n",
        "\n",
        "#error\n",
        "#A.reshape((5,-1))"
      ],
      "execution_count": null,
      "outputs": [
        {
          "output_type": "stream",
          "name": "stdout",
          "text": [
            "[ 0  1  2  3  4  5  6  7  8  9 10 11]\n",
            "[[ 0  1  2  3]\n",
            " [ 4  5  6  7]\n",
            " [ 8  9 10 11]]\n",
            "[ 0  1  2  3  4  5  6  7  8  9 10 11]\n",
            "[ 0  1  2  3  4  5  6  7  8  9 10 11]\n",
            "[[ 0  1]\n",
            " [ 2  3]\n",
            " [ 4  5]\n",
            " [ 6  7]\n",
            " [ 8  9]\n",
            " [10 11]]\n",
            "[[ 0  1  2]\n",
            " [ 3  4  5]\n",
            " [ 6  7  8]\n",
            " [ 9 10 11]]\n",
            "[[ 0  1]\n",
            " [ 2  3]\n",
            " [ 4  5]\n",
            " [ 6  7]\n",
            " [ 8  9]\n",
            " [10 11]]\n"
          ]
        }
      ]
    },
    {
      "cell_type": "markdown",
      "source": [
        "## 行列の行方向,列方向の和\n",
        "\n",
        "行列を表す2次元array`A`に対して単純に`np.sum()`関数を適用すると、行列$\\boldsymbol{A}$の全要素を足した値を返します。例えば、\n"
      ],
      "metadata": {
        "id": "a-VFcLgzKtot"
      }
    },
    {
      "cell_type": "code",
      "source": [
        "A = np.arange(9).reshape((3,3))\n",
        "print(A)\n",
        "# 全要素の和\n",
        "print(np.sum(A))"
      ],
      "metadata": {
        "colab": {
          "base_uri": "https://localhost:8080/"
        },
        "id": "Sp76YS17LSdN",
        "outputId": "93bb34c9-3d0d-4af1-c729-10de4783ad67"
      },
      "execution_count": null,
      "outputs": [
        {
          "output_type": "stream",
          "name": "stdout",
          "text": [
            "[[0 1 2]\n",
            " [3 4 5]\n",
            " [6 7 8]]\n",
            "36\n"
          ]
        }
      ]
    },
    {
      "cell_type": "markdown",
      "source": [
        "データ処理を行う場合には、行列形式で表されたテーブル状のデータを、**行方向**あるいは**列方向**に和を取りたい場合がよくあります。そのような場合、`np.sum()`にオプション引数として、<font color=\"blue\">列方向であれば`axis=0`、行方向であれば`axis=1`を与え</font>てあげます。"
      ],
      "metadata": {
        "id": "hY4WznOpLnHi"
      }
    },
    {
      "cell_type": "code",
      "source": [
        "# 列(縦)方向に和を取る\n",
        "print(np.sum(A,axis=0))\n",
        "# 行(横)方向に和を取る\n",
        "#print(np.sum(A,axis=1)) # 行形式で表示されるので、\n",
        "print(np.sum(A,axis=1).reshape((-1,1))) # 列形式に変更した方が見やすいかも。"
      ],
      "metadata": {
        "colab": {
          "base_uri": "https://localhost:8080/"
        },
        "id": "HGk5586OMVnu",
        "outputId": "f20b0f82-a4cf-42f3-f704-2c92db3a74a4"
      },
      "execution_count": null,
      "outputs": [
        {
          "output_type": "stream",
          "name": "stdout",
          "text": [
            "[ 9 12 15]\n",
            "[[ 3]\n",
            " [12]\n",
            " [21]]\n"
          ]
        }
      ]
    },
    {
      "cell_type": "markdown",
      "metadata": {
        "id": "Sl8v1RPae0XI"
      },
      "source": [
        "## よく使う特殊な行列(単位行列, 零行列, 一行列)\n",
        "* 単位行列: $n \\times n$の単位行列は、`np.eye(n)`で作れます。\n",
        "```\n",
        ">>> np.eye(3) # 3x3の単位行列\n",
        "array([[ 1.,  0.,  0.],\n",
        "            [ 0.,  1.,  0.],\n",
        "            [ 0.,  0.,  1.]])\n",
        "```\n",
        "* 零行列: $m \\times n$の零行列は、`np.zeros((m,n))`で作れます。(行列のサイズをタプルで与えます)\n",
        "```\n",
        ">>> np.zeros((2,2))  #タプルでサイズを与えている\n",
        "array([[ 0.,  0.],\n",
        "            [ 0.,  0.]])\n",
        "```\n",
        "* 全成分が1の行列も同様に `np.ones((2,2))`のように作成できます。"
      ]
    },
    {
      "cell_type": "code",
      "metadata": {
        "colab": {
          "base_uri": "https://localhost:8080/"
        },
        "id": "zU6qHt4BgcAC",
        "outputId": "34096a1c-3790-4003-8697-2b7f3c9ebe4c"
      },
      "source": [
        "# 単位行列\n",
        "I = np.eye(4)\n",
        "print(I)\n",
        "# 零行列\n",
        "Z = np.zeros((3,5))\n",
        "print(Z)\n",
        "# 全成分1の行列\n",
        "O = np.ones((2,3))\n",
        "print(O)"
      ],
      "execution_count": null,
      "outputs": [
        {
          "output_type": "stream",
          "name": "stdout",
          "text": [
            "[[1. 0. 0. 0.]\n",
            " [0. 1. 0. 0.]\n",
            " [0. 0. 1. 0.]\n",
            " [0. 0. 0. 1.]]\n",
            "[[0. 0. 0. 0. 0.]\n",
            " [0. 0. 0. 0. 0.]\n",
            " [0. 0. 0. 0. 0.]]\n",
            "[[1. 1. 1.]\n",
            " [1. 1. 1.]]\n"
          ]
        }
      ]
    },
    {
      "cell_type": "markdown",
      "metadata": {
        "id": "Q0fw9EKChLZB"
      },
      "source": [
        "## 行列の連結\n",
        "\n",
        "* 行数の等しい行列同士を水平方向に連結するには`hstack`関数を使います。<font color=\"red\">`hstack`関数の引数が行列のタプル</font>であることに注意。\n",
        "```\n",
        ">>> A = np.array([[1,2],[3,4]])\n",
        ">>> B = np.array([[4,3],[2,1]])\n",
        ">>> C = np.hstack((A,B))\n",
        ">>> print(C)\n",
        "[[1 2 4 3]\n",
        " [3 4 2 1]]\n",
        "```\n",
        "* 列数の等しい行列同士を垂直方向に連結するには`vstack`関数を使います。同じく<font color=\"red\">`vstack`関数の引数は行列のタプル</font>です。\n",
        "```\n",
        ">>> D = np.vstack((A,B))\n",
        ">>> print(D)\n",
        "[[1 2]\n",
        " [3 4]\n",
        " [4 3]\n",
        " [2 1]]\n",
        "```\n",
        "* array型の連結には、`stack`, `append`, `concatenate` などの関数も用意されています。"
      ]
    },
    {
      "cell_type": "code",
      "metadata": {
        "colab": {
          "base_uri": "https://localhost:8080/"
        },
        "id": "REOg9JDXhsHa",
        "outputId": "6873cf0c-16c7-48d4-a785-f25eb99dc186"
      },
      "source": [
        "A = np.array([[1,2],[3,4]])\n",
        "B = np.array([[4,3],[2,1]])\n",
        "print('A=\\n',A)\n",
        "print('B=\\n',B)\n",
        "print('hstack:\\n',np.hstack((A,B)))\n",
        "print('vstack:\\n',np.vstack((A,B)))"
      ],
      "execution_count": null,
      "outputs": [
        {
          "output_type": "stream",
          "name": "stdout",
          "text": [
            "A=\n",
            " [[1 2]\n",
            " [3 4]]\n",
            "B=\n",
            " [[4 3]\n",
            " [2 1]]\n",
            "hstack:\n",
            " [[1 2 4 3]\n",
            " [3 4 2 1]]\n",
            "vstack:\n",
            " [[1 2]\n",
            " [3 4]\n",
            " [4 3]\n",
            " [2 1]]\n"
          ]
        }
      ]
    },
    {
      "cell_type": "markdown",
      "metadata": {
        "id": "a7fbhj9IUwXN"
      },
      "source": [
        "## 逆行列と行列式\n",
        "\n",
        "* <font color=\"blue\">逆行列は `linalg` サブモジュールの`inv`関数</font>で求めることができます。\n",
        "```\n",
        ">>> import numpy.linalg as la\n",
        ">>> la.inv(A)\n",
        "array([[-2. ,  1. ],\n",
        "          [ 1.5, -0.5]])\n",
        ">>> np.dot(A,la.inv(A)) #元の行列との積を確認\n",
        "array([[1.0000000e+00, 0.0000000e+00],\n",
        "            [8.8817842e-16, 1.0000000e+00]])\n",
        "```\n",
        "  * 数値計算誤差が生じるので、$\\boldsymbol{A}\\boldsymbol{A}^{-1}$や\n",
        "  $\\boldsymbol{A}^{-1}\\boldsymbol{A}$が厳密には単位行列になりません。\n",
        "  * (発展)まだ気にしなくて良いですが、巨大な行列の逆行列を求めることはコストが高い（安定性も低い）ので、逆行列を含む数式をnumpyで計算する場合、<font color=\"red\">安易に`inv`関数を使わずに、一次方程式の解を求める関数（後述します）を使う方が良い</font>です。\n",
        "\n",
        "* 行列式(determinant)の計算には`det`関数を使うことができます。\n",
        "  ```\n",
        "  >>> la.det(A)\n",
        "  -2.0000000000000004\n",
        "  ```\n",
        "    * これも厳密な値$-2$に数値誤差が入ります。\n"
      ]
    },
    {
      "cell_type": "code",
      "metadata": {
        "colab": {
          "base_uri": "https://localhost:8080/"
        },
        "id": "FlVDSfIiV9fZ",
        "outputId": "6473337d-fe10-4067-909f-a4a629cfceac"
      },
      "source": [
        "import numpy as np\n",
        "import numpy.linalg as la\n",
        "A = np.array([[1,2],[3,4]])\n",
        "print('A=\\n',A)\n",
        "# 逆行列\n",
        "B = la.inv(A)\n",
        "print('inverse:\\n',B)\n",
        "# 検算\n",
        "print(np.dot(A,B))\n",
        "print(np.dot(B,A))\n",
        "# 行列式\n",
        "print(la.det(A))\n",
        "print(la.det(B))"
      ],
      "execution_count": null,
      "outputs": [
        {
          "output_type": "stream",
          "name": "stdout",
          "text": [
            "A=\n",
            " [[1 2]\n",
            " [3 4]]\n",
            "inverse:\n",
            " [[-2.   1. ]\n",
            " [ 1.5 -0.5]]\n",
            "[[1.0000000e+00 0.0000000e+00]\n",
            " [8.8817842e-16 1.0000000e+00]]\n",
            "[[1.00000000e+00 0.00000000e+00]\n",
            " [1.11022302e-16 1.00000000e+00]]\n",
            "-2.0000000000000004\n",
            "-0.49999999999999967\n"
          ]
        }
      ]
    },
    {
      "cell_type": "markdown",
      "metadata": {
        "id": "K_hiJw64Ynwp"
      },
      "source": [
        "## 行列の固有値・固有ベクトル\n",
        "* Numpyの素晴らしい点の一つは、<font color=\"blue\">行列の固有値、固有ベクトルを求める高品質な関数も用意されている</font>ことです。\n",
        "  * 単に、線形代数計算の標準ライブラリであるBLASやLAPACKへの「使いやすい」インターフェースを用意しているだけ、という辛口意見もありますが、他言語ではそもそも用意されていなかったり、用意されていても使うのがすごく面倒だったりします。\n",
        "* 行列Aの固有値、固有ベクトルは、`linalg`モジュールの`eig`関数で求めることができます。\n",
        "  * 固有値を並べた1次元arrayと固有ベクトルを並べた2次元arrayのタプルを返します。\n",
        "```\n",
        ">>> A = np.array([[1,2],[3,4]])\n",
        ">>> lmd,V = la.eig(A) #固有値と固有ベクトルをタプルで返します。\n",
        ">>> lmd # 固有値の方を見てみると、\n",
        "array([-0.37228132,  5.37228132])  # 2つの固有値\n",
        ">>> V #固有ベクトル\n",
        "array([[-0.82456484, -0.41597356],  #各列が固有ベクトル\n",
        "            [ 0.56576746, -0.90937671]])\n",
        "```\n",
        "  * 固有値は必ずしも小さい順、大きい順にソートされていません。(経験的には小さい順になっていることが多いですが。)\n",
        "  * 固有値・固有ベクトルが複素数になる場合も求めてくれます。\n",
        "  * 固有ベクトルはノルムが1になるように標準化されたものになっています。\n",
        "* 行列Aが実対称行列の場合は `linalg.eigh()`関数を使った方が正確な結果が得られます(多分、計算効率も良い)。\n",
        "  * (参考)実対称行列の固有値は実数であり、固有ベクトルは互いに直交します。"
      ]
    },
    {
      "cell_type": "code",
      "metadata": {
        "colab": {
          "base_uri": "https://localhost:8080/"
        },
        "id": "8JMRHkklhdzI",
        "outputId": "30b23af2-ce14-4302-b312-27c50d361a65"
      },
      "source": [
        "#import numpy.linalg as la\n",
        "A = np.array([[1,2],[3,4]])\n",
        "print('A = \\n',A)\n",
        "lmd,V = la.eig(A)\n",
        "print('eigenvalues:',lmd)\n",
        "print('eigenvectors(columns):\\n',V)\n",
        "print(la.norm(V[:,1]))"
      ],
      "execution_count": null,
      "outputs": [
        {
          "output_type": "stream",
          "name": "stdout",
          "text": [
            "A = \n",
            " [[1 2]\n",
            " [3 4]]\n",
            "eigenvalues: [-0.37228132  5.37228132]\n",
            "eigenvectors(columns):\n",
            " [[-0.82456484 -0.41597356]\n",
            " [ 0.56576746 -0.90937671]]\n",
            "1.0\n"
          ]
        }
      ]
    },
    {
      "cell_type": "code",
      "source": [
        "print(np.dot(A,V[:,0]))\n",
        "print(lmd[0]*V[:,0])"
      ],
      "metadata": {
        "colab": {
          "base_uri": "https://localhost:8080/"
        },
        "id": "GZBy6ICHrcNW",
        "outputId": "dc7a2a87-4181-4ac1-e958-f7de2738d31b"
      },
      "execution_count": null,
      "outputs": [
        {
          "output_type": "stream",
          "name": "stdout",
          "text": [
            "[ 0.30697009 -0.21062466]\n",
            "[ 0.30697009 -0.21062466]\n"
          ]
        }
      ]
    },
    {
      "cell_type": "code",
      "metadata": {
        "colab": {
          "base_uri": "https://localhost:8080/"
        },
        "id": "6JbXeU4Gh6z2",
        "outputId": "58cc0b29-1316-4722-a824-e214abc4511a"
      },
      "source": [
        "# 実対称行列の場合\n",
        "A = np.array([[1,2,3],[2,2,3],[3,3,5]])\n",
        "print(A)\n",
        "lmd,V = la.eigh(A)\n",
        "print('eigenvalues:',lmd)\n",
        "print('eigenvectors:\\n',V)\n",
        "# 本当に固有ベクトルが互いに直交しているか？\n",
        "print(np.dot(V.T,V))\n"
      ],
      "execution_count": null,
      "outputs": [
        {
          "output_type": "stream",
          "name": "stdout",
          "text": [
            "[[1 2 3]\n",
            " [2 2 3]\n",
            " [3 3 5]]\n",
            "eigenvalues: [-0.72973212  0.15990591  8.5698262 ]\n",
            "eigenvectors:\n",
            " [[-0.89591526 -0.11195225 -0.42988666]\n",
            " [ 0.33181645 -0.81206548 -0.48004948]\n",
            " [ 0.2953535   0.57272712 -0.76468945]]\n",
            "[[ 1.00000000e+00  5.26429584e-17  7.53330638e-17]\n",
            " [ 5.26429584e-17  1.00000000e+00 -1.32970521e-16]\n",
            " [ 7.53330638e-17 -1.32970521e-16  1.00000000e+00]]\n"
          ]
        }
      ]
    },
    {
      "cell_type": "markdown",
      "source": [
        "**(練習)** 行列$\\boldsymbol{A}=\\left[ \\begin{matrix} 0 & 1 & 2 \\\\ 3 & 4 & 5 \\\\ 6 & 7 & 8 \\\\ 9 & 10 & 11 \\end{matrix} \\right]$ に対して、$\\boldsymbol{B} = \\boldsymbol{A}^T \\boldsymbol{A}$ および $\\boldsymbol{C} = \\boldsymbol{A} \\boldsymbol{A}^T$ を求め、さらにそれぞれの固有値と固有ベクトルを求めてください。\n",
        "\n",
        "(補足) $\\boldsymbol{B}$も$\\boldsymbol{C}$も実対称行列になります。また、$\\boldsymbol{B}$と$\\boldsymbol{C}$の$0$以外の固有値は一致します。余裕のある人は両者の固有ベクトルについてどういう関係が成り立つか考えてみてください。"
      ],
      "metadata": {
        "id": "2p8WIwM6YIC5"
      }
    },
    {
      "cell_type": "code",
      "source": [
        "A = np.arange(12).reshape((4,3))\n",
        "print('A=\\n',A)\n",
        "B = np.dot(A.T,A)\n",
        "print('B=\\n',B)\n",
        "lmdb,Vb = la.eigh(B)\n",
        "print('eigenvalues of B\\n',lmdb)\n",
        "C = np.dot(A,A.T)\n",
        "print('C=\\n',C)\n",
        "lmdc,Vc = la.eigh(C)\n",
        "print('eigenvalues of C\\n',lmdc)"
      ],
      "metadata": {
        "id": "b9hk_yoFYM-a",
        "colab": {
          "base_uri": "https://localhost:8080/"
        },
        "outputId": "9cf3eab7-4b10-474e-cd15-af2027ae1754"
      },
      "execution_count": null,
      "outputs": [
        {
          "output_type": "stream",
          "name": "stdout",
          "text": [
            "A=\n",
            " [[ 0  1  2]\n",
            " [ 3  4  5]\n",
            " [ 6  7  8]\n",
            " [ 9 10 11]]\n",
            "B=\n",
            " [[126 144 162]\n",
            " [144 166 188]\n",
            " [162 188 214]]\n",
            "eigenvalues of B\n",
            " [2.59252657e-15 2.14346730e+00 5.03856533e+02]\n",
            "C=\n",
            " [[  5  14  23  32]\n",
            " [ 14  50  86 122]\n",
            " [ 23  86 149 212]\n",
            " [ 32 122 212 302]]\n",
            "eigenvalues of C\n",
            " [-1.17313311e-14  3.27145462e-14  2.14346730e+00  5.03856533e+02]\n"
          ]
        }
      ]
    },
    {
      "cell_type": "markdown",
      "metadata": {
        "id": "wez_uedLjiaw"
      },
      "source": [
        "## 行列とベクトルの積\n",
        "* dot関数を用います。\n",
        "```\n",
        ">>> A = np.array([[1,2],[3,4]])\n",
        ">>> b = np.array([-1, 2])\n",
        ">>> np.dot(A,b)     # A*bではない!\n",
        "array([3, 5])\n",
        "```\n",
        "  * この場合、`b`は列ベクトルとして解釈されます。\n",
        "* ちなみに、掛ける順番を入れ替えると、\n",
        "```\n",
        ">>> np.dot(b,A)\n",
        "array([ 5,  6])\n",
        "```\n",
        "  * $\\boldsymbol{b}$が列ベクトルだとすると、$\\boldsymbol{b}^\\top \\boldsymbol{A}$を計算しているということです。\n"
      ]
    },
    {
      "cell_type": "code",
      "metadata": {
        "colab": {
          "base_uri": "https://localhost:8080/"
        },
        "id": "0UIM1o8skfCr",
        "outputId": "eedf907e-25ed-4dcf-eecc-acbd914f672d"
      },
      "source": [
        "A = np.array([[1,2],[3,4]])\n",
        "b = np.array([-1,2])\n",
        "print('A=\\n',A)\n",
        "print('b=',b)\n",
        "# Ab を計算\n",
        "c = np.dot(A,b)\n",
        "print('Ab=',c)\n",
        "# b^T A を計算\n",
        "d = np.dot(b,A)\n",
        "print('b^T A=',d)"
      ],
      "execution_count": null,
      "outputs": [
        {
          "output_type": "stream",
          "name": "stdout",
          "text": [
            "A=\n",
            " [[1 2]\n",
            " [3 4]]\n",
            "b= [-1  2]\n",
            "Ab= [3 5]\n",
            "b^T A= [5 6]\n"
          ]
        }
      ]
    },
    {
      "cell_type": "markdown",
      "metadata": {
        "id": "zJHCnfEPlR4b"
      },
      "source": [
        "## 連立一次方程式の解\n",
        "\n",
        "* 連立一次方程式は、係数行列$\\boldsymbol{A}$と係数ベクトル$\\boldsymbol{b}$、求めたい未知変数ベクトル$\\boldsymbol{x}$を用いて、\n",
        "$$\n",
        "  \\boldsymbol{A} \\boldsymbol{x} = \\boldsymbol{b}\n",
        "$$\n",
        "と書けます。\n",
        "$$\n",
        "  \\boldsymbol{A} \\boldsymbol{X} = \\boldsymbol{B}\n",
        "$$\n",
        "\n",
        "* Numpyでは、$\\boldsymbol{x}$を求めるのに、`linalg`モジュールの`solve`関数を使います。\n",
        "```\n",
        ">>> A = np.array([[-1, 1, 1],[2,-1, 1],[1, 0, -1]])\n",
        ">>> b = np.array([0, -1, 2])\n",
        ">>> print('A=\\n',A)\n",
        "A=\n",
        " [[-1  1  1]\n",
        " [ 2 -1  1]\n",
        " [ 1  0 -1]]\n",
        ">>> print('b=',b)\n",
        "b= [ 0 -1  2]\n",
        "# Ax = b の解を求める\n",
        ">>> x = la.solve(A,b)]\n",
        ">>> print('x=',x)\n",
        "x= [ 1.  2. -1.]\n",
        "```"
      ]
    },
    {
      "cell_type": "code",
      "metadata": {
        "colab": {
          "base_uri": "https://localhost:8080/"
        },
        "id": "9QUDeJHGlXVX",
        "outputId": "f222874e-804b-4577-b6d1-556169000c72"
      },
      "source": [
        "A = np.array([[-1, 1, 1],[2,-1, 1],[1, 0, -1]])\n",
        "b = np.array([0, -1, 2])\n",
        "print('A=\\n',A)\n",
        "print('b=',b)\n",
        "# Ax = b の解を求める\n",
        "x = la.solve(A,b)\n",
        "print('x=',x)\n",
        "# 検算してみる\n",
        "print('Ax=',np.dot(A,x)) #bと同じかどうか\n"
      ],
      "execution_count": null,
      "outputs": [
        {
          "output_type": "stream",
          "name": "stdout",
          "text": [
            "A=\n",
            " [[-1  1  1]\n",
            " [ 2 -1  1]\n",
            " [ 1  0 -1]]\n",
            "b= [ 0 -1  2]\n",
            "x= [ 1.  2. -1.]\n",
            "Ax= [ 0. -1.  2.]\n"
          ]
        }
      ]
    },
    {
      "cell_type": "markdown",
      "source": [
        "**(練習)**  行列$\\boldsymbol{A}=\\left[ \\begin{matrix} -1 & 2 & 3 \\\\ 4 & 5 & 6 \\\\ 7 & 8 &9\\end{matrix} \\right]$, $\\boldsymbol{B}=\\left[ \\begin{matrix} 2 & 1 & 0 \\\\ 0 & 1 & 2 \\\\ 2 & 1 & 1 \\end{matrix} \\right]$ に対して、$\\boldsymbol{A}^{-1}\\boldsymbol{B}$ を、`la.solve()`を使って求めてください。\n",
        "また、`la.inv()`を使って求めた結果と比較してください。"
      ],
      "metadata": {
        "id": "LAKnrsUwbttC"
      }
    },
    {
      "cell_type": "code",
      "source": [
        "A = np.arange(9).reshape((3,3))\n",
        "A[0,0]=-1\n",
        "B = np.array([[2,1,0],[0,1,2],[2,1,1]])\n",
        "print(la.det(A))\n",
        "print(\"A=\\n\",A)\n",
        "print(\"B=\\n\",B)\n",
        "X = la.solve(A,B)\n",
        "print(\"X=\\n\",X)"
      ],
      "metadata": {
        "id": "MVB0xOj7covY",
        "colab": {
          "base_uri": "https://localhost:8080/"
        },
        "outputId": "44880b54-8ba8-4d37-f646-38b477b39010"
      },
      "execution_count": null,
      "outputs": [
        {
          "output_type": "stream",
          "name": "stdout",
          "text": [
            "3.000000000000001\n",
            "A=\n",
            " [[-1  1  2]\n",
            " [ 3  4  5]\n",
            " [ 6  7  8]]\n",
            "B=\n",
            " [[2 1 0]\n",
            " [0 1 2]\n",
            " [2 1 1]]\n",
            "X=\n",
            " [[-4.00000000e+00 -1.48029737e-16  3.00000000e+00]\n",
            " [ 1.13333333e+01 -1.00000000e+00 -9.66666667e+00]\n",
            " [-6.66666667e+00  1.00000000e+00  6.33333333e+00]]\n"
          ]
        }
      ]
    },
    {
      "cell_type": "code",
      "source": [
        "np.dot(la.inv(A),B)"
      ],
      "metadata": {
        "colab": {
          "base_uri": "https://localhost:8080/"
        },
        "id": "iL3S-9L9y4Sf",
        "outputId": "0dfc8ab3-6c5d-4d92-ef99-e68877269ad1"
      },
      "execution_count": null,
      "outputs": [
        {
          "output_type": "execute_result",
          "data": {
            "text/plain": [
              "array([[-4.00000000e+00, -9.99200722e-16,  3.00000000e+00],\n",
              "       [ 1.13333333e+01, -1.00000000e+00, -9.66666667e+00],\n",
              "       [-6.66666667e+00,  1.00000000e+00,  6.33333333e+00]])"
            ]
          },
          "metadata": {},
          "execution_count": 20
        }
      ]
    },
    {
      "cell_type": "markdown",
      "metadata": {
        "id": "ZaQ0sbOQU-p-"
      },
      "source": [
        "## 乱数生成（randomサブモジュール）\n",
        "Pythonにはもともと`random`モジュールがありますが、Numpyにも`random`サブモジュールがあります。\n",
        "* 0から1までの一様乱数 (`random` 関数)\n",
        "```\n",
        ">>> np.random.random(3)  # 3個サンプリング\n",
        "array([ 0.64446154,  0.65876711,  0.1386073 ]) # 当然ですが、実行する度に結果が違います。\n",
        "```\n",
        "* 平均0, 標準偏差1の標準正規分布に従う乱数(`randn` 関数)\n",
        "```\n",
        ">>> np.random.randn(3)\n",
        "array([ 1.28688442, -0.41394705, -0.31861007])\n",
        "```\n",
        "* 0からK-1までの整数からランダムに選択(`choice`関数)\n",
        "```\n",
        ">>> np.random.choice(10,5) #5個サンプリング（復元抽出）\n",
        "array([6, 8, 4, 6, 0])\n",
        "```"
      ]
    },
    {
      "cell_type": "code",
      "metadata": {
        "colab": {
          "base_uri": "https://localhost:8080/"
        },
        "id": "IfNdhl8OWN79",
        "outputId": "4919caab-7a46-4d6d-f825-1cbd1d3847e3"
      },
      "source": [
        "# 0 から1までの一様乱数\n",
        "print(np.random.random(3))\n",
        "# 標準正規化分布に従う乱数\n",
        "print(np.random.randn(4))\n",
        "# 0からK-1までの整数からサンプリング\n",
        "print(np.random.choice(6,10)+1)"
      ],
      "execution_count": null,
      "outputs": [
        {
          "output_type": "stream",
          "name": "stdout",
          "text": [
            "[0.44391244 0.41657611 0.59648385]\n",
            "[-0.60168053 -0.124162    0.19104401 -0.48881588]\n",
            "[2 2 3 2 1 2 2 4 6 2]\n"
          ]
        }
      ]
    },
    {
      "cell_type": "markdown",
      "metadata": {
        "id": "8-mzhKNsXGqM"
      },
      "source": [
        "## Numpyでも複素数は普通に使えます\n",
        "* そもそもpythonでは最初から複素数が使えました。\n",
        "```\n",
        ">>> a,b = 1.0+2.0j, 2.0+3.0j\n",
        ">>> a*b\n",
        "(-4+7j)\n",
        "```\n",
        "* 当然ながら Numpy でも普通に使えます。特に行列の成分が全て実数でも固有値が複素数になる場合があります。\n",
        "```\n",
        ">>> A = np.array([[2,3],[-1,2]])\n",
        ">>> la.eig(A)\n",
        "(array([2.+1.73205081j, 2.-1.73205081j]),\n",
        " array([[0.8660254+0.j , 0.8660254-0.j ],\n",
        "             [0.       +0.5j       , 0.       -0.5j]]))\n",
        "```\n"
      ]
    },
    {
      "cell_type": "code",
      "metadata": {
        "colab": {
          "base_uri": "https://localhost:8080/"
        },
        "id": "powmuA8nXuzL",
        "outputId": "bb0e36ba-f6e6-4d8a-d5d9-5b8922c7de70"
      },
      "source": [
        "A = np.array([[2,3],[-1,2]])\n",
        "la.eig(A)"
      ],
      "execution_count": null,
      "outputs": [
        {
          "output_type": "execute_result",
          "data": {
            "text/plain": [
              "(array([2.+1.73205081j, 2.-1.73205081j]),\n",
              " array([[0.8660254+0.j , 0.8660254-0.j ],\n",
              "        [0.       +0.5j, 0.       -0.5j]]))"
            ]
          },
          "metadata": {},
          "execution_count": 31
        }
      ]
    },
    {
      "cell_type": "markdown",
      "source": [
        "## CSVファイルの読み込み\n",
        "\n",
        "前回、カンマで区切られたテキストファイル(CSVファイル)を組み込み関数`open()`で開き、`readline()`メソッドで中身を読み込む方法を紹介しました。\n",
        "データを扱う数値計算プログラムの場合、<font color=\"blue\">数値データのまとまりをarray型による行列（やベクトル）として扱う</font>と便利な場合が多いです。\n",
        "\n",
        "例えば、前回使った東京の気象データを記したCSVファイルの中身は、\n",
        "```\n",
        "date,temp_hi,temp_lo,rain,sun,wind,vapor,cloud\n",
        "1980/6/1,25,18.7,0,1.1,1.7,20.1,10\n",
        "1980/6/2,27.3,21.1,13.5,5.4,3.2,21.9,10\n",
        "1980/6/3,28.3,20.4,2,5.7,2.4,22.3,9\n",
        ":\n",
        ":\n",
        "2023/4/5,21.8,9.8,0,6.3,4,10.5,8.8\n",
        "2023/4/6,23.4,16.3,0,3.5,6.2,14.5,6.8\n",
        "2023/4/7,21.3,17,11.5,0.2,6.4,18,9\n",
        "```\n",
        "のようになっていましたが、このうち、先頭行(ヘッダー)と先頭列(日付列)を除いた部分は、気温や雨量など数値で記されている(ただし、少数の非数値`nan`も含みますが)ので、大きな行列で表すことができるはずです。\n",
        "\n",
        "NumPyではCSVファイルなどからデータを読み込む関数として、`loadtxt()`と`genfromtxt()`があります。後者の方が多機能ですが、前者の方がお手軽なので、`loadtxt()`関数を使って、天気データを読み込んでみます。\n",
        "\n",
        "```\n",
        "D = np.loadtxt(\"drive/My Drive/weather_tokyo_1980_2023.csv\",delimiter=',',skiprows=1,usecols=[1,2,3,4,5,7])\n",
        "D.shape\n",
        "```\n",
        "\n",
        "ここで、`loadtxt()`関数にオプション引数として与えている部分が重要です。\n",
        "- `delimiter=','` : 区切り文字の指定です。今回はCSVファイルなので、カンマを指定します。\n",
        "- `skiprows=1` : 先頭から読み飛ばす行数を指定します。今回は先頭のヘッダー行だけ読み飛ばすので1を指定します。\n",
        "- `usecols=[1,2,3,4,5,6,7]` : 読み込む列番号をリストで指定します。今回は日付文字列である先頭列だけ読み飛ばすので、他の列、すなわち、`[1,2,3,4,5,6,7]`を指定しています。\n",
        "\n",
        "これで、43年間分の天気データが、2次元のarray型（すなわち行列)`D`に読み込まれました。\n",
        "\n",
        "\n"
      ],
      "metadata": {
        "id": "v702zgySuma7"
      }
    },
    {
      "cell_type": "code",
      "source": [
        "D = np.loadtxt(\"drive/My Drive/weather_tokyo_1980_2023.csv\",delimiter=',',skiprows=1,usecols=[1,2,3,4,5,6,7])\n",
        "D.shape"
      ],
      "metadata": {
        "colab": {
          "base_uri": "https://localhost:8080/"
        },
        "id": "v3RhfZ7P6BHv",
        "outputId": "11f4b126-6c37-46c3-e62e-33a6d0d0c984"
      },
      "execution_count": null,
      "outputs": [
        {
          "output_type": "execute_result",
          "data": {
            "text/plain": [
              "(15651, 7)"
            ]
          },
          "metadata": {},
          "execution_count": 59
        }
      ]
    },
    {
      "cell_type": "markdown",
      "source": [
        "一度NumPyのarray型にデータを読み込んでしまえば、色々なことができます。例えば、最高気温の最大値は、<font color=\"red\">組込関数の`max()`以外に</font>、<font color=\"blue\">numpyモジュールに含まれる`max()`関数</font>を使っても求まりますが、numpyモジュールには、<font color=\"blue\">`argmax()`という最大値を取る要素のインデクスを求めてくれる</font>関数もあります。これを使うと、東京の最高気温を記録した日の他の天気情報(最低気温、雨量、風量など）もすぐに知ることができます。\n",
        "\n",
        "```\n",
        "# 最高気温の最大値\n",
        "print(np.max(D[:,0]))\n",
        "# 最大値を取る日のインデクス\n",
        "ix = np.argmax(D[:,0])\n",
        "print(ix)\n",
        "# その日の他の気候データを表示\n",
        "print(D[ix,:])\n",
        "```"
      ],
      "metadata": {
        "id": "7bs6-PlUABwm"
      }
    },
    {
      "cell_type": "code",
      "source": [
        "# 最高気温の最大値\n",
        "print(np.max(D[:,0]))\n",
        "# 最大値を取る日のインデクス\n",
        "ix = np.argmax(D[:,0])\n",
        "print(ix)\n",
        "# その日の他の気候データを表示\n",
        "print(D[ix,:])\n"
      ],
      "metadata": {
        "colab": {
          "base_uri": "https://localhost:8080/"
        },
        "id": "LUOsR5ZEArHV",
        "outputId": "7fd30b83-1133-444e-8e51-19e6270beba7"
      },
      "execution_count": null,
      "outputs": [
        {
          "output_type": "stream",
          "name": "stdout",
          "text": [
            "39.5\n",
            "8815\n",
            "[39.5 27.3  0.  11.2  3.5 21.2  5.5]\n"
          ]
        }
      ]
    },
    {
      "cell_type": "markdown",
      "source": [
        "ただし、numpyモジュールの`max`,`min`,`argmax`,`argmin`,`sum`などの関数は、配列の中に`nan`が含まれていると、正しく計算をしてくれず、`nan`を出力します。\n",
        "その場合は、`nan`を無視して計算してくれる `nanmax`,`nanmin`,`nanargmax`,`nanargmin`,`nansum`を使うと便利です。"
      ],
      "metadata": {
        "id": "pZ7dOqBPDP8v"
      }
    },
    {
      "cell_type": "code",
      "source": [
        "# 最低気温のリストにはnanが含まれる\n",
        "print(np.min(D[:,1]))\n",
        "# min()の代わりにnanmin()を使う\n",
        "print(np.nanmin(D[:,1]))\n",
        "# 最小値を取った日のインデクス\n",
        "ix = np.nanargmin(D[:,1])\n",
        "print(ix)\n",
        "# その日の天気データ\n",
        "print(D[ix,:])"
      ],
      "metadata": {
        "colab": {
          "base_uri": "https://localhost:8080/"
        },
        "id": "UvpNxqriDOCn",
        "outputId": "84cec7c4-950c-44f7-dfd5-d021db6e3a78"
      },
      "execution_count": null,
      "outputs": [
        {
          "output_type": "stream",
          "name": "stdout",
          "text": [
            "nan\n",
            "-4.0\n",
            "13752\n",
            "[ 4.  -4.   0.   9.6  2.9  2.3  0.3]\n"
          ]
        }
      ]
    },
    {
      "cell_type": "markdown",
      "source": [
        "数値データだけを扱うのであれば、このようにNumPyを使えば良いのですが、実際のデータ分析では、今回ファイルから読み込むときに捨ててしまった日付の情報や列の名前('temp_hi','rain'など)も欲しいですよね。\n",
        "\n",
        "そのような場合は、来週紹介する予定のPandasというライブラリを使うのがおすすめです。"
      ],
      "metadata": {
        "id": "KlRZPRbrFrUT"
      }
    },
    {
      "cell_type": "markdown",
      "metadata": {
        "id": "1AovhqRV0XAt"
      },
      "source": [
        "# 今日の課題 (HW2023-01)\n",
        "\n",
        "3×3のマス目があり、0から8の番号が付いています。最初、駒は9つのマスのいずれかに等確率でランダムに置かれるとします。その後、各時刻ごとに次の<font color='blue'>[移動規則]</font>に従ってランダムに移動します。十分に時間が経過したとき、各マスに居る確率を求めてください。\n",
        "\n",
        "<font color='blue'>[移動規則]</font> <p>\n",
        "* 角のマス(0,2,6,8)に居る時は、確率1/3ずつで隣のマスに移動するか現在のマスに留まる。\n",
        "* 辺のマス(1,3,5,7)に居る時は、確率1/4ずつで隣のマスに移動するか現在のマスに留まる。\n",
        "* 真ん中のマス(4)に居る時は、確率1/5ずつで隣のマスに移動するか現在のマスに留まる。\n",
        "\n",
        "ファイル名は、HW2023-01.ipynb のままで構いません。\n",
        "\n",
        "締切りは、<font color='red'>5月2日8時30分 (次々回授業の直前) </font>までとします。\n"
      ]
    },
    {
      "cell_type": "markdown",
      "metadata": {
        "id": "iKRHIhSaEO1I"
      },
      "source": [
        "## 課題補足\n",
        "\n",
        "各マス間の遷移確率を図示すると、↓のようになります。\n",
        "\n",
        "\n",
        "![image.png](data:image/png;base64,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)\n"
      ]
    },
    {
      "cell_type": "markdown",
      "metadata": {
        "id": "xmnPIDpjH5TG"
      },
      "source": [
        "また、遷移行列 $\\boldsymbol{T}$は、\n",
        "$$\n",
        "\\boldsymbol{T} =\n",
        "\\left[ \\begin{array}{ccccccccc}\n",
        "1/3 & 1/4 & 0 & 1/4 & 0 & 0 & 0 & 0 & 0\\\\\n",
        "1/3 & 1/4 & 1/3 & 0 & 1/5 & 0 & 0 & 0 & 0\\\\\n",
        "0 & 1/4 & 1/3 & 0 & 0 & 1/4 & 0 & 0 & 0\\\\\n",
        "1/3 & 0 & 0 & 1/4 & 1/5 & 0 & 1/3 & 0 & 0\\\\\n",
        "0 & 1/4 & 0 & 1/4 & 1/5 & 1/4 & 0 & 1/4 & 0\\\\\n",
        "0 & 0 & 1/3 & 0 & 1/5 & 1/4 & 0 & 0 & 1/3\\\\\n",
        "0 & 0 & 0 & 1/4 & 0 & 0 & 1/3 & 1/4 & 0\\\\\n",
        "0 & 0 & 0 & 0 & 1/5 & 0 & 1/3 & 1/4 & 1/3\\\\\n",
        "0 & 0 & 0 & 0 & 0 & 1/4 & 0 & 1/4 & 1/3\\\\\n",
        "\\end{array}\n",
        "  \\right]\n",
        "$$\n",
        "\n",
        "のようになります。（LaTeXで書くのはしんどいです。。）"
      ]
    },
    {
      "cell_type": "markdown",
      "metadata": {
        "id": "g4kR2DoAM8zA"
      },
      "source": [
        "このとき、時刻 $t$ において、各マスに存在する確率をベクトル\n",
        "$\\boldsymbol{p}_t$で表すと、\n",
        "$$\n",
        "\\boldsymbol{p}_{t+1} = \\boldsymbol{T} \\boldsymbol{p}_t\n",
        "$$\n",
        "が成り立ちます。\n",
        "\n",
        "ただし、最初の時刻は全てのマス目に等確率に居るとするので、確率ベクトル $\\boldsymbol{p}_0$は、\n",
        "$$\n",
        "\\boldsymbol{p}_0 = \\left[ \\begin{array}{ccccccccc}\n",
        "1/9 & 1/9 & 1/9 & 1/9 & 1/9 & 1/9 & 1/9 & 1/9 & 1/9 \\\\\n",
        "\\end{array}\n",
        "  \\right]^\\top\n",
        "$$\n",
        "と表されます。\n",
        "\n",
        "「十分に時間が経った時に各マスにコマが居る確率」は、\n",
        "$$\\boldsymbol{p}_{\\infty} = \\lim_{t \\rightarrow \\infty} \\boldsymbol{p}_{t}$$\n",
        "\n",
        "ということになります。\n",
        "\n",
        "課題ファイルにはヒントとして3つのアプローチを紹介していますが、他にも方法がないか是非考えてみてください。"
      ]
    },
    {
      "cell_type": "code",
      "execution_count": null,
      "metadata": {
        "id": "xfA9XKm_ut3Z"
      },
      "outputs": [],
      "source": []
    }
  ]
}