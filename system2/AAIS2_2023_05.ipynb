{
  "nbformat": 4,
  "nbformat_minor": 0,
  "metadata": {
    "colab": {
      "provenance": []
    },
    "kernelspec": {
      "name": "python3",
      "display_name": "Python 3"
    },
    "language_info": {
      "name": "python"
    }
  },
  "cells": [
    {
      "cell_type": "markdown",
      "source": [
        "## 航空宇宙情報システム学第二\n",
        "\n",
        "<h1><center> 第5回 線形最小二乗法（線形回帰） </center> </h1>\n",
        "\n",
        "<center>\n",
        "\n",
        "2023年5月9日\n",
        "\n",
        "担当教員: 矢入健久\n",
        "\n",
        "e-mail: yairi@g.ecc.u-tokyo.ac.jp\n",
        "</center>\n"
      ],
      "metadata": {
        "id": "qcUTu2tqU9-J"
      }
    },
    {
      "cell_type": "markdown",
      "metadata": {
        "id": "-sH4DvpoR-kJ"
      },
      "source": [
        "## はじめに\n",
        "* 今回は、データ解析の基本のひとつである、最小二乗法による線形回帰(linear regression)を学びたいと思います。\n",
        "* この授業の最初に紹介した Numpy (の行列ベクトル演算機能)が威力を発揮します。\n",
        "* 前回話をしたPandasも使います。\n",
        "* ~~統計学における基本的な考え方である最尤法と最小二乗法との関係についても言及します。~~\n"
      ]
    },
    {
      "cell_type": "markdown",
      "metadata": {
        "id": "XM27bLlTe2Xg"
      },
      "source": [
        "## 曲線当てはめ(Curve Fitting)／回帰(Regression)問題\n",
        "\n",
        "$N$個のデータ点 $(x_0,y_0),(x_1,y_1),\\cdots,(x_{N-1},y_{N-1})$があるとき、このデータにできるだけ良く当てはまるような関数 $y=f_\\boldsymbol{\\alpha}(x)$を求めたいとします。\n",
        "* ここで、$\\boldsymbol{\\alpha}$は関数のパラメータを表します。一般にベクトルです。$y=f(x;\\boldsymbol{\\alpha})$のように書く場合もあります。\n",
        "* $x$(またはベクトル$\\boldsymbol{x}$)のことを、<font color=\"blue\">説明変数(explanatory variable(s))</font>、独立変数、などと呼びます。（機械学習では、特徴量という言葉もよく使います。）\n",
        "* $y$のことを、<font color=\"blue\">目標変数(target variable)</font>、目的変数、応答変数、従属変数、などと呼びます。\n",
        "* <font color=\"blue\">当てはまりの良し悪しを判断する基準</font>を定義して、最善のパラメータ値$\\hat{\\boldsymbol{\\alpha}}$を求めます。\n",
        "\n",
        "<img src=\"https://drive.google.com/uc?export=view&id=1X_lMJVlMw2CxuZ_yZsLTLzu31_pxiLKW\" width=\"300\"/>\n",
        "\n",
        "* このような問題はモデルとデータを扱う様々な分野に存在し、曲線当てはめ(curve fitting)と呼ばれていますが、特に統計、多変量解析、機械学習では、<font color=\"blue\">回帰(regression)</font>と呼ばれており、この授業でも以降は回帰という言葉を使おうと思います。\n",
        "* 曲線当てはめは、**補間(interpolation)**と似ていますが、与えられた点を通る必要が無い点、言い換えれば、点として与えられているデータサンプルに誤差が含まれていることを前提としている点が異なります。\n"
      ]
    },
    {
      "cell_type": "markdown",
      "metadata": {
        "id": "d36WVEvRLzLl"
      },
      "source": [
        "## 最小二乗法(least squares method)\n",
        "* 最小二乗法による回帰・曲線当てはめでは、データへの当てはまりの良し悪しを評価する基準として、次式で表される<font color=\"red\">残差二乗和</font>を用い、これが最も小さくなるようなパラメターの値$\\hat{\\boldsymbol{\\alpha}}$を求めようとします。\n",
        "$$\n",
        "Q(\\boldsymbol{\\alpha}) = \\sum_{i=0}^{N-1} (\\underbrace{y_i}_{実際のyの値} - \\underbrace{f_\\boldsymbol{\\alpha}(x_i)}_{関数fによるyの予測値} )^2\n",
        "= \\left(y_0 - f_\\boldsymbol{\\alpha}(x_0) \\right)^2 + \\left(y_1 - f_\\boldsymbol{\\alpha}(x_1) \\right)^2 + \\cdots + \\left(y_{N-1} - f_\\boldsymbol{\\alpha}(x_{N-1}) \\right)^2 \\tag{Eq.5-1}\n",
        "$$\n",
        "* 関数$f_{\\boldsymbol{\\alpha}}(x)$が、<font color=\"blue\">パラメータ$\\boldsymbol{\\alpha}$に関して線形である場合を、線形最小二乗法</font>と呼びます。<font color=\"red\">$x$について線形か非線形かは関係ない</font>ことに気をつけてください。\n",
        "* 一方、関数$f_{\\boldsymbol{\\alpha}}(x)$が、パラメータ$\\boldsymbol{\\alpha}$に関して非線形である場合を、非線形最小二乗法と呼びます。\n",
        "* 当然ですが、線形な最小二乗法の方が非線形な場合よりも簡単なので、今日は線形な場合に焦点を当てます。(後日の授業で、非線形最小二乗法も少し扱う予定です。)\n"
      ]
    },
    {
      "cell_type": "markdown",
      "metadata": {
        "id": "6kVnX5slQ4xI"
      },
      "source": [
        "## 線形最小二乗法(Linear Least Squares)\n",
        "*  前述のように、関数$f_{\\boldsymbol{\\alpha}}(\\boldsymbol{x})$が、<font color=\"blue\">パラメータ$\\boldsymbol{\\alpha}=[\\alpha_0,\\alpha_1,\\cdots,\\alpha_K]^\\top$に関して線形</font>だとします。\n",
        "  * 今まで、$x$をスカラーとして扱っていましたが、ベクトルに一般化して$\\boldsymbol{x}$と書くことにします。\n",
        "* $\\boldsymbol{\\alpha}$について線形ということは、関数$f_{\\boldsymbol{\\alpha}}(\\boldsymbol{x})$は、次のように書き直すことができるということです。\n",
        "$$\n",
        "f_{\\boldsymbol{\\alpha}}(\\boldsymbol{x}) = \\alpha_0 \\cdot f_0(\\boldsymbol{x}) + \\alpha_1 \\cdot f_1(\\boldsymbol{x}) + \\cdots \\alpha_K \\cdot f_K(\\boldsymbol{x}) \\tag{Eq.5-2}\n",
        "$$\n",
        "  * ここで、<font color=\"blue\">$f_0(\\boldsymbol{x}),f_1(\\boldsymbol{x}),\\cdots,f_K(\\boldsymbol{x})$は既知の関数で、基底関数</font>と呼ばれます。\n",
        "  * つまり、線形の曲線当てはめは、<font color=\"blue\">基底関数群の線形和によって未知関数を表す</font>ということです。\n",
        "  * しつこいですが、勘違いしやすいので繰り返しますが、変数$\\boldsymbol{x}$については非線形でも構いません。\n",
        "* (例1) 1変数の$K$次多項式:\n",
        "$$\n",
        "f_{\\boldsymbol{\\alpha}}(x) = \\alpha_0 \\cdot 1 + \\alpha_1 \\cdot x + \\alpha_2 \\cdot x^2 +\\cdots + \\alpha_K \\cdot x^K = \\sum_{k=0}^K \\alpha_k \\cdot x^k \\tag{Eq.5-3}\n",
        "$$\n",
        "* (例2) フーリエ級数:\n",
        "$$\n",
        "f_{\\boldsymbol{\\alpha}}(x) = \\frac{\\alpha_0}{2} + \\sum_{k=1}^{\\infty} \\left( a_k \\cos kx + b_k \\sin kx \\right) \\tag{Eq.5-4}\n",
        "$$\n",
        "* どちら例でも、関数$f_{\\boldsymbol{\\alpha}}(x)$が、$\\boldsymbol{\\alpha}$に関して線形、既知の基底関数の線形和になっています。"
      ]
    },
    {
      "cell_type": "markdown",
      "metadata": {
        "id": "1HfytuRGYSZr"
      },
      "source": [
        "## 線形最小二乗法 1 : 単回帰\n",
        "\n",
        "まず、最も基本的な回帰問題として、単回帰問題から見ていきます。\n",
        "* <font color=\"red\">入力変数(説明変数)$x$は一次元(スカラー)</font>。\n",
        "* 関数$f_\\boldsymbol{\\alpha}(x)$は$x$の一次関数です。つまり、\n",
        "$$\n",
        "y = f_\\boldsymbol{\\alpha}(x) = \\alpha_0 \\cdot 1 + \\alpha_1 \\cdot x \\tag{Eq.5-5}\n",
        "$$\n",
        "* 要するに、単回帰は、2次元の点群を<font color=\"red\">直線近似</font>することと同じです。つまり、$\\alpha_0$は直線の切片、$\\alpha_1$は傾きを表します。\n",
        "\n",
        "単回帰では、(Eq.5-1)に(Eq.5-5)を代入することにより、残差二乗和は次式のようになることが分かります。\n",
        "$$\n",
        "Q(\\alpha_0,\\alpha_1) = \\sum_{i=0}^{n-1} \\left( y_i - (a_0 + a_1 x_i) \\right)^2 \\tag{Eq.5-6}\n",
        "$$\n",
        "\n",
        "最小二乗法では、これを最小化するような切片$\\alpha_0$と傾き$\\alpha_1$を求めます。これを視覚的に説明したのが、下の図になります。\n",
        "\n",
        "<img src=\"https://drive.google.com/uc?export=view&id=1y72B3fSvieTKQebLbtOosaYeTpJF2nrx\" width=\"700\"/>\n",
        "\n",
        "実際に、(Eq.5-6)の残差二乗和を最小化するにはどうしたら良いでしょうか？\n",
        "一般に、<font color=\"red\">関数$f(\\boldsymbol{x})$が$\\boldsymbol{x}=\\hat{\\boldsymbol{x}}$において極値を取るためには、$\\hat{\\boldsymbol{x}}$が関数$f(\\boldsymbol{x})$の停留点、すなわち、$\\nabla f(\\hat{\\boldsymbol{x}})=\\boldsymbol{0}$</font> でなければなりません。一般には、これは必要条件であって十分条件ではないですが、(Eq.5-1)の形式で表される<font color=\"blue\">残差二乗和の場合は、停留点において最小値を取る</font>ことが保証されます。\n",
        "\n",
        "そこで、(Eq.5-6)の右辺を$\\alpha_0, \\alpha_1$でそれぞれ偏微分してゼロと置き、残差$Q$の$\\boldsymbol{\\alpha}$についての勾配がゼロになる条件を探します。\n",
        "$$\n",
        "\\begin{align}\n",
        "\\frac{\\partial Q}{\\partial \\alpha_0} &= -2 \\sum_{i=0}^{n-1} \\left(y_i - a_0 - a_1 x_i \\right) = 0 \\\\\n",
        "\\frac{\\partial Q}{\\partial \\alpha_1} &= -2 \\sum_{i=0}^{n-1} x_i\\left(y_i - a_0 - a_1 x_i \\right) = 0 \\\\\n",
        "\\end{align}\n",
        "$$\n",
        "この連立方程式を整理すると、次のように行列・ベクトルを使って書き直すことができます。\n",
        "$$\n",
        "\\left[\\begin{matrix}\n",
        "n & \\sum_i x_i \\\\\n",
        "\\sum_i x_i & \\sum_i x^2_i\n",
        "\\end{matrix}\\right]\n",
        "\\left[\\begin{matrix}\n",
        "\\alpha_0 \\\\\n",
        "\\alpha_1\n",
        "\\end{matrix}\\right]\n",
        "=\n",
        "\\left[\\begin{matrix}\n",
        "\\sum_i y_i \\\\\n",
        "\\sum_i x_i y_i\n",
        "\\end{matrix}\\right] \\tag{Eq.5-7}\n",
        "$$\n",
        "この連立一次方程式(「正規方程式」と呼びます)を解けば、単回帰の最小二乗法の解$(\\hat{\\alpha}_0,\\hat{\\alpha}_1)$が求まります。ここで、\n",
        "$$\n",
        "\\boldsymbol{S}_{xx} =\n",
        "\\left[\\begin{matrix}\n",
        "n & \\sum_i x_i \\\\\n",
        "\\sum_i x_i & \\sum_i x^2_i\n",
        "\\end{matrix}\\right],\\hspace{5mm}\n",
        "\\boldsymbol{\\alpha} =\n",
        "\\left[\\begin{matrix}\n",
        "\\alpha_0 \\\\\n",
        "\\alpha_1\n",
        "\\end{matrix}\\right],\\hspace{5mm}\n",
        "\\boldsymbol{s}_{xy} =\n",
        "\\left[\\begin{matrix}\n",
        "\\sum_i y_i \\\\\n",
        "\\sum_i x_i y_i\n",
        "\\end{matrix}\\right]\n",
        "$$\n",
        "と置けば、この方程式は、\n",
        "$$\n",
        "\\boldsymbol{S}_{xx} \\boldsymbol{\\alpha} = \\boldsymbol{s}_{xy} \\tag{Eq.5-8}\n",
        "$$\n",
        "と書けるので、\n",
        "$$\n",
        "\\hat{\\boldsymbol{\\alpha}} =  \\boldsymbol{S}_{xx}^{-1} \\boldsymbol{s}_{xy} \\tag{Eq.5-9}\n",
        "$$\n",
        "となります。ただし、実際にNumpy等で計算するときには、逆行列$\\boldsymbol{S}_{xx}^{-1}$を、`numpy.linalg.inv`関数で求めるよりも、方程式をそのまま`numpy.linalg.solve`関数で解く方が良いとされています。\n"
      ]
    },
    {
      "cell_type": "markdown",
      "metadata": {
        "id": "l_YFuD6NfNEJ"
      },
      "source": [
        "### 単回帰 (直線あてはめ)の例題\n",
        "\n",
        "**(例題)** $n=5$個のサンプル$\\{(x_i,y_i)\\}$ ($i=0,1,\\cdots,4$)から成るデータ : $(1.7,0.6),(3.4,6.8),(6.1,4.8),(6.9,12.0),(9.2,24.9)$\n",
        "に対して、最小二乗法で直線当てはめを行ってください。\n",
        "\n",
        "---\n",
        "\n",
        "まず、与えられた5つのサンプル(点)から成るデータの散布図を描いてみます。"
      ]
    },
    {
      "cell_type": "code",
      "metadata": {
        "colab": {
          "base_uri": "https://localhost:8080/",
          "height": 467
        },
        "id": "cE_gjyWffcoF",
        "outputId": "cdffd562-3d23-4063-ce47-15be9e86931d"
      },
      "source": [
        "import numpy as np\n",
        "import numpy.linalg as la\n",
        "import matplotlib.pyplot as plt\n",
        "# x データ\n",
        "x = np.array([1.7, 3.4, 6.1, 6.9, 9.2])\n",
        "# y データ\n",
        "y = np.array([0.6, 6.8, 4.8, 12.0, 24.9])\n",
        "# データ点数\n",
        "n = len(x)\n",
        "# プロットしてみる\n",
        "plt.scatter(x,y)\n",
        "plt.xlabel('x')\n",
        "plt.ylabel('y')"
      ],
      "execution_count": null,
      "outputs": [
        {
          "output_type": "execute_result",
          "data": {
            "text/plain": [
              "Text(0, 0.5, 'y')"
            ]
          },
          "metadata": {},
          "execution_count": 1
        },
        {
          "output_type": "display_data",
          "data": {
            "text/plain": [
              "<Figure size 640x480 with 1 Axes>"
            ],
            "image/png": "[encoded data removed]"
          },
          "metadata": {}
        }
      ]
    },
    {
      "cell_type": "markdown",
      "metadata": {
        "id": "yB6FYcDSfbu_"
      },
      "source": [
        "確かに、直線で近似できそうです。\n",
        "\n",
        "次に、(Eq.5-7),(Eq.5-8)の\n",
        "連立方程式に含まれる係数行列$\\boldsymbol{S}_{xx}$と定数ベクトル$\\boldsymbol{s}_{xx}$を定義式に従って作成し、numpyの一時連立方程式解法関数 `solve`で近似直線の傾き($\\alpha_1$)と切片($\\alpha_0$)を求めてみます。"
      ]
    },
    {
      "cell_type": "code",
      "metadata": {
        "id": "9WT2JMRNQQfi",
        "colab": {
          "base_uri": "https://localhost:8080/"
        },
        "outputId": "f0b54f4d-edcc-4758-d521-829f3c86f5fc"
      },
      "source": [
        "# 係数行列\n",
        "Sxx = np.array([[n,np.sum(x)],[np.sum(x),np.sum(x*x)]])\n",
        "# 定数ベクトル\n",
        "sxy = np.array([np.sum(y),np.sum(x*y)])\n",
        "\n",
        "print(\"Sxx=\",Sxx)\n",
        "print(\"sxx=\",sxy)\n",
        "\n",
        "# 連立方程式を解く\n",
        "alp = la.solve(Sxx,sxy)\n",
        "#alp = np.dot(la.inv(Sxx),sxy) #でも同じですが、逆行列はなるべく計算しない方が良い\n",
        "print(\"alphahat=\",alp)"
      ],
      "execution_count": null,
      "outputs": [
        {
          "output_type": "stream",
          "name": "stdout",
          "text": [
            "Sxx= [[  5.    27.3 ]\n",
            " [ 27.3  183.91]]\n",
            "sxx= [ 49.1 365.3]\n",
            "alphahat= [-5.40978423  2.78933777]\n"
          ]
        }
      ]
    },
    {
      "cell_type": "markdown",
      "metadata": {
        "id": "Zz_lIrmZhFuO"
      },
      "source": [
        "求まった直線を散布図の中に描いて、当てはまり具合を確かめてみます。"
      ]
    },
    {
      "cell_type": "code",
      "metadata": {
        "colab": {
          "base_uri": "https://localhost:8080/",
          "height": 465
        },
        "id": "iu4OUHk2hND_",
        "outputId": "b80bdf88-5995-40ad-8302-5f2e5a55ded0"
      },
      "source": [
        "# 近似直線を使って、yの値を復元\n",
        "yhat = alp[0] + alp[1]*x\n",
        "print(yhat)\n",
        "plt.scatter(x,y)\n",
        "plt.plot(x,yhat,'r-')"
      ],
      "execution_count": null,
      "outputs": [
        {
          "output_type": "stream",
          "name": "stdout",
          "text": [
            "[-0.66791002  4.07396419 11.60517617 13.83664639 20.25212326]\n"
          ]
        },
        {
          "output_type": "execute_result",
          "data": {
            "text/plain": [
              "[<matplotlib.lines.Line2D at 0x7f59c45d1b40>]"
            ]
          },
          "metadata": {},
          "execution_count": 3
        },
        {
          "output_type": "display_data",
          "data": {
            "text/plain": [
              "<Figure size 640x480 with 1 Axes>"
            ],
            "image/png": "[encoded data removed]"
          },
          "metadata": {}
        }
      ]
    },
    {
      "cell_type": "markdown",
      "metadata": {
        "id": "kU31gxpfkDCJ"
      },
      "source": [
        "上の例では、正規方程式の中の行列$\\boldsymbol{S}_{xx}$とベクトル$\\boldsymbol{s}_{xy}$を\n",
        "```\n",
        "# 係数行列\n",
        "Sxx = np.array([[n,np.sum(x)],[np.sum(x),np.sum(x**2)]])\n",
        "# 定数ベクトル\n",
        "sxy = np.array([np.sum(y),np.sum(x*y)])\n",
        "```\n",
        "のように求めていますが、行列とベクトルを使ってもう少しスマート(?)に求める方法があります。\n",
        "\n",
        "今、行列$\\boldsymbol{X}$, ベクトル$\\boldsymbol{y}$をそれぞれ、\n",
        "$$\n",
        "\\boldsymbol{X} =\n",
        "\\left[\\begin{matrix}\n",
        "1 & x_0 \\\\\n",
        "1 & x_1 \\\\\n",
        "\\vdots & \\vdots \\\\\n",
        "1 & x_{n-1}\n",
        "\\end{matrix}\\right]\n",
        ",\\hspace{5mm}\n",
        "\\boldsymbol{y} =\n",
        "\\left[\\begin{matrix}\n",
        "y_0 \\\\\n",
        "y_1 \\\\\n",
        "\\vdots \\\\\n",
        "y_{n-1}\n",
        "\\end{matrix}\\right] \\tag{Eq.5-10}\n",
        "$$\n",
        "のように定義します。<font color=\"red\">行列$\\boldsymbol{X}$の最左列は全ての値が1</font>です。これは、直線の切片$\\alpha_0$を求めるために必要です。\n",
        "すると、先程の行列$\\boldsymbol{S}_{xx}$とベクトル$\\boldsymbol{s}_{xy}$は、それぞれ、\n",
        "$$\n",
        "\\boldsymbol{S}_{xx} = \\boldsymbol{X}^\\top \\boldsymbol{X},\\hspace{10mm}\n",
        "\\boldsymbol{s}_{xy} = \\boldsymbol{X}^\\top \\boldsymbol{y},\\hspace{10mm}\n",
        "\\tag{Eq.5-11}\n",
        "$$\n",
        "と書ける(確かめてみてください)ので、(Eq.5-8)の正規方程式は、\n",
        "$$\n",
        "\\boldsymbol{X}^\\top \\boldsymbol{X} \\boldsymbol{\\alpha}\n",
        "= \\boldsymbol{X}^\\top \\boldsymbol{y} \\tag{Eq.5-12}\n",
        "$$\n",
        "と書き直すことができ、これを解くことによって、最小二乗法の解は、\n",
        "$$\n",
        "\\hat{\\boldsymbol{\\alpha}}\n",
        "= \\boldsymbol{S}_{xx}^{-1} \\boldsymbol{s}_{xy}\n",
        "= \\left(\\boldsymbol{X}^\\top \\boldsymbol{X}  \\right)^{-1} \\boldsymbol{X}^\\top \\boldsymbol{y} \\tag{Eq.5-13}\n",
        "$$\n",
        "となります。このやり方で求めているのが、次のコードです。当前ですが、答えは同じになります。"
      ]
    },
    {
      "cell_type": "code",
      "metadata": {
        "colab": {
          "base_uri": "https://localhost:8080/"
        },
        "id": "EASw9gvUpqWp",
        "outputId": "04b9a2b6-abe5-49b1-820b-577232dc6318"
      },
      "source": [
        "# x の左隣に全部1の列ベクトルを付け足した行列\n",
        "X = np.stack((np.ones(n),x),1)\n",
        "# 係数行列 np.dot(X.T,X) , 定数ベクトル np.dot(X.T,y)\n",
        "alp = la.solve(np.dot(X.T,X),np.dot(X.T,y))\n",
        "print(alp)"
      ],
      "execution_count": null,
      "outputs": [
        {
          "output_type": "stream",
          "name": "stdout",
          "text": [
            "[-5.40978423  2.78933777]\n"
          ]
        }
      ]
    },
    {
      "cell_type": "markdown",
      "metadata": {
        "id": "LvWDIyVLqLKF"
      },
      "source": [
        "なお、実はNumpy には線形最小二乗法を解く関数 `numpy.linalg.lstsq` が用意されていて、これを使えば、自分で正規方程式を作る必要はありません。\n",
        "  * `rcond=None`というオプション引数を入れないとワーニングが少しうるさいです。\n",
        "  * `lstsq`関数は、他にもいろいろなものをタプルで戻り値を返すので、下の例では、最初の要素として返される係数ベクトルだけを取り出して表示させています。\n"
      ]
    },
    {
      "cell_type": "code",
      "metadata": {
        "colab": {
          "base_uri": "https://localhost:8080/"
        },
        "id": "RNOqqrn5pqYB",
        "outputId": "4448e480-303c-445e-d918-64afa134b880"
      },
      "source": [
        "sol = la.lstsq(X,y,rcond=None)\n",
        "alp = sol[0]\n",
        "print(alp)\n",
        "print(sol)"
      ],
      "execution_count": null,
      "outputs": [
        {
          "output_type": "stream",
          "name": "stdout",
          "text": [
            "[-5.40978423  2.78933777]\n",
            "(array([-5.40978423,  2.78933777]), array([80.32531792]), 2, array([13.71068931,  0.96280772]))\n"
          ]
        }
      ]
    },
    {
      "cell_type": "markdown",
      "source": [
        "ほぼ自明ではありますが、$\\hat{\\boldsymbol{\\alpha}}$が本当に残差二乗和$Q(\\boldsymbol{\\alpha})$の最小値を与えるかどうかを検証してみます。\n",
        "\n",
        "具体的には、$\\hat{\\boldsymbol{\\alpha}}=\\left[\\hat{\\alpha_0} , \\hat{\\alpha_1} \\right]$の周辺で、$\\alpha_0$のみ、あるいは、$\\alpha_1$のみを動かしたときに、それぞれ、$\\alpha_0=\\hat{\\alpha_0}$ , $\\alpha_1=\\hat{\\alpha_1}$ で極小値を取っているかどうかを見ます。"
      ],
      "metadata": {
        "id": "SlBOqJ1jocJl"
      }
    },
    {
      "cell_type": "code",
      "source": [
        "#　与えられた alpha_0, alpha_1 に対して、残差二乗和を計算\n",
        "def qval(a0,a1):\n",
        "  alp = np.array([a0,a1])\n",
        "  yh = np.dot(X,alp)\n",
        "  e = y - yh\n",
        "  return np.sum(e**2)\n",
        "\n",
        "# alpha_0（切片） について、\\hat{alpha_0} の周りでQの値を求める\n",
        "a0rng = np.linspace(alp[0]-5.0,alp[0]+5.0,21)\n",
        "qrng0 = np.array([qval(a0,alp[1]) for a0 in a0rng])\n",
        "plt.plot(a0rng,qrng0)\n",
        "plt.axvline(x=alp[0],ls=\":\",c=\"r\")\n",
        "plt.xlabel(\"alpha_0\")\n",
        "plt.ylabel(\"Q\")\n",
        "\n",
        "# alpha_1（傾き） について、\\hat{alpha_1} の周りでQの値を求める\n",
        "plt.figure() # 新しいfigureを作る\n",
        "a1rng = np.linspace(alp[1]-2.0,alp[1]+2.0,21)\n",
        "qrng1 = np.array([qval(alp[0],a1) for a1 in a1rng])\n",
        "plt.plot(a1rng,qrng1)\n",
        "plt.axvline(x=alp[1],ls=\":\",c=\"r\")\n",
        "plt.xlabel(\"alpha_1\")\n",
        "plt.ylabel(\"Q\")"
      ],
      "metadata": {
        "colab": {
          "base_uri": "https://localhost:8080/",
          "height": 900
        },
        "id": "SmFO-eGplV7i",
        "outputId": "0e718e4e-d24a-4602-cf93-481c0b827f2d"
      },
      "execution_count": null,
      "outputs": [
        {
          "output_type": "execute_result",
          "data": {
            "text/plain": [
              "Text(0, 0.5, 'Q')"
            ]
          },
          "metadata": {},
          "execution_count": 6
        },
        {
          "output_type": "display_data",
          "data": {
            "text/plain": [
              "<Figure size 640x480 with 1 Axes>"
            ],
            "image/png": "[encoded data removed]"
          },
          "metadata": {}
        },
        {
          "output_type": "display_data",
          "data": {
            "text/plain": [
              "<Figure size 640x480 with 1 Axes>"
            ],
            "image/png": "[encoded data removed]"
          },
          "metadata": {}
        }
      ]
    },
    {
      "cell_type": "markdown",
      "metadata": {
        "id": "zl0LIWwkr4yW"
      },
      "source": [
        "## [例題]ココア消費量とノーベル賞受賞者数\n",
        "* 10年くらい前に少し話題になったニュースを例題にしてみます。オリジナルソースは、\n",
        "\n",
        " H Messerli, Franz. (2012). Chocolate Consumption, Cognitive Function, and Nobel Laureates. The New England journal of medicine. 367. 1562-4. 10.1056/NEJMon1211064.\n",
        "\n",
        " という一流雑誌に掲載された論文(正確には正規の「論文」ではなく「記事」という扱いですが。)です。\n",
        "* 論文の概要: チョコレートには認知機能を改善する効果があると言われている。\n",
        "そこで、（1人あたりの）<font color=\"red\">チョコレート消費量と、国民10万人あたりのノーベル賞受賞者数との間に相関関係があるかどうか</font>を調べてみた。\n",
        "*<font color=\"red\"> (注意) 相関関係と因果関係とを混同しないように</font> 。\n",
        "\n",
        "* 国別の国民一人当たりのチョコレート消費量についてのまとまったデータが見つからなかったので、ここでは<font color=\"red\">ココア消費量のデータで代用</font>します。\n",
        "* データの出典は以下になります。\n",
        "  * http://onegoldenticket.blogspot.com/2013/01/chocolate-consumption-statistics-by.html\n",
        "  * https://en.wikipedia.org/wiki/Nobel_laureates_per_capita\n",
        "\n",
        "\n",
        "データファイル `cocoa-nobel.csv` ファイルは、\n",
        " (Google ドライブの)マイドライブにファイルを置き、ドライブをマウントしておきます。\n",
        "\n",
        " そして、前回紹介したPandas のインポート機能を使ってCSVファイルからデータフレームにデータを読み込みます。先頭列(国名)をインデクス列とします。\n",
        "\n",
        "\n"
      ]
    },
    {
      "cell_type": "code",
      "source": [
        "import pandas as pd\n",
        "df1 = pd.read_csv('/content/drive/My Drive/cocoa-nobel.csv',index_col=0)\n",
        "display(df1)"
      ],
      "metadata": {
        "colab": {
          "base_uri": "https://localhost:8080/",
          "height": 1000
        },
        "id": "xAaGhx2qownn",
        "outputId": "53919753-0c68-4f74-eda1-89f732a5a9f7"
      },
      "execution_count": null,
      "outputs": [
        {
          "output_type": "display_data",
          "data": {
            "text/plain": [
              "                Cocoa Consumption  Nobel Laureates\n",
              "Country                                           \n",
              "Switzerland                  5.88           29.728\n",
              "Belgium                      5.69            8.850\n",
              "Norway                       4.02           24.503\n",
              "Ireland                      4.02           14.701\n",
              "Germany                      3.96           13.031\n",
              "Austria                      3.80           24.040\n",
              "United Kingdom               3.64           19.945\n",
              "France                       3.62           11.741\n",
              "Denmark                      3.29           22.516\n",
              "Slovenia                     3.07            4.808\n",
              "Finland                      3.02            9.053\n",
              "Israel                       2.96           14.420\n",
              "Australia                    2.87            4.908\n",
              "Greece                       2.60            1.792\n",
              "Canada                       2.55            6.280\n",
              "United States                2.46           11.342\n",
              "Czech Republic               2.44            4.709\n",
              "Sweden                       2.29           30.270\n",
              "Netherlands                  2.28           11.740\n",
              "Spain                        2.28            1.726\n",
              "Hungary                      1.79           13.373\n",
              "Portugal                     1.71            1.936\n",
              "Poland                       1.69            3.968\n",
              "Italy                        1.46            3.369\n",
              "Russia                       1.39            1.597\n",
              "Japan                        1.22            2.039\n",
              "Colombia                     0.99            0.408\n",
              "Romania                      0.98            2.033\n",
              "Chile                        0.97            1.108\n",
              "Brazil                       0.92            0.048\n",
              "Argentina                    0.79            1.129\n",
              "Algeria                      0.58            0.484\n",
              "Yemen                        0.55            0.354\n",
              "Korea South                  0.50            0.196\n",
              "Ukraine                      0.48            0.452\n",
              "Venezuela                    0.41            0.313\n",
              "South Africa                 0.39            1.763\n",
              "Turkey                       0.34            0.254\n",
              "Nigeria                      0.11            0.052\n",
              "China                        0.04            0.064\n",
              "India                        0.03            0.071"
            ],
            "text/html": [
              "\n",
              "  <div id=\"df-f04acc8d-e0d5-4109-a8b6-aabeea2acd0c\">\n",
              "    <div class=\"colab-df-container\">\n",
              "      <div>\n",
              "<style scoped>\n",
              "    .dataframe tbody tr th:only-of-type {\n",
              "        vertical-align: middle;\n",
              "    }\n",
              "\n",
              "    .dataframe tbody tr th {\n",
              "        vertical-align: top;\n",
              "    }\n",
              "\n",
              "    .dataframe thead th {\n",
              "        text-align: right;\n",
              "    }\n",
              "</style>\n",
              "<table border=\"1\" class=\"dataframe\">\n",
              "  <thead>\n",
              "    <tr style=\"text-align: right;\">\n",
              "      <th></th>\n",
              "      <th>Cocoa Consumption</th>\n",
              "      <th>Nobel Laureates</th>\n",
              "    </tr>\n",
              "    <tr>\n",
              "      <th>Country</th>\n",
              "      <th></th>\n",
              "      <th></th>\n",
              "    </tr>\n",
              "  </thead>\n",
              "  <tbody>\n",
              "    <tr>\n",
              "      <th>Switzerland</th>\n",
              "      <td>5.88</td>\n",
              "      <td>29.728</td>\n",
              "    </tr>\n",
              "    <tr>\n",
              "      <th>Belgium</th>\n",
              "      <td>5.69</td>\n",
              "      <td>8.850</td>\n",
              "    </tr>\n",
              "    <tr>\n",
              "      <th>Norway</th>\n",
              "      <td>4.02</td>\n",
              "      <td>24.503</td>\n",
              "    </tr>\n",
              "    <tr>\n",
              "      <th>Ireland</th>\n",
              "      <td>4.02</td>\n",
              "      <td>14.701</td>\n",
              "    </tr>\n",
              "    <tr>\n",
              "      <th>Germany</th>\n",
              "      <td>3.96</td>\n",
              "      <td>13.031</td>\n",
              "    </tr>\n",
              "    <tr>\n",
              "      <th>Austria</th>\n",
              "      <td>3.80</td>\n",
              "      <td>24.040</td>\n",
              "    </tr>\n",
              "    <tr>\n",
              "      <th>United Kingdom</th>\n",
              "      <td>3.64</td>\n",
              "      <td>19.945</td>\n",
              "    </tr>\n",
              "    <tr>\n",
              "      <th>France</th>\n",
              "      <td>3.62</td>\n",
              "      <td>11.741</td>\n",
              "    </tr>\n",
              "    <tr>\n",
              "      <th>Denmark</th>\n",
              "      <td>3.29</td>\n",
              "      <td>22.516</td>\n",
              "    </tr>\n",
              "    <tr>\n",
              "      <th>Slovenia</th>\n",
              "      <td>3.07</td>\n",
              "      <td>4.808</td>\n",
              "    </tr>\n",
              "    <tr>\n",
              "      <th>Finland</th>\n",
              "      <td>3.02</td>\n",
              "      <td>9.053</td>\n",
              "    </tr>\n",
              "    <tr>\n",
              "      <th>Israel</th>\n",
              "      <td>2.96</td>\n",
              "      <td>14.420</td>\n",
              "    </tr>\n",
              "    <tr>\n",
              "      <th>Australia</th>\n",
              "      <td>2.87</td>\n",
              "      <td>4.908</td>\n",
              "    </tr>\n",
              "    <tr>\n",
              "      <th>Greece</th>\n",
              "      <td>2.60</td>\n",
              "      <td>1.792</td>\n",
              "    </tr>\n",
              "    <tr>\n",
              "      <th>Canada</th>\n",
              "      <td>2.55</td>\n",
              "      <td>6.280</td>\n",
              "    </tr>\n",
              "    <tr>\n",
              "      <th>United States</th>\n",
              "      <td>2.46</td>\n",
              "      <td>11.342</td>\n",
              "    </tr>\n",
              "    <tr>\n",
              "      <th>Czech Republic</th>\n",
              "      <td>2.44</td>\n",
              "      <td>4.709</td>\n",
              "    </tr>\n",
              "    <tr>\n",
              "      <th>Sweden</th>\n",
              "      <td>2.29</td>\n",
              "      <td>30.270</td>\n",
              "    </tr>\n",
              "    <tr>\n",
              "      <th>Netherlands</th>\n",
              "      <td>2.28</td>\n",
              "      <td>11.740</td>\n",
              "    </tr>\n",
              "    <tr>\n",
              "      <th>Spain</th>\n",
              "      <td>2.28</td>\n",
              "      <td>1.726</td>\n",
              "    </tr>\n",
              "    <tr>\n",
              "      <th>Hungary</th>\n",
              "      <td>1.79</td>\n",
              "      <td>13.373</td>\n",
              "    </tr>\n",
              "    <tr>\n",
              "      <th>Portugal</th>\n",
              "      <td>1.71</td>\n",
              "      <td>1.936</td>\n",
              "    </tr>\n",
              "    <tr>\n",
              "      <th>Poland</th>\n",
              "      <td>1.69</td>\n",
              "      <td>3.968</td>\n",
              "    </tr>\n",
              "    <tr>\n",
              "      <th>Italy</th>\n",
              "      <td>1.46</td>\n",
              "      <td>3.369</td>\n",
              "    </tr>\n",
              "    <tr>\n",
              "      <th>Russia</th>\n",
              "      <td>1.39</td>\n",
              "      <td>1.597</td>\n",
              "    </tr>\n",
              "    <tr>\n",
              "      <th>Japan</th>\n",
              "      <td>1.22</td>\n",
              "      <td>2.039</td>\n",
              "    </tr>\n",
              "    <tr>\n",
              "      <th>Colombia</th>\n",
              "      <td>0.99</td>\n",
              "      <td>0.408</td>\n",
              "    </tr>\n",
              "    <tr>\n",
              "      <th>Romania</th>\n",
              "      <td>0.98</td>\n",
              "      <td>2.033</td>\n",
              "    </tr>\n",
              "    <tr>\n",
              "      <th>Chile</th>\n",
              "      <td>0.97</td>\n",
              "      <td>1.108</td>\n",
              "    </tr>\n",
              "    <tr>\n",
              "      <th>Brazil</th>\n",
              "      <td>0.92</td>\n",
              "      <td>0.048</td>\n",
              "    </tr>\n",
              "    <tr>\n",
              "      <th>Argentina</th>\n",
              "      <td>0.79</td>\n",
              "      <td>1.129</td>\n",
              "    </tr>\n",
              "    <tr>\n",
              "      <th>Algeria</th>\n",
              "      <td>0.58</td>\n",
              "      <td>0.484</td>\n",
              "    </tr>\n",
              "    <tr>\n",
              "      <th>Yemen</th>\n",
              "      <td>0.55</td>\n",
              "      <td>0.354</td>\n",
              "    </tr>\n",
              "    <tr>\n",
              "      <th>Korea South</th>\n",
              "      <td>0.50</td>\n",
              "      <td>0.196</td>\n",
              "    </tr>\n",
              "    <tr>\n",
              "      <th>Ukraine</th>\n",
              "      <td>0.48</td>\n",
              "      <td>0.452</td>\n",
              "    </tr>\n",
              "    <tr>\n",
              "      <th>Venezuela</th>\n",
              "      <td>0.41</td>\n",
              "      <td>0.313</td>\n",
              "    </tr>\n",
              "    <tr>\n",
              "      <th>South Africa</th>\n",
              "      <td>0.39</td>\n",
              "      <td>1.763</td>\n",
              "    </tr>\n",
              "    <tr>\n",
              "      <th>Turkey</th>\n",
              "      <td>0.34</td>\n",
              "      <td>0.254</td>\n",
              "    </tr>\n",
              "    <tr>\n",
              "      <th>Nigeria</th>\n",
              "      <td>0.11</td>\n",
              "      <td>0.052</td>\n",
              "    </tr>\n",
              "    <tr>\n",
              "      <th>China</th>\n",
              "      <td>0.04</td>\n",
              "      <td>0.064</td>\n",
              "    </tr>\n",
              "    <tr>\n",
              "      <th>India</th>\n",
              "      <td>0.03</td>\n",
              "      <td>0.071</td>\n",
              "    </tr>\n",
              "  </tbody>\n",
              "</table>\n",
              "</div>\n",
              "      <button class=\"colab-df-convert\" onclick=\"convertToInteractive('df-f04acc8d-e0d5-4109-a8b6-aabeea2acd0c')\"\n",
              "              title=\"Convert this dataframe to an interactive table.\"\n",
              "              style=\"display:none;\">\n",
              "        \n",
              "  <svg xmlns=\"http://www.w3.org/2000/svg\" height=\"24px\"viewBox=\"0 0 24 24\"\n",
              "       width=\"24px\">\n",
              "    <path d=\"M0 0h24v24H0V0z\" fill=\"none\"/>\n",
              "    <path d=\"M18.56 5.44l.94 2.06.94-2.06 2.06-.94-2.06-.94-.94-2.06-.94 2.06-2.06.94zm-11 1L8.5 8.5l.94-2.06 2.06-.94-2.06-.94L8.5 2.5l-.94 2.06-2.06.94zm10 10l.94 2.06.94-2.06 2.06-.94-2.06-.94-.94-2.06-.94 2.06-2.06.94z\"/><path d=\"M17.41 7.96l-1.37-1.37c-.4-.4-.92-.59-1.43-.59-.52 0-1.04.2-1.43.59L10.3 9.45l-7.72 7.72c-.78.78-.78 2.05 0 2.83L4 21.41c.39.39.9.59 1.41.59.51 0 1.02-.2 1.41-.59l7.78-7.78 2.81-2.81c.8-.78.8-2.07 0-2.86zM5.41 20L4 18.59l7.72-7.72 1.47 1.35L5.41 20z\"/>\n",
              "  </svg>\n",
              "      </button>\n",
              "      \n",
              "  <style>\n",
              "    .colab-df-container {\n",
              "      display:flex;\n",
              "      flex-wrap:wrap;\n",
              "      gap: 12px;\n",
              "    }\n",
              "\n",
              "    .colab-df-convert {\n",
              "      background-color: #E8F0FE;\n",
              "      border: none;\n",
              "      border-radius: 50%;\n",
              "      cursor: pointer;\n",
              "      display: none;\n",
              "      fill: #1967D2;\n",
              "      height: 32px;\n",
              "      padding: 0 0 0 0;\n",
              "      width: 32px;\n",
              "    }\n",
              "\n",
              "    .colab-df-convert:hover {\n",
              "      background-color: #E2EBFA;\n",
              "      box-shadow: 0px 1px 2px rgba(60, 64, 67, 0.3), 0px 1px 3px 1px rgba(60, 64, 67, 0.15);\n",
              "      fill: #174EA6;\n",
              "    }\n",
              "\n",
              "    [theme=dark] .colab-df-convert {\n",
              "      background-color: #3B4455;\n",
              "      fill: #D2E3FC;\n",
              "    }\n",
              "\n",
              "    [theme=dark] .colab-df-convert:hover {\n",
              "      background-color: #434B5C;\n",
              "      box-shadow: 0px 1px 3px 1px rgba(0, 0, 0, 0.15);\n",
              "      filter: drop-shadow(0px 1px 2px rgba(0, 0, 0, 0.3));\n",
              "      fill: #FFFFFF;\n",
              "    }\n",
              "  </style>\n",
              "\n",
              "      <script>\n",
              "        const buttonEl =\n",
              "          document.querySelector('#df-f04acc8d-e0d5-4109-a8b6-aabeea2acd0c button.colab-df-convert');\n",
              "        buttonEl.style.display =\n",
              "          google.colab.kernel.accessAllowed ? 'block' : 'none';\n",
              "\n",
              "        async function convertToInteractive(key) {\n",
              "          const element = document.querySelector('#df-f04acc8d-e0d5-4109-a8b6-aabeea2acd0c');\n",
              "          const dataTable =\n",
              "            await google.colab.kernel.invokeFunction('convertToInteractive',\n",
              "                                                     [key], {});\n",
              "          if (!dataTable) return;\n",
              "\n",
              "          const docLinkHtml = 'Like what you see? Visit the ' +\n",
              "            '<a target=\"_blank\" href=https://colab.research.google.com/notebooks/data_table.ipynb>data table notebook</a>'\n",
              "            + ' to learn more about interactive tables.';\n",
              "          element.innerHTML = '';\n",
              "          dataTable['output_type'] = 'display_data';\n",
              "          await google.colab.output.renderOutput(dataTable, element);\n",
              "          const docLink = document.createElement('div');\n",
              "          docLink.innerHTML = docLinkHtml;\n",
              "          element.appendChild(docLink);\n",
              "        }\n",
              "      </script>\n",
              "    </div>\n",
              "  </div>\n",
              "  "
            ]
          },
          "metadata": {}
        }
      ]
    },
    {
      "cell_type": "markdown",
      "source": [
        "前回説明したように、`df1['Cocoa Consumption']`と`df1['Nobel Laureates']`で、それぞれ、ココア消費量の列とノーベル賞受賞者数の列を取り出すことが出来るので、Matplotlibで散布図は、以下のようにして書くことができます。"
      ],
      "metadata": {
        "id": "i3XYoUE8p7VG"
      }
    },
    {
      "cell_type": "code",
      "source": [
        "plt.scatter(df1['Cocoa Consumption'],df1['Nobel Laureates'])\n",
        "plt.xlabel(df1.columns[0]) # 'Cocoa Consumption'\n",
        "plt.ylabel(df1.columns[1]) # 'Nobel Laureates'"
      ],
      "metadata": {
        "colab": {
          "base_uri": "https://localhost:8080/",
          "height": 466
        },
        "id": "E7WmBh_9q9Gg",
        "outputId": "38b55eb8-e1e0-4543-f250-6c4879b7e3c3"
      },
      "execution_count": null,
      "outputs": [
        {
          "output_type": "execute_result",
          "data": {
            "text/plain": [
              "Text(0, 0.5, 'Nobel Laureates')"
            ]
          },
          "metadata": {},
          "execution_count": 8
        },
        {
          "output_type": "display_data",
          "data": {
            "text/plain": [
              "<Figure size 640x480 with 1 Axes>"
            ],
            "image/png": "[encoded data removed]"
          },
          "metadata": {}
        }
      ]
    },
    {
      "cell_type": "markdown",
      "source": [
        "ちなみに、Matplotlib(pyplot) の`text()`関数を使って、各点の「国名」を表示させることもできますが、このデータの場合、点が密集していて（特に左下）が見づらいです。"
      ],
      "metadata": {
        "id": "NbB4qOThXxHd"
      }
    },
    {
      "cell_type": "code",
      "source": [
        "plt.scatter(df1.iloc[:,0],df1.iloc[:,1],s=4)\n",
        "plt.xlabel(df1.columns[0]) # 'Cocoa Consumption'\n",
        "plt.ylabel(df1.columns[1]) # 'Nobel Laureates'\n",
        "for i in range(len(df1.index)):\n",
        "  plt.text(df1.iloc[i,0]+0.05,df1.iloc[i,1],df1.index[i],fontsize=\"xx-small\")"
      ],
      "metadata": {
        "colab": {
          "base_uri": "https://localhost:8080/",
          "height": 449
        },
        "id": "AfycG8NAW7h1",
        "outputId": "8b06621e-b27c-4b57-b9a3-fc7e0f6d8f0e"
      },
      "execution_count": null,
      "outputs": [
        {
          "output_type": "display_data",
          "data": {
            "text/plain": [
              "<Figure size 640x480 with 1 Axes>"
            ],
            "image/png": "[encoded data removed]"
          },
          "metadata": {}
        }
      ]
    },
    {
      "cell_type": "markdown",
      "metadata": {
        "id": "4cecBrsPvzCp"
      },
      "source": [
        "国別の「一人あたりのココア消費量」と「単位人口あたりのノーベル賞受賞者数」とをプロットした散布図を眺めると、確かに正の相関があるように見えます。\n",
        "\n",
        "そこで、実際に<font color=\"red\">相関係数</font>を求めてみます。\n",
        "相関係数$r$は、以下の式で計算されます。\n",
        "$$\n",
        "r = \\frac{s_{xy}}{s_x \\cdot s_y}\n",
        "= \\frac{\\sum_i (x_i - \\bar{x})(y_i - \\bar{y})}{\\sqrt{\\sum_i (x_i - \\bar{x})^2} \\cdot \\sqrt{\\sum_i (y_i - \\bar{y})^2}}\n",
        "$$\n",
        "ただし、$\\bar{x}$,$\\bar{y}$はそれぞれ$x$,$y$の平均値を表します。\n",
        "この式に従って計算したのが、次のコードです。\n",
        "\n",
        "前回紹介し忘れていたのですが、<font color=\"blue\">Pandasのデータフレームまたはシリーズの`values`属性を使えば、Numpyのarray型オブジェクト(行列またはベクトル)がすぐに得られます</font>。"
      ]
    },
    {
      "cell_type": "code",
      "metadata": {
        "colab": {
          "base_uri": "https://localhost:8080/"
        },
        "id": "iJOfFhLxyirh",
        "outputId": "3d53ff00-a3af-445b-d8ef-99c25da8eb4a"
      },
      "source": [
        "# ココア消費量\n",
        "x = df1.iloc[:,0].values\n",
        "# ノーベル受賞者数\n",
        "y = df1.iloc[:,1].values\n",
        "# 相関係数の定義に従って、自分で計算\n",
        "# x,yの平均\n",
        "mx,my = np.mean(x),np.mean(y)\n",
        "# x,yの各データから平均を引く\n",
        "xc,yc = x-mx,y-my\n",
        "# sum関数を使う\n",
        "r = np.sum(xc*yc)/np.sqrt(np.sum(xc**2)*np.sum(yc**2))\n",
        "print(r)"
      ],
      "execution_count": null,
      "outputs": [
        {
          "output_type": "stream",
          "name": "stdout",
          "text": [
            "0.7472220083641709\n"
          ]
        }
      ]
    },
    {
      "cell_type": "markdown",
      "source": [
        "相関係数 0.75 というのは、それなりに大きな正の相関です。"
      ],
      "metadata": {
        "id": "tRp5jm9bahmh"
      }
    },
    {
      "cell_type": "markdown",
      "metadata": {
        "id": "0uldLbuszgTo"
      },
      "source": [
        "## 相関係数の幾何学的解釈\n",
        "\n",
        "脇道に逸れますが、せっかくなので(?)、相関係数を別の観点から見てみます。まず、\n",
        "$x,y$データからそれらの平均値$\\bar{x}$,$\\bar{y}$を引くことで、次の2つのベクトルを作ります。\n",
        "$$\n",
        "\\boldsymbol{x}_\\mbox{c} =\n",
        "\\left[\\begin{matrix}\n",
        "x_0 - \\bar{x} \\\\\n",
        "x_1 - \\bar{x} \\\\\n",
        "\\vdots \\\\\n",
        "x_{n-1} - \\bar{x}\n",
        "\\end{matrix}\\right]\n",
        ",\\hspace{5mm}\n",
        "\\boldsymbol{y}_\\mbox{c} =\n",
        "\\left[\\begin{matrix}\n",
        "y_0 - \\bar{y} \\\\\n",
        "y_1 - \\bar{y} \\\\\n",
        "\\vdots \\\\\n",
        "y_{n-1} - \\bar{y}\n",
        "\\end{matrix}\\right]\n",
        "$$\n",
        "すると、相関係数$r$は、次式のように書くことができます。\n",
        "$$\n",
        "r = \\frac{\\boldsymbol{x}_\\mbox{c}\\cdot\\boldsymbol{y}_\\mbox{c}}{\\Vert \\boldsymbol{x}_\\mbox{c} \\Vert \\Vert \\boldsymbol{y}_\\mbox{c} \\Vert}\n",
        "$$\n",
        "これは、<font color=\"blue\">2つのベクトル$\\boldsymbol{x}_\\mbox{c}$, $\\boldsymbol{y}_\\mbox{c}$が成す角の余弦(Cosine)</font>です。\n",
        "\n",
        "したがって、\n",
        "Numpyのベクトル内積・ノルムを使えば、相関係数は次のように計算することもできます。\n"
      ]
    },
    {
      "cell_type": "code",
      "metadata": {
        "colab": {
          "base_uri": "https://localhost:8080/"
        },
        "id": "Rrm8_Jxv2HJZ",
        "outputId": "8b5ce850-02b8-49d0-c464-adc4f63d9b44"
      },
      "source": [
        "# ベクトルの内積,ノルムを使う場合\n",
        "r = np.vdot(xc,yc)/(la.norm(xc)*la.norm(yc))\n",
        "print('Correlation',r)"
      ],
      "execution_count": null,
      "outputs": [
        {
          "output_type": "stream",
          "name": "stdout",
          "text": [
            "Correlation 0.7472220083641709\n"
          ]
        }
      ]
    },
    {
      "cell_type": "markdown",
      "metadata": {
        "id": "_LLEsDCV5pPs"
      },
      "source": [
        "なお、Numpyには、相関係数を計算する`corrcoef`関数が最初から用意されているので、これを使っても良いでしょう。\n",
        "```\n",
        ">>> np.corrcoef(x,y)\n",
        "array([[1.        , 0.74722201],\n",
        "       [0.74722201, 1.        ]])\n",
        "```\n",
        "仕様上、<font color=\"red\"> 相関行列 </font>が返されます。`0.74722201`という値だけを取り出したいときは、この相関行列の`(0,1)`成分または`(1,0)`成分を取り出せば良いので、\n",
        "```\n",
        "np.corrcoef(x,y)[0,1]\n",
        "```\n",
        "のように求まります。"
      ]
    },
    {
      "cell_type": "code",
      "source": [
        "# 相関行列\n",
        "print(np.corrcoef(x,y))\n",
        "# (0,1)成分\n",
        "print(np.corrcoef(x,y)[0,1])"
      ],
      "metadata": {
        "colab": {
          "base_uri": "https://localhost:8080/"
        },
        "id": "SJ_7oDd6y3oH",
        "outputId": "1bb52092-bb67-41d5-e38d-18f38d68e809"
      },
      "execution_count": null,
      "outputs": [
        {
          "output_type": "stream",
          "name": "stdout",
          "text": [
            "[[1.         0.74722201]\n",
            " [0.74722201 1.        ]]\n",
            "0.747222008364171\n"
          ]
        }
      ]
    },
    {
      "cell_type": "markdown",
      "source": [
        "Pandas にも同様の機能があります。DataFrame の `corr()`メソッドを使えば、列同士の相関(行列)を計算して書式化して表示してくれます。"
      ],
      "metadata": {
        "id": "uMv9oiTvwfc_"
      }
    },
    {
      "cell_type": "code",
      "source": [
        "df1.corr()"
      ],
      "metadata": {
        "colab": {
          "base_uri": "https://localhost:8080/",
          "height": 112
        },
        "id": "U5TzbGsXtuxw",
        "outputId": "d57c9317-fa60-493a-f464-8d0789dfe771"
      },
      "execution_count": null,
      "outputs": [
        {
          "output_type": "execute_result",
          "data": {
            "text/plain": [
              "                   Cocoa Consumption  Nobel Laureates\n",
              "Cocoa Consumption           1.000000         0.747222\n",
              "Nobel Laureates             0.747222         1.000000"
            ],
            "text/html": [
              "\n",
              "  <div id=\"df-fdf85e4d-f085-4914-b608-7327fb87b784\">\n",
              "    <div class=\"colab-df-container\">\n",
              "      <div>\n",
              "<style scoped>\n",
              "    .dataframe tbody tr th:only-of-type {\n",
              "        vertical-align: middle;\n",
              "    }\n",
              "\n",
              "    .dataframe tbody tr th {\n",
              "        vertical-align: top;\n",
              "    }\n",
              "\n",
              "    .dataframe thead th {\n",
              "        text-align: right;\n",
              "    }\n",
              "</style>\n",
              "<table border=\"1\" class=\"dataframe\">\n",
              "  <thead>\n",
              "    <tr style=\"text-align: right;\">\n",
              "      <th></th>\n",
              "      <th>Cocoa Consumption</th>\n",
              "      <th>Nobel Laureates</th>\n",
              "    </tr>\n",
              "  </thead>\n",
              "  <tbody>\n",
              "    <tr>\n",
              "      <th>Cocoa Consumption</th>\n",
              "      <td>1.000000</td>\n",
              "      <td>0.747222</td>\n",
              "    </tr>\n",
              "    <tr>\n",
              "      <th>Nobel Laureates</th>\n",
              "      <td>0.747222</td>\n",
              "      <td>1.000000</td>\n",
              "    </tr>\n",
              "  </tbody>\n",
              "</table>\n",
              "</div>\n",
              "      <button class=\"colab-df-convert\" onclick=\"convertToInteractive('df-fdf85e4d-f085-4914-b608-7327fb87b784')\"\n",
              "              title=\"Convert this dataframe to an interactive table.\"\n",
              "              style=\"display:none;\">\n",
              "        \n",
              "  <svg xmlns=\"http://www.w3.org/2000/svg\" height=\"24px\"viewBox=\"0 0 24 24\"\n",
              "       width=\"24px\">\n",
              "    <path d=\"M0 0h24v24H0V0z\" fill=\"none\"/>\n",
              "    <path d=\"M18.56 5.44l.94 2.06.94-2.06 2.06-.94-2.06-.94-.94-2.06-.94 2.06-2.06.94zm-11 1L8.5 8.5l.94-2.06 2.06-.94-2.06-.94L8.5 2.5l-.94 2.06-2.06.94zm10 10l.94 2.06.94-2.06 2.06-.94-2.06-.94-.94-2.06-.94 2.06-2.06.94z\"/><path d=\"M17.41 7.96l-1.37-1.37c-.4-.4-.92-.59-1.43-.59-.52 0-1.04.2-1.43.59L10.3 9.45l-7.72 7.72c-.78.78-.78 2.05 0 2.83L4 21.41c.39.39.9.59 1.41.59.51 0 1.02-.2 1.41-.59l7.78-7.78 2.81-2.81c.8-.78.8-2.07 0-2.86zM5.41 20L4 18.59l7.72-7.72 1.47 1.35L5.41 20z\"/>\n",
              "  </svg>\n",
              "      </button>\n",
              "      \n",
              "  <style>\n",
              "    .colab-df-container {\n",
              "      display:flex;\n",
              "      flex-wrap:wrap;\n",
              "      gap: 12px;\n",
              "    }\n",
              "\n",
              "    .colab-df-convert {\n",
              "      background-color: #E8F0FE;\n",
              "      border: none;\n",
              "      border-radius: 50%;\n",
              "      cursor: pointer;\n",
              "      display: none;\n",
              "      fill: #1967D2;\n",
              "      height: 32px;\n",
              "      padding: 0 0 0 0;\n",
              "      width: 32px;\n",
              "    }\n",
              "\n",
              "    .colab-df-convert:hover {\n",
              "      background-color: #E2EBFA;\n",
              "      box-shadow: 0px 1px 2px rgba(60, 64, 67, 0.3), 0px 1px 3px 1px rgba(60, 64, 67, 0.15);\n",
              "      fill: #174EA6;\n",
              "    }\n",
              "\n",
              "    [theme=dark] .colab-df-convert {\n",
              "      background-color: #3B4455;\n",
              "      fill: #D2E3FC;\n",
              "    }\n",
              "\n",
              "    [theme=dark] .colab-df-convert:hover {\n",
              "      background-color: #434B5C;\n",
              "      box-shadow: 0px 1px 3px 1px rgba(0, 0, 0, 0.15);\n",
              "      filter: drop-shadow(0px 1px 2px rgba(0, 0, 0, 0.3));\n",
              "      fill: #FFFFFF;\n",
              "    }\n",
              "  </style>\n",
              "\n",
              "      <script>\n",
              "        const buttonEl =\n",
              "          document.querySelector('#df-fdf85e4d-f085-4914-b608-7327fb87b784 button.colab-df-convert');\n",
              "        buttonEl.style.display =\n",
              "          google.colab.kernel.accessAllowed ? 'block' : 'none';\n",
              "\n",
              "        async function convertToInteractive(key) {\n",
              "          const element = document.querySelector('#df-fdf85e4d-f085-4914-b608-7327fb87b784');\n",
              "          const dataTable =\n",
              "            await google.colab.kernel.invokeFunction('convertToInteractive',\n",
              "                                                     [key], {});\n",
              "          if (!dataTable) return;\n",
              "\n",
              "          const docLinkHtml = 'Like what you see? Visit the ' +\n",
              "            '<a target=\"_blank\" href=https://colab.research.google.com/notebooks/data_table.ipynb>data table notebook</a>'\n",
              "            + ' to learn more about interactive tables.';\n",
              "          element.innerHTML = '';\n",
              "          dataTable['output_type'] = 'display_data';\n",
              "          await google.colab.output.renderOutput(dataTable, element);\n",
              "          const docLink = document.createElement('div');\n",
              "          docLink.innerHTML = docLinkHtml;\n",
              "          element.appendChild(docLink);\n",
              "        }\n",
              "      </script>\n",
              "    </div>\n",
              "  </div>\n",
              "  "
            ]
          },
          "metadata": {},
          "execution_count": 13
        }
      ]
    },
    {
      "cell_type": "markdown",
      "source": [
        "0.747222 という相関係数の値だけを欲しいという場合は、相関行列の`(0,1)`成分 (`(1,0)`成分でも同じ)を取り出せば良いので、例えば次のように得ることができます。"
      ],
      "metadata": {
        "id": "g-4nqyz1w0j-"
      }
    },
    {
      "cell_type": "code",
      "source": [
        "df1.corr().iloc[0,1]"
      ],
      "metadata": {
        "colab": {
          "base_uri": "https://localhost:8080/"
        },
        "id": "dM9hzf_8w1mX",
        "outputId": "8aeaaf5a-6fb7-491e-855a-05577693f19e"
      },
      "execution_count": null,
      "outputs": [
        {
          "output_type": "execute_result",
          "data": {
            "text/plain": [
              "0.7472220083641709"
            ]
          },
          "metadata": {},
          "execution_count": 14
        }
      ]
    },
    {
      "cell_type": "markdown",
      "metadata": {
        "id": "-2OhH0aB64Z2"
      },
      "source": [
        "次に、先ほどと同じように、最小二乗法で直線回帰モデル $y=a_0 + a_1 x$のパラメータの値を求め、直線を引いてみます。"
      ]
    },
    {
      "cell_type": "code",
      "metadata": {
        "colab": {
          "base_uri": "https://localhost:8080/",
          "height": 484
        },
        "id": "90ZaXIEz7ZSC",
        "outputId": "60a1bf4e-37de-4a31-b1ea-897b0b4595a7"
      },
      "source": [
        "# データ点の数\n",
        "n = len(x)\n",
        "# x の左隣に全部1の列ベクトルを付け足した行列\n",
        "X = np.stack((np.ones(n),x),1)\n",
        "# 係数行列 np.dot(X.T,X) , 定数ベクトル np.dot(X.T,y)\n",
        "alp = la.solve(np.dot(X.T,X),np.dot(X.T,y))\n",
        "print(alp)\n",
        "# 直線にあてはめたyの値\n",
        "yhat = np.dot(X,alp)\n",
        "plt.scatter(x,y)\n",
        "plt.plot(x,yhat,'r-')\n",
        "plt.xlabel('Cocoa consumption per capita')\n",
        "plt.ylabel('Nobel Laureates per 10 million')"
      ],
      "execution_count": null,
      "outputs": [
        {
          "output_type": "stream",
          "name": "stdout",
          "text": [
            "[-1.51800489  4.36907945]\n"
          ]
        },
        {
          "output_type": "execute_result",
          "data": {
            "text/plain": [
              "Text(0, 0.5, 'Nobel Laureates per 10 million')"
            ]
          },
          "metadata": {},
          "execution_count": 41
        },
        {
          "output_type": "display_data",
          "data": {
            "text/plain": [
              "<Figure size 640x480 with 1 Axes>"
            ],
            "image/png": "[encoded data removed]"
          },
          "metadata": {}
        }
      ]
    },
    {
      "cell_type": "markdown",
      "metadata": {
        "id": "H8hlWzUY7rJM"
      },
      "source": [
        "傾きが、4.369 ということは、\n",
        "「チョコレートの年間平均消費量が1kg多いと、10万人あたりのノーベル賞受賞者数が4.4人多くなる」ということを意味していますが、冒頭でも言ったように、これは<font color=\"red\">相関であって因果関係ではない</font>ことに注意しましょう。\n",
        "<font color=\"red\">\n",
        "「全国民がチョコレートをたくさん食べればノーベル賞受賞者が増える」わけではありません。\n",
        "</font>\n",
        "\n",
        "先程も述べたように、最小二乗法による線形回帰モデルは、`numpy.linalg`モジュールの`lstsq`関数を使って簡単に求めることができます。\n"
      ]
    },
    {
      "cell_type": "code",
      "source": [
        "la.lstsq(X,y,rcond=None)"
      ],
      "metadata": {
        "colab": {
          "base_uri": "https://localhost:8080/"
        },
        "id": "d3MGML811Djf",
        "outputId": "07065ad2-7262-4dd2-9ddc-9d39411c1b60"
      },
      "execution_count": null,
      "outputs": [
        {
          "output_type": "execute_result",
          "data": {
            "text/plain": [
              "(array([-1.51800489,  4.36907945]),\n",
              " array([1374.91519723]),\n",
              " 2,\n",
              " array([17.07870686,  3.57759304]))"
            ]
          },
          "metadata": {},
          "execution_count": 16
        }
      ]
    },
    {
      "cell_type": "markdown",
      "source": [
        "## 回帰の誤差の評価\n",
        "\n",
        "回帰結果の定量的な評価基準はいくつかありますが、今回は**二乗平均平方根誤差(root mean squared error:RMSE)** だけ紹介しておきます。$i$番目の目標変数の実際の値を$y_i$、回帰によって推定(予測)された値を$\\hat{y}_i$とするとき、\n",
        "RMSEは、\n",
        "$$\n",
        "\\mbox{RMSE} = \\sqrt{\\frac{1}{n}\\sum_{i=0}^{n-1} (y_i-\\hat{y}_i)^2}\n",
        "$$\n",
        "で計算されます。ここで、(Eq.5-1)の残差二乗和と見比べてみると、両者の関係が、\n",
        "$$\n",
        "\\mbox{RMSE} = \\sqrt{\\frac{Q(\\boldsymbol{\\alpha})}{n}}\n",
        "$$\n",
        "となっていることが分かります。"
      ],
      "metadata": {
        "id": "HCTNGlDFCqDH"
      }
    },
    {
      "cell_type": "markdown",
      "metadata": {
        "id": "H4uDblMK8syQ"
      },
      "source": [
        "## 線形最小二乗法 2 : 重回帰\n",
        "* 単回帰では、入力変数(説明変数)が1つだけでしたが、これを複数個($m$個)に拡張します($m \\geq 2$)。\n",
        "* $i$番目のデータ点(サンプル)を、$\\boldsymbol{x}_i=[1,x_{i,1},x_{i,2},\\cdots,x_{i,m}]$の<font color=\"red\">行ベクトル</font>で表すとします。\n",
        "  * 「なぜ、行ベクトルなのか？」「なぜ、変数ではない'1'が最初の要素として含まれているのか？」等の疑問があると思いますが、以下で説明するように、「そうすると都合が良いから」というのが主な理由です。\n",
        "* 行ベクトルで表された各データサンプル$\\boldsymbol{x}_i$を<font color=\"red\">縦に積み重ねて</font>、次のような行列$\\boldsymbol{X}$を作ります。\n",
        "$$\n",
        "\\boldsymbol{X} =\n",
        "\\left[\\begin{matrix}\n",
        "\\boldsymbol{x}_0 \\\\\n",
        "\\boldsymbol{x}_1 \\\\\n",
        "\\vdots \\\\\n",
        "\\boldsymbol{x}_{n-1}\n",
        "\\end{matrix}\\right]\n",
        "=\n",
        "\\left[\\begin{matrix}\n",
        "1 & x_{0,1} & \\cdots & x_{0,m}\\\\\n",
        "1 & x_{1,1} & \\cdots & x_{1,m}\\\\\n",
        "\\vdots \\\\\n",
        "1 & x_{n-1,1} & \\cdots & x_{n-1,m}\\\\\n",
        "\\end{matrix}\\right]\n",
        "$$\n",
        "* 出力変数データは、単回帰のときと同じように列ベクトルで表します。\n",
        "$$\n",
        "\\boldsymbol{y} =\n",
        "\\left[\\begin{matrix}\n",
        "y_0 \\\\\n",
        "y_1 \\\\\n",
        "\\vdots \\\\\n",
        "y_{n-1}\n",
        "\\end{matrix}\\right]\n",
        "$$\n",
        "* 求めたい関数$f_\\boldsymbol{\\alpha}(\\boldsymbol{x})$は、次式のように表されます。\n",
        "$$\n",
        "f_\\boldsymbol{\\alpha}(\\boldsymbol{x}_i) = \\alpha_0 \\cdot 1 + \\alpha_1 \\cdot x_{i,1} + \\alpha_2 \\cdot x_{i,2} + \\cdots + \\alpha_m \\cdot x_{i,m} = \\boldsymbol{\\alpha} \\cdot \\boldsymbol{x}_i = \\boldsymbol{x}_i \\boldsymbol{\\alpha}\n",
        "$$\n",
        "  * ここで、$\\boldsymbol{\\alpha}=[\\alpha_0,\\alpha_1,\\cdots, \\alpha_m]^\\top$ は未知パラメータのベクトルです。\n",
        "  * 最右辺の$\\boldsymbol{x}_i \\boldsymbol{\\alpha}$は、<font color=\"red\">行ベクトルと列ベクトルの行列積</font>です。\n",
        "\n",
        "* このとき、重回帰での残差二乗和$Q(\\boldsymbol{\\alpha})$は、次のようになります。\n",
        "$$\n",
        "\\begin{align}\n",
        "Q(\\boldsymbol{\\alpha}) &= \\sum_{i=0}^{n-1} \\vert y_i - f_\\boldsymbol{\\alpha}(\\boldsymbol{x}_i) \\vert^2 = \\sum_{i=0}^{n-1} \\vert y_i - \\boldsymbol{x}_i \\boldsymbol{\\alpha} \\vert^2 \\\\\n",
        "&= \\Vert \\boldsymbol{y} - \\boldsymbol{X} \\boldsymbol{\\alpha} \\Vert^2\n",
        "= \\left( \\boldsymbol{y} - \\boldsymbol{X} \\boldsymbol{\\alpha}\\right)^\\top\n",
        "\\left( \\boldsymbol{y} - \\boldsymbol{X} \\boldsymbol{\\alpha}\\right) \\\\\n",
        "&= \\boldsymbol{y}^\\top\\boldsymbol{y} - 2 \\boldsymbol{\\alpha}^\\top \\boldsymbol{X}^\\top\\boldsymbol{y}+\\boldsymbol{\\alpha}^\\top \\boldsymbol{X}^\\top \\boldsymbol{X}\n",
        "\\boldsymbol{\\alpha}\\end{align}\n",
        "$$\n",
        "* これが最小になるような$\\boldsymbol{\\alpha}$を求めたいわけですが、第１項には$\\boldsymbol{\\alpha}$が含まれていないこと、および、行列・ベクトルの微分公式:\n",
        "$$\n",
        "\\frac{\\partial \\boldsymbol{a}^\\top \\boldsymbol{b} }{\\partial \\boldsymbol{a}} = \\boldsymbol{b},\n",
        "\\hspace{10mm}\n",
        "\\frac{\\partial \\boldsymbol{a}^\\top \\boldsymbol{B} \\boldsymbol{a}}{\\partial \\boldsymbol{a}} = \\left( \\boldsymbol{B}+\\boldsymbol{B}^\\top \\right) \\boldsymbol{a}\n",
        "$$\n",
        "を用いれば、<font color=\"blue\">$Q(\\boldsymbol{\\alpha})$の極値条件</font>は次のようになります。\n",
        "$$\n",
        "\\frac{\\partial Q(\\boldsymbol{\\alpha}) }{\\partial \\boldsymbol{\\alpha}} = - 2 \\boldsymbol{X}^\\top\\boldsymbol{y}+2 \\boldsymbol{X}^\\top \\boldsymbol{X} \\boldsymbol{\\alpha}= \\boldsymbol{0} \\\\\n",
        "\\therefore \\boldsymbol{X}^\\top \\boldsymbol{X} \\boldsymbol{\\alpha}=\\boldsymbol{X}^\\top\\boldsymbol{y} \\\\\n",
        "\\therefore \\hat{\\boldsymbol{\\alpha}} = \\left( \\boldsymbol{X}^\\top \\boldsymbol{X} \\right)^{-1}\\boldsymbol{X}^\\top\\boldsymbol{y}\n",
        "$$\n",
        "\n",
        "* 単回帰のときにも言及しましたが、一般には極値が必ずしも最小値になるとは限りませんが、この場合は、$\\boldsymbol{X}^\\top \\boldsymbol{X}$が正定になり、極値が最小値になることが保証されます。\n",
        "* 実際のデータから、<font color=\"blue\">行列$\\boldsymbol{X}$, ベクトル$\\boldsymbol{y}$を作ってしまえば、Numpyで容易に重回帰の最小二乗解$\\hat{\\boldsymbol{\\alpha}}$を求めることができます。</font>\n",
        "\n"
      ]
    },
    {
      "cell_type": "markdown",
      "metadata": {
        "id": "8xYalixsoF9h"
      },
      "source": [
        "## [例題]ココアとコンタクトレンズと、ノーベル賞受賞者数\n",
        "\n",
        "チョコレート（ココア）以外にも、製品の消費量が10万人あたりのノーベル賞受賞者数と相関が高いものが無いか、調べてみましょう。\n",
        "ネット上の統計データを集めて、`nobel_and_others.csv`というCSVファイルを作ったので、まず、これをPandasで読み込んで表示します。\n",
        "\n",
        "特に深い意味はありませんが、今回は国名の列をインデクスに指定しています。\n"
      ]
    },
    {
      "cell_type": "code",
      "source": [
        "dfnobel = pd.read_csv('/content/drive/My Drive/nobel_and_others.csv',index_col='country')\n",
        "display(dfnobel)"
      ],
      "metadata": {
        "colab": {
          "base_uri": "https://localhost:8080/",
          "height": 455
        },
        "id": "vsiesFJg3lxi",
        "outputId": "95fb2c27-a190-4218-f7a3-f3938b127834"
      },
      "execution_count": null,
      "outputs": [
        {
          "output_type": "display_data",
          "data": {
            "text/plain": [
              "               nobel  chocolate  cocoa  alcoholic  cheese  cigarettes  \\\n",
              "country                                                                 \n",
              "SaintLucia   111.317        NaN    NaN        NaN     NaN         NaN   \n",
              "Luxembourg    33.880        NaN    NaN        NaN     NaN         NaN   \n",
              "Switzerland   32.771        8.8   5.88      91.72    22.2     1088.39   \n",
              "Sweden        30.052        6.6   2.29      79.60    20.5      567.65   \n",
              "Iceland       29.605        NaN    NaN        NaN    27.7         NaN   \n",
              "...              ...        ...    ...        ...     ...         ...   \n",
              "Mongolia       0.000        NaN    NaN        NaN     0.3         NaN   \n",
              "Morroco        0.000        NaN    NaN        NaN     NaN         NaN   \n",
              "SaudiArabia    0.000        NaN    NaN        NaN     NaN         NaN   \n",
              "UAE            0.000        NaN    NaN        NaN     NaN         NaN   \n",
              "Columbia       0.000        NaN    NaN        NaN     NaN         NaN   \n",
              "\n",
              "             contact_lenses  footwear  leather_footwear  small_appliances  \\\n",
              "country                                                                     \n",
              "SaintLucia              NaN       NaN               NaN               NaN   \n",
              "Luxembourg              NaN       NaN               NaN               NaN   \n",
              "Switzerland            6.61      5.29              3.13              0.76   \n",
              "Sweden                 5.31      3.07              0.71              0.73   \n",
              "Iceland                 NaN       NaN               NaN               NaN   \n",
              "...                     ...       ...               ...               ...   \n",
              "Mongolia                NaN       NaN               NaN               NaN   \n",
              "Morroco                 NaN       NaN               NaN               NaN   \n",
              "SaudiArabia             NaN       NaN               NaN               NaN   \n",
              "UAE                     NaN       NaN               NaN               NaN   \n",
              "Columbia                NaN       NaN               NaN               NaN   \n",
              "\n",
              "             snack   tea  wine  \n",
              "country                         \n",
              "SaintLucia     NaN   NaN   NaN  \n",
              "Luxembourg     NaN   NaN   NaN  \n",
              "Switzerland   4.13  0.97  42.8  \n",
              "Sweden        5.44  0.64  27.2  \n",
              "Iceland        NaN   NaN   NaN  \n",
              "...            ...   ...   ...  \n",
              "Mongolia       NaN   NaN   NaN  \n",
              "Morroco        NaN  2.68   NaN  \n",
              "SaudiArabia    NaN  1.98   NaN  \n",
              "UAE            NaN  1.59   NaN  \n",
              "Columbia       NaN  0.04   NaN  \n",
              "\n",
              "[91 rows x 13 columns]"
            ],
            "text/html": [
              "\n",
              "  <div id=\"df-a2c993f3-6625-44a0-9311-29ca7117feb8\">\n",
              "    <div class=\"colab-df-container\">\n",
              "      <div>\n",
              "<style scoped>\n",
              "    .dataframe tbody tr th:only-of-type {\n",
              "        vertical-align: middle;\n",
              "    }\n",
              "\n",
              "    .dataframe tbody tr th {\n",
              "        vertical-align: top;\n",
              "    }\n",
              "\n",
              "    .dataframe thead th {\n",
              "        text-align: right;\n",
              "    }\n",
              "</style>\n",
              "<table border=\"1\" class=\"dataframe\">\n",
              "  <thead>\n",
              "    <tr style=\"text-align: right;\">\n",
              "      <th></th>\n",
              "      <th>nobel</th>\n",
              "      <th>chocolate</th>\n",
              "      <th>cocoa</th>\n",
              "      <th>alcoholic</th>\n",
              "      <th>cheese</th>\n",
              "      <th>cigarettes</th>\n",
              "      <th>contact_lenses</th>\n",
              "      <th>footwear</th>\n",
              "      <th>leather_footwear</th>\n",
              "      <th>small_appliances</th>\n",
              "      <th>snack</th>\n",
              "      <th>tea</th>\n",
              "      <th>wine</th>\n",
              "    </tr>\n",
              "    <tr>\n",
              "      <th>country</th>\n",
              "      <th></th>\n",
              "      <th></th>\n",
              "      <th></th>\n",
              "      <th></th>\n",
              "      <th></th>\n",
              "      <th></th>\n",
              "      <th></th>\n",
              "      <th></th>\n",
              "      <th></th>\n",
              "      <th></th>\n",
              "      <th></th>\n",
              "      <th></th>\n",
              "      <th></th>\n",
              "    </tr>\n",
              "  </thead>\n",
              "  <tbody>\n",
              "    <tr>\n",
              "      <th>SaintLucia</th>\n",
              "      <td>111.317</td>\n",
              "      <td>NaN</td>\n",
              "      <td>NaN</td>\n",
              "      <td>NaN</td>\n",
              "      <td>NaN</td>\n",
              "      <td>NaN</td>\n",
              "      <td>NaN</td>\n",
              "      <td>NaN</td>\n",
              "      <td>NaN</td>\n",
              "      <td>NaN</td>\n",
              "      <td>NaN</td>\n",
              "      <td>NaN</td>\n",
              "      <td>NaN</td>\n",
              "    </tr>\n",
              "    <tr>\n",
              "      <th>Luxembourg</th>\n",
              "      <td>33.880</td>\n",
              "      <td>NaN</td>\n",
              "      <td>NaN</td>\n",
              "      <td>NaN</td>\n",
              "      <td>NaN</td>\n",
              "      <td>NaN</td>\n",
              "      <td>NaN</td>\n",
              "      <td>NaN</td>\n",
              "      <td>NaN</td>\n",
              "      <td>NaN</td>\n",
              "      <td>NaN</td>\n",
              "      <td>NaN</td>\n",
              "      <td>NaN</td>\n",
              "    </tr>\n",
              "    <tr>\n",
              "      <th>Switzerland</th>\n",
              "      <td>32.771</td>\n",
              "      <td>8.8</td>\n",
              "      <td>5.88</td>\n",
              "      <td>91.72</td>\n",
              "      <td>22.2</td>\n",
              "      <td>1088.39</td>\n",
              "      <td>6.61</td>\n",
              "      <td>5.29</td>\n",
              "      <td>3.13</td>\n",
              "      <td>0.76</td>\n",
              "      <td>4.13</td>\n",
              "      <td>0.97</td>\n",
              "      <td>42.8</td>\n",
              "    </tr>\n",
              "    <tr>\n",
              "      <th>Sweden</th>\n",
              "      <td>30.052</td>\n",
              "      <td>6.6</td>\n",
              "      <td>2.29</td>\n",
              "      <td>79.60</td>\n",
              "      <td>20.5</td>\n",
              "      <td>567.65</td>\n",
              "      <td>5.31</td>\n",
              "      <td>3.07</td>\n",
              "      <td>0.71</td>\n",
              "      <td>0.73</td>\n",
              "      <td>5.44</td>\n",
              "      <td>0.64</td>\n",
              "      <td>27.2</td>\n",
              "    </tr>\n",
              "    <tr>\n",
              "      <th>Iceland</th>\n",
              "      <td>29.605</td>\n",
              "      <td>NaN</td>\n",
              "      <td>NaN</td>\n",
              "      <td>NaN</td>\n",
              "      <td>27.7</td>\n",
              "      <td>NaN</td>\n",
              "      <td>NaN</td>\n",
              "      <td>NaN</td>\n",
              "      <td>NaN</td>\n",
              "      <td>NaN</td>\n",
              "      <td>NaN</td>\n",
              "      <td>NaN</td>\n",
              "      <td>NaN</td>\n",
              "    </tr>\n",
              "    <tr>\n",
              "      <th>...</th>\n",
              "      <td>...</td>\n",
              "      <td>...</td>\n",
              "      <td>...</td>\n",
              "      <td>...</td>\n",
              "      <td>...</td>\n",
              "      <td>...</td>\n",
              "      <td>...</td>\n",
              "      <td>...</td>\n",
              "      <td>...</td>\n",
              "      <td>...</td>\n",
              "      <td>...</td>\n",
              "      <td>...</td>\n",
              "      <td>...</td>\n",
              "    </tr>\n",
              "    <tr>\n",
              "      <th>Mongolia</th>\n",
              "      <td>0.000</td>\n",
              "      <td>NaN</td>\n",
              "      <td>NaN</td>\n",
              "      <td>NaN</td>\n",
              "      <td>0.3</td>\n",
              "      <td>NaN</td>\n",
              "      <td>NaN</td>\n",
              "      <td>NaN</td>\n",
              "      <td>NaN</td>\n",
              "      <td>NaN</td>\n",
              "      <td>NaN</td>\n",
              "      <td>NaN</td>\n",
              "      <td>NaN</td>\n",
              "    </tr>\n",
              "    <tr>\n",
              "      <th>Morroco</th>\n",
              "      <td>0.000</td>\n",
              "      <td>NaN</td>\n",
              "      <td>NaN</td>\n",
              "      <td>NaN</td>\n",
              "      <td>NaN</td>\n",
              "      <td>NaN</td>\n",
              "      <td>NaN</td>\n",
              "      <td>NaN</td>\n",
              "      <td>NaN</td>\n",
              "      <td>NaN</td>\n",
              "      <td>NaN</td>\n",
              "      <td>2.68</td>\n",
              "      <td>NaN</td>\n",
              "    </tr>\n",
              "    <tr>\n",
              "      <th>SaudiArabia</th>\n",
              "      <td>0.000</td>\n",
              "      <td>NaN</td>\n",
              "      <td>NaN</td>\n",
              "      <td>NaN</td>\n",
              "      <td>NaN</td>\n",
              "      <td>NaN</td>\n",
              "      <td>NaN</td>\n",
              "      <td>NaN</td>\n",
              "      <td>NaN</td>\n",
              "      <td>NaN</td>\n",
              "      <td>NaN</td>\n",
              "      <td>1.98</td>\n",
              "      <td>NaN</td>\n",
              "    </tr>\n",
              "    <tr>\n",
              "      <th>UAE</th>\n",
              "      <td>0.000</td>\n",
              "      <td>NaN</td>\n",
              "      <td>NaN</td>\n",
              "      <td>NaN</td>\n",
              "      <td>NaN</td>\n",
              "      <td>NaN</td>\n",
              "      <td>NaN</td>\n",
              "      <td>NaN</td>\n",
              "      <td>NaN</td>\n",
              "      <td>NaN</td>\n",
              "      <td>NaN</td>\n",
              "      <td>1.59</td>\n",
              "      <td>NaN</td>\n",
              "    </tr>\n",
              "    <tr>\n",
              "      <th>Columbia</th>\n",
              "      <td>0.000</td>\n",
              "      <td>NaN</td>\n",
              "      <td>NaN</td>\n",
              "      <td>NaN</td>\n",
              "      <td>NaN</td>\n",
              "      <td>NaN</td>\n",
              "      <td>NaN</td>\n",
              "      <td>NaN</td>\n",
              "      <td>NaN</td>\n",
              "      <td>NaN</td>\n",
              "      <td>NaN</td>\n",
              "      <td>0.04</td>\n",
              "      <td>NaN</td>\n",
              "    </tr>\n",
              "  </tbody>\n",
              "</table>\n",
              "<p>91 rows × 13 columns</p>\n",
              "</div>\n",
              "      <button class=\"colab-df-convert\" onclick=\"convertToInteractive('df-a2c993f3-6625-44a0-9311-29ca7117feb8')\"\n",
              "              title=\"Convert this dataframe to an interactive table.\"\n",
              "              style=\"display:none;\">\n",
              "        \n",
              "  <svg xmlns=\"http://www.w3.org/2000/svg\" height=\"24px\"viewBox=\"0 0 24 24\"\n",
              "       width=\"24px\">\n",
              "    <path d=\"M0 0h24v24H0V0z\" fill=\"none\"/>\n",
              "    <path d=\"M18.56 5.44l.94 2.06.94-2.06 2.06-.94-2.06-.94-.94-2.06-.94 2.06-2.06.94zm-11 1L8.5 8.5l.94-2.06 2.06-.94-2.06-.94L8.5 2.5l-.94 2.06-2.06.94zm10 10l.94 2.06.94-2.06 2.06-.94-2.06-.94-.94-2.06-.94 2.06-2.06.94z\"/><path d=\"M17.41 7.96l-1.37-1.37c-.4-.4-.92-.59-1.43-.59-.52 0-1.04.2-1.43.59L10.3 9.45l-7.72 7.72c-.78.78-.78 2.05 0 2.83L4 21.41c.39.39.9.59 1.41.59.51 0 1.02-.2 1.41-.59l7.78-7.78 2.81-2.81c.8-.78.8-2.07 0-2.86zM5.41 20L4 18.59l7.72-7.72 1.47 1.35L5.41 20z\"/>\n",
              "  </svg>\n",
              "      </button>\n",
              "      \n",
              "  <style>\n",
              "    .colab-df-container {\n",
              "      display:flex;\n",
              "      flex-wrap:wrap;\n",
              "      gap: 12px;\n",
              "    }\n",
              "\n",
              "    .colab-df-convert {\n",
              "      background-color: #E8F0FE;\n",
              "      border: none;\n",
              "      border-radius: 50%;\n",
              "      cursor: pointer;\n",
              "      display: none;\n",
              "      fill: #1967D2;\n",
              "      height: 32px;\n",
              "      padding: 0 0 0 0;\n",
              "      width: 32px;\n",
              "    }\n",
              "\n",
              "    .colab-df-convert:hover {\n",
              "      background-color: #E2EBFA;\n",
              "      box-shadow: 0px 1px 2px rgba(60, 64, 67, 0.3), 0px 1px 3px 1px rgba(60, 64, 67, 0.15);\n",
              "      fill: #174EA6;\n",
              "    }\n",
              "\n",
              "    [theme=dark] .colab-df-convert {\n",
              "      background-color: #3B4455;\n",
              "      fill: #D2E3FC;\n",
              "    }\n",
              "\n",
              "    [theme=dark] .colab-df-convert:hover {\n",
              "      background-color: #434B5C;\n",
              "      box-shadow: 0px 1px 3px 1px rgba(0, 0, 0, 0.15);\n",
              "      filter: drop-shadow(0px 1px 2px rgba(0, 0, 0, 0.3));\n",
              "      fill: #FFFFFF;\n",
              "    }\n",
              "  </style>\n",
              "\n",
              "      <script>\n",
              "        const buttonEl =\n",
              "          document.querySelector('#df-a2c993f3-6625-44a0-9311-29ca7117feb8 button.colab-df-convert');\n",
              "        buttonEl.style.display =\n",
              "          google.colab.kernel.accessAllowed ? 'block' : 'none';\n",
              "\n",
              "        async function convertToInteractive(key) {\n",
              "          const element = document.querySelector('#df-a2c993f3-6625-44a0-9311-29ca7117feb8');\n",
              "          const dataTable =\n",
              "            await google.colab.kernel.invokeFunction('convertToInteractive',\n",
              "                                                     [key], {});\n",
              "          if (!dataTable) return;\n",
              "\n",
              "          const docLinkHtml = 'Like what you see? Visit the ' +\n",
              "            '<a target=\"_blank\" href=https://colab.research.google.com/notebooks/data_table.ipynb>data table notebook</a>'\n",
              "            + ' to learn more about interactive tables.';\n",
              "          element.innerHTML = '';\n",
              "          dataTable['output_type'] = 'display_data';\n",
              "          await google.colab.output.renderOutput(dataTable, element);\n",
              "          const docLink = document.createElement('div');\n",
              "          docLink.innerHTML = docLinkHtml;\n",
              "          element.appendChild(docLink);\n",
              "        }\n",
              "      </script>\n",
              "    </div>\n",
              "  </div>\n",
              "  "
            ]
          },
          "metadata": {}
        }
      ]
    },
    {
      "cell_type": "markdown",
      "source": [
        "先程よりも、行数(国数)も列数(調査品目数)も増えていますが、統計値の無い（あるいは不明）な部分は欠損を表す`NaN` (not a number)という値が入っています。\n",
        "\n",
        "Pandas の`DataFrame`の`corr()`メソッドは優秀で、そのような欠損を含んだデータに対しても適切に相関係数を計算してくれます。これを使って、単位人口当たりのノーベル賞受賞者数と、色々な品目の平均購買額との相関を求めてみると、次のようになりました。"
      ],
      "metadata": {
        "id": "w5ay2FjX4PtI"
      }
    },
    {
      "cell_type": "code",
      "source": [
        "dfnobel.corr()"
      ],
      "metadata": {
        "colab": {
          "base_uri": "https://localhost:8080/",
          "height": 501
        },
        "id": "glX7LwHjpdkR",
        "outputId": "5c135955-bdda-414e-e676-fd625644a0ca"
      },
      "execution_count": null,
      "outputs": [
        {
          "output_type": "execute_result",
          "data": {
            "text/plain": [
              "                     nobel  chocolate     cocoa  alcoholic    cheese  \\\n",
              "nobel             1.000000   0.647027  0.742515   0.345824  0.651838   \n",
              "chocolate         0.647027   1.000000  0.799702   0.597864  0.620259   \n",
              "cocoa             0.742515   0.799702  1.000000   0.461854  0.645717   \n",
              "alcoholic         0.345824   0.597864  0.461854   1.000000  0.417697   \n",
              "cheese            0.651838   0.620259  0.645717   0.417697  1.000000   \n",
              "cigarettes       -0.126495  -0.172083 -0.067178   0.425340 -0.074585   \n",
              "contact_lenses    0.728071   0.120194  0.433285  -0.106955  0.542324   \n",
              "footwear          0.500403   0.456431  0.618486   0.400208  0.243198   \n",
              "leather_footwear  0.353492   0.296174  0.687819   0.100890  0.086924   \n",
              "small_appliances  0.453558  -0.178284  0.120524  -0.223947  0.121485   \n",
              "snack             0.268601   0.182689  0.142183   0.401347  0.195690   \n",
              "tea               0.032399   0.208896 -0.071009   0.229442 -0.295483   \n",
              "wine              0.226107   0.288022  0.249038   0.006925  0.709296   \n",
              "\n",
              "                  cigarettes  contact_lenses  footwear  leather_footwear  \\\n",
              "nobel              -0.126495        0.728071  0.500403          0.353492   \n",
              "chocolate          -0.172083        0.120194  0.456431          0.296174   \n",
              "cocoa              -0.067178        0.433285  0.618486          0.687819   \n",
              "alcoholic           0.425340       -0.106955  0.400208          0.100890   \n",
              "cheese             -0.074585        0.542324  0.243198          0.086924   \n",
              "cigarettes          1.000000       -0.377993 -0.205978         -0.216534   \n",
              "contact_lenses     -0.377993        1.000000  0.309817          0.423815   \n",
              "footwear           -0.205978        0.309817  1.000000          0.651084   \n",
              "leather_footwear   -0.216534        0.423815  0.651084          1.000000   \n",
              "small_appliances   -0.376649        0.368134  0.603242          0.344280   \n",
              "snack               0.083742       -0.033721  0.613010          0.228103   \n",
              "tea                -0.085527        0.000127  0.329441         -0.027356   \n",
              "wine                0.217017        0.178306  0.282883          0.275238   \n",
              "\n",
              "                  small_appliances     snack       tea      wine  \n",
              "nobel                     0.453558  0.268601  0.032399  0.226107  \n",
              "chocolate                -0.178284  0.182689  0.208896  0.288022  \n",
              "cocoa                     0.120524  0.142183 -0.071009  0.249038  \n",
              "alcoholic                -0.223947  0.401347  0.229442  0.006925  \n",
              "cheese                    0.121485  0.195690 -0.295483  0.709296  \n",
              "cigarettes               -0.376649  0.083742 -0.085527  0.217017  \n",
              "contact_lenses            0.368134 -0.033721  0.000127  0.178306  \n",
              "footwear                  0.603242  0.613010  0.329441  0.282883  \n",
              "leather_footwear          0.344280  0.228103 -0.027356  0.275238  \n",
              "small_appliances          1.000000  0.546208  0.089935  0.071971  \n",
              "snack                     0.546208  1.000000  0.083118 -0.198544  \n",
              "tea                       0.089935  0.083118  1.000000 -0.369304  \n",
              "wine                      0.071971 -0.198544 -0.369304  1.000000  "
            ],
            "text/html": [
              "\n",
              "  <div id=\"df-e22c8192-2c6a-4e58-b97f-331a630d93d7\">\n",
              "    <div class=\"colab-df-container\">\n",
              "      <div>\n",
              "<style scoped>\n",
              "    .dataframe tbody tr th:only-of-type {\n",
              "        vertical-align: middle;\n",
              "    }\n",
              "\n",
              "    .dataframe tbody tr th {\n",
              "        vertical-align: top;\n",
              "    }\n",
              "\n",
              "    .dataframe thead th {\n",
              "        text-align: right;\n",
              "    }\n",
              "</style>\n",
              "<table border=\"1\" class=\"dataframe\">\n",
              "  <thead>\n",
              "    <tr style=\"text-align: right;\">\n",
              "      <th></th>\n",
              "      <th>nobel</th>\n",
              "      <th>chocolate</th>\n",
              "      <th>cocoa</th>\n",
              "      <th>alcoholic</th>\n",
              "      <th>cheese</th>\n",
              "      <th>cigarettes</th>\n",
              "      <th>contact_lenses</th>\n",
              "      <th>footwear</th>\n",
              "      <th>leather_footwear</th>\n",
              "      <th>small_appliances</th>\n",
              "      <th>snack</th>\n",
              "      <th>tea</th>\n",
              "      <th>wine</th>\n",
              "    </tr>\n",
              "  </thead>\n",
              "  <tbody>\n",
              "    <tr>\n",
              "      <th>nobel</th>\n",
              "      <td>1.000000</td>\n",
              "      <td>0.647027</td>\n",
              "      <td>0.742515</td>\n",
              "      <td>0.345824</td>\n",
              "      <td>0.651838</td>\n",
              "      <td>-0.126495</td>\n",
              "      <td>0.728071</td>\n",
              "      <td>0.500403</td>\n",
              "      <td>0.353492</td>\n",
              "      <td>0.453558</td>\n",
              "      <td>0.268601</td>\n",
              "      <td>0.032399</td>\n",
              "      <td>0.226107</td>\n",
              "    </tr>\n",
              "    <tr>\n",
              "      <th>chocolate</th>\n",
              "      <td>0.647027</td>\n",
              "      <td>1.000000</td>\n",
              "      <td>0.799702</td>\n",
              "      <td>0.597864</td>\n",
              "      <td>0.620259</td>\n",
              "      <td>-0.172083</td>\n",
              "      <td>0.120194</td>\n",
              "      <td>0.456431</td>\n",
              "      <td>0.296174</td>\n",
              "      <td>-0.178284</td>\n",
              "      <td>0.182689</td>\n",
              "      <td>0.208896</td>\n",
              "      <td>0.288022</td>\n",
              "    </tr>\n",
              "    <tr>\n",
              "      <th>cocoa</th>\n",
              "      <td>0.742515</td>\n",
              "      <td>0.799702</td>\n",
              "      <td>1.000000</td>\n",
              "      <td>0.461854</td>\n",
              "      <td>0.645717</td>\n",
              "      <td>-0.067178</td>\n",
              "      <td>0.433285</td>\n",
              "      <td>0.618486</td>\n",
              "      <td>0.687819</td>\n",
              "      <td>0.120524</td>\n",
              "      <td>0.142183</td>\n",
              "      <td>-0.071009</td>\n",
              "      <td>0.249038</td>\n",
              "    </tr>\n",
              "    <tr>\n",
              "      <th>alcoholic</th>\n",
              "      <td>0.345824</td>\n",
              "      <td>0.597864</td>\n",
              "      <td>0.461854</td>\n",
              "      <td>1.000000</td>\n",
              "      <td>0.417697</td>\n",
              "      <td>0.425340</td>\n",
              "      <td>-0.106955</td>\n",
              "      <td>0.400208</td>\n",
              "      <td>0.100890</td>\n",
              "      <td>-0.223947</td>\n",
              "      <td>0.401347</td>\n",
              "      <td>0.229442</td>\n",
              "      <td>0.006925</td>\n",
              "    </tr>\n",
              "    <tr>\n",
              "      <th>cheese</th>\n",
              "      <td>0.651838</td>\n",
              "      <td>0.620259</td>\n",
              "      <td>0.645717</td>\n",
              "      <td>0.417697</td>\n",
              "      <td>1.000000</td>\n",
              "      <td>-0.074585</td>\n",
              "      <td>0.542324</td>\n",
              "      <td>0.243198</td>\n",
              "      <td>0.086924</td>\n",
              "      <td>0.121485</td>\n",
              "      <td>0.195690</td>\n",
              "      <td>-0.295483</td>\n",
              "      <td>0.709296</td>\n",
              "    </tr>\n",
              "    <tr>\n",
              "      <th>cigarettes</th>\n",
              "      <td>-0.126495</td>\n",
              "      <td>-0.172083</td>\n",
              "      <td>-0.067178</td>\n",
              "      <td>0.425340</td>\n",
              "      <td>-0.074585</td>\n",
              "      <td>1.000000</td>\n",
              "      <td>-0.377993</td>\n",
              "      <td>-0.205978</td>\n",
              "      <td>-0.216534</td>\n",
              "      <td>-0.376649</td>\n",
              "      <td>0.083742</td>\n",
              "      <td>-0.085527</td>\n",
              "      <td>0.217017</td>\n",
              "    </tr>\n",
              "    <tr>\n",
              "      <th>contact_lenses</th>\n",
              "      <td>0.728071</td>\n",
              "      <td>0.120194</td>\n",
              "      <td>0.433285</td>\n",
              "      <td>-0.106955</td>\n",
              "      <td>0.542324</td>\n",
              "      <td>-0.377993</td>\n",
              "      <td>1.000000</td>\n",
              "      <td>0.309817</td>\n",
              "      <td>0.423815</td>\n",
              "      <td>0.368134</td>\n",
              "      <td>-0.033721</td>\n",
              "      <td>0.000127</td>\n",
              "      <td>0.178306</td>\n",
              "    </tr>\n",
              "    <tr>\n",
              "      <th>footwear</th>\n",
              "      <td>0.500403</td>\n",
              "      <td>0.456431</td>\n",
              "      <td>0.618486</td>\n",
              "      <td>0.400208</td>\n",
              "      <td>0.243198</td>\n",
              "      <td>-0.205978</td>\n",
              "      <td>0.309817</td>\n",
              "      <td>1.000000</td>\n",
              "      <td>0.651084</td>\n",
              "      <td>0.603242</td>\n",
              "      <td>0.613010</td>\n",
              "      <td>0.329441</td>\n",
              "      <td>0.282883</td>\n",
              "    </tr>\n",
              "    <tr>\n",
              "      <th>leather_footwear</th>\n",
              "      <td>0.353492</td>\n",
              "      <td>0.296174</td>\n",
              "      <td>0.687819</td>\n",
              "      <td>0.100890</td>\n",
              "      <td>0.086924</td>\n",
              "      <td>-0.216534</td>\n",
              "      <td>0.423815</td>\n",
              "      <td>0.651084</td>\n",
              "      <td>1.000000</td>\n",
              "      <td>0.344280</td>\n",
              "      <td>0.228103</td>\n",
              "      <td>-0.027356</td>\n",
              "      <td>0.275238</td>\n",
              "    </tr>\n",
              "    <tr>\n",
              "      <th>small_appliances</th>\n",
              "      <td>0.453558</td>\n",
              "      <td>-0.178284</td>\n",
              "      <td>0.120524</td>\n",
              "      <td>-0.223947</td>\n",
              "      <td>0.121485</td>\n",
              "      <td>-0.376649</td>\n",
              "      <td>0.368134</td>\n",
              "      <td>0.603242</td>\n",
              "      <td>0.344280</td>\n",
              "      <td>1.000000</td>\n",
              "      <td>0.546208</td>\n",
              "      <td>0.089935</td>\n",
              "      <td>0.071971</td>\n",
              "    </tr>\n",
              "    <tr>\n",
              "      <th>snack</th>\n",
              "      <td>0.268601</td>\n",
              "      <td>0.182689</td>\n",
              "      <td>0.142183</td>\n",
              "      <td>0.401347</td>\n",
              "      <td>0.195690</td>\n",
              "      <td>0.083742</td>\n",
              "      <td>-0.033721</td>\n",
              "      <td>0.613010</td>\n",
              "      <td>0.228103</td>\n",
              "      <td>0.546208</td>\n",
              "      <td>1.000000</td>\n",
              "      <td>0.083118</td>\n",
              "      <td>-0.198544</td>\n",
              "    </tr>\n",
              "    <tr>\n",
              "      <th>tea</th>\n",
              "      <td>0.032399</td>\n",
              "      <td>0.208896</td>\n",
              "      <td>-0.071009</td>\n",
              "      <td>0.229442</td>\n",
              "      <td>-0.295483</td>\n",
              "      <td>-0.085527</td>\n",
              "      <td>0.000127</td>\n",
              "      <td>0.329441</td>\n",
              "      <td>-0.027356</td>\n",
              "      <td>0.089935</td>\n",
              "      <td>0.083118</td>\n",
              "      <td>1.000000</td>\n",
              "      <td>-0.369304</td>\n",
              "    </tr>\n",
              "    <tr>\n",
              "      <th>wine</th>\n",
              "      <td>0.226107</td>\n",
              "      <td>0.288022</td>\n",
              "      <td>0.249038</td>\n",
              "      <td>0.006925</td>\n",
              "      <td>0.709296</td>\n",
              "      <td>0.217017</td>\n",
              "      <td>0.178306</td>\n",
              "      <td>0.282883</td>\n",
              "      <td>0.275238</td>\n",
              "      <td>0.071971</td>\n",
              "      <td>-0.198544</td>\n",
              "      <td>-0.369304</td>\n",
              "      <td>1.000000</td>\n",
              "    </tr>\n",
              "  </tbody>\n",
              "</table>\n",
              "</div>\n",
              "      <button class=\"colab-df-convert\" onclick=\"convertToInteractive('df-e22c8192-2c6a-4e58-b97f-331a630d93d7')\"\n",
              "              title=\"Convert this dataframe to an interactive table.\"\n",
              "              style=\"display:none;\">\n",
              "        \n",
              "  <svg xmlns=\"http://www.w3.org/2000/svg\" height=\"24px\"viewBox=\"0 0 24 24\"\n",
              "       width=\"24px\">\n",
              "    <path d=\"M0 0h24v24H0V0z\" fill=\"none\"/>\n",
              "    <path d=\"M18.56 5.44l.94 2.06.94-2.06 2.06-.94-2.06-.94-.94-2.06-.94 2.06-2.06.94zm-11 1L8.5 8.5l.94-2.06 2.06-.94-2.06-.94L8.5 2.5l-.94 2.06-2.06.94zm10 10l.94 2.06.94-2.06 2.06-.94-2.06-.94-.94-2.06-.94 2.06-2.06.94z\"/><path d=\"M17.41 7.96l-1.37-1.37c-.4-.4-.92-.59-1.43-.59-.52 0-1.04.2-1.43.59L10.3 9.45l-7.72 7.72c-.78.78-.78 2.05 0 2.83L4 21.41c.39.39.9.59 1.41.59.51 0 1.02-.2 1.41-.59l7.78-7.78 2.81-2.81c.8-.78.8-2.07 0-2.86zM5.41 20L4 18.59l7.72-7.72 1.47 1.35L5.41 20z\"/>\n",
              "  </svg>\n",
              "      </button>\n",
              "      \n",
              "  <style>\n",
              "    .colab-df-container {\n",
              "      display:flex;\n",
              "      flex-wrap:wrap;\n",
              "      gap: 12px;\n",
              "    }\n",
              "\n",
              "    .colab-df-convert {\n",
              "      background-color: #E8F0FE;\n",
              "      border: none;\n",
              "      border-radius: 50%;\n",
              "      cursor: pointer;\n",
              "      display: none;\n",
              "      fill: #1967D2;\n",
              "      height: 32px;\n",
              "      padding: 0 0 0 0;\n",
              "      width: 32px;\n",
              "    }\n",
              "\n",
              "    .colab-df-convert:hover {\n",
              "      background-color: #E2EBFA;\n",
              "      box-shadow: 0px 1px 2px rgba(60, 64, 67, 0.3), 0px 1px 3px 1px rgba(60, 64, 67, 0.15);\n",
              "      fill: #174EA6;\n",
              "    }\n",
              "\n",
              "    [theme=dark] .colab-df-convert {\n",
              "      background-color: #3B4455;\n",
              "      fill: #D2E3FC;\n",
              "    }\n",
              "\n",
              "    [theme=dark] .colab-df-convert:hover {\n",
              "      background-color: #434B5C;\n",
              "      box-shadow: 0px 1px 3px 1px rgba(0, 0, 0, 0.15);\n",
              "      filter: drop-shadow(0px 1px 2px rgba(0, 0, 0, 0.3));\n",
              "      fill: #FFFFFF;\n",
              "    }\n",
              "  </style>\n",
              "\n",
              "      <script>\n",
              "        const buttonEl =\n",
              "          document.querySelector('#df-e22c8192-2c6a-4e58-b97f-331a630d93d7 button.colab-df-convert');\n",
              "        buttonEl.style.display =\n",
              "          google.colab.kernel.accessAllowed ? 'block' : 'none';\n",
              "\n",
              "        async function convertToInteractive(key) {\n",
              "          const element = document.querySelector('#df-e22c8192-2c6a-4e58-b97f-331a630d93d7');\n",
              "          const dataTable =\n",
              "            await google.colab.kernel.invokeFunction('convertToInteractive',\n",
              "                                                     [key], {});\n",
              "          if (!dataTable) return;\n",
              "\n",
              "          const docLinkHtml = 'Like what you see? Visit the ' +\n",
              "            '<a target=\"_blank\" href=https://colab.research.google.com/notebooks/data_table.ipynb>data table notebook</a>'\n",
              "            + ' to learn more about interactive tables.';\n",
              "          element.innerHTML = '';\n",
              "          dataTable['output_type'] = 'display_data';\n",
              "          await google.colab.output.renderOutput(dataTable, element);\n",
              "          const docLink = document.createElement('div');\n",
              "          docLink.innerHTML = docLinkHtml;\n",
              "          element.appendChild(docLink);\n",
              "        }\n",
              "      </script>\n",
              "    </div>\n",
              "  </div>\n",
              "  "
            ]
          },
          "metadata": {},
          "execution_count": 18
        }
      ]
    },
    {
      "cell_type": "code",
      "source": [
        "# ノーベル賞受賞者数と各品目購買金額との相関\n",
        "print(dfnobel.corr().iloc[0,1:])"
      ],
      "metadata": {
        "colab": {
          "base_uri": "https://localhost:8080/"
        },
        "id": "rlxKkKkb4wPC",
        "outputId": "8bc16290-4734-4bd4-d4a5-3a9286daf67c"
      },
      "execution_count": null,
      "outputs": [
        {
          "output_type": "stream",
          "name": "stdout",
          "text": [
            "chocolate           0.647027\n",
            "cocoa               0.742515\n",
            "alcoholic           0.345824\n",
            "cheese              0.651838\n",
            "cigarettes         -0.126495\n",
            "contact_lenses      0.728071\n",
            "footwear            0.500403\n",
            "leather_footwear    0.353492\n",
            "small_appliances    0.453558\n",
            "snack               0.268601\n",
            "tea                 0.032399\n",
            "wine                0.226107\n",
            "Name: nobel, dtype: float64\n"
          ]
        }
      ]
    },
    {
      "cell_type": "markdown",
      "source": [
        "視覚的にわかりやすいように、Matplotlibで棒グラフを描いてみます。"
      ],
      "metadata": {
        "id": "iFox7Wzp6LcU"
      }
    },
    {
      "cell_type": "code",
      "source": [
        "plt.barh(dfnobel.columns[1:],dfnobel.corr().iloc[0,1:])"
      ],
      "metadata": {
        "colab": {
          "base_uri": "https://localhost:8080/",
          "height": 447
        },
        "id": "EIm0HZgh5-t7",
        "outputId": "85a379e2-a448-4dff-d35f-2bf16353d475"
      },
      "execution_count": null,
      "outputs": [
        {
          "output_type": "execute_result",
          "data": {
            "text/plain": [
              "<BarContainer object of 12 artists>"
            ]
          },
          "metadata": {},
          "execution_count": 20
        },
        {
          "output_type": "display_data",
          "data": {
            "text/plain": [
              "<Figure size 640x480 with 1 Axes>"
            ],
            "image/png": "[encoded data removed]"
          },
          "metadata": {}
        }
      ]
    },
    {
      "cell_type": "markdown",
      "metadata": {
        "id": "6pOJ3Sflrcfh"
      },
      "source": [
        "面白いことに、ココア・チョコレート以外にも、<font color=\"red\">コンタクトレンズやチーズの消費量(購買量)がノーベル賞受賞者数と高い相関がある</font>ことが分かりました。\n",
        "\n",
        "そこで、<font color=\"blue\">国民平均のココア消費量と、コンタクトレンズ購買量の2つを入力変数(説明変数)、10万人あたりのノーベル賞受賞者数を出力変数(ターゲット変数)とする重回帰問題</font>を考えてみます。\n",
        "  * 本当は上に挙げた全ての製品の消費量を説明変数に使いたかったのですが、データが全部揃っている国が少ないので、この2つに絞りました。\n",
        "\n",
        "欧米23カ国の、単位人口当たりのノーベル受賞者数、ココア消費量、コンタクトレンズ購買額のデータを記した `nobel_cocoa_contactlense.csv`をPandasで読み込みます。"
      ]
    },
    {
      "cell_type": "code",
      "metadata": {
        "colab": {
          "base_uri": "https://localhost:8080/",
          "height": 819
        },
        "id": "XBla8mFGti50",
        "outputId": "da4cdff7-f51c-417a-84b9-f45d4494277e"
      },
      "source": [
        "dfccn = pd.read_csv('/content/drive/My Drive/nobel_cocoa_contactlense.csv',index_col='country')\n",
        "display(dfccn)\n",
        "dfccn.shape"
      ],
      "execution_count": null,
      "outputs": [
        {
          "output_type": "display_data",
          "data": {
            "text/plain": [
              "                nobel  cocoa  contact_lenses\n",
              "country                                     \n",
              "Switzerland    32.771   5.88            6.61\n",
              "Sweden         30.052   2.29            5.31\n",
              "Austria        25.138   3.80            7.03\n",
              "Denmark        24.329   3.29            8.39\n",
              "Norway         24.284   4.02            7.04\n",
              "UnitedKingdom  19.429   3.64            1.92\n",
              "Ireland        14.572   4.02            4.23\n",
              "Germany        13.527   3.96            2.09\n",
              "Hungary        13.417   1.79            1.18\n",
              "UnitedStates   11.721   2.46            2.06\n",
              "Netherlands    11.707   2.28            5.61\n",
              "France         10.664   3.62            2.43\n",
              "Finland         9.021   3.02            8.97\n",
              "Belgium         8.697   5.69            3.52\n",
              "Canada          6.765   2.55            2.50\n",
              "Poland          4.986   1.69            1.61\n",
              "Slovenia        4.805   3.07            0.80\n",
              "CzechRepublic   4.706   2.44            2.22\n",
              "Italy           3.373   1.46            2.47\n",
              "Romania         2.043   0.98            0.69\n",
              "Portugal        1.943   1.71            1.94\n",
              "Greece          1.795   2.60            0.32\n",
              "Spain           1.724   2.28            1.96"
            ],
            "text/html": [
              "\n",
              "  <div id=\"df-bebeca81-37a8-4f61-9099-40a9e3850821\">\n",
              "    <div class=\"colab-df-container\">\n",
              "      <div>\n",
              "<style scoped>\n",
              "    .dataframe tbody tr th:only-of-type {\n",
              "        vertical-align: middle;\n",
              "    }\n",
              "\n",
              "    .dataframe tbody tr th {\n",
              "        vertical-align: top;\n",
              "    }\n",
              "\n",
              "    .dataframe thead th {\n",
              "        text-align: right;\n",
              "    }\n",
              "</style>\n",
              "<table border=\"1\" class=\"dataframe\">\n",
              "  <thead>\n",
              "    <tr style=\"text-align: right;\">\n",
              "      <th></th>\n",
              "      <th>nobel</th>\n",
              "      <th>cocoa</th>\n",
              "      <th>contact_lenses</th>\n",
              "    </tr>\n",
              "    <tr>\n",
              "      <th>country</th>\n",
              "      <th></th>\n",
              "      <th></th>\n",
              "      <th></th>\n",
              "    </tr>\n",
              "  </thead>\n",
              "  <tbody>\n",
              "    <tr>\n",
              "      <th>Switzerland</th>\n",
              "      <td>32.771</td>\n",
              "      <td>5.88</td>\n",
              "      <td>6.61</td>\n",
              "    </tr>\n",
              "    <tr>\n",
              "      <th>Sweden</th>\n",
              "      <td>30.052</td>\n",
              "      <td>2.29</td>\n",
              "      <td>5.31</td>\n",
              "    </tr>\n",
              "    <tr>\n",
              "      <th>Austria</th>\n",
              "      <td>25.138</td>\n",
              "      <td>3.80</td>\n",
              "      <td>7.03</td>\n",
              "    </tr>\n",
              "    <tr>\n",
              "      <th>Denmark</th>\n",
              "      <td>24.329</td>\n",
              "      <td>3.29</td>\n",
              "      <td>8.39</td>\n",
              "    </tr>\n",
              "    <tr>\n",
              "      <th>Norway</th>\n",
              "      <td>24.284</td>\n",
              "      <td>4.02</td>\n",
              "      <td>7.04</td>\n",
              "    </tr>\n",
              "    <tr>\n",
              "      <th>UnitedKingdom</th>\n",
              "      <td>19.429</td>\n",
              "      <td>3.64</td>\n",
              "      <td>1.92</td>\n",
              "    </tr>\n",
              "    <tr>\n",
              "      <th>Ireland</th>\n",
              "      <td>14.572</td>\n",
              "      <td>4.02</td>\n",
              "      <td>4.23</td>\n",
              "    </tr>\n",
              "    <tr>\n",
              "      <th>Germany</th>\n",
              "      <td>13.527</td>\n",
              "      <td>3.96</td>\n",
              "      <td>2.09</td>\n",
              "    </tr>\n",
              "    <tr>\n",
              "      <th>Hungary</th>\n",
              "      <td>13.417</td>\n",
              "      <td>1.79</td>\n",
              "      <td>1.18</td>\n",
              "    </tr>\n",
              "    <tr>\n",
              "      <th>UnitedStates</th>\n",
              "      <td>11.721</td>\n",
              "      <td>2.46</td>\n",
              "      <td>2.06</td>\n",
              "    </tr>\n",
              "    <tr>\n",
              "      <th>Netherlands</th>\n",
              "      <td>11.707</td>\n",
              "      <td>2.28</td>\n",
              "      <td>5.61</td>\n",
              "    </tr>\n",
              "    <tr>\n",
              "      <th>France</th>\n",
              "      <td>10.664</td>\n",
              "      <td>3.62</td>\n",
              "      <td>2.43</td>\n",
              "    </tr>\n",
              "    <tr>\n",
              "      <th>Finland</th>\n",
              "      <td>9.021</td>\n",
              "      <td>3.02</td>\n",
              "      <td>8.97</td>\n",
              "    </tr>\n",
              "    <tr>\n",
              "      <th>Belgium</th>\n",
              "      <td>8.697</td>\n",
              "      <td>5.69</td>\n",
              "      <td>3.52</td>\n",
              "    </tr>\n",
              "    <tr>\n",
              "      <th>Canada</th>\n",
              "      <td>6.765</td>\n",
              "      <td>2.55</td>\n",
              "      <td>2.50</td>\n",
              "    </tr>\n",
              "    <tr>\n",
              "      <th>Poland</th>\n",
              "      <td>4.986</td>\n",
              "      <td>1.69</td>\n",
              "      <td>1.61</td>\n",
              "    </tr>\n",
              "    <tr>\n",
              "      <th>Slovenia</th>\n",
              "      <td>4.805</td>\n",
              "      <td>3.07</td>\n",
              "      <td>0.80</td>\n",
              "    </tr>\n",
              "    <tr>\n",
              "      <th>CzechRepublic</th>\n",
              "      <td>4.706</td>\n",
              "      <td>2.44</td>\n",
              "      <td>2.22</td>\n",
              "    </tr>\n",
              "    <tr>\n",
              "      <th>Italy</th>\n",
              "      <td>3.373</td>\n",
              "      <td>1.46</td>\n",
              "      <td>2.47</td>\n",
              "    </tr>\n",
              "    <tr>\n",
              "      <th>Romania</th>\n",
              "      <td>2.043</td>\n",
              "      <td>0.98</td>\n",
              "      <td>0.69</td>\n",
              "    </tr>\n",
              "    <tr>\n",
              "      <th>Portugal</th>\n",
              "      <td>1.943</td>\n",
              "      <td>1.71</td>\n",
              "      <td>1.94</td>\n",
              "    </tr>\n",
              "    <tr>\n",
              "      <th>Greece</th>\n",
              "      <td>1.795</td>\n",
              "      <td>2.60</td>\n",
              "      <td>0.32</td>\n",
              "    </tr>\n",
              "    <tr>\n",
              "      <th>Spain</th>\n",
              "      <td>1.724</td>\n",
              "      <td>2.28</td>\n",
              "      <td>1.96</td>\n",
              "    </tr>\n",
              "  </tbody>\n",
              "</table>\n",
              "</div>\n",
              "      <button class=\"colab-df-convert\" onclick=\"convertToInteractive('df-bebeca81-37a8-4f61-9099-40a9e3850821')\"\n",
              "              title=\"Convert this dataframe to an interactive table.\"\n",
              "              style=\"display:none;\">\n",
              "        \n",
              "  <svg xmlns=\"http://www.w3.org/2000/svg\" height=\"24px\"viewBox=\"0 0 24 24\"\n",
              "       width=\"24px\">\n",
              "    <path d=\"M0 0h24v24H0V0z\" fill=\"none\"/>\n",
              "    <path d=\"M18.56 5.44l.94 2.06.94-2.06 2.06-.94-2.06-.94-.94-2.06-.94 2.06-2.06.94zm-11 1L8.5 8.5l.94-2.06 2.06-.94-2.06-.94L8.5 2.5l-.94 2.06-2.06.94zm10 10l.94 2.06.94-2.06 2.06-.94-2.06-.94-.94-2.06-.94 2.06-2.06.94z\"/><path d=\"M17.41 7.96l-1.37-1.37c-.4-.4-.92-.59-1.43-.59-.52 0-1.04.2-1.43.59L10.3 9.45l-7.72 7.72c-.78.78-.78 2.05 0 2.83L4 21.41c.39.39.9.59 1.41.59.51 0 1.02-.2 1.41-.59l7.78-7.78 2.81-2.81c.8-.78.8-2.07 0-2.86zM5.41 20L4 18.59l7.72-7.72 1.47 1.35L5.41 20z\"/>\n",
              "  </svg>\n",
              "      </button>\n",
              "      \n",
              "  <style>\n",
              "    .colab-df-container {\n",
              "      display:flex;\n",
              "      flex-wrap:wrap;\n",
              "      gap: 12px;\n",
              "    }\n",
              "\n",
              "    .colab-df-convert {\n",
              "      background-color: #E8F0FE;\n",
              "      border: none;\n",
              "      border-radius: 50%;\n",
              "      cursor: pointer;\n",
              "      display: none;\n",
              "      fill: #1967D2;\n",
              "      height: 32px;\n",
              "      padding: 0 0 0 0;\n",
              "      width: 32px;\n",
              "    }\n",
              "\n",
              "    .colab-df-convert:hover {\n",
              "      background-color: #E2EBFA;\n",
              "      box-shadow: 0px 1px 2px rgba(60, 64, 67, 0.3), 0px 1px 3px 1px rgba(60, 64, 67, 0.15);\n",
              "      fill: #174EA6;\n",
              "    }\n",
              "\n",
              "    [theme=dark] .colab-df-convert {\n",
              "      background-color: #3B4455;\n",
              "      fill: #D2E3FC;\n",
              "    }\n",
              "\n",
              "    [theme=dark] .colab-df-convert:hover {\n",
              "      background-color: #434B5C;\n",
              "      box-shadow: 0px 1px 3px 1px rgba(0, 0, 0, 0.15);\n",
              "      filter: drop-shadow(0px 1px 2px rgba(0, 0, 0, 0.3));\n",
              "      fill: #FFFFFF;\n",
              "    }\n",
              "  </style>\n",
              "\n",
              "      <script>\n",
              "        const buttonEl =\n",
              "          document.querySelector('#df-bebeca81-37a8-4f61-9099-40a9e3850821 button.colab-df-convert');\n",
              "        buttonEl.style.display =\n",
              "          google.colab.kernel.accessAllowed ? 'block' : 'none';\n",
              "\n",
              "        async function convertToInteractive(key) {\n",
              "          const element = document.querySelector('#df-bebeca81-37a8-4f61-9099-40a9e3850821');\n",
              "          const dataTable =\n",
              "            await google.colab.kernel.invokeFunction('convertToInteractive',\n",
              "                                                     [key], {});\n",
              "          if (!dataTable) return;\n",
              "\n",
              "          const docLinkHtml = 'Like what you see? Visit the ' +\n",
              "            '<a target=\"_blank\" href=https://colab.research.google.com/notebooks/data_table.ipynb>data table notebook</a>'\n",
              "            + ' to learn more about interactive tables.';\n",
              "          element.innerHTML = '';\n",
              "          dataTable['output_type'] = 'display_data';\n",
              "          await google.colab.output.renderOutput(dataTable, element);\n",
              "          const docLink = document.createElement('div');\n",
              "          docLink.innerHTML = docLinkHtml;\n",
              "          element.appendChild(docLink);\n",
              "        }\n",
              "      </script>\n",
              "    </div>\n",
              "  </div>\n",
              "  "
            ]
          },
          "metadata": {}
        },
        {
          "output_type": "execute_result",
          "data": {
            "text/plain": [
              "(23, 3)"
            ]
          },
          "metadata": {},
          "execution_count": 21
        }
      ]
    },
    {
      "cell_type": "markdown",
      "source": [
        "3つの変量(ノーベル受賞者数、ココア消費量、コンタクトレンズ購買額)の間の相関行列は次のようになります。"
      ],
      "metadata": {
        "id": "v4OspvcBDCul"
      }
    },
    {
      "cell_type": "code",
      "source": [
        "dfcor = dfccn.corr()\n",
        "display(dfcor)"
      ],
      "metadata": {
        "colab": {
          "base_uri": "https://localhost:8080/",
          "height": 143
        },
        "id": "AcYJcJOCC5zH",
        "outputId": "da981f27-4f5d-41b9-e2d0-7f32d7edbaef"
      },
      "execution_count": null,
      "outputs": [
        {
          "output_type": "display_data",
          "data": {
            "text/plain": [
              "                   nobel     cocoa  contact_lenses\n",
              "nobel           1.000000  0.557087        0.675075\n",
              "cocoa           0.557087  1.000000        0.433285\n",
              "contact_lenses  0.675075  0.433285        1.000000"
            ],
            "text/html": [
              "\n",
              "  <div id=\"df-2da495e5-ea49-46a3-80b1-6bb191d8d794\">\n",
              "    <div class=\"colab-df-container\">\n",
              "      <div>\n",
              "<style scoped>\n",
              "    .dataframe tbody tr th:only-of-type {\n",
              "        vertical-align: middle;\n",
              "    }\n",
              "\n",
              "    .dataframe tbody tr th {\n",
              "        vertical-align: top;\n",
              "    }\n",
              "\n",
              "    .dataframe thead th {\n",
              "        text-align: right;\n",
              "    }\n",
              "</style>\n",
              "<table border=\"1\" class=\"dataframe\">\n",
              "  <thead>\n",
              "    <tr style=\"text-align: right;\">\n",
              "      <th></th>\n",
              "      <th>nobel</th>\n",
              "      <th>cocoa</th>\n",
              "      <th>contact_lenses</th>\n",
              "    </tr>\n",
              "  </thead>\n",
              "  <tbody>\n",
              "    <tr>\n",
              "      <th>nobel</th>\n",
              "      <td>1.000000</td>\n",
              "      <td>0.557087</td>\n",
              "      <td>0.675075</td>\n",
              "    </tr>\n",
              "    <tr>\n",
              "      <th>cocoa</th>\n",
              "      <td>0.557087</td>\n",
              "      <td>1.000000</td>\n",
              "      <td>0.433285</td>\n",
              "    </tr>\n",
              "    <tr>\n",
              "      <th>contact_lenses</th>\n",
              "      <td>0.675075</td>\n",
              "      <td>0.433285</td>\n",
              "      <td>1.000000</td>\n",
              "    </tr>\n",
              "  </tbody>\n",
              "</table>\n",
              "</div>\n",
              "      <button class=\"colab-df-convert\" onclick=\"convertToInteractive('df-2da495e5-ea49-46a3-80b1-6bb191d8d794')\"\n",
              "              title=\"Convert this dataframe to an interactive table.\"\n",
              "              style=\"display:none;\">\n",
              "        \n",
              "  <svg xmlns=\"http://www.w3.org/2000/svg\" height=\"24px\"viewBox=\"0 0 24 24\"\n",
              "       width=\"24px\">\n",
              "    <path d=\"M0 0h24v24H0V0z\" fill=\"none\"/>\n",
              "    <path d=\"M18.56 5.44l.94 2.06.94-2.06 2.06-.94-2.06-.94-.94-2.06-.94 2.06-2.06.94zm-11 1L8.5 8.5l.94-2.06 2.06-.94-2.06-.94L8.5 2.5l-.94 2.06-2.06.94zm10 10l.94 2.06.94-2.06 2.06-.94-2.06-.94-.94-2.06-.94 2.06-2.06.94z\"/><path d=\"M17.41 7.96l-1.37-1.37c-.4-.4-.92-.59-1.43-.59-.52 0-1.04.2-1.43.59L10.3 9.45l-7.72 7.72c-.78.78-.78 2.05 0 2.83L4 21.41c.39.39.9.59 1.41.59.51 0 1.02-.2 1.41-.59l7.78-7.78 2.81-2.81c.8-.78.8-2.07 0-2.86zM5.41 20L4 18.59l7.72-7.72 1.47 1.35L5.41 20z\"/>\n",
              "  </svg>\n",
              "      </button>\n",
              "      \n",
              "  <style>\n",
              "    .colab-df-container {\n",
              "      display:flex;\n",
              "      flex-wrap:wrap;\n",
              "      gap: 12px;\n",
              "    }\n",
              "\n",
              "    .colab-df-convert {\n",
              "      background-color: #E8F0FE;\n",
              "      border: none;\n",
              "      border-radius: 50%;\n",
              "      cursor: pointer;\n",
              "      display: none;\n",
              "      fill: #1967D2;\n",
              "      height: 32px;\n",
              "      padding: 0 0 0 0;\n",
              "      width: 32px;\n",
              "    }\n",
              "\n",
              "    .colab-df-convert:hover {\n",
              "      background-color: #E2EBFA;\n",
              "      box-shadow: 0px 1px 2px rgba(60, 64, 67, 0.3), 0px 1px 3px 1px rgba(60, 64, 67, 0.15);\n",
              "      fill: #174EA6;\n",
              "    }\n",
              "\n",
              "    [theme=dark] .colab-df-convert {\n",
              "      background-color: #3B4455;\n",
              "      fill: #D2E3FC;\n",
              "    }\n",
              "\n",
              "    [theme=dark] .colab-df-convert:hover {\n",
              "      background-color: #434B5C;\n",
              "      box-shadow: 0px 1px 3px 1px rgba(0, 0, 0, 0.15);\n",
              "      filter: drop-shadow(0px 1px 2px rgba(0, 0, 0, 0.3));\n",
              "      fill: #FFFFFF;\n",
              "    }\n",
              "  </style>\n",
              "\n",
              "      <script>\n",
              "        const buttonEl =\n",
              "          document.querySelector('#df-2da495e5-ea49-46a3-80b1-6bb191d8d794 button.colab-df-convert');\n",
              "        buttonEl.style.display =\n",
              "          google.colab.kernel.accessAllowed ? 'block' : 'none';\n",
              "\n",
              "        async function convertToInteractive(key) {\n",
              "          const element = document.querySelector('#df-2da495e5-ea49-46a3-80b1-6bb191d8d794');\n",
              "          const dataTable =\n",
              "            await google.colab.kernel.invokeFunction('convertToInteractive',\n",
              "                                                     [key], {});\n",
              "          if (!dataTable) return;\n",
              "\n",
              "          const docLinkHtml = 'Like what you see? Visit the ' +\n",
              "            '<a target=\"_blank\" href=https://colab.research.google.com/notebooks/data_table.ipynb>data table notebook</a>'\n",
              "            + ' to learn more about interactive tables.';\n",
              "          element.innerHTML = '';\n",
              "          dataTable['output_type'] = 'display_data';\n",
              "          await google.colab.output.renderOutput(dataTable, element);\n",
              "          const docLink = document.createElement('div');\n",
              "          docLink.innerHTML = docLinkHtml;\n",
              "          element.appendChild(docLink);\n",
              "        }\n",
              "      </script>\n",
              "    </div>\n",
              "  </div>\n",
              "  "
            ]
          },
          "metadata": {}
        }
      ]
    },
    {
      "cell_type": "markdown",
      "source": [
        "この23か国に限れば、コンタクトレンズの平均購買額の方がより単位人口あたりのノーベル受賞者数との相関が高くなっています。\n",
        "\n",
        "3変量の2つずつをx,y軸に取ってプロットした散布図は次のようになります。"
      ],
      "metadata": {
        "id": "HNd52xTWGEnn"
      }
    },
    {
      "cell_type": "code",
      "source": [
        "for y in dfccn.columns[:-1]:\n",
        "  for x in dfccn.columns[1:]:\n",
        "    if x != y:\n",
        "      plt.figure()\n",
        "      plt.scatter(dfccn[x],dfccn[y])\n",
        "      plt.title(\"{:s} v.s. {:s} (r={:.4f})\".format(x,y,dfcor.loc[x,y]))\n",
        "      plt.xlabel(x)\n",
        "      plt.ylabel(y)"
      ],
      "metadata": {
        "colab": {
          "base_uri": "https://localhost:8080/",
          "height": 1000
        },
        "id": "fDYOb-KtD5yE",
        "outputId": "ad75fb1a-44ca-44c2-d992-dfcf5e0a95d9"
      },
      "execution_count": null,
      "outputs": [
        {
          "output_type": "display_data",
          "data": {
            "text/plain": [
              "<Figure size 640x480 with 1 Axes>"
            ],
            "image/png": "[encoded data removed]"
          },
          "metadata": {}
        },
        {
          "output_type": "display_data",
          "data": {
            "text/plain": [
              "<Figure size 640x480 with 1 Axes>"
            ],
            "image/png": "[encoded data removed]"
          },
          "metadata": {}
        },
        {
          "output_type": "display_data",
          "data": {
            "text/plain": [
              "<Figure size 640x480 with 1 Axes>"
            ],
            "image/png": "[encoded data removed]"
          },
          "metadata": {}
        }
      ]
    },
    {
      "cell_type": "markdown",
      "metadata": {
        "id": "XLSEPKzc2yLE"
      },
      "source": [
        "それでは、行列$\\boldsymbol{X}$, ベクトル$\\boldsymbol{y}$を作って重回帰を行います。\n",
        "\n",
        "pandas の DataFrame の `values`属性を使えば、DataFrameオブジェクトに含まれているデータを、NumPyの行列・ベクトル(ndarray)オブジェクトとして取り出すことができます。"
      ]
    },
    {
      "cell_type": "code",
      "source": [
        "#dfccn[['cocoa','contact_lenses']].values\n",
        "dfccn.iloc[:,1:].values"
      ],
      "metadata": {
        "colab": {
          "base_uri": "https://localhost:8080/"
        },
        "id": "nHiyNDA8rZDk",
        "outputId": "a582323a-eb4d-48c9-db20-5a1997729718"
      },
      "execution_count": null,
      "outputs": [
        {
          "output_type": "execute_result",
          "data": {
            "text/plain": [
              "array([[5.88, 6.61],\n",
              "       [2.29, 5.31],\n",
              "       [3.8 , 7.03],\n",
              "       [3.29, 8.39],\n",
              "       [4.02, 7.04],\n",
              "       [3.64, 1.92],\n",
              "       [4.02, 4.23],\n",
              "       [3.96, 2.09],\n",
              "       [1.79, 1.18],\n",
              "       [2.46, 2.06],\n",
              "       [2.28, 5.61],\n",
              "       [3.62, 2.43],\n",
              "       [3.02, 8.97],\n",
              "       [5.69, 3.52],\n",
              "       [2.55, 2.5 ],\n",
              "       [1.69, 1.61],\n",
              "       [3.07, 0.8 ],\n",
              "       [2.44, 2.22],\n",
              "       [1.46, 2.47],\n",
              "       [0.98, 0.69],\n",
              "       [1.71, 1.94],\n",
              "       [2.6 , 0.32],\n",
              "       [2.28, 1.96]])"
            ]
          },
          "metadata": {},
          "execution_count": 24
        }
      ]
    },
    {
      "cell_type": "code",
      "source": [
        "# ターゲット変数のデータ をベクトル y に\n",
        "y = dfccn['nobel'].values\n",
        "# サンプルの数\n",
        "n = len(y)\n",
        "# 説明変数のデータに値1の列を付け足したものを行列Xに\n",
        "X = np.hstack((np.ones((n,1)),dfccn[['cocoa','contact_lenses']].values))\n",
        "# 最小二乗法で係数ベクトルを求める\n",
        "alp = la.solve(np.dot(X.T,X),np.dot(X.T,y))\n",
        "print('alpha = ',alp)"
      ],
      "metadata": {
        "colab": {
          "base_uri": "https://localhost:8080/"
        },
        "id": "_1I2cOOSHUoE",
        "outputId": "17681e2d-004c-4c29-ff49-0103ad6952b4"
      },
      "execution_count": null,
      "outputs": [
        {
          "output_type": "stream",
          "name": "stdout",
          "text": [
            "alpha =  [-2.09324734  2.49462174  1.96084443]\n"
          ]
        }
      ]
    },
    {
      "cell_type": "code",
      "source": [
        "np.dot(la.inv(np.dot(X.T,X)),np.dot(X.T,y))"
      ],
      "metadata": {
        "colab": {
          "base_uri": "https://localhost:8080/"
        },
        "id": "9JisJAPes1Iz",
        "outputId": "f84702ad-07d5-4bbf-8981-686cf0bef1d7"
      },
      "execution_count": null,
      "outputs": [
        {
          "output_type": "execute_result",
          "data": {
            "text/plain": [
              "array([-2.09324734,  2.49462174,  1.96084443])"
            ]
          },
          "metadata": {},
          "execution_count": 26
        }
      ]
    },
    {
      "cell_type": "markdown",
      "metadata": {
        "id": "tlJlsTjp3zrU"
      },
      "source": [
        "求まったパラメータの値は、\n",
        "$$\n",
        "\\hat{\\boldsymbol{\\alpha}}=[\\hspace{8mm}\\underbrace{-2.09}_{切片},\\hspace{8mm}  \\underbrace{2.49}_{ココア係数},\\hspace{2mm}  \\underbrace{1.96}_{コンタクトレンズ係数} ]^\\top\n",
        "$$\n",
        "です。このパラメータ値を使った予測値$\\hat{\\boldsymbol{y}}$を再現して、残差二乗和$Q(\\hat{\\boldsymbol{\\alpha}})$と、平均平方二乗誤差(RMSE)を計算してみます。"
      ]
    },
    {
      "cell_type": "code",
      "metadata": {
        "colab": {
          "base_uri": "https://localhost:8080/",
          "height": 501
        },
        "id": "mW39pLr27HCk",
        "outputId": "4bb2333e-e7f6-4295-a274-e3fe0d69634c"
      },
      "source": [
        "# y-hat\n",
        "yhat = np.dot(X,alp)\n",
        "# 残差二乗和\n",
        "Q = np.sum((y-yhat)**2)\n",
        "print('残差二乗和:',Q)\n",
        "# RMSE\n",
        "rmse = np.sqrt(Q/n)\n",
        "print('RMSE:',rmse)\n",
        "\n",
        "# y-hat v.s. y\n",
        "plt.scatter(yhat,y)\n",
        "plt.xlabel('y-hat')\n",
        "plt.ylabel('y')"
      ],
      "execution_count": null,
      "outputs": [
        {
          "output_type": "stream",
          "name": "stdout",
          "text": [
            "残差二乗和: 909.4919058937219\n",
            "RMSE: 6.28833255666439\n"
          ]
        },
        {
          "output_type": "execute_result",
          "data": {
            "text/plain": [
              "Text(0, 0.5, 'y')"
            ]
          },
          "metadata": {},
          "execution_count": 27
        },
        {
          "output_type": "display_data",
          "data": {
            "text/plain": [
              "<Figure size 640x480 with 1 Axes>"
            ],
            "image/png": "[encoded data removed]"
          },
          "metadata": {}
        }
      ]
    },
    {
      "cell_type": "markdown",
      "source": [
        "## 変数のスケーリング（正規化、標準化）\n",
        "\n",
        "今回扱った例題では問題になりませんでしたが、重回帰タスクでは、しばしば、与えられたデータにおいて<font color=\"red\">異なる変数同士で値の範囲が著しく異なる場合があります。そのような場合、最小二乗法による計算が不安定になったり、得られた各パラメータ（回帰係数）を比較して説明変数の重要度を評価することが困難になる</font>、などの問題が生じます。\n",
        "\n",
        "そのような場合には、<font color=\"blue\">変数ごとに値のスケーリングを行い、各変数の値の範囲が概ね同じくらいになるようにデータを前処理する</font>ことがあります。\n",
        "* (注意) 当たり前ですが、定数項(切片)の推定のために付け足したオール1の列（ダミー変数）はスケーリングしません（してはいけません）。\n",
        "\n",
        "特によく行われるのは、次の２種類の線形スケーリングです。\n",
        "1. 各変数ごとに、最小値が0に、最大値が1になるように線形スケーリングする(正規化(normalization))。\n",
        "2. 各変数ごとに、平均が0、標準偏差が1になるように線形スケーリングする(標準化(standardization))。\n",
        "\n",
        "先程の例題の2つの説明変数(ココア購入額、コンタクトレンズ購入額)について、正規化をしてみたのが以下の例になります。\n"
      ],
      "metadata": {
        "id": "x36hctOUjlBg"
      }
    },
    {
      "cell_type": "code",
      "execution_count": null,
      "metadata": {
        "id": "7G-daHKyW-yB",
        "colab": {
          "base_uri": "https://localhost:8080/"
        },
        "outputId": "6482f112-0b1f-4f37-bd0f-89b1e4d74b81"
      },
      "outputs": [
        {
          "output_type": "stream",
          "name": "stdout",
          "text": [
            "min (original): [0.98 0.32]\n",
            "max (original): [5.88 8.97]\n",
            "min (normalized): [0. 0.]\n",
            "max (normalized): [1. 1.]\n"
          ]
        }
      ],
      "source": [
        "# もとの２変数の最小値、最大値\n",
        "minv = np.min(X[:,1:],axis=0)\n",
        "print(\"min (original):\",minv)\n",
        "maxv = np.max(X[:,1:],axis=0)\n",
        "print(\"max (original):\",maxv)\n",
        "# 正規化 (0-1スケーリング)\n",
        "Xno = (X[:,1:]-minv)/(maxv-minv)\n",
        "print(\"min (normalized):\",np.min(Xno,axis=0))\n",
        "print(\"max (normalized):\",np.max(Xno,axis=0))\n"
      ]
    },
    {
      "cell_type": "markdown",
      "source": [
        "このコードで、\n",
        "```\n",
        "Xno = (X[:,1:]-minv)/(maxv-minv)\n",
        "```\n",
        "のところで、`X[:,1:]`は$n \\times 2$の行列(2次元array)、`minv`,`maxv`はともに2次元のベクトル(1次元array)なので、`X[:,1:]-minv`は変に見えるかもしれませんが、この場合、`X[:,1:]`の各行ごとに`minv`が引かれます。同様に、各行ごとに`maxv-minv`の要素商が計算されます。\n",
        "\n",
        "**(練習)** `X[:,1:]`の各列を標準化(平均0,分散1)してください。"
      ],
      "metadata": {
        "id": "6RWKXI0J86Py"
      }
    },
    {
      "cell_type": "code",
      "source": [],
      "metadata": {
        "id": "fmnO3UK__T8L"
      },
      "execution_count": null,
      "outputs": []
    },
    {
      "cell_type": "markdown",
      "source": [
        "# 今回の小課題(HW2023-02)\n",
        "\n",
        "詳細は [課題のノートブック(HW2023-02.ipynb)](https://colab.research.google.com/drive/12dWNYwjvGWe8Sdzh3N3c4uGB83KCsaic?usp=sharing)を見てください。"
      ],
      "metadata": {
        "id": "0mCOBrZ4_U9x"
      }
    },
    {
      "cell_type": "markdown",
      "source": [
        "# おわりに\n",
        "\n",
        "次回は、線形回帰における過剰適合(overfitting)の問題とその対策について話をする予定です。"
      ],
      "metadata": {
        "id": "bY_p4mRNAAHg"
      }
    }
  ]
}