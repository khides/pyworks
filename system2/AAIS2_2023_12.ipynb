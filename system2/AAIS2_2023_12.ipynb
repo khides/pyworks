{
  "nbformat": 4,
  "nbformat_minor": 0,
  "metadata": {
    "colab": {
      "provenance": []
    },
    "kernelspec": {
      "name": "python3",
      "display_name": "Python 3"
    },
    "language_info": {
      "name": "python"
    }
  },
  "cells": [
    {
      "cell_type": "markdown",
      "metadata": {
        "id": "jqcwjmNrq_AP"
      },
      "source": [
        "\n",
        "## 航空宇宙情報システム学第二\n",
        "\n",
        "<h1><center> 第12回 非線形最小二乗法 </center> </h1>\n",
        "\n",
        "<center>\n",
        "\n",
        "2023年7月4日\n",
        "\n",
        "担当教員: 矢入健久\n",
        "\n",
        "e-mail: yairi@g.ecc.u-tokyo.ac.jp\n",
        "</center>\n",
        "\n",
        "\n"
      ]
    },
    {
      "cell_type": "markdown",
      "source": [
        "# はじめに\n",
        "\n",
        "前回は制約なし最適化の話をしました。今回は再び最小二乗法、ただし、パラメータがモデルに対して線形でない場合、すなわち、非線形の最小二乗法を扱います。"
      ],
      "metadata": {
        "id": "0gMTP1s2OpE0"
      }
    },
    {
      "cell_type": "markdown",
      "metadata": {
        "id": "d36WVEvRLzLl"
      },
      "source": [
        "## 復習: 最小二乗法(least squares method)\n",
        "\n",
        "まず、そもそも一般の最小二乗法がどういう問題だったかを復習しておきます。\n",
        "\n",
        "今、$N$個のデータ点 $(\\boldsymbol{x}_0,y_0),(\\boldsymbol{x}_1,y_1),\\cdots,(\\boldsymbol{x}_{N-1},y_{N-1})$があるとします。\n",
        "そして、このデータにできるだけ良く当てはまるような関数 $y=f(\\boldsymbol{x};\\boldsymbol{\\alpha})$を求めたいとします。\n",
        "このような問題を、曲線当てはめ(curve fitting)問題、あるいは、回帰(regression)問題と呼びます。\n",
        "\n",
        "ここで、$\\boldsymbol{x}$は説明変数(ベクトル)、$y$は目標変数と呼ばれます。\n",
        "また、$\\boldsymbol{\\alpha}$は関数のパラメータ(ベクトル)を表します。\n",
        "\n",
        "最小二乗法では、与えられたデータへの当てはまりの良し悪しを評価する基準として、次式で表される<font color=\"red\">残差二乗和</font>を用い、これが最も小さくなるようなパラメターの値$\\hat{\\boldsymbol{\\alpha}}$を求めようとします。\n",
        "$$\n",
        "Q(\\boldsymbol{\\alpha}) = \\sum_{i=0}^{N-1} (y_i - f(\\boldsymbol{x}_i;\\boldsymbol{\\alpha}) )^2\n",
        "$$\n",
        "ここで、\n",
        "関数$f(x_i;\\boldsymbol{\\alpha})$が、<font color=\"blue\">パラメータ$\\boldsymbol{\\alpha}$に関して線形である場合を、線形最小二乗法</font>と呼び、\n",
        "<font color=\"red\">パラメータ$\\boldsymbol{\\alpha}$に関して非線形である場合を、非線形最小二乗法</font>と呼んだのでした。\n"
      ]
    },
    {
      "cell_type": "markdown",
      "source": [
        "# 復習: 線形最小二乗法\n",
        "\n",
        "第5回目の授業で扱った線形最小二乗法の重要な結果だけ示しておきます。\n",
        "\n",
        "まず、説明変数が$m$個ある場合、ここではそれらを、$x^{(1)},x^{(2)},\\cdots,x^{(m)}$\n",
        "と表すことにし、説明変数ベクトル$\\boldsymbol{x}$は、常に定数$1$の値を取るダミー変数$x^{(0)}=1$も含めて、$\\boldsymbol{x}=[x^{(0)},x^{(1)},x^{(2)},\\cdots,x^{(m)}]^\\top$のように定義しておきます。\n",
        "\n",
        "すると、\n",
        "$f(\\boldsymbol{x};\\boldsymbol{\\alpha})$がパラメータに対して線形な場合、\n",
        "$$\n",
        "f(\\boldsymbol{x};\\boldsymbol{\\alpha}) =\\alpha_0 + \\alpha_1  x^{(1)} + \\cdots + \\alpha_m  x^{(m)}  =  \\sum_{j=0}^m \\alpha_j x^{(j)} =\n",
        "\\boldsymbol{\\alpha} \\cdot \\boldsymbol{x}\n",
        "$$\n",
        "のように書けます。\n",
        "\n",
        "また、(訓練データ)の説明変数、目標変数の値を、それぞれ、行列$\\boldsymbol{X}$、ベクトル$\\boldsymbol{y}$で表しておきます。\n",
        "\n",
        "$$\n",
        "\\boldsymbol{X} =\n",
        "\\left[\\begin{matrix}\n",
        "\\boldsymbol{x}_0^\\top \\\\\n",
        "\\boldsymbol{x}_1^\\top \\\\\n",
        "\\vdots \\\\\n",
        "\\boldsymbol{x}_{n-1}^\\top\n",
        "\\end{matrix}\\right]\n",
        "=\n",
        "\\left[\\begin{matrix}\n",
        "1 & x_{0,1} & \\cdots & x_{0,m}\\\\\n",
        "1 & x_{1,1} & \\cdots & x_{1,m}\\\\\n",
        "\\vdots \\\\\n",
        "1 & x_{n-1,1} & \\cdots & x_{n-1,m}\\\\\n",
        "\\end{matrix}\\right], \\hspace{5mm}\n",
        "\\boldsymbol{y} =\n",
        "\\left[\\begin{matrix}\n",
        "y_0 \\\\\n",
        "y_1 \\\\\n",
        "\\vdots \\\\\n",
        "y_{n-1}\n",
        "\\end{matrix}\\right]\n",
        "$$\n",
        "\n",
        "すると、最小二乗法による解は、\n",
        "$$\n",
        "\\hat{\\boldsymbol{\\alpha}} = \\left( \\boldsymbol{X}^\\top \\boldsymbol{X} \\right)^{-1}\\boldsymbol{X}^\\top\\boldsymbol{y}\n",
        "$$\n",
        "として求まります。\n",
        "\n",
        "**(練習)** $(x,y)$が以下の10点与えられるとき、$\\boldsymbol{\\alpha}=[\\alpha_0,\\alpha_1]$を線形最小二乗法で求めてください。\n",
        "```\n",
        "x = [ 1.0  2.0  3.0  4.0  5.0  6.0  7.0  8.0  9.0 10.0]\n",
        "y = [ 1.91  1.67  1.24  0.03  0.13 -0.56 -1.12 -1.15 -2.18 -2.39]\n",
        "```\n"
      ],
      "metadata": {
        "id": "wuiqqnFkYBKx"
      }
    },
    {
      "cell_type": "code",
      "source": [
        "import numpy as np\n",
        "import numpy.linalg as la\n",
        "y = np.array([ 1.91, 1.67, 1.24, 0.03, 0.13,-0.56,-1.12,-1.15,-2.18,-2.39])\n",
        "x = np.arange(10)+1\n",
        "X = np.hstack((np.ones((10,1)),x.reshape((10,1))))\n",
        "#print(X)\n",
        "#alpha = np.dot(np.dot(la.inv(np.dot(X.T,X)),X.T),y)\n",
        "alpha = la.solve(np.dot(X.T,X),np.dot(X.T,y))\n",
        "print(alpha)"
      ],
      "metadata": {
        "id": "IMpD8PLD2R2V",
        "colab": {
          "base_uri": "https://localhost:8080/"
        },
        "outputId": "0e89bbc2-33ae-47dc-b2f5-c88e93eafde9"
      },
      "execution_count": null,
      "outputs": [
        {
          "output_type": "stream",
          "name": "stdout",
          "text": [
            "[ 2.48266667 -0.49539394]\n"
          ]
        }
      ]
    },
    {
      "cell_type": "markdown",
      "source": [
        "# 非線形最小二乗法\n",
        "\n",
        "ここからが本題です。関数$y=f(\\boldsymbol{x};\\boldsymbol{\\alpha})$がパラメータ$\\boldsymbol{\\alpha}$に対して線形でないとき、当然ながら、上の線形最小二乗法は「そのままでは」使えません。\n",
        "\n",
        "そこで考えられる一つの方法は、残差二乗和$Q(\\boldsymbol{\\alpha}) = \\sum_{i=0}^{N-1} (y_i - f(\\boldsymbol{x}_i;\\boldsymbol{\\alpha}) )^2$を目的関数として、前回の授業で扱った「制約なし最適化」の手法（最急勾配法、ニュートン法、準ニュートン法、など）を適用することです。\n",
        "実際、課題HW05はその方針でやってもらうように出題しました。\n",
        "\n",
        "しかし、別の方法として、線形最小二乗法の結果を利用するという考え方もあります。以下ではそれを見ていきましょう。"
      ],
      "metadata": {
        "id": "LbaMU5whbJTr"
      }
    },
    {
      "cell_type": "markdown",
      "metadata": {
        "id": "4RRxmF1w-TUN"
      },
      "source": [
        "## Gauss-Newton法\n",
        "\n",
        "非線形な問題を解くときの常套手段として、<font color=\"blue\">「非線形なものを逐次的・局所的に線形化して、反復的に解く」</font>という考え方があります。\n",
        "これを非線形最小二乗法に適用してみます。\n",
        "\n",
        "今、$k$回目まで反復計算して得られた$\\boldsymbol{\\alpha}$の値を$\\boldsymbol{\\alpha}_k$、次の反復で求める$\\boldsymbol{\\alpha}$の値を$\\boldsymbol{\\alpha}_{k+1}$、両者の差分を$\\Delta\\boldsymbol{\\alpha}_{k+1}=\\boldsymbol{\\alpha}_{k+1}-\\boldsymbol{\\alpha}_{k}$として、$f(\\boldsymbol{x}_i;\\boldsymbol{\\alpha}_{k+1})$を$\\boldsymbol{\\alpha}=\\boldsymbol{\\alpha}_k$の周りで線形近似してみると、\n",
        "$$\n",
        "\\begin{align}\n",
        "f(\\boldsymbol{x}_i;\\boldsymbol{\\alpha}_{k+1}) &\\approx f(\\boldsymbol{x}_i;\\boldsymbol{\\alpha}_{k}) + \\frac{\\partial f(\\boldsymbol{x}_i;\\boldsymbol{\\alpha}_{k})}{\\partial \\boldsymbol{\\alpha}} \\Delta\\boldsymbol{\\alpha}_{k+1} \\\\\n",
        "&\\approx f(\\boldsymbol{x}_i;\\boldsymbol{\\alpha}_{k}) + \\boldsymbol{J}_i \\Delta\\boldsymbol{\\alpha}_{k+1}\n",
        "\\end{align}\n",
        "$$\n",
        "となります。ただし、$\\boldsymbol{J}_i$は、\n",
        "$$\\boldsymbol{J}_i = \\frac{\\partial f(\\boldsymbol{x}_i;\\boldsymbol{\\alpha}_{k})}{\\partial \\boldsymbol{\\alpha}} = [\\frac{\\partial f(\\boldsymbol{x}_i;\\boldsymbol{\\alpha}_{k})}{\\partial \\alpha_1},\\frac{\\partial f(\\boldsymbol{x}_i;\\boldsymbol{\\alpha}_{k})}{\\partial \\alpha_2},\\cdots,\\frac{\\partial f(\\boldsymbol{x}_i;\\boldsymbol{\\alpha}_{k})}{\\partial \\alpha_K}]\n",
        "$$\n",
        "という<font color=\"red\">行ベクトル</font>です。この近似を使って、残差二乗和も近似すると、\n",
        "$$\n",
        "\\begin{align}\n",
        "Q(\\boldsymbol{\\alpha}_{k+1}) &\\approx \\sum_{i=1}^{N-1} \\vert\n",
        "  y_i - f(\\boldsymbol{x}_i;\\boldsymbol{\\alpha}_{k}) - \\boldsymbol{J}_i \\Delta\\boldsymbol{\\alpha}_{k+1}\\vert^2 \\\\\n",
        "  & \\approx \\Vert \\left( \\boldsymbol{y} - \\boldsymbol{f}(\\boldsymbol{\\alpha}_k)\\right)-\\boldsymbol{J} \\Delta\\boldsymbol{\\alpha}_{k+1} \\Vert^2\n",
        "\\end{align}\n",
        "$$\n",
        "となりますが、これを最小にする$\\Delta\\boldsymbol{\\alpha}_{k+1}$は、先程の<font color=\"blue\">線形最小二乗法の結果</font>より、\n",
        "$$\n",
        "\\hat{\\Delta\\boldsymbol{\\alpha}_{k+1}} = \\left(\\boldsymbol{J}^\\top \\boldsymbol{J} \\right)^{-1} \\boldsymbol{J}^\\top \\left( \\boldsymbol{y} - \\boldsymbol{f}(\\boldsymbol{\\alpha}_k)\\right)\n",
        "$$\n",
        "となることが分かります。ただし、$\\boldsymbol{f}(\\boldsymbol{\\alpha}_k)$ と $\\boldsymbol{J}$は、それぞれ、\n",
        "$$\n",
        "\\boldsymbol{f}(\\boldsymbol{\\alpha}_k) = \\left[\n",
        "  \\begin{matrix}\n",
        "  f(\\boldsymbol{x}_0;\\boldsymbol{\\alpha}_k)\\\\\n",
        "  f(\\boldsymbol{x}_1;\\boldsymbol{\\alpha}_k) \\\\\n",
        "  \\vdots  \\\\\n",
        "  f(\\boldsymbol{x}_{N-1};\\boldsymbol{\\alpha}_k)\n",
        "  \\end{matrix}\n",
        "  \\right]\n",
        "$$\n",
        "\n",
        "$$\n",
        "\\boldsymbol{J} =  \\left[\n",
        "  \\begin{matrix}\n",
        "  \\boldsymbol{J}_0\\\\\n",
        "  \\boldsymbol{J}_1 \\\\\n",
        "  \\vdots \\\\\n",
        "  \\boldsymbol{J}_{N-1}\n",
        "  \\end{matrix}\n",
        "  \\right]\n",
        "  =  \\left[\n",
        "  \\begin{matrix}\n",
        "  \\frac{\\partial f(\\boldsymbol{x}_0;\\boldsymbol{\\alpha}_{k})}{\\partial \\alpha_1} & \\frac{\\partial f(\\boldsymbol{x}_0;\\boldsymbol{\\alpha}_{k})}{\\partial \\alpha_2} & \\cdots & \\frac{\\partial f(\\boldsymbol{x}_0;\\boldsymbol{\\alpha}_{k})}{\\partial \\alpha_K}\\\\\n",
        "  \\frac{\\partial f(\\boldsymbol{x}_1;\\boldsymbol{\\alpha}_{k})}{\\partial \\alpha_1} & \\frac{\\partial f(\\boldsymbol{x}_1;\\boldsymbol{\\alpha}_{k})}{\\partial \\alpha_2} & \\cdots & \\frac{\\partial f(\\boldsymbol{x}_1;\\boldsymbol{\\alpha}_{k})}{\\partial \\alpha_K}\\\\  \n",
        "  \\vdots & \\vdots & \\ddots & \\vdots\\\\\n",
        "  \\frac{\\partial f(\\boldsymbol{x}_{N-1};\\boldsymbol{\\alpha}_{k})}{\\partial \\alpha_{N-1}} & \\frac{\\partial f(\\boldsymbol{x}_{N-1};\\boldsymbol{\\alpha}_{k})}{\\partial \\alpha_2} & \\cdots & \\frac{\\partial f(\\boldsymbol{x}_{N-1};\\boldsymbol{\\alpha}_{k})}{\\partial \\alpha_K}\n",
        "  \\end{matrix}\n",
        "  \\right]\n",
        "$$\n",
        "です。<font color=\"blue\">行列$\\boldsymbol{J}$はヤコブ行列(Jacobian)</font>と呼ばれるものです。\n",
        "\n",
        "以上から、結局、$k+1$回目の反復では、パラメータを、\n",
        "$$\n",
        "\\hat{\\boldsymbol{\\alpha}}_{k+1} = \\hat{\\boldsymbol{\\alpha}}_{k}+\\left(\\boldsymbol{J}^\\top \\boldsymbol{J} \\right)^{-1} \\boldsymbol{J}^\\top \\left( \\boldsymbol{y} - \\boldsymbol{f}(\\boldsymbol{\\alpha}_k)\\right)\n",
        "$$\n",
        "のように更新すれば良いということになります。\n",
        "\n",
        "**(注意)** ヤコブ行列$\\boldsymbol{J}$は$\\boldsymbol{\\alpha}_k$に依存するので、本来は$\\boldsymbol{J}_k$ のように書くべきですが、表記が煩雑になるので、ここでは添字を省略しています。\n",
        "\n",
        "### 制約なし最適化法のニュートン法との関係\n",
        "\n",
        "前回、$\\boldsymbol{x}$についての関数$g(\\boldsymbol{x})$を局所最小化する方法として、ニュートン法を紹介しましたが、その方法は、ヘッセ行列\n",
        "$$\n",
        "\\boldsymbol{H}_k = \\nabla^2 g(\\boldsymbol{x}_k)\n",
        "$$\n",
        "を使って、\n",
        "$$\n",
        "\\boldsymbol{x}_{k+1} = \\boldsymbol{x}_k - \\lambda \\boldsymbol{H}_k^{-1} \\nabla g(\\boldsymbol{x}_k)\n",
        "$$\n",
        "のように、解を更新していくものでした。($\\lambda$はステップ幅)\n",
        "\n",
        "一方、最小二乗法での目的関数である残差二乗和$Q(\\boldsymbol{\\alpha})$の$\\boldsymbol{\\alpha}$に関する勾配は、\n",
        "$$\n",
        "\\nabla_{\\boldsymbol{\\alpha}} Q(\\boldsymbol{\\alpha}) = \\frac{\\partial}{\\partial \\boldsymbol{\\alpha}} \\sum_{i=0}^{N-1} (y_i - f(\\boldsymbol{x};\\boldsymbol{\\alpha}) )^2 = -2 \\sum_{i=0}^{N-1} (y_i - f(\\boldsymbol{x}_i;\\boldsymbol{\\alpha}) ) \\frac{\\partial f(\\boldsymbol{x}_i;\\boldsymbol{\\alpha})}{\\partial \\boldsymbol{\\alpha}} = -2 \\boldsymbol{J}^\\top \\left( \\boldsymbol{y} - \\boldsymbol{f}(\\boldsymbol{\\alpha}_k)\\right)\n",
        "$$\n",
        "となるので、Gauss-Newton 法の更新式は、$\\boldsymbol{H}_k = 2\\boldsymbol{J}^\\top \\boldsymbol{J}$ としたときのニュートン法に一致します。\n",
        "言い換えれば、Gauss-Newton 法は、ニュートン法におけるヘッセ行列を、$2\\boldsymbol{J}^\\top \\boldsymbol{J}$ で近似(代用)したものと言えます。"
      ]
    },
    {
      "cell_type": "markdown",
      "metadata": {
        "id": "f7NTEh7yaQIs"
      },
      "source": [
        "## 例題：減衰振動のパラメータ推定\n",
        "\n",
        "下図のような計測データ$\\{(t_i,y_i)\\}$ ($i=0,1,\\cdots,20$)が得られたとします。減衰しながら振動しているように見えるので、減衰振動の式\n",
        "$$\n",
        "y(t) = f(t;\\boldsymbol{\\alpha})=C e^{-\\gamma t} \\sin (\\omega t - \\theta)\n",
        "$$\n",
        "がこのデータにうまく当てはまるように、パラメータ$\\boldsymbol{\\alpha}=[C,\\gamma,\\omega,\\theta]^\\top$\n",
        "を求めてみましょう。\n",
        "\n",
        "$f(t;\\boldsymbol{\\alpha})$は、パラメータ$\\boldsymbol{\\alpha}$に対して明らかに非線形なので、非線形最小二乗法の問題ということになります。\n",
        "\n",
        "<img src=\"https://drive.google.com/uc?export=view&id=1HZsYf91onifpBIb1su59mc4wZga7uJ3J\" width=\"300\"/>\n",
        "\n",
        "実際には、このデータは、以下のコードのように真のパラメータ値を、\n",
        "$$\n",
        "C = 5.0,\\hspace{5mm} \\gamma = 0.1,\\hspace{5mm} \\omega = 0.6,\\hspace{5mm} \\theta = \\frac{\\pi}{4}\n",
        "$$\n",
        "として、$t=0,1,\\cdots,20$ について計算し、計測誤差を模擬するため<font color=\"red\">ガウス分布(正規分布)\n",
        "$N(0,0.3^2)$に従うランダムノイズを加えて</font>生成しました。\n",
        "\n",
        "乱数を使っているので、コードを実行するたびに少し違うデータが生成されます。\n",
        "\n",
        "\n"
      ]
    },
    {
      "cell_type": "code",
      "metadata": {
        "colab": {
          "base_uri": "https://localhost:8080/",
          "height": 466
        },
        "id": "d_Pce1Iha4UL",
        "outputId": "ec58df71-7015-42aa-be50-83ea08931e4d"
      },
      "source": [
        "import numpy as np\n",
        "import numpy.linalg as la\n",
        "import matplotlib.pyplot as plt\n",
        "# Parameters\n",
        "C = 5.0\n",
        "gam = 0.1\n",
        "omg = 0.6\n",
        "th = 0.25 * np.pi\n",
        "sig = 0.3\n",
        "# t=0 から 20　まで\n",
        "ti = np.arange(21)\n",
        "y = C*np.exp(-gam*ti)*np.sin(omg*ti-th) + sig*np.random.randn(len(ti))\n",
        "plt.plot(ti,y,'o')\n",
        "plt.xlabel('Time [sec]')"
      ],
      "execution_count": null,
      "outputs": [
        {
          "output_type": "execute_result",
          "data": {
            "text/plain": [
              "Text(0.5, 0, 'Time [sec]')"
            ]
          },
          "metadata": {},
          "execution_count": 7
        },
        {
          "output_type": "display_data",
          "data": {
            "text/plain": [
              "<Figure size 640x480 with 1 Axes>"
            ],
            "image/png": "[encoded data removed]"
          },
          "metadata": {}
        }
      ]
    },
    {
      "cell_type": "markdown",
      "metadata": {
        "id": "kZRvbA0KqOn0"
      },
      "source": [
        "###ヤコブ行列\n",
        "\n",
        "Gauss-Newton法を適用する際に面倒なのは、ヤコブ行列$\\boldsymbol{J}$を求めるところです。上の減衰振動の式を各パラメータで偏微分してみると、\n",
        "$$\n",
        "\\begin{align}\n",
        "\\frac{\\partial f(t;\\boldsymbol{\\alpha})}{\\partial C} &= e^{-\\gamma t} \\sin (\\omega t - \\theta) \\\\\n",
        "\\frac{\\partial f(t;\\boldsymbol{\\alpha})}{\\partial \\gamma} &= -C t e^{-\\gamma t} \\sin (\\omega t - \\theta) \\\\\n",
        "\\frac{\\partial f(t;\\boldsymbol{\\alpha})}{\\partial \\omega} &= C t e^{-\\gamma t} \\cos (\\omega t - \\theta) \\\\\n",
        "\\frac{\\partial f(t;\\boldsymbol{\\alpha})}{\\partial \\theta} &= -C e^{-\\gamma t} \\cos (\\omega t - \\theta) \\\\\n",
        "\\end{align}\n",
        "$$\n",
        "となるので、ヤコブ行列の$i$行目$\\boldsymbol{J}_i$は、\n",
        "$$\n",
        "\\boldsymbol{J}_i = \\left[\n",
        "  \\begin{matrix}\n",
        "  e^{-\\gamma t_i} \\sin (\\omega t_i - \\theta) &\n",
        "  -C t_i e^{-\\gamma t_i} \\sin (\\omega t_i - \\theta) &\n",
        "  C t_i e^{-\\gamma t_i} \\cos (\\omega t_i - \\theta) &\n",
        "  -C e^{-\\gamma t_i} \\cos (\\omega t_i - \\theta)\n",
        "  \\end{matrix}\n",
        "  \\right]\n",
        "$$\n",
        "となります。<font color=\"blue\">一応、SymPy で検算してみましょう。</font>\n",
        "\n",
        "**(注意)** SymPy は、言わば、Mathematicaの「下位互換」と言えますが、Python (IPython  ノートブック) の中で使える点は便利です。しかも無料です。\n"
      ]
    },
    {
      "cell_type": "code",
      "metadata": {
        "colab": {
          "base_uri": "https://localhost:8080/",
          "height": 38
        },
        "id": "YCMICYCgnJHw",
        "outputId": "a1ee9591-5308-4d3e-fd3f-0f1f690ce625"
      },
      "source": [
        "import sympy as sy\n",
        "ts,Csym,gamma,omega,theta = sy.symbols(\"t C gamma omega theta\")\n",
        "ys = Csym * sy.exp(- gamma * ts) *sy.sin(omega * ts - theta)\n",
        "sy.Matrix([ys]).jacobian(sy.Matrix([Csym,gamma,omega,theta]))"
      ],
      "execution_count": null,
      "outputs": [
        {
          "output_type": "execute_result",
          "data": {
            "text/plain": [
              "Matrix([[exp(-gamma*t)*sin(omega*t - theta), -C*t*exp(-gamma*t)*sin(omega*t - theta), C*t*exp(-gamma*t)*cos(omega*t - theta), -C*exp(-gamma*t)*cos(omega*t - theta)]])"
            ],
            "text/latex": "$\\displaystyle \\left[\\begin{matrix}e^{- \\gamma t} \\sin{\\left(\\omega t - \\theta \\right)} & - C t e^{- \\gamma t} \\sin{\\left(\\omega t - \\theta \\right)} & C t e^{- \\gamma t} \\cos{\\left(\\omega t - \\theta \\right)} & - C e^{- \\gamma t} \\cos{\\left(\\omega t - \\theta \\right)}\\end{matrix}\\right]$"
          },
          "metadata": {},
          "execution_count": 8
        }
      ]
    },
    {
      "cell_type": "markdown",
      "metadata": {
        "id": "cTl6XoDemxKz"
      },
      "source": [
        "$f(t_i,\\boldsymbol{\\alpha})$と$\\boldsymbol{J}_i$を計算する関数を次のように定義します。"
      ]
    },
    {
      "cell_type": "code",
      "metadata": {
        "id": "5h226a6OmuNf"
      },
      "source": [
        "# パラメータを  a[] とする\n",
        "def func(ti,a):\n",
        "    y = a[0]*np.exp(-a[1]*ti)*np.sin(a[2]*ti-a[3])\n",
        "    return y\n",
        "# ヤコブ行列を計算する関数\n",
        "def Jacobian(ti,a):\n",
        "    j1 = np.exp(-a[1]*ti)*np.sin(a[2]*ti-a[3])\n",
        "    j2 = - a[0]*ti*np.exp(-a[1]*ti)*np.sin(a[2]*ti-a[3])\n",
        "    j3 = a[0]*ti*np.exp(-a[1]*ti)*np.cos(a[2]*ti-a[3])\n",
        "    j4 = -a[0]*np.exp(-a[1]*ti)*np.cos(a[2]*ti-a[3])\n",
        "    return np.array([j1,j2,j3,j4]).T"
      ],
      "execution_count": null,
      "outputs": []
    },
    {
      "cell_type": "code",
      "source": [
        "a = [1.,0.,0.5,0.5]\n",
        "#func(ti,a)\n",
        "Jacobian(ti,a)"
      ],
      "metadata": {
        "colab": {
          "base_uri": "https://localhost:8080/"
        },
        "id": "WTHthRZzTclk",
        "outputId": "ea69e739-a092-4b5c-d834-6417e2520ea5"
      },
      "execution_count": null,
      "outputs": [
        {
          "output_type": "execute_result",
          "data": {
            "text/plain": [
              "array([[ -0.47942554,   0.        ,   0.        ,  -0.87758256],\n",
              "       [  0.        ,  -0.        ,   1.        ,  -1.        ],\n",
              "       [  0.47942554,  -0.95885108,   1.75516512,  -0.87758256],\n",
              "       [  0.84147098,  -2.52441295,   1.62090692,  -0.54030231],\n",
              "       [  0.99749499,  -3.98997995,   0.28294881,  -0.0707372 ],\n",
              "       [  0.90929743,  -4.54648713,  -2.08073418,   0.41614684],\n",
              "       [  0.59847214,  -3.59083286,  -4.80686169,   0.80114362],\n",
              "       [  0.14112001,  -0.98784006,  -6.92994748,   0.9899925 ],\n",
              "       [ -0.35078323,   2.80626582,  -7.4916535 ,   0.93645669],\n",
              "       [ -0.7568025 ,   6.81122246,  -5.88279259,   0.65364362],\n",
              "       [ -0.97753012,   9.77530118,  -2.10795799,   0.2107958 ],\n",
              "       [ -0.95892427,  10.54816702,   3.12028404,  -0.28366219],\n",
              "       [ -0.70554033,   8.46648391,   8.50403729,  -0.70866977],\n",
              "       [ -0.2794155 ,   3.63240148,  12.48221373,  -0.96017029],\n",
              "       [  0.21511999,  -3.01167983,  13.67222676,  -0.97658763],\n",
              "       [  0.6569866 ,  -9.85479898,  11.30853382,  -0.75390225],\n",
              "       [  0.93799998, -15.00799963,   5.54616509,  -0.34663532],\n",
              "       [  0.98935825, -16.81909019,  -2.47350057,   0.14550003],\n",
              "       [  0.79848711, -14.37276803, -10.83621425,   0.6020119 ],\n",
              "       [  0.41211849,  -7.83025122, -17.31147498,   0.91113026],\n",
              "       [ -0.07515112,   1.50302241, -19.94344312,   0.99717216]])"
            ]
          },
          "metadata": {},
          "execution_count": 11
        }
      ]
    },
    {
      "cell_type": "markdown",
      "metadata": {
        "id": "lHZnVAqynVYS"
      },
      "source": [
        "あとは、適当な初期解を与え(ここでは、$\\boldsymbol{\\alpha}_0=[1.0, 0.0, 0.5, 0.5]$としています)、収束するまで反復計算します。"
      ]
    },
    {
      "cell_type": "code",
      "metadata": {
        "colab": {
          "base_uri": "https://localhost:8080/",
          "height": 872
        },
        "id": "mVziu4ohn7q3",
        "outputId": "4e2b9bc0-7652-48e9-92d1-ed20c44e3e3b"
      },
      "source": [
        "# 反復計算の履歴を残すためのリスト\n",
        "hist_sq = []\n",
        "# パラメータ推定値の初期値を設定\n",
        "alp = np.array([1.,0.,0.5,0.5])\n",
        "# 収束判定のため\n",
        "res = np.ones(len(ti))\n",
        "for it in range(30):\n",
        "    # 現在のパラメータでyを予測\n",
        "    res,respre = y - func(ti,alp),res\n",
        "    # 残差二乗和\n",
        "    sq = np.vdot(res,res)\n",
        "    hist_sq.append(sq)\n",
        "    print('sum of squared residuals: {}'.format(sq))\n",
        "    J = Jacobian(ti,alp)\n",
        "    # ここが最大のポイント\n",
        "    dlta = la.solve(np.dot(J.T,J),np.dot(J.T,res))\n",
        "    alp += dlta\n",
        "    print(alp)\n",
        "    # 前回からの差分\n",
        "    dif = res - respre\n",
        "    if np.vdot(dif,dif) < 1.0e-6:\n",
        "        print('Converged')\n",
        "        break\n",
        "# 回帰結果を使って再推定\n",
        "yhat = func(ti,alp)\n",
        "plt.plot(ti,y,'o')\n",
        "plt.plot(ti,yhat,'r-')"
      ],
      "execution_count": null,
      "outputs": [
        {
          "output_type": "stream",
          "name": "stdout",
          "text": [
            "sum of squared residuals: 34.36573544301423\n",
            "[4.20919328 0.25574881 0.57392799 0.75819717]\n",
            "sum of squared residuals: 18.638116083628745\n",
            "[ 2.99161574 -0.14318905  0.72478748  1.06618341]\n",
            "sum of squared residuals: 4820.4034923538875\n",
            "[ 0.97980931 -0.12432205  0.73608068  1.28251493]\n",
            "sum of squared residuals: 288.53793614109037\n",
            "[ 1.30016363 -0.04811912  0.76306589  1.82836166]\n",
            "sum of squared residuals: 56.47507325843534\n",
            "[2.49132527 0.06021026 0.70747666 1.20190818]\n",
            "sum of squared residuals: 15.496247002362988\n",
            "[4.44034885 0.13791936 0.60612398 0.73600052]\n",
            "sum of squared residuals: 4.759265189067921\n",
            "[4.55291043 0.08088868 0.59604208 0.80330964]\n",
            "sum of squared residuals: 1.7542781899814213\n",
            "[4.6900044  0.09689792 0.60169808 0.79938228]\n",
            "sum of squared residuals: 1.1113749076071238\n",
            "[4.69079525 0.09750761 0.60249716 0.79952669]\n",
            "sum of squared residuals: 1.1092719378597116\n",
            "[4.68944085 0.09744963 0.60250829 0.79959355]\n",
            "sum of squared residuals: 1.1092686144138075\n",
            "[4.68944985 0.09745037 0.60251079 0.79960278]\n",
            "sum of squared residuals: 1.1092686059613932\n",
            "[4.68944626 0.09745023 0.60251084 0.7996031 ]\n",
            "Converged\n"
          ]
        },
        {
          "output_type": "execute_result",
          "data": {
            "text/plain": [
              "[<matplotlib.lines.Line2D at 0x7f62fbef4340>]"
            ]
          },
          "metadata": {},
          "execution_count": 12
        },
        {
          "output_type": "display_data",
          "data": {
            "text/plain": [
              "<Figure size 640x480 with 1 Axes>"
            ],
            "image/png": "[encoded data removed]"
          },
          "metadata": {}
        }
      ]
    },
    {
      "cell_type": "code",
      "metadata": {
        "colab": {
          "base_uri": "https://localhost:8080/"
        },
        "id": "BBClkLLhoKO2",
        "outputId": "ae6bcccd-09e8-45a0-b2cf-7fb27a30a430"
      },
      "source": [
        "# 真のパラメータと比較\n",
        "print(\"True parameter values:\")\n",
        "print(\"C={:.3f}, gamma={:.3f}, omega={:.3f}, theta={:.3f}\".format(C,gam,omg,th))\n",
        "print(\"Estimated parameter values:\")\n",
        "print(\"C={:.3f}, gamma={:.3f}, omega={:.3f}, theta={:.3f}\".format(*tuple(alp)))"
      ],
      "execution_count": null,
      "outputs": [
        {
          "output_type": "stream",
          "name": "stdout",
          "text": [
            "True parameter values:\n",
            "C=5.000, gamma=0.100, omega=0.600, theta=0.785\n",
            "Estimated parameter values:\n",
            "C=4.689, gamma=0.097, omega=0.603, theta=0.800\n"
          ]
        }
      ]
    },
    {
      "cell_type": "markdown",
      "metadata": {
        "id": "Hu-8pxwFsePd"
      },
      "source": [
        "残差二乗和が反復とどのように変化しているかを見てみると、最初の方は必ずしも単調に減少するわけではなく、場合によっては途中で非常に大きな残差が生じることがあります。"
      ]
    },
    {
      "cell_type": "code",
      "metadata": {
        "colab": {
          "base_uri": "https://localhost:8080/",
          "height": 468
        },
        "id": "GdqL3iExsCjj",
        "outputId": "d61b94e8-d6a2-4667-e4e6-b19a8879c81d"
      },
      "source": [
        "# 残差二乗和の履歴\n",
        "plt.plot(hist_sq)\n",
        "plt.xlabel('Iteration')\n",
        "plt.ylabel('Residual')"
      ],
      "execution_count": null,
      "outputs": [
        {
          "output_type": "execute_result",
          "data": {
            "text/plain": [
              "Text(0, 0.5, 'Residual')"
            ]
          },
          "metadata": {},
          "execution_count": 14
        },
        {
          "output_type": "display_data",
          "data": {
            "text/plain": [
              "<Figure size 640x480 with 1 Axes>"
            ],
            "image/png": "[encoded data removed]"
          },
          "metadata": {}
        }
      ]
    },
    {
      "cell_type": "markdown",
      "source": [
        "繰り返し計算の2ステップ目で、残差二乗和の値が瞬間的に大きくなっていることが分かります。"
      ],
      "metadata": {
        "id": "nTnxaAWm_cip"
      }
    },
    {
      "cell_type": "markdown",
      "source": [
        "## Levenberg-Marquardt 法\n",
        "\n",
        "Gauss-Newton 法の問題点は、ヘッセ行列の近似である、$\\boldsymbol{J}^\\top \\boldsymbol{J}$ が非正則(逆行列を持たなくなる)に近づくと、計算が不安定になることです。\n",
        "これは、前回の授業のニュートン法の説明でも話をしました。そして、その対策の一つが、<font color=\"red\">ヘッセ行列に単位行列の定数倍を足し込んでを無理やり正則にすること</font> ($\\boldsymbol{H} \\rightarrow \\boldsymbol{H} + \\lambda \\boldsymbol{I} $) でした。\n",
        "\n",
        "この対策は、非線形最小二乗法でも有効で、<font color=\"blue\">Gauss-Newton法の中の、$\\boldsymbol{J}^\\top \\boldsymbol{J}$ を、$\\boldsymbol{J}^\\top \\boldsymbol{J} + + \\lambda \\boldsymbol{I}$ に置き換えたものは、Levenberg-Marquardt 法</font>として知られ、定番アルゴリズムとなっています。\n",
        "\n",
        "本当のLevenberg-Marquardt 法では、(正則化の強さを表す)$\\lambda$の値をステップごとに調整するのですが、今回は、簡易版として、$\\lambda$を固定値にしてやってみます。"
      ],
      "metadata": {
        "id": "TykIhPVW-Vw4"
      }
    },
    {
      "cell_type": "code",
      "source": [
        "# 正則化の強さ\n",
        "lmd = 2.0\n",
        "# 反復計算の履歴を残すためのリスト\n",
        "hist_sq = []\n",
        "# パラメータ推定値の初期値を設定\n",
        "alp = np.array([1.,0.,0.5,0.5])\n",
        "# 収束判定のため\n",
        "res = np.ones(len(ti))\n",
        "for it in range(30):\n",
        "    # 現在のパラメータでyを予測\n",
        "    res,respre = y - func(ti,alp),res\n",
        "    # 残差二乗和\n",
        "    sq = np.vdot(res,res)\n",
        "    hist_sq.append(sq)\n",
        "    print('sum of squared residuals: {}'.format(sq))\n",
        "    J = Jacobian(ti,alp)\n",
        "    # 一種の正則化\n",
        "    H = np.dot(J.T,J)+lmd*np.eye(len(alp))\n",
        "    dlta = la.solve(H,np.dot(J.T,res))\n",
        "    alp += dlta\n",
        "    print(alp)\n",
        "    # 前回からの差分\n",
        "    dif = res - respre\n",
        "    if np.vdot(dif,dif) < 1.0e-6:\n",
        "        print('Converged')\n",
        "        break\n",
        "# 回帰結果を使って再推定\n",
        "yhat = func(ti,alp)\n",
        "plt.plot(ti,y,'o')\n",
        "plt.plot(ti,yhat,'r-')"
      ],
      "metadata": {
        "colab": {
          "base_uri": "https://localhost:8080/",
          "height": 1000
        },
        "id": "rMKxKTQe-ib4",
        "outputId": "237aaa98-c1b6-4e7d-9402-b9394f67bff7"
      },
      "execution_count": null,
      "outputs": [
        {
          "output_type": "stream",
          "name": "stdout",
          "text": [
            "sum of squared residuals: 34.36573544301423\n",
            "[2.65098388 0.13607172 0.57396011 0.69427839]\n",
            "sum of squared residuals: 17.06876135482937\n",
            "[ 3.154661   -0.02390611  0.6550276   0.98579835]\n",
            "sum of squared residuals: 81.29777281026804\n",
            "[3.34333966 0.03076768 0.6469244  0.99201817]\n",
            "sum of squared residuals: 10.342457172998914\n",
            "[3.78797999 0.07269804 0.62628905 0.90061615]\n",
            "sum of squared residuals: 2.4007747150028744\n",
            "[4.10904641 0.08506192 0.60963038 0.83987467]\n",
            "sum of squared residuals: 1.4849566952914188\n",
            "[4.31084728 0.08859216 0.60572732 0.82195398]\n",
            "sum of squared residuals: 1.2592143954892188\n",
            "[4.44099961 0.09160737 0.60457856 0.81412666]\n",
            "sum of squared residuals: 1.1728209101266729\n",
            "[4.52543341 0.09357371 0.60388416 0.80923556]\n",
            "sum of squared residuals: 1.136689238032332\n",
            "[4.5807382  0.09487252 0.60342674 0.80601389]\n",
            "sum of squared residuals: 1.1212370531881377\n",
            "[4.61720333 0.09573354 0.6031221  0.80387519]\n",
            "sum of squared residuals: 1.1145319875772874\n",
            "[4.64135244 0.09630579 0.60291891 0.80245223]\n",
            "sum of squared residuals: 1.1115947577444782\n",
            "[4.65739188 0.09668676 0.60278332 0.80150426]\n",
            "sum of squared residuals: 1.1103000109469965\n",
            "[4.66806561 0.09694067 0.60269281 0.80087218]\n",
            "sum of squared residuals: 1.1097269175126445\n",
            "[4.67517778 0.09711003 0.60263238 0.80045046]\n",
            "sum of squared residuals: 1.109472553080324\n",
            "[4.67992086 0.09722306 0.60259203 0.80016898]\n",
            "sum of squared residuals: 1.1093594487888552\n",
            "[4.6830858  0.09729851 0.60256507 0.79998106]\n",
            "sum of squared residuals: 1.1093090953455231\n",
            "[4.6851985  0.09734889 0.60254707 0.79985556]\n",
            "sum of squared residuals: 1.1092866600958602\n",
            "[4.68660915 0.09738254 0.60253505 0.79977175]\n",
            "sum of squared residuals: 1.1092766585472629\n",
            "[4.6875512  0.09740501 0.60252701 0.79971576]\n",
            "sum of squared residuals: 1.1092721982871412\n",
            "[4.68818039 0.09742002 0.60252165 0.79967837]\n",
            "Converged\n"
          ]
        },
        {
          "output_type": "execute_result",
          "data": {
            "text/plain": [
              "[<matplotlib.lines.Line2D at 0x7f62fbd9e6e0>]"
            ]
          },
          "metadata": {},
          "execution_count": 15
        },
        {
          "output_type": "display_data",
          "data": {
            "text/plain": [
              "<Figure size 640x480 with 1 Axes>"
            ],
            "image/png": "[encoded data removed]"
          },
          "metadata": {}
        }
      ]
    },
    {
      "cell_type": "code",
      "source": [
        "# 残差二乗和の履歴\n",
        "plt.plot(hist_sq)\n",
        "plt.xlabel('Iteration')\n",
        "plt.ylabel('Residual')"
      ],
      "metadata": {
        "colab": {
          "base_uri": "https://localhost:8080/",
          "height": 466
        },
        "id": "l7UhnlQM_7dE",
        "outputId": "ab3ca168-1798-4990-d5bd-f35f322ec762"
      },
      "execution_count": null,
      "outputs": [
        {
          "output_type": "execute_result",
          "data": {
            "text/plain": [
              "Text(0, 0.5, 'Residual')"
            ]
          },
          "metadata": {},
          "execution_count": 16
        },
        {
          "output_type": "display_data",
          "data": {
            "text/plain": [
              "<Figure size 640x480 with 1 Axes>"
            ],
            "image/png": "[encoded data removed]"
          },
          "metadata": {}
        }
      ]
    },
    {
      "cell_type": "markdown",
      "source": [
        "やはり、反復の2ステップ目で少し残差が大きくなりますが、Gauss-Newton法のときほど劇的ではなく、安定化されていることが分かります。"
      ],
      "metadata": {
        "id": "mCmhpkSZDTqM"
      }
    },
    {
      "cell_type": "markdown",
      "metadata": {
        "id": "40DVxFUkXCew"
      },
      "source": [
        "## 非線形最小二乗法の実際\n",
        "\n",
        "基本的には、Levenberg-Marquardt法が非線形最小二乗法のデファクトスタンダードと言えます。敢えて素のGauss-Newton法を使う理由はほとんど無いと言えます。\n",
        "\n",
        "ただし、線形の場合とは異なり、<font color=\"red\">非線形の最小二乗法では局所解(local optima)が多数存在する</font>場合があるので、初期解を適切に与える必要があります。\n"
      ]
    },
    {
      "cell_type": "markdown",
      "metadata": {
        "id": "DEZhaP_DTr7v"
      },
      "source": [
        "## [scipy.optimize.least_squares](https://docs.scipy.org/doc/scipy/reference/generated/scipy.optimize.least_squares.html) を使うと\n",
        "\n",
        "一応、SciPyで用意されている、非線形最小二乗法を解く関数`least_squares`を使った例も紹介します。\n",
        "\n",
        "`least_squares`の第1引数には、残差ベクトルを計算する関数を、第2引数にはパラメータの初期値を与えます。その他オプションの引数で、使うアルゴリズムの指定や、パラメータの範囲なども指定できます。\n",
        "非常に高性能ですが、オプションが多くて最初は分かりにくいかもしれません。。\n",
        "\n",
        "下の例では、`method='lm'` というオプション引数で、アルゴリズムとしてLevenberg-Markquadt法を指定しています。\n",
        "\n",
        "また、ヤコブ行列は有限差分法で近似的に計算されるので、パラメータに関する勾配を計算する関数を用意しておかなくても大丈夫です。\n"
      ]
    },
    {
      "cell_type": "code",
      "metadata": {
        "colab": {
          "base_uri": "https://localhost:8080/"
        },
        "id": "c6mc_OrDSxqp",
        "outputId": "d8877ec2-9fbf-4626-bce8-53dfc8f2d549"
      },
      "source": [
        "from scipy.optimize import least_squares\n",
        "\n",
        "# パラメータを引数とし、残差のベクトルを返す関数。\n",
        "def residuals(alp):\n",
        "  return y - func(ti,alp)\n",
        "\n",
        "# パラメータの初期解\n",
        "a0 = np.array([1.,0.,0.5,0.5])\n",
        "\n",
        "# 非線形最小二乗法を実行\n",
        "res = least_squares(residuals,a0,method='lm')\n",
        "\n",
        "# パラメータの最小二乗解\n",
        "print(res.x)\n",
        "\n",
        "# コスト関数の値\n",
        "print(res.cost)"
      ],
      "execution_count": null,
      "outputs": [
        {
          "output_type": "stream",
          "name": "stdout",
          "text": [
            "[4.68944462 0.09745017 0.60251092 0.79960343]\n",
            "0.5546343029728179\n"
          ]
        }
      ]
    },
    {
      "cell_type": "markdown",
      "source": [
        "自前のLM法だと、求めた解での残差二乗和$Q(\\boldsymbol{\\alpha})$の値が、`1.349`\n",
        "だったので、「ん？」と思うかもしれませんが、`least_squares()`のマニュアルをちゃんと読むと、コスト関数が $0.5 * Q(\\boldsymbol{\\alpha})$ で定義されていたので、これで良いことが分かります。\n"
      ],
      "metadata": {
        "id": "gUK2pWTmSOmc"
      }
    },
    {
      "cell_type": "markdown",
      "source": [
        "**(練習)** 距離計測による位置推定\n",
        "\n",
        "4つの計測地点の2次元座標が、$\\boldsymbol{x}_0=(100,100), \\boldsymbol{x}_1=(-100,100), \\boldsymbol{x}_2=(-100,-100), \\boldsymbol{x}_3=(100,-100)$ だとします。これらの地点から現在地C$(\\alpha_0,\\alpha_1)$ までの距離を計測したところ、$\\boldsymbol{y}=[134.6, 90.1, 167.7, 195.2 ]$ という値でした。これらの計測には誤差が含まれます。このとき、現在位置の座標を最小二乗法により求めてください。\n",
        "すなわち、\n",
        "$$\n",
        "Q(\\boldsymbol{\\alpha}) = \\sum_{i=0}^3 ( y_i - \\Vert \\boldsymbol{x}_i - \\boldsymbol{\\alpha} \\Vert )^2\n",
        "$$\n",
        "を最小にする$\\boldsymbol{\\alpha}$の値を求めてください。"
      ],
      "metadata": {
        "id": "pP0W2tcr4r7o"
      }
    },
    {
      "cell_type": "code",
      "source": [],
      "metadata": {
        "id": "FT0fED1MGzgm"
      },
      "execution_count": null,
      "outputs": []
    },
    {
      "cell_type": "markdown",
      "source": [
        "# 次回予告\n",
        "\n",
        "当初の予定では、「制約あり最適化」をやることになっていましたが、ここまでで既に盛り沢山で、お腹いっぱいという人も多いと思うので、もう少し軽い(?)話題で締めようと思っています。"
      ],
      "metadata": {
        "id": "eR2HmfK1TJfd"
      }
    }
  ]
}