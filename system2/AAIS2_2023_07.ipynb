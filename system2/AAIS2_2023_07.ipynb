{
  "nbformat": 4,
  "nbformat_minor": 0,
  "metadata": {
    "colab": {
      "provenance": []
    },
    "kernelspec": {
      "name": "python3",
      "display_name": "Python 3"
    },
    "language_info": {
      "name": "python"
    }
  },
  "cells": [
    {
      "cell_type": "markdown",
      "source": [
        "## 航空宇宙情報システム学第二\n",
        "\n",
        "<h1><center> 第7回 線形判別 〜ロジスティック回帰による分類〜 </center> </h1>\n",
        "\n",
        "<center>\n",
        "\n",
        "2023年5月23日\n",
        "\n",
        "担当教員: 矢入健久\n",
        "\n",
        "e-mail: yairi@g.ecc.u-tokyo.ac.jp\n",
        "</center>"
      ],
      "metadata": {
        "id": "qcUTu2tqU9-J"
      }
    },
    {
      "cell_type": "markdown",
      "source": [
        "# はじめに\n",
        "\n",
        "前回、前々回は、曲線当てはめ(curve fitting)または回帰(regression)と呼ばれる問題を扱いました。簡単に言えば、関数\n",
        "$$\n",
        "y = f_\\boldsymbol{\\alpha}(\\boldsymbol{x})\n",
        "$$\n",
        "が与えられたデータ ${\\cal D}=\\{ (\\boldsymbol{x}_0,y_0),(\\boldsymbol{x}_1,y_1),\\ldots, (\\boldsymbol{x}_{N-1},y_{N-1}) \\}$によく当てはまるように、関数のパラメータ$\\boldsymbol{\\alpha}$を求める問題でした。<font color=\"blue\">回帰問題では、関数の出力である$y$は目標変数と呼ばれ、一般に**連続値(実数値)**を取ります。</font>\n",
        "\n",
        "それに対して、<font color=\"red\">**分類**(classification)と呼ばれる問題では、$y$の取りうる値が整数値、特に**二値分類**では、0か1かのどちらか</font>に限定されます。\n",
        "今日は、分類（判別、識別とも呼ばれる）手法の代表のひとつである**ロジスティック回帰(logistic regression)** を紹介します。<font color=\"red\">手法名に「回帰」という言葉が入っていますが、実際には回帰ではなく分類を目的としている</font>ところが紛らわしいのですが、どうしてそういう名前になっているかは、追々分かってきます。"
      ],
      "metadata": {
        "id": "cZETeH2FCGWI"
      }
    },
    {
      "cell_type": "markdown",
      "source": [
        "## (二値)線形分類問題\n",
        "\n",
        "人工的な例題ですが、次のようなデータがあるとします。$x_1$と$x_2$は2つの説明変数、$y$は0か1の値を取る説明変数で「ラベル」と呼ぶこともあります。\n",
        "\n",
        "|$x_1$|$x_2$|$y$|\n",
        "|-|-|-|\n",
        "| 3.01 | 5.03|1|\n",
        "|-2.81 | 0.74|0|\n",
        "| 0.25 | 1.52|1|\n",
        "|-2.59 | -2.01|0|\n",
        "| 2.31 | 2.84|1|\n",
        "| 1.68 | 3.31|1|\n",
        "|-1.16 | 4.1 |0|\n",
        "|-2.26 |-1.08|0|\n",
        "| 4.33 | 0.63|1|\n",
        "|-0.3  |-3.61|0|\n",
        "\n",
        "Pandas のデータフレームオブジェクトは次のような感じで作ることができます。"
      ],
      "metadata": {
        "id": "DNrdBhXoIFVX"
      }
    },
    {
      "cell_type": "code",
      "execution_count": null,
      "metadata": {
        "colab": {
          "base_uri": "https://localhost:8080/",
          "height": 359
        },
        "id": "2kadRaQvASdZ",
        "outputId": "e353a0ce-97e0-49a1-c968-3b307d9e3707"
      },
      "outputs": [
        {
          "output_type": "execute_result",
          "data": {
            "text/plain": [
              "     x1    x2  y\n",
              "0  3.01  5.03  1\n",
              "1 -2.81  0.74  0\n",
              "2  0.25  1.52  1\n",
              "3 -2.59 -2.01  0\n",
              "4  2.31  2.84  1\n",
              "5  1.68  3.31  1\n",
              "6 -1.16  4.10  0\n",
              "7 -2.26 -1.08  0\n",
              "8  4.33  0.63  1\n",
              "9 -0.30 -3.61  0"
            ],
            "text/html": [
              "\n",
              "  <div id=\"df-a509d608-2359-412b-9207-6da76531843a\">\n",
              "    <div class=\"colab-df-container\">\n",
              "      <div>\n",
              "<style scoped>\n",
              "    .dataframe tbody tr th:only-of-type {\n",
              "        vertical-align: middle;\n",
              "    }\n",
              "\n",
              "    .dataframe tbody tr th {\n",
              "        vertical-align: top;\n",
              "    }\n",
              "\n",
              "    .dataframe thead th {\n",
              "        text-align: right;\n",
              "    }\n",
              "</style>\n",
              "<table border=\"1\" class=\"dataframe\">\n",
              "  <thead>\n",
              "    <tr style=\"text-align: right;\">\n",
              "      <th></th>\n",
              "      <th>x1</th>\n",
              "      <th>x2</th>\n",
              "      <th>y</th>\n",
              "    </tr>\n",
              "  </thead>\n",
              "  <tbody>\n",
              "    <tr>\n",
              "      <th>0</th>\n",
              "      <td>3.01</td>\n",
              "      <td>5.03</td>\n",
              "      <td>1</td>\n",
              "    </tr>\n",
              "    <tr>\n",
              "      <th>1</th>\n",
              "      <td>-2.81</td>\n",
              "      <td>0.74</td>\n",
              "      <td>0</td>\n",
              "    </tr>\n",
              "    <tr>\n",
              "      <th>2</th>\n",
              "      <td>0.25</td>\n",
              "      <td>1.52</td>\n",
              "      <td>1</td>\n",
              "    </tr>\n",
              "    <tr>\n",
              "      <th>3</th>\n",
              "      <td>-2.59</td>\n",
              "      <td>-2.01</td>\n",
              "      <td>0</td>\n",
              "    </tr>\n",
              "    <tr>\n",
              "      <th>4</th>\n",
              "      <td>2.31</td>\n",
              "      <td>2.84</td>\n",
              "      <td>1</td>\n",
              "    </tr>\n",
              "    <tr>\n",
              "      <th>5</th>\n",
              "      <td>1.68</td>\n",
              "      <td>3.31</td>\n",
              "      <td>1</td>\n",
              "    </tr>\n",
              "    <tr>\n",
              "      <th>6</th>\n",
              "      <td>-1.16</td>\n",
              "      <td>4.10</td>\n",
              "      <td>0</td>\n",
              "    </tr>\n",
              "    <tr>\n",
              "      <th>7</th>\n",
              "      <td>-2.26</td>\n",
              "      <td>-1.08</td>\n",
              "      <td>0</td>\n",
              "    </tr>\n",
              "    <tr>\n",
              "      <th>8</th>\n",
              "      <td>4.33</td>\n",
              "      <td>0.63</td>\n",
              "      <td>1</td>\n",
              "    </tr>\n",
              "    <tr>\n",
              "      <th>9</th>\n",
              "      <td>-0.30</td>\n",
              "      <td>-3.61</td>\n",
              "      <td>0</td>\n",
              "    </tr>\n",
              "  </tbody>\n",
              "</table>\n",
              "</div>\n",
              "      <button class=\"colab-df-convert\" onclick=\"convertToInteractive('df-a509d608-2359-412b-9207-6da76531843a')\"\n",
              "              title=\"Convert this dataframe to an interactive table.\"\n",
              "              style=\"display:none;\">\n",
              "        \n",
              "  <svg xmlns=\"http://www.w3.org/2000/svg\" height=\"24px\"viewBox=\"0 0 24 24\"\n",
              "       width=\"24px\">\n",
              "    <path d=\"M0 0h24v24H0V0z\" fill=\"none\"/>\n",
              "    <path d=\"M18.56 5.44l.94 2.06.94-2.06 2.06-.94-2.06-.94-.94-2.06-.94 2.06-2.06.94zm-11 1L8.5 8.5l.94-2.06 2.06-.94-2.06-.94L8.5 2.5l-.94 2.06-2.06.94zm10 10l.94 2.06.94-2.06 2.06-.94-2.06-.94-.94-2.06-.94 2.06-2.06.94z\"/><path d=\"M17.41 7.96l-1.37-1.37c-.4-.4-.92-.59-1.43-.59-.52 0-1.04.2-1.43.59L10.3 9.45l-7.72 7.72c-.78.78-.78 2.05 0 2.83L4 21.41c.39.39.9.59 1.41.59.51 0 1.02-.2 1.41-.59l7.78-7.78 2.81-2.81c.8-.78.8-2.07 0-2.86zM5.41 20L4 18.59l7.72-7.72 1.47 1.35L5.41 20z\"/>\n",
              "  </svg>\n",
              "      </button>\n",
              "      \n",
              "  <style>\n",
              "    .colab-df-container {\n",
              "      display:flex;\n",
              "      flex-wrap:wrap;\n",
              "      gap: 12px;\n",
              "    }\n",
              "\n",
              "    .colab-df-convert {\n",
              "      background-color: #E8F0FE;\n",
              "      border: none;\n",
              "      border-radius: 50%;\n",
              "      cursor: pointer;\n",
              "      display: none;\n",
              "      fill: #1967D2;\n",
              "      height: 32px;\n",
              "      padding: 0 0 0 0;\n",
              "      width: 32px;\n",
              "    }\n",
              "\n",
              "    .colab-df-convert:hover {\n",
              "      background-color: #E2EBFA;\n",
              "      box-shadow: 0px 1px 2px rgba(60, 64, 67, 0.3), 0px 1px 3px 1px rgba(60, 64, 67, 0.15);\n",
              "      fill: #174EA6;\n",
              "    }\n",
              "\n",
              "    [theme=dark] .colab-df-convert {\n",
              "      background-color: #3B4455;\n",
              "      fill: #D2E3FC;\n",
              "    }\n",
              "\n",
              "    [theme=dark] .colab-df-convert:hover {\n",
              "      background-color: #434B5C;\n",
              "      box-shadow: 0px 1px 3px 1px rgba(0, 0, 0, 0.15);\n",
              "      filter: drop-shadow(0px 1px 2px rgba(0, 0, 0, 0.3));\n",
              "      fill: #FFFFFF;\n",
              "    }\n",
              "  </style>\n",
              "\n",
              "      <script>\n",
              "        const buttonEl =\n",
              "          document.querySelector('#df-a509d608-2359-412b-9207-6da76531843a button.colab-df-convert');\n",
              "        buttonEl.style.display =\n",
              "          google.colab.kernel.accessAllowed ? 'block' : 'none';\n",
              "\n",
              "        async function convertToInteractive(key) {\n",
              "          const element = document.querySelector('#df-a509d608-2359-412b-9207-6da76531843a');\n",
              "          const dataTable =\n",
              "            await google.colab.kernel.invokeFunction('convertToInteractive',\n",
              "                                                     [key], {});\n",
              "          if (!dataTable) return;\n",
              "\n",
              "          const docLinkHtml = 'Like what you see? Visit the ' +\n",
              "            '<a target=\"_blank\" href=https://colab.research.google.com/notebooks/data_table.ipynb>data table notebook</a>'\n",
              "            + ' to learn more about interactive tables.';\n",
              "          element.innerHTML = '';\n",
              "          dataTable['output_type'] = 'display_data';\n",
              "          await google.colab.output.renderOutput(dataTable, element);\n",
              "          const docLink = document.createElement('div');\n",
              "          docLink.innerHTML = docLinkHtml;\n",
              "          element.appendChild(docLink);\n",
              "        }\n",
              "      </script>\n",
              "    </div>\n",
              "  </div>\n",
              "  "
            ]
          },
          "metadata": {},
          "execution_count": 3
        }
      ],
      "source": [
        "import pandas as pd\n",
        "# 説明変数データ\n",
        "Xlst = [[ 3.01,  5.03],\n",
        " [-2.81,  0.74],\n",
        " [ 0.25,  1.52],\n",
        " [-2.59, -2.01],\n",
        " [ 2.31,  2.84],\n",
        " [ 1.68,  3.31],\n",
        " [-1.16,  4.1 ],\n",
        " [-2.26, -1.08],\n",
        " [ 4.33,  0.63],\n",
        " [-0.3,  -3.61]]\n",
        " # ターゲット変数データ\n",
        "ylst = [1, 0, 1, 0, 1, 1, 0, 0, 1, 0]\n",
        "\n",
        "# データフレーム\n",
        "df0 = pd.DataFrame(Xlst,columns=[\"x1\",\"x2\"])\n",
        "df0[\"y\"] = ylst\n",
        "df0\n"
      ]
    },
    {
      "cell_type": "markdown",
      "source": [
        "2つの説明変数をそれぞれ横軸、縦軸に取り、目標変数の値が0のサンプルを青いマーカー、1のサンプルをオレンジのマーカーでプロットすると、次のような散布図が得られます。"
      ],
      "metadata": {
        "id": "ypBa7g5-j7oR"
      }
    },
    {
      "cell_type": "code",
      "source": [
        "import matplotlib.pyplot as plt\n",
        "\n",
        "# y=0のサンプルをプロット\n",
        "ix0 = (df0.y==0)\n",
        "plt.scatter(df0.loc[ix0,\"x1\"],df0.loc[ix0,\"x2\"],label=\"y=0\")\n",
        "# y=1のサンプルをプロット\n",
        "ix1 = (df0.y==1)\n",
        "plt.scatter(df0.loc[ix1,\"x1\"],df0.loc[ix1,\"x2\"],label=\"y=1\")\n",
        "plt.legend()\n",
        "plt.xlabel(\"x1\")\n",
        "plt.ylabel(\"x2\")\n",
        "# 識別境界線\n",
        "plt.plot([-1,0.5],[6,-4],\"r:\")\n",
        "plt.ylim([-4,6])"
      ],
      "metadata": {
        "colab": {
          "base_uri": "https://localhost:8080/",
          "height": 472
        },
        "id": "_a3TFmICh-zH",
        "outputId": "a9dd6dfc-7a4b-4ada-f6b8-635d3c2a95a1"
      },
      "execution_count": null,
      "outputs": [
        {
          "output_type": "execute_result",
          "data": {
            "text/plain": [
              "(-4.0, 6.0)"
            ]
          },
          "metadata": {},
          "execution_count": 4
        },
        {
          "output_type": "display_data",
          "data": {
            "text/plain": [
              "<Figure size 640x480 with 1 Axes>"
            ],
            "image/png": "[encoded data removed]"
          },
          "metadata": {}
        }
      ]
    },
    {
      "cell_type": "markdown",
      "source": [
        "二値の線形分類とは、2つのクラス($y=0$と$y=1$)のサンプルをできるだけきれいに分割するような直線（一般には超平面）\n",
        "$$\n",
        "b_0 + b_1 x_1 + b_2 x_2 = 0\n",
        "$$\n",
        "を求めることになります。これを識別境界線（一般には識別境界面）と呼びます。例えば、この例題では赤い点線が識別境界線です。\n",
        "\n",
        "与えられたデータからそのような線形識別面を求める方法・アルゴリズムには様々なものが存在します。代表的なのが、\n",
        "* フィッシャー判別分析\n",
        "* サポートベクトルマシン(最大マージン分類器)\n",
        "* ロジスティック回帰\n",
        "\n",
        "などですが、今回はその中の**ロジスティック回帰**を取り上げたいと思います。"
      ],
      "metadata": {
        "id": "T1ZzdmtXk9rw"
      }
    },
    {
      "cell_type": "markdown",
      "source": [
        "# ベルヌーイ分布モデルの最大尤度推定\n",
        "\n",
        "分類問題から少し離れるのですが、ロジスティック回帰モデルを理解する上で、ベルヌーイ分布と最尤法が前提となるので、その話を手短(?)にしておきたいと思います。\n",
        "\n",
        "次のような例題を考えます。\n",
        "\n",
        "\n",
        "## **[例題]** くじの当選確率の推定\n",
        "---\n",
        "当選確率を$q$ ($0\\leq q \\leq 1$)とするくじがあるとします。このくじを$N$回引いた結果、\n",
        "$$\n",
        "y_0, y_1, \\ldots, y_{N-1}\n",
        "$$\n",
        "という結果が得られました。ただし、各$y_i$ ($i=0,1,\\ldots,N-1$)は、$0$または$1$の値を取り、$0$はハズレ、$1$は当たり、を表すとします。このとき、このくじの当選確率$q$を推定してください。\n",
        "\n",
        "---\n",
        "\n",
        "この問題、あまり深く考えなくても、直感的に、「当たった回数を、くじを引いた回数で割れば良いんじゃない？」と思いますよね。この考えに従えば、$q$の値は、\n",
        "\n",
        "$$\n",
        "\\hat{q} = \\frac{\\sum_{i=1}^N y_i}{N}\n",
        "$$\n",
        "となるはずです。これが正しいかどうか、最尤法に従って考えてみます。\n",
        "\n",
        "## 尤度と対数尤度\n",
        "\n",
        "尤度(likelihood)は、パラメータ(例題の場合は$q$)の値を仮定したときに、観測結果(例題の場合は、$Y = \\{y_0, y_1, \\ldots, y_{N-1} \\}$)が生じる確率によって定義されます。従って、例題の場合、尤度を$L(q\\vert Y)$と書くとすると、通常、各回のくじの当たりハズレは独立しているので、\n",
        "$$\n",
        "L(q\\vert Y) = p(y_0 \\vert q)\\cdot p(y_1 \\vert q)\\cdot \\cdots p(y_{N-1} \\vert q) = \\prod_{i=0}^{N-1} p(y_i \\vert q)\n",
        "$$\n",
        "となります。ここで、<font color=\"red\">$p(y_i \\vert q)$は、$i$番目のくじの結果が$y_i$となる確率</font>を表します。$y_i$は$0$か$1$なので、場合分けを使えば、\n",
        "$$\n",
        "p(y_i \\vert q) =\n",
        "\\left\\{\n",
        "\\begin{array}{ll}\n",
        "1-q & \\mbox{if $y_i=0$} \\\\\n",
        "q & \\mbox{if $y_i=1$}\n",
        "\\end{array}\n",
        "\\right.\n",
        "$$\n",
        "と書けますが、次のように無理やり1行で書くこともできます。\n",
        "$$\n",
        "p(y_i \\vert q) = (1-q)^{1-y_i} \\cdot q^{y_i}\n",
        "$$\n",
        "こちらの書き方を採用すれば、先程の尤度は、\n",
        "$$\n",
        "L(q\\vert Y) =\\prod_{i=0}^{N-1} (1-q)^{1-y_i} \\cdot q^{y_i}\n",
        "$$\n",
        "となります。\n",
        "\n",
        "対数尤度(関数)は、その名の通り、尤度の対数を取ったもので、$l(q\\vert Y)$と書くとすると、\n",
        "$$\n",
        "\\begin{align}\n",
        "l(q\\vert Y) &= \\log L(q\\vert Y) = \\log \\prod_{i=0}^{N-1} (1-q)^{1-y_i} \\cdot q^{y_i} = \\sum_{i=0}^{N-1} \\log \\{ (1-q)^{1-y_i} \\cdot q^{y_i} \\} \\\\\n",
        "&= \\sum_{i=0}^{N-1} \\{ (1-y_i) \\log (1-q)  + y_i \\log q\\}\n",
        "\\end{align}\n",
        "$$\n"
      ],
      "metadata": {
        "id": "JqcLYO0dFQ2d"
      }
    },
    {
      "cell_type": "markdown",
      "source": [
        "## 最大尤度推定法(最尤法)によるパラメータ推定\n",
        "\n",
        "最尤法はその名の通り、尤度関数または対数尤度関数を最大化するようなパラメータの値を求める考え方です。上述のくじ引きの例題で、$N=10$で、結果$Y$が、\n",
        "\n",
        "|$y_0$|$y_1$|$y_2$|$y_3$|$y_4$|$y_5$|$y_6$|$y_7$|$y_8$|$y_9$|\n",
        "|-|-|-|-|-|-|-|-|-|-|\n",
        "|0|0|1|0|1|0|0|0|1|0|\n",
        "\n",
        "だったとしたとき、$0\\leq q \\leq 1$ に対して対数尤度関数$l(q\\vert Y)$の値をプロットしてみると、"
      ],
      "metadata": {
        "id": "UXa7NFYkH8El"
      }
    },
    {
      "cell_type": "code",
      "source": [
        "import numpy as np\n",
        "# くじびきの結果\n",
        "Y = [0,0,1,0,1,0,0,0,1,0]\n",
        "# パラメータq (0<q<1)に対して対数尤度を計算\n",
        "def llkhd_ber(q):\n",
        "  N = len(Y)\n",
        "  ll = (N-sum(Y))*np.log(1-q)+sum(Y)*np.log(q)\n",
        "  return ll\n",
        "qlst = np.linspace(0.0,1.0,21)\n",
        "plt.plot(qlst,llkhd_ber(qlst),\"o-\")\n",
        "plt.xlim([0,1])\n",
        "plt.xlabel(\"q\")\n",
        "plt.ylabel(\"log likelihood\")"
      ],
      "metadata": {
        "colab": {
          "base_uri": "https://localhost:8080/",
          "height": 500
        },
        "id": "6i6c-VObIv1I",
        "outputId": "0a639dfe-da42-49be-894c-89421e48cf76"
      },
      "execution_count": null,
      "outputs": [
        {
          "output_type": "stream",
          "name": "stderr",
          "text": [
            "<ipython-input-5-a5201c2956ad>:7: RuntimeWarning: divide by zero encountered in log\n",
            "  ll = (N-sum(Y))*np.log(1-q)+sum(Y)*np.log(q)\n"
          ]
        },
        {
          "output_type": "execute_result",
          "data": {
            "text/plain": [
              "Text(0, 0.5, 'log likelihood')"
            ]
          },
          "metadata": {},
          "execution_count": 5
        },
        {
          "output_type": "display_data",
          "data": {
            "text/plain": [
              "<Figure size 640x480 with 1 Axes>"
            ],
            "image/png": "[encoded data removed]"
          },
          "metadata": {}
        }
      ]
    },
    {
      "cell_type": "markdown",
      "source": [
        "のようになり、確かに、$q=0.3$ あたりで極大(=最大)を取っていることが分かります。実際に、対数尤度関数$l(q\\vert Y)$を$q$について微分し、傾きが$0$になる条件を考えると、\n",
        "\n",
        "$$\n",
        "\\frac{d l(q\\vert Y)}{d q}= - \\left(N-\\sum_{i=0}^{N-1} y_i \\right) \\frac{1}{1-q} + \\left(\\sum_{i=0}^{N-1} y_i \\right) \\frac{1}{q} = 0\n",
        "$$\n",
        "\n",
        "$$\n",
        "\\therefore \\hat{q} = \\frac{\\sum_{i=0}^{N-1} y_i}{N}\n",
        "$$\n",
        "となり、予想通りの結果になりました。\n",
        "\n",
        "複雑な問題になると、（対数）尤度関数の極値が必ずしも最大値にならず、極大値が複数存在するような場合もありますが、「尤度が最大になるようなパラメータの値を求める」という最尤法の考え方自体は変わりません。\n",
        "\n"
      ],
      "metadata": {
        "id": "nPmcsXMLNMNO"
      }
    },
    {
      "cell_type": "markdown",
      "source": [
        "# ロジスティック関数\n",
        "\n",
        "また話は変わりますが、次の式で表される関数を（標準）ロジスティック関数、またはシグモイド関数と呼びます。\n",
        "\n",
        "$$\n",
        "f(z) = \\frac{1}{1+e^{-z}}\n",
        "$$\n",
        "\n",
        "(注) 本来は、$x$を独立変数として$f(x)$として表すのが自然ですが、後で$\\boldsymbol{x}$を説明変数ベクトルとして使うので、混乱が生じないようにここでは変数$z$を使っています。$z$は実数とします($z \\in R$)。\n",
        "\n",
        "Matplotlibでグラフを書く前に$f(z)$の概形を想像してみましょう。まず、$-\\infty < z < \\infty$に対して、$\\infty > e^{-z} > 0$ なので、$f(z)$の値域は、$0 < f(z) < 1$です。また、\n",
        "$$\n",
        "\\begin{align}\n",
        "\\lim_{z\\rightarrow -\\infty} f(z) &= 0 \\\\\n",
        "f(0) &= \\frac{1}{2} \\\\\n",
        "\\lim_{z\\rightarrow \\infty} f(z) &= 1\n",
        "\\end{align}\n",
        "$$\n",
        "なので、$z$を$-\\infty$から$\\infty$ に動かしたとき、 $f(z)$は$-1$から$1$まで動くことが分かります。また、\n",
        "$$\n",
        "f(-z) = \\frac{1}{1+e^z} = \\frac{e^{-z}}{1+e^{-z}} = 1 - \\frac{1}{1+e^{-z}} = 1 - f(z)\n",
        "$$\n",
        "なので、$(0,\\frac{1}{2})$に関して点対称の形になっていることが分かります。\n",
        "\n",
        "さらに、導関数については、\n",
        "$$\n",
        "\\begin{align}\n",
        "\\frac{d f(z)}{d z} &= f^\\prime (z) = \\frac{e^{-z}}{(1+e^{-z})^2} = f(z) \\left(1 - f(z) \\right) \\\\\n",
        "&> 0\n",
        "\\end{align}\n",
        "$$\n",
        "となるので、<font color=\"red\">$f(z)$は狭義に単調増加である</font>ことも分かります。\n",
        "\n",
        "それでは、グラフを描いてみます。"
      ],
      "metadata": {
        "id": "pw1q5_EyUahE"
      }
    },
    {
      "cell_type": "code",
      "source": [
        "zlst = np.linspace(-10,10,101)\n",
        "flst = 1/(1+np.exp(-zlst))\n",
        "plt.plot(zlst,flst)\n",
        "plt.xlabel(\"z\")\n",
        "plt.ylabel(\"f(z)\")"
      ],
      "metadata": {
        "colab": {
          "base_uri": "https://localhost:8080/",
          "height": 466
        },
        "id": "_dASe8zjdjRs",
        "outputId": "5f3f01b8-a58b-42f2-df6c-8b91f9055c6b"
      },
      "execution_count": null,
      "outputs": [
        {
          "output_type": "execute_result",
          "data": {
            "text/plain": [
              "Text(0, 0.5, 'f(z)')"
            ]
          },
          "metadata": {},
          "execution_count": 6
        },
        {
          "output_type": "display_data",
          "data": {
            "text/plain": [
              "<Figure size 640x480 with 1 Axes>"
            ],
            "image/png": "[encoded data removed]"
          },
          "metadata": {}
        }
      ]
    },
    {
      "cell_type": "markdown",
      "source": [
        "このように、（標準）ロジスティック関数は、単調増加ですが$z=0$付近で急激に増加し、それ以外の領域では非常になだらかになっています。そのため、(単位)ステップ関数\n",
        "$$\n",
        "H(z) =\n",
        "\\left\\{\n",
        "\\begin{array}{ll}\n",
        "1 & \\mbox{if $z > 0$} \\\\\n",
        "0 & \\mbox{if $z \\leq 0$}\n",
        "\\end{array}\n",
        "\\right.\n",
        "$$\n",
        "の近似・代替として使われることがあります。ステップ関数は$z=0$において不連続かつ微分不可なのに対して、ロジスティック関数は連続かつ微分可能であるため、理論的にも実用的にも色々と嬉しいことがあります。シグモイド関数の名前でニューラルネットワークの活性化関数として昔から使われてきたのもそのためです。\n",
        "\n",
        "そして、標準ロジスティック関数の値域が$(0,1)$であること（と単調増加であること）を利用して、<font color=\"red\">$-\\infty$ から $\\infty$ までの実数値を、$0$から$1$までの確率値に変換する</font>目的でもよく使われます。"
      ],
      "metadata": {
        "id": "UOC98vogeToH"
      }
    },
    {
      "cell_type": "markdown",
      "source": [
        "## **[例題]**くじの当選確率をロジスティック関数で当てはめる\n",
        "\n",
        "先ほどのくじ引きの例題では、個々のくじの当選確率は等しく$q$であるという前提でした。ここで実は、<font color=\"red\">各くじには重さにばらつきがあり、重いくじほど当たる確率が高そう</font>ということが分かったらどうでしょうか？\n",
        "具体的には、各くじの当落$y_i$に加えて、各くじの重さ$x_i$(g)が次のように与えらえたとします。\n",
        "\n",
        "|$i$|$0$|$1$|$2$|$3$|$4$|$5$|$6$|$7$|$8$|$9$|\n",
        "|-|-|-|-|-|-|-|-|-|-|-|\n",
        "|$y_i$|0|0|1|0|1|0|0|0|1|0|\n",
        "|$x_i$|2.0|1.9|2.3|2.1|2.4|2.2|2.1|2.3|2.2|1.8|\n",
        "\n",
        "各くじの重さ $x_i$ を横軸、当落$y_i$を縦軸にしてプロットすると、"
      ],
      "metadata": {
        "id": "BcjT8WVzEpZ7"
      }
    },
    {
      "cell_type": "code",
      "source": [
        "# くじの重さのリスト\n",
        "X = [2.0,1.9,2.3,2.1,2.4,2.2,2.1,2.3,2.2,1.8]\n",
        "plt.scatter(X,Y)"
      ],
      "metadata": {
        "colab": {
          "base_uri": "https://localhost:8080/",
          "height": 447
        },
        "id": "El4Gevl4IzWs",
        "outputId": "9e1737d5-af73-46a0-87ca-dcd550c51676"
      },
      "execution_count": null,
      "outputs": [
        {
          "output_type": "execute_result",
          "data": {
            "text/plain": [
              "<matplotlib.collections.PathCollection at 0x7f0f4b4ea1d0>"
            ]
          },
          "metadata": {},
          "execution_count": 7
        },
        {
          "output_type": "display_data",
          "data": {
            "text/plain": [
              "<Figure size 640x480 with 1 Axes>"
            ],
            "image/png": "[encoded data removed]"
          },
          "metadata": {}
        }
      ]
    },
    {
      "cell_type": "markdown",
      "source": [
        "これを見ると、$x=2.2$ から $x=2.3$ のあたりに閾値がありそうです。\n",
        "そこで、各くじの当選確率$q_i$を、ロジスティック関数\n",
        "$$\n",
        "q_i = f(b_0+b_1\\cdot x_i) = \\frac{1}{1+e^{-(b_0+b_1 x_i)}}\n",
        "$$\n",
        "で予測するモデルを考えます。<font color=\"red\">このモデルのパラメータは、$b_0$と$b_1$</font>です。合わせて、$\\boldsymbol{\\beta}=[b_0,b_1]^\\top$と書くことにします。\n",
        "\n",
        "ここで再び尤度関数を考えます。この場合の<font color=\"blue\">尤度は、「パラメータ$\\boldsymbol{\\beta}$の値と$\\{x_0,x_1,\\cdots,x_9\\}$が与えられたときに、くじの結果$\\{y_0,y_1,\\cdots,y_9\\}$が得られる確率」</font>になります。\n",
        "すなわち、\n",
        "$$\n",
        "L(\\boldsymbol{\\beta}\\vert X,Y) =\\prod_{i=0}^{N-1} (1-q_i)^{1-y_i} \\cdot q_i^{y_i} = \\prod_{i=0}^{N-1} (1-f(b_0+b_1\\cdot x_i))^{1-y_i} \\cdot f(b_0+b_1\\cdot x_i)^{y_i}\n",
        "$$\n",
        "であり、対数尤度関数は、\n",
        "$$\n",
        "l(\\boldsymbol{\\beta}\\vert X,Y) = \\log L(\\boldsymbol{\\beta}\\vert X,Y)\n",
        "= \\sum_{i=0}^{N-1} \\left\\{ (1-y_i) \\cdot \\log (1-f(b_0+b_1\\cdot x_i))\n",
        "+ y_i \\cdot \\log f(b_0+b_1\\cdot x_i) \\right\\}\n",
        "$$\n",
        "となります。ここで、線形回帰のときのように、$\\boldsymbol{x}_i=[1,x_i]^\\top$ のように説明変数ベクトルを定義し、$z_i = \\boldsymbol{\\beta}\\cdot \\boldsymbol{x}_i$とすれば、\n",
        "$$\n",
        "l(\\boldsymbol{\\beta}\\vert X,Y) = \\sum_{i=0}^{N-1} \\left\\{ (1-y_i) \\cdot \\log (1-f(\\boldsymbol{\\beta}\\cdot \\boldsymbol{x}_i))\n",
        "+ y_i \\cdot \\log f(\\boldsymbol{\\beta}\\cdot \\boldsymbol{x}_i) \\right\\}\n",
        "$$\n",
        "のように少しだけ簡素に書くことができます。\n",
        "\n",
        "しかし、残念ながら、線形回帰の場合とは違って、極値条件\n",
        "$$\n",
        "\\frac{\\partial l(\\boldsymbol{\\beta}\\vert X,Y)}{\\partial \\boldsymbol{\\beta}} = \\boldsymbol{0}\n",
        "$$\n",
        "は<font color=\"red\">容易に解くことができないので、数値的な解法を用いざるを得ません。</font>\n",
        "その方法については後述しますが、とりあえず、対数尤度の最大値（極大値）が存在しそうなことだけ確認しておきます。\n",
        "\n",
        "くじ引きの例題で、\n",
        "1. $b_1=16.5$に固定して、$b_0$を$-50.0$から$-25.0$まで動かしたとき。\n",
        "1. $b_0=-37.0$に固定して、$b_1$を$10.0$から$20.0$まで動かしたとき。\n",
        "\n",
        "それぞれの対数尤度をプロットしたのが次のコードです。"
      ],
      "metadata": {
        "id": "wgVgSXO_JNdd"
      }
    },
    {
      "cell_type": "code",
      "source": [
        "# Numpyのarray型に変換\n",
        "Ylot = np.array(Y)\n",
        "# 常に1の列を説明変数の列の左に加える\n",
        "Xlot = np.array([[1]*len(X),X]).T\n",
        "\n",
        "# ロジスティック関数\n",
        "def logifun(z):\n",
        "  return 1/(1+np.exp(-z))\n",
        "\n",
        "# パラメータbeta に対して対数尤度を計算\n",
        "def llkhd_lot(beta):\n",
        "  ll = np.sum((1-Ylot)*np.log(1-logifun(np.dot(Xlot,beta)))) + np.sum(Ylot*np.log(logifun(np.dot(Xlot,beta))))\n",
        "  return ll\n",
        "\n",
        "#\n",
        "b0lst = np.linspace(-50.0,-25.0,21)\n",
        "llkhd_b0 = []\n",
        "for b0 in b0lst:\n",
        "  beta = np.array([b0,16.5])\n",
        "  llkhd_b0.append(llkhd_lot(beta))\n",
        "plt.plot(b0lst,llkhd_b0,'.-')\n",
        "plt.xlabel(\"b_0\")\n",
        "plt.ylabel(\"log likelihood\")\n",
        "\n",
        "b1lst = np.linspace(10.0,20.0,21)\n",
        "llkhd_b1 = []\n",
        "for b1 in b1lst:\n",
        "  beta = np.array([-37.0,b1])\n",
        "  llkhd_b1.append(llkhd_lot(beta))\n",
        "plt.figure()\n",
        "plt.plot(b1lst,llkhd_b1,'.-')\n",
        "plt.xlabel(\"b_1\")\n",
        "plt.ylabel(\"log likelihood\")\n"
      ],
      "metadata": {
        "colab": {
          "base_uri": "https://localhost:8080/",
          "height": 900
        },
        "id": "L92iub6nRLT8",
        "outputId": "f0f527c1-acf5-4db4-8398-4c6c4507c5ca"
      },
      "execution_count": null,
      "outputs": [
        {
          "output_type": "execute_result",
          "data": {
            "text/plain": [
              "Text(0, 0.5, 'log likelihood')"
            ]
          },
          "metadata": {},
          "execution_count": 8
        },
        {
          "output_type": "display_data",
          "data": {
            "text/plain": [
              "<Figure size 640x480 with 1 Axes>"
            ],
            "image/png": "[encoded data removed]"
          },
          "metadata": {}
        },
        {
          "output_type": "display_data",
          "data": {
            "text/plain": [
              "<Figure size 640x480 with 1 Axes>"
            ],
            "image/png": "[encoded data removed]"
          },
          "metadata": {}
        }
      ]
    },
    {
      "cell_type": "markdown",
      "source": [
        "これら２つのグラフから、大体、$b_0=-37$, $b_1=16$付近で対数尤度が最大になりそうなこと、また、<font color=\"blue\">最大値（極大値）付近では、対数尤度関数の形が上に凸な二次関数（放物線）に似ている</font>こと、が分かります。\n"
      ],
      "metadata": {
        "id": "DTXl_cIae0Yd"
      }
    },
    {
      "cell_type": "markdown",
      "source": [
        "# ロジスティック回帰\n",
        "\n",
        "## ロジスティック回帰モデルの学習\n",
        "\n",
        "あらためて、二値分類問題を定式化しておくと、データの各サンプルは、$m$個の説明変数$x_j$  ($j=1,2,\\ldots,m$)と、目標変数$y$ から構成されている点は、（重）回帰と同じです。回帰と異なる点は、<font color=\"red\">目標変数$y$が取りうる値が連続値(実数値)ではなくて、$0$か$1$の二値に限定されるという点</font>です。\n",
        "\n",
        "（訓練）データを回帰のときと同様に、次のように行列とベクトルで表現しておきます。\n",
        "\n",
        "$$\n",
        "\\boldsymbol{X} =\n",
        "\\left[\\begin{matrix}\n",
        "\\boldsymbol{x}_0 \\\\\n",
        "\\boldsymbol{x}_1 \\\\\n",
        "\\vdots \\\\\n",
        "\\boldsymbol{x}_{n-1}\n",
        "\\end{matrix}\\right]\n",
        "=\n",
        "\\left[\\begin{matrix}\n",
        "1 & x_{0,1} & \\cdots & x_{0,m}\\\\\n",
        "1 & x_{1,1} & \\cdots & x_{1,m}\\\\\n",
        "\\vdots \\\\\n",
        "1 & x_{n-1,1} & \\cdots & x_{n-1,m}\\\\\n",
        "\\end{matrix}\\right]\n",
        "$$\n",
        "$$\n",
        "\\boldsymbol{y} =\n",
        "\\left[\\begin{matrix}\n",
        "y_0 \\\\\n",
        "y_1 \\\\\n",
        "\\vdots \\\\\n",
        "y_{n-1}\n",
        "\\end{matrix}\\right] \\in {\\cal B}^n\n",
        "$$\n",
        "\n",
        "この時、<font color=\"blue\">ロジスティック回帰モデルは、説明変数ベクトル$\\boldsymbol{x}_i$が与えられたときに、その目標変数の値(ラベル)が1である条件付き確率</font>を、ロジスティック関数を使って、\n",
        "$$\n",
        "p(y_i = 1 \\vert \\boldsymbol{x}_i ; \\boldsymbol{\\beta}) = \\frac{1}{1+e^{-\\boldsymbol{\\beta}\\cdot\\boldsymbol{x}_i}}=f(\\boldsymbol{\\beta}\\cdot\\boldsymbol{x}_i)\n",
        "$$\n",
        "によって表すモデルです。\n",
        "\n",
        "そして、データが与えられたときのこのモデルの対数尤度関数は、先ほどの例題で計算したように、\n",
        "\n",
        "$$\n",
        "l(\\boldsymbol{\\beta}\\vert X,Y) = \\sum_{i=0}^{N-1} \\left\\{ (1-y_i) \\cdot \\log (1-f(\\boldsymbol{\\beta}\\cdot \\boldsymbol{x}_i))\n",
        "+ y_i \\cdot \\log f(\\boldsymbol{\\beta}\\cdot \\boldsymbol{x}_i) \\right\\}\n",
        "$$\n",
        "\n",
        "となります。この後、対数尤度関数を簡略化して、単に$l(\\boldsymbol{\\beta})$と書くことにします。<font color=\"blue\">この対数尤度をマイナスしたもの（符号を反転させたもの）が、回帰における残差二乗和に相当</font>します。\n",
        "しかし、前述のように、線形最小二乗法とは異なり、<font color=\"red\">ロジスティック回帰モデルの対数尤度を最大化するパラメータ$\\hat{\\boldsymbol{\\beta}}$を解析的に求めることはできないので、反復計算によって求める</font>ことになります。\n",
        "\n",
        "## ニュートン法による対数尤度の最大化\n",
        "\n",
        "上で求めたロジスティック回帰モデルの対数尤度関数$l(\\boldsymbol{\\beta})$をパラメータ$\\boldsymbol{\\beta}$について最大化するというのは、\n",
        "数値最適化の話になるので、詳しくはこの授業の終盤で取り上げるつもりですが、基本的な考え方だけ説明しておきます。\n",
        "\n",
        "今、最大化したい関数$l(\\boldsymbol{\\beta})$を、$\\boldsymbol{\\beta}=\\boldsymbol{\\beta}^{(0)}$ の周りで2次のテイラー近似を行います。$\\boldsymbol{\\beta}$はベクトル(多変量)なので、単変量の場合と比べて煩雑になりますが、\n",
        "$$\n",
        "\\begin{align}\n",
        "l(\\boldsymbol{\\beta}) &\\approx l(\\boldsymbol{\\beta}^{(0)}) + (\\boldsymbol{\\beta}-\\boldsymbol{\\beta}^{(0)})^\\top \\nabla l(\\boldsymbol{\\beta}^{(0)})\n",
        "+ \\frac{1}{2} (\\boldsymbol{\\beta}-\\boldsymbol{\\beta}^{(0)})^\\top\n",
        "\\nabla^2 l(\\boldsymbol{\\beta}^{(0)}) (\\boldsymbol{\\beta}-\\boldsymbol{\\beta}^{(0)}) \\\\\n",
        "&\\approx l(\\boldsymbol{\\beta}^{(0)}) + (\\boldsymbol{\\beta}-\\boldsymbol{\\beta}^{(0)})^\\top \\boldsymbol{g}^{(0)}\n",
        "+ \\frac{1}{2} (\\boldsymbol{\\beta}-\\boldsymbol{\\beta}^{(0)})^\\top\n",
        "\\boldsymbol{H}^{(0)} (\\boldsymbol{\\beta}-\\boldsymbol{\\beta}^{(0)})\n",
        "\\end{align}\n",
        "$$\n",
        "\n",
        "となります。<font color=\"blue\">ここで、\n",
        "$$\n",
        "\\boldsymbol{g} = \\nabla l(\\boldsymbol{\\beta})=\n",
        "\\left[\n",
        "  \\begin{matrix}\n",
        "  \\frac{\\partial l(\\boldsymbol{\\beta})}{\\partial b_0} \\\\\n",
        "  \\frac{\\partial l(\\boldsymbol{\\beta})}{\\partial b_1}\n",
        "  \\end{matrix}\n",
        "\\right]\n",
        "$$\n",
        "は、対数尤度関数の勾配ベクトルであり、\n",
        "$$\n",
        "\\boldsymbol{H} = \\nabla^2 l(\\boldsymbol{\\beta})=\n",
        "\\left[\n",
        "\\begin{matrix}\n",
        "\\frac{\\partial^2 l(\\boldsymbol{\\beta})}{\\partial b_0^2} & \\frac{\\partial^2 l(\\boldsymbol{\\beta})}{\\partial b_0 \\partial b_1} \\\\\n",
        "\\frac{\\partial^2 l(\\boldsymbol{\\beta})}{\\partial b_1 \\partial b_0} & \\frac{\\partial^2 l(\\boldsymbol{\\beta})}{\\partial b_1^2}\n",
        "\\end{matrix}\n",
        "\\right]\n",
        "$$\n",
        "は、ヘッセ行列(Hessian)</font>と呼ばれるものです。\n",
        "\n",
        "もし、ヘッセ行列$\\boldsymbol{H}$が負定値(negative definite)であれば、上の対数尤度関数の2次近似（右辺）は、\n",
        "$$\n",
        "\\boldsymbol{\\beta} = \\boldsymbol{\\beta}^{(0)} - {\\boldsymbol{H}^{(0)}}^{-1} \\boldsymbol{g}^{(0)}\n",
        "$$\n",
        "で最大になります。そこで、$k=0,1,2\\ldots,$に対して、\n",
        "$$\n",
        "\\boldsymbol{\\beta}^{(k+1)} = \\boldsymbol{\\beta}^{(k)} - {\\boldsymbol{H}^{(k)}}^{-1} \\boldsymbol{g}^{(k)}\n",
        "$$\n",
        "のように反復的にパラメータベクトル$\\boldsymbol{\\beta}$の推定値を更新していけば、対数尤度関数を最大化する値に近づいていくはず、というのがニュートン法の考え方です。\n",
        "\n",
        "**(注意)** ニュートン法は、初期推定解$\\boldsymbol{\\beta}^{(0)}$が十分に最適解に近く、かつ、ヘッセ行列$\\boldsymbol{H}^{(k)}$が常に負定値である場合（最小化の場合は常に正定値）は非常に効率的なアルゴリズムですが、そうでない場合は計算が発散したり不安定になったりするので、工夫が必要です。\n",
        "\n",
        "さて、問題は、対数尤度関数の勾配ベクトル$\\boldsymbol{g}$とヘッセ行列$\\boldsymbol{H}$を具体的に求めるか、ということですが、前述のロジスティック関数の性質、\n",
        "$$\n",
        "\\frac{d f(z)}{d z} = f^\\prime (z) = \\frac{e^{-z}}{(1+e^{-z})^2} = f(z) \\left(1 - f(z)\\right)\n",
        "$$\n",
        "などを使うと、\n",
        "$$\n",
        "\\boldsymbol{g}^{(k)} = \\boldsymbol{X}^\\top (\\boldsymbol{y} - \\boldsymbol{p}^{(k)})\n",
        "$$\n",
        "$$\n",
        "\\boldsymbol{H}^{(k)} = - \\boldsymbol{X}^\\top \\boldsymbol{W}^{(k)} \\boldsymbol{X}\n",
        "$$\n",
        "という結果になります。ここで、$\\boldsymbol{p}^{(k)}$は、\n",
        "$$\n",
        "\\boldsymbol{p}^{(k)} = \\left[\n",
        "  \\begin{matrix}\n",
        "  f(\\boldsymbol{\\beta}^{(k)}\\cdot \\boldsymbol{x}_0)\\\\\n",
        "  f(\\boldsymbol{\\beta}^{(k)}\\cdot \\boldsymbol{x}_1)\\\\\n",
        "  \\vdots \\\\\n",
        "  f(\\boldsymbol{\\beta}^{(k)}\\cdot \\boldsymbol{x}_{N-1})\n",
        "  \\end{matrix}\n",
        "  \\right]\n",
        "$$\n",
        "であり、$\\boldsymbol{W}^{(k)}$は、対角成分$w_{i,i}$が、\n",
        "$$\n",
        "  w_{i,i} = w_{i} =\n",
        "  f(\\boldsymbol{\\beta}^{(k)}\\cdot \\boldsymbol{x}_i) \\cdot\n",
        "  (1-f(\\boldsymbol{\\beta}^{(k)}\\cdot \\boldsymbol{x}_i))\n",
        "$$\n",
        "であるような対角行列です。\n",
        "\n",
        "まとめると、ロジスティック回帰モデルのパラメータの更新則は、\n",
        "$$\n",
        "\\boldsymbol{\\beta}^{(k+1)} = \\boldsymbol{\\beta}^{(k)} + (\\boldsymbol{X}^\\top \\boldsymbol{W}^{(k)} \\boldsymbol{X})^{-1} \\boldsymbol{X}^\\top (\\boldsymbol{y} - \\boldsymbol{p}^{(k)})\n",
        "$$\n",
        "となります。これは、IRLS(iteratively re-weighted least squares)アルゴリズムと呼ばれています。\n",
        "\n",
        "\n",
        "**(注意)** 対角行列$\\boldsymbol{W}^{(k)}$はサイズが$N\\times N$で、非対角成分は全て0なので、データ数($N$)が大きい場合に愚直に$\\boldsymbol{X}^\\top \\boldsymbol{W}^{(k)} \\boldsymbol{X}$を計算するのは無駄が大きいです。実は、\n",
        "$$\n",
        "\\boldsymbol{W} \\boldsymbol{X} = \\left[\n",
        "  \\begin{matrix}\n",
        "  w_{0} \\cdot \\boldsymbol{x}_0^\\top \\\\\n",
        "  w_{1} \\cdot \\boldsymbol{x}_1^\\top \\\\\n",
        "  \\vdots \\\\\n",
        "  w_{N-1} \\cdot \\boldsymbol{x}_{N-1}^\\top\n",
        "  \\end{matrix}\n",
        "  \\right]\n",
        "$$\n",
        "であることに気が付けば、実装上の無駄を無くすことができます。\n",
        "\n",
        "\n"
      ],
      "metadata": {
        "id": "AOgXYTkIg4l6"
      }
    },
    {
      "cell_type": "code",
      "source": [
        "import numpy.linalg as la\n",
        "# パラメータの初期値\n",
        "#beta = np.array([-3.0,1.0])\n",
        "beta = np.array([0.0,0.0])\n",
        "\n",
        "print(\"k={}: beta={}, l={}\".format(0,beta,llkhd_lot(beta)))\n",
        "# とりあえず、10回繰り返してみる\n",
        "for k in range(10):\n",
        "  # ベクトル p\n",
        "  p = logifun(np.dot(Xlot,beta))\n",
        "  # 行列Wの対角成分を集めたベクトル\n",
        "  w = p*(1-p)\n",
        "  # 勾配ベクトル\n",
        "  g = np.dot(Xlot.T,Ylot-p)\n",
        "  # ヘッセ行列\n",
        "  H = - np.dot(Xlot.T,w.reshape((-1,1))*Xlot)\n",
        "  # H^{-1} g\n",
        "  dlt = la.solve(H,g)\n",
        "  # パラメータ更新\n",
        "  beta -= dlt\n",
        "  # 表示\n",
        "  print(\"k={}: beta={}, l={}\".format(k+1,beta,llkhd_lot(beta)))"
      ],
      "metadata": {
        "colab": {
          "base_uri": "https://localhost:8080/"
        },
        "id": "7kVhjq5NNFuP",
        "outputId": "81f7106d-c47a-4c95-a129-be9caca43463"
      },
      "execution_count": null,
      "outputs": [
        {
          "output_type": "stream",
          "name": "stdout",
          "text": [
            "k=0: beta=[0. 0.], l=-6.931471805599452\n",
            "k=1: beta=[-14.3364486    6.35514019], l=-4.124059016372293\n",
            "k=2: beta=[-24.6221626   10.92528971], l=-3.5354329299474623\n",
            "k=3: beta=[-33.00171552  14.63751664], l=-3.377683189661029\n",
            "k=4: beta=[-36.7032048   16.27388553], l=-3.3616569919978168\n",
            "k=5: beta=[-37.1956542   16.49131006], l=-3.3614410922511473\n",
            "k=6: beta=[-37.20296281  16.49453437], l=-3.361441046038941\n",
            "k=7: beta=[-37.20296439  16.49453507], l=-3.3614410460389412\n",
            "k=8: beta=[-37.20296439  16.49453507], l=-3.361441046038942\n",
            "k=9: beta=[-37.20296439  16.49453507], l=-3.361441046038939\n",
            "k=10: beta=[-37.20296439  16.49453507], l=-3.3614410460389395\n"
          ]
        }
      ]
    },
    {
      "cell_type": "markdown",
      "source": [
        "7ステップ目くらいで、$b_0=-37.20296439$, $b_1=16.49453507$という値に収束しています。\n",
        "\n",
        "確認のため、<font color=\"blue\">Scikit-learn で提供されているロジスティック回帰のサブモジュール LogisticRegression </font>で検算してみます。\n",
        "\n",
        "ただし、<font color=\"red\">デフォルトでは、前回お話した$L_2$正則化が有効になっているので、\n",
        "`penalty=None` というオプションで無効化</font>します。"
      ],
      "metadata": {
        "id": "wC7fbLgOAuAy"
      }
    },
    {
      "cell_type": "code",
      "source": [
        "from sklearn.linear_model import LogisticRegression\n",
        "#Training\n",
        "mdl_lot = LogisticRegression(penalty=None,fit_intercept=False)\n",
        "mdl_lot.fit(Xlot,Ylot)\n",
        "print(mdl_lot.coef_)"
      ],
      "metadata": {
        "colab": {
          "base_uri": "https://localhost:8080/"
        },
        "id": "mGNNLID1S9w2",
        "outputId": "65c9f1f7-c4b3-4fe4-da68-6ecff45a7825"
      },
      "execution_count": null,
      "outputs": [
        {
          "output_type": "stream",
          "name": "stdout",
          "text": [
            "[[-37.20317118  16.49462249]]\n"
          ]
        }
      ]
    },
    {
      "cell_type": "markdown",
      "source": [
        "小数第3位以下が微妙に違いますが、、ほぼ同じ解が得られました。\n",
        "\n",
        "別の確認方法としては、推定されたパラメータ値$\\hat{\\beta}_0$, $\\hat{\\beta}_1$ を使って、\n",
        "$$\n",
        "z_i = \\hat{\\beta}_0 + \\hat{\\beta}_1 \\cdot x_i\n",
        "$$\n",
        "を計算し、$(z_i, y_i)$  ($i=0,1,\\ldots,N-1$) と、標準ロジスティック関数 $y=\\frac{1}{1+e^{-z}}$ との当てはまり具合を見てみるというのもあります。"
      ],
      "metadata": {
        "id": "iXYfNg8ja_ro"
      }
    },
    {
      "cell_type": "code",
      "source": [
        "Z = np.dot(Xlot,beta)\n",
        "plt.scatter(Z,Ylot)\n",
        "zlst = np.linspace(-8,4,21)\n",
        "plt.plot(zlst,logifun(zlst),\"r-\")\n",
        "plt.xlabel(\"$z_i = b_0 + b_1 x_i$\")\n",
        "plt.ylabel(\"$y_i$ / $f(z_i)$\")"
      ],
      "metadata": {
        "colab": {
          "base_uri": "https://localhost:8080/",
          "height": 470
        },
        "id": "jN-O7W6UdEc-",
        "outputId": "cf66de92-e44c-4a7e-9394-21424cb975ae"
      },
      "execution_count": null,
      "outputs": [
        {
          "output_type": "execute_result",
          "data": {
            "text/plain": [
              "Text(0, 0.5, '$y_i$ / $f(z_i)$')"
            ]
          },
          "metadata": {},
          "execution_count": 9
        },
        {
          "output_type": "display_data",
          "data": {
            "text/plain": [
              "<Figure size 640x480 with 1 Axes>"
            ],
            "image/png": "[encoded data removed]"
          },
          "metadata": {}
        }
      ]
    },
    {
      "cell_type": "markdown",
      "source": [
        "# ロジスティック回帰の実際\n",
        "\n",
        "## **(例題)** 真札・偽札分類\n",
        "\n",
        "ここまで、簡単な例題を使って説明してきましたが、もう少し実際的な例題を扱ってみたいと思います。例によって、UCI Machine Learning Repository から手頃と思われるデータ・タスク[”Banknote Authentication”](https://archive.ics.uci.edu/ml/datasets/banknote+authentication)を探してきました。\n",
        "データセットの説明によると、紙幣の画像から計測・抽出した4個の特徴量（説明変数）($x_1,x_2,x_3,x_4$)を用いて、その紙幣が本物($y=0$)か偽物($y=1$)かを判別するのが目的です。\n",
        "\n",
        "今回も、データファイル(\"data_banknote_authentication.txt\")を、Googleドライブのマイドライブ直下に置くことを前提として話を進めます。\n",
        "事前にファイルをテキストエディタ等で開いて中を見てみるとわかるのですが、\n",
        "* ファイルの拡張子は\".txt\"となっていますが、実際にはカンマ区切りのフォーマット(CSV)です。\n",
        "* このファイルには<font color=\"red\">ヘッダー行がありません</font>。Pandasの`read_csv()`関数で読み込むときに、`header=None`というオプションをつけます。また、必須ではありませんが、`names=`オプションを使って各列の名前を自分でつけることもできます。"
      ],
      "metadata": {
        "id": "1o4cwL9nc2Xy"
      }
    },
    {
      "cell_type": "code",
      "source": [
        "dfbn = pd.read_csv('/content/drive/My Drive/data_banknote_authentication.txt',header=None,names=[\"x1\",\"x2\",\"x3\",\"x4\",\"y\"])\n",
        "dfbn"
      ],
      "metadata": {
        "colab": {
          "base_uri": "https://localhost:8080/",
          "height": 423
        },
        "id": "EJ-0e2S6Q5vF",
        "outputId": "62c9ca3c-f442-4fce-fc57-d2f09cb10fbd"
      },
      "execution_count": null,
      "outputs": [
        {
          "output_type": "execute_result",
          "data": {
            "text/plain": [
              "           x1        x2       x3       x4  y\n",
              "0     3.62160   8.66610  -2.8073 -0.44699  0\n",
              "1     4.54590   8.16740  -2.4586 -1.46210  0\n",
              "2     3.86600  -2.63830   1.9242  0.10645  0\n",
              "3     3.45660   9.52280  -4.0112 -3.59440  0\n",
              "4     0.32924  -4.45520   4.5718 -0.98880  0\n",
              "...       ...       ...      ...      ... ..\n",
              "1367  0.40614   1.34920  -1.4501 -0.55949  1\n",
              "1368 -1.38870  -4.87730   6.4774  0.34179  1\n",
              "1369 -3.75030 -13.45860  17.5932 -2.77710  1\n",
              "1370 -3.56370  -8.38270  12.3930 -1.28230  1\n",
              "1371 -2.54190  -0.65804   2.6842  1.19520  1\n",
              "\n",
              "[1372 rows x 5 columns]"
            ],
            "text/html": [
              "\n",
              "  <div id=\"df-e2de088c-0192-4760-bae0-dd1dc9759772\">\n",
              "    <div class=\"colab-df-container\">\n",
              "      <div>\n",
              "<style scoped>\n",
              "    .dataframe tbody tr th:only-of-type {\n",
              "        vertical-align: middle;\n",
              "    }\n",
              "\n",
              "    .dataframe tbody tr th {\n",
              "        vertical-align: top;\n",
              "    }\n",
              "\n",
              "    .dataframe thead th {\n",
              "        text-align: right;\n",
              "    }\n",
              "</style>\n",
              "<table border=\"1\" class=\"dataframe\">\n",
              "  <thead>\n",
              "    <tr style=\"text-align: right;\">\n",
              "      <th></th>\n",
              "      <th>x1</th>\n",
              "      <th>x2</th>\n",
              "      <th>x3</th>\n",
              "      <th>x4</th>\n",
              "      <th>y</th>\n",
              "    </tr>\n",
              "  </thead>\n",
              "  <tbody>\n",
              "    <tr>\n",
              "      <th>0</th>\n",
              "      <td>3.62160</td>\n",
              "      <td>8.66610</td>\n",
              "      <td>-2.8073</td>\n",
              "      <td>-0.44699</td>\n",
              "      <td>0</td>\n",
              "    </tr>\n",
              "    <tr>\n",
              "      <th>1</th>\n",
              "      <td>4.54590</td>\n",
              "      <td>8.16740</td>\n",
              "      <td>-2.4586</td>\n",
              "      <td>-1.46210</td>\n",
              "      <td>0</td>\n",
              "    </tr>\n",
              "    <tr>\n",
              "      <th>2</th>\n",
              "      <td>3.86600</td>\n",
              "      <td>-2.63830</td>\n",
              "      <td>1.9242</td>\n",
              "      <td>0.10645</td>\n",
              "      <td>0</td>\n",
              "    </tr>\n",
              "    <tr>\n",
              "      <th>3</th>\n",
              "      <td>3.45660</td>\n",
              "      <td>9.52280</td>\n",
              "      <td>-4.0112</td>\n",
              "      <td>-3.59440</td>\n",
              "      <td>0</td>\n",
              "    </tr>\n",
              "    <tr>\n",
              "      <th>4</th>\n",
              "      <td>0.32924</td>\n",
              "      <td>-4.45520</td>\n",
              "      <td>4.5718</td>\n",
              "      <td>-0.98880</td>\n",
              "      <td>0</td>\n",
              "    </tr>\n",
              "    <tr>\n",
              "      <th>...</th>\n",
              "      <td>...</td>\n",
              "      <td>...</td>\n",
              "      <td>...</td>\n",
              "      <td>...</td>\n",
              "      <td>...</td>\n",
              "    </tr>\n",
              "    <tr>\n",
              "      <th>1367</th>\n",
              "      <td>0.40614</td>\n",
              "      <td>1.34920</td>\n",
              "      <td>-1.4501</td>\n",
              "      <td>-0.55949</td>\n",
              "      <td>1</td>\n",
              "    </tr>\n",
              "    <tr>\n",
              "      <th>1368</th>\n",
              "      <td>-1.38870</td>\n",
              "      <td>-4.87730</td>\n",
              "      <td>6.4774</td>\n",
              "      <td>0.34179</td>\n",
              "      <td>1</td>\n",
              "    </tr>\n",
              "    <tr>\n",
              "      <th>1369</th>\n",
              "      <td>-3.75030</td>\n",
              "      <td>-13.45860</td>\n",
              "      <td>17.5932</td>\n",
              "      <td>-2.77710</td>\n",
              "      <td>1</td>\n",
              "    </tr>\n",
              "    <tr>\n",
              "      <th>1370</th>\n",
              "      <td>-3.56370</td>\n",
              "      <td>-8.38270</td>\n",
              "      <td>12.3930</td>\n",
              "      <td>-1.28230</td>\n",
              "      <td>1</td>\n",
              "    </tr>\n",
              "    <tr>\n",
              "      <th>1371</th>\n",
              "      <td>-2.54190</td>\n",
              "      <td>-0.65804</td>\n",
              "      <td>2.6842</td>\n",
              "      <td>1.19520</td>\n",
              "      <td>1</td>\n",
              "    </tr>\n",
              "  </tbody>\n",
              "</table>\n",
              "<p>1372 rows × 5 columns</p>\n",
              "</div>\n",
              "      <button class=\"colab-df-convert\" onclick=\"convertToInteractive('df-e2de088c-0192-4760-bae0-dd1dc9759772')\"\n",
              "              title=\"Convert this dataframe to an interactive table.\"\n",
              "              style=\"display:none;\">\n",
              "        \n",
              "  <svg xmlns=\"http://www.w3.org/2000/svg\" height=\"24px\"viewBox=\"0 0 24 24\"\n",
              "       width=\"24px\">\n",
              "    <path d=\"M0 0h24v24H0V0z\" fill=\"none\"/>\n",
              "    <path d=\"M18.56 5.44l.94 2.06.94-2.06 2.06-.94-2.06-.94-.94-2.06-.94 2.06-2.06.94zm-11 1L8.5 8.5l.94-2.06 2.06-.94-2.06-.94L8.5 2.5l-.94 2.06-2.06.94zm10 10l.94 2.06.94-2.06 2.06-.94-2.06-.94-.94-2.06-.94 2.06-2.06.94z\"/><path d=\"M17.41 7.96l-1.37-1.37c-.4-.4-.92-.59-1.43-.59-.52 0-1.04.2-1.43.59L10.3 9.45l-7.72 7.72c-.78.78-.78 2.05 0 2.83L4 21.41c.39.39.9.59 1.41.59.51 0 1.02-.2 1.41-.59l7.78-7.78 2.81-2.81c.8-.78.8-2.07 0-2.86zM5.41 20L4 18.59l7.72-7.72 1.47 1.35L5.41 20z\"/>\n",
              "  </svg>\n",
              "      </button>\n",
              "      \n",
              "  <style>\n",
              "    .colab-df-container {\n",
              "      display:flex;\n",
              "      flex-wrap:wrap;\n",
              "      gap: 12px;\n",
              "    }\n",
              "\n",
              "    .colab-df-convert {\n",
              "      background-color: #E8F0FE;\n",
              "      border: none;\n",
              "      border-radius: 50%;\n",
              "      cursor: pointer;\n",
              "      display: none;\n",
              "      fill: #1967D2;\n",
              "      height: 32px;\n",
              "      padding: 0 0 0 0;\n",
              "      width: 32px;\n",
              "    }\n",
              "\n",
              "    .colab-df-convert:hover {\n",
              "      background-color: #E2EBFA;\n",
              "      box-shadow: 0px 1px 2px rgba(60, 64, 67, 0.3), 0px 1px 3px 1px rgba(60, 64, 67, 0.15);\n",
              "      fill: #174EA6;\n",
              "    }\n",
              "\n",
              "    [theme=dark] .colab-df-convert {\n",
              "      background-color: #3B4455;\n",
              "      fill: #D2E3FC;\n",
              "    }\n",
              "\n",
              "    [theme=dark] .colab-df-convert:hover {\n",
              "      background-color: #434B5C;\n",
              "      box-shadow: 0px 1px 3px 1px rgba(0, 0, 0, 0.15);\n",
              "      filter: drop-shadow(0px 1px 2px rgba(0, 0, 0, 0.3));\n",
              "      fill: #FFFFFF;\n",
              "    }\n",
              "  </style>\n",
              "\n",
              "      <script>\n",
              "        const buttonEl =\n",
              "          document.querySelector('#df-e2de088c-0192-4760-bae0-dd1dc9759772 button.colab-df-convert');\n",
              "        buttonEl.style.display =\n",
              "          google.colab.kernel.accessAllowed ? 'block' : 'none';\n",
              "\n",
              "        async function convertToInteractive(key) {\n",
              "          const element = document.querySelector('#df-e2de088c-0192-4760-bae0-dd1dc9759772');\n",
              "          const dataTable =\n",
              "            await google.colab.kernel.invokeFunction('convertToInteractive',\n",
              "                                                     [key], {});\n",
              "          if (!dataTable) return;\n",
              "\n",
              "          const docLinkHtml = 'Like what you see? Visit the ' +\n",
              "            '<a target=\"_blank\" href=https://colab.research.google.com/notebooks/data_table.ipynb>data table notebook</a>'\n",
              "            + ' to learn more about interactive tables.';\n",
              "          element.innerHTML = '';\n",
              "          dataTable['output_type'] = 'display_data';\n",
              "          await google.colab.output.renderOutput(dataTable, element);\n",
              "          const docLink = document.createElement('div');\n",
              "          docLink.innerHTML = docLinkHtml;\n",
              "          element.appendChild(docLink);\n",
              "        }\n",
              "      </script>\n",
              "    </div>\n",
              "  </div>\n",
              "  "
            ]
          },
          "metadata": {},
          "execution_count": 10
        }
      ]
    },
    {
      "cell_type": "markdown",
      "source": [
        "ファイルの前半に真札($y=0$)のデータ、後半に偽札($y=1$)のデータが集められているようです。\n",
        "\n",
        "変数間の相関、データの概要を見てみると、"
      ],
      "metadata": {
        "id": "SjoEpwdPXQxX"
      }
    },
    {
      "cell_type": "code",
      "source": [
        "# 相関行列\n",
        "print(\"Correlation matrix:\")\n",
        "display(dfbn.corr())\n",
        "# データの要約\n",
        "print(\"Data summary:\")\n",
        "display(dfbn.describe())\n",
        "# 真札・偽札の数\n",
        "print(\"Number of authentic notes:\",(dfbn[\"y\"]==0).sum())\n",
        "print(\"Number of forged notes:\",(dfbn[\"y\"]==1).sum())\n"
      ],
      "metadata": {
        "colab": {
          "base_uri": "https://localhost:8080/",
          "height": 558
        },
        "id": "Xy04h1rrWksv",
        "outputId": "41960ba6-9216-4d9d-b39d-b1e51113e201"
      },
      "execution_count": null,
      "outputs": [
        {
          "output_type": "stream",
          "name": "stdout",
          "text": [
            "Correlation matrix:\n"
          ]
        },
        {
          "output_type": "display_data",
          "data": {
            "text/plain": [
              "          x1        x2        x3        x4         y\n",
              "x1  1.000000  0.264026 -0.380850  0.276817 -0.724843\n",
              "x2  0.264026  1.000000 -0.786895 -0.526321 -0.444688\n",
              "x3 -0.380850 -0.786895  1.000000  0.318841  0.155883\n",
              "x4  0.276817 -0.526321  0.318841  1.000000 -0.023424\n",
              "y  -0.724843 -0.444688  0.155883 -0.023424  1.000000"
            ],
            "text/html": [
              "\n",
              "  <div id=\"df-9c0fe6cf-6285-44f7-a377-c8130454db39\">\n",
              "    <div class=\"colab-df-container\">\n",
              "      <div>\n",
              "<style scoped>\n",
              "    .dataframe tbody tr th:only-of-type {\n",
              "        vertical-align: middle;\n",
              "    }\n",
              "\n",
              "    .dataframe tbody tr th {\n",
              "        vertical-align: top;\n",
              "    }\n",
              "\n",
              "    .dataframe thead th {\n",
              "        text-align: right;\n",
              "    }\n",
              "</style>\n",
              "<table border=\"1\" class=\"dataframe\">\n",
              "  <thead>\n",
              "    <tr style=\"text-align: right;\">\n",
              "      <th></th>\n",
              "      <th>x1</th>\n",
              "      <th>x2</th>\n",
              "      <th>x3</th>\n",
              "      <th>x4</th>\n",
              "      <th>y</th>\n",
              "    </tr>\n",
              "  </thead>\n",
              "  <tbody>\n",
              "    <tr>\n",
              "      <th>x1</th>\n",
              "      <td>1.000000</td>\n",
              "      <td>0.264026</td>\n",
              "      <td>-0.380850</td>\n",
              "      <td>0.276817</td>\n",
              "      <td>-0.724843</td>\n",
              "    </tr>\n",
              "    <tr>\n",
              "      <th>x2</th>\n",
              "      <td>0.264026</td>\n",
              "      <td>1.000000</td>\n",
              "      <td>-0.786895</td>\n",
              "      <td>-0.526321</td>\n",
              "      <td>-0.444688</td>\n",
              "    </tr>\n",
              "    <tr>\n",
              "      <th>x3</th>\n",
              "      <td>-0.380850</td>\n",
              "      <td>-0.786895</td>\n",
              "      <td>1.000000</td>\n",
              "      <td>0.318841</td>\n",
              "      <td>0.155883</td>\n",
              "    </tr>\n",
              "    <tr>\n",
              "      <th>x4</th>\n",
              "      <td>0.276817</td>\n",
              "      <td>-0.526321</td>\n",
              "      <td>0.318841</td>\n",
              "      <td>1.000000</td>\n",
              "      <td>-0.023424</td>\n",
              "    </tr>\n",
              "    <tr>\n",
              "      <th>y</th>\n",
              "      <td>-0.724843</td>\n",
              "      <td>-0.444688</td>\n",
              "      <td>0.155883</td>\n",
              "      <td>-0.023424</td>\n",
              "      <td>1.000000</td>\n",
              "    </tr>\n",
              "  </tbody>\n",
              "</table>\n",
              "</div>\n",
              "      <button class=\"colab-df-convert\" onclick=\"convertToInteractive('df-9c0fe6cf-6285-44f7-a377-c8130454db39')\"\n",
              "              title=\"Convert this dataframe to an interactive table.\"\n",
              "              style=\"display:none;\">\n",
              "        \n",
              "  <svg xmlns=\"http://www.w3.org/2000/svg\" height=\"24px\"viewBox=\"0 0 24 24\"\n",
              "       width=\"24px\">\n",
              "    <path d=\"M0 0h24v24H0V0z\" fill=\"none\"/>\n",
              "    <path d=\"M18.56 5.44l.94 2.06.94-2.06 2.06-.94-2.06-.94-.94-2.06-.94 2.06-2.06.94zm-11 1L8.5 8.5l.94-2.06 2.06-.94-2.06-.94L8.5 2.5l-.94 2.06-2.06.94zm10 10l.94 2.06.94-2.06 2.06-.94-2.06-.94-.94-2.06-.94 2.06-2.06.94z\"/><path d=\"M17.41 7.96l-1.37-1.37c-.4-.4-.92-.59-1.43-.59-.52 0-1.04.2-1.43.59L10.3 9.45l-7.72 7.72c-.78.78-.78 2.05 0 2.83L4 21.41c.39.39.9.59 1.41.59.51 0 1.02-.2 1.41-.59l7.78-7.78 2.81-2.81c.8-.78.8-2.07 0-2.86zM5.41 20L4 18.59l7.72-7.72 1.47 1.35L5.41 20z\"/>\n",
              "  </svg>\n",
              "      </button>\n",
              "      \n",
              "  <style>\n",
              "    .colab-df-container {\n",
              "      display:flex;\n",
              "      flex-wrap:wrap;\n",
              "      gap: 12px;\n",
              "    }\n",
              "\n",
              "    .colab-df-convert {\n",
              "      background-color: #E8F0FE;\n",
              "      border: none;\n",
              "      border-radius: 50%;\n",
              "      cursor: pointer;\n",
              "      display: none;\n",
              "      fill: #1967D2;\n",
              "      height: 32px;\n",
              "      padding: 0 0 0 0;\n",
              "      width: 32px;\n",
              "    }\n",
              "\n",
              "    .colab-df-convert:hover {\n",
              "      background-color: #E2EBFA;\n",
              "      box-shadow: 0px 1px 2px rgba(60, 64, 67, 0.3), 0px 1px 3px 1px rgba(60, 64, 67, 0.15);\n",
              "      fill: #174EA6;\n",
              "    }\n",
              "\n",
              "    [theme=dark] .colab-df-convert {\n",
              "      background-color: #3B4455;\n",
              "      fill: #D2E3FC;\n",
              "    }\n",
              "\n",
              "    [theme=dark] .colab-df-convert:hover {\n",
              "      background-color: #434B5C;\n",
              "      box-shadow: 0px 1px 3px 1px rgba(0, 0, 0, 0.15);\n",
              "      filter: drop-shadow(0px 1px 2px rgba(0, 0, 0, 0.3));\n",
              "      fill: #FFFFFF;\n",
              "    }\n",
              "  </style>\n",
              "\n",
              "      <script>\n",
              "        const buttonEl =\n",
              "          document.querySelector('#df-9c0fe6cf-6285-44f7-a377-c8130454db39 button.colab-df-convert');\n",
              "        buttonEl.style.display =\n",
              "          google.colab.kernel.accessAllowed ? 'block' : 'none';\n",
              "\n",
              "        async function convertToInteractive(key) {\n",
              "          const element = document.querySelector('#df-9c0fe6cf-6285-44f7-a377-c8130454db39');\n",
              "          const dataTable =\n",
              "            await google.colab.kernel.invokeFunction('convertToInteractive',\n",
              "                                                     [key], {});\n",
              "          if (!dataTable) return;\n",
              "\n",
              "          const docLinkHtml = 'Like what you see? Visit the ' +\n",
              "            '<a target=\"_blank\" href=https://colab.research.google.com/notebooks/data_table.ipynb>data table notebook</a>'\n",
              "            + ' to learn more about interactive tables.';\n",
              "          element.innerHTML = '';\n",
              "          dataTable['output_type'] = 'display_data';\n",
              "          await google.colab.output.renderOutput(dataTable, element);\n",
              "          const docLink = document.createElement('div');\n",
              "          docLink.innerHTML = docLinkHtml;\n",
              "          element.appendChild(docLink);\n",
              "        }\n",
              "      </script>\n",
              "    </div>\n",
              "  </div>\n",
              "  "
            ]
          },
          "metadata": {}
        },
        {
          "output_type": "stream",
          "name": "stdout",
          "text": [
            "Data summary:\n"
          ]
        },
        {
          "output_type": "display_data",
          "data": {
            "text/plain": [
              "                x1           x2           x3           x4            y\n",
              "count  1372.000000  1372.000000  1372.000000  1372.000000  1372.000000\n",
              "mean      0.433735     1.922353     1.397627    -1.191657     0.444606\n",
              "std       2.842763     5.869047     4.310030     2.101013     0.497103\n",
              "min      -7.042100   -13.773100    -5.286100    -8.548200     0.000000\n",
              "25%      -1.773000    -1.708200    -1.574975    -2.413450     0.000000\n",
              "50%       0.496180     2.319650     0.616630    -0.586650     0.000000\n",
              "75%       2.821475     6.814625     3.179250     0.394810     1.000000\n",
              "max       6.824800    12.951600    17.927400     2.449500     1.000000"
            ],
            "text/html": [
              "\n",
              "  <div id=\"df-abdecfd3-8cbd-44bb-838b-aabe62be0835\">\n",
              "    <div class=\"colab-df-container\">\n",
              "      <div>\n",
              "<style scoped>\n",
              "    .dataframe tbody tr th:only-of-type {\n",
              "        vertical-align: middle;\n",
              "    }\n",
              "\n",
              "    .dataframe tbody tr th {\n",
              "        vertical-align: top;\n",
              "    }\n",
              "\n",
              "    .dataframe thead th {\n",
              "        text-align: right;\n",
              "    }\n",
              "</style>\n",
              "<table border=\"1\" class=\"dataframe\">\n",
              "  <thead>\n",
              "    <tr style=\"text-align: right;\">\n",
              "      <th></th>\n",
              "      <th>x1</th>\n",
              "      <th>x2</th>\n",
              "      <th>x3</th>\n",
              "      <th>x4</th>\n",
              "      <th>y</th>\n",
              "    </tr>\n",
              "  </thead>\n",
              "  <tbody>\n",
              "    <tr>\n",
              "      <th>count</th>\n",
              "      <td>1372.000000</td>\n",
              "      <td>1372.000000</td>\n",
              "      <td>1372.000000</td>\n",
              "      <td>1372.000000</td>\n",
              "      <td>1372.000000</td>\n",
              "    </tr>\n",
              "    <tr>\n",
              "      <th>mean</th>\n",
              "      <td>0.433735</td>\n",
              "      <td>1.922353</td>\n",
              "      <td>1.397627</td>\n",
              "      <td>-1.191657</td>\n",
              "      <td>0.444606</td>\n",
              "    </tr>\n",
              "    <tr>\n",
              "      <th>std</th>\n",
              "      <td>2.842763</td>\n",
              "      <td>5.869047</td>\n",
              "      <td>4.310030</td>\n",
              "      <td>2.101013</td>\n",
              "      <td>0.497103</td>\n",
              "    </tr>\n",
              "    <tr>\n",
              "      <th>min</th>\n",
              "      <td>-7.042100</td>\n",
              "      <td>-13.773100</td>\n",
              "      <td>-5.286100</td>\n",
              "      <td>-8.548200</td>\n",
              "      <td>0.000000</td>\n",
              "    </tr>\n",
              "    <tr>\n",
              "      <th>25%</th>\n",
              "      <td>-1.773000</td>\n",
              "      <td>-1.708200</td>\n",
              "      <td>-1.574975</td>\n",
              "      <td>-2.413450</td>\n",
              "      <td>0.000000</td>\n",
              "    </tr>\n",
              "    <tr>\n",
              "      <th>50%</th>\n",
              "      <td>0.496180</td>\n",
              "      <td>2.319650</td>\n",
              "      <td>0.616630</td>\n",
              "      <td>-0.586650</td>\n",
              "      <td>0.000000</td>\n",
              "    </tr>\n",
              "    <tr>\n",
              "      <th>75%</th>\n",
              "      <td>2.821475</td>\n",
              "      <td>6.814625</td>\n",
              "      <td>3.179250</td>\n",
              "      <td>0.394810</td>\n",
              "      <td>1.000000</td>\n",
              "    </tr>\n",
              "    <tr>\n",
              "      <th>max</th>\n",
              "      <td>6.824800</td>\n",
              "      <td>12.951600</td>\n",
              "      <td>17.927400</td>\n",
              "      <td>2.449500</td>\n",
              "      <td>1.000000</td>\n",
              "    </tr>\n",
              "  </tbody>\n",
              "</table>\n",
              "</div>\n",
              "      <button class=\"colab-df-convert\" onclick=\"convertToInteractive('df-abdecfd3-8cbd-44bb-838b-aabe62be0835')\"\n",
              "              title=\"Convert this dataframe to an interactive table.\"\n",
              "              style=\"display:none;\">\n",
              "        \n",
              "  <svg xmlns=\"http://www.w3.org/2000/svg\" height=\"24px\"viewBox=\"0 0 24 24\"\n",
              "       width=\"24px\">\n",
              "    <path d=\"M0 0h24v24H0V0z\" fill=\"none\"/>\n",
              "    <path d=\"M18.56 5.44l.94 2.06.94-2.06 2.06-.94-2.06-.94-.94-2.06-.94 2.06-2.06.94zm-11 1L8.5 8.5l.94-2.06 2.06-.94-2.06-.94L8.5 2.5l-.94 2.06-2.06.94zm10 10l.94 2.06.94-2.06 2.06-.94-2.06-.94-.94-2.06-.94 2.06-2.06.94z\"/><path d=\"M17.41 7.96l-1.37-1.37c-.4-.4-.92-.59-1.43-.59-.52 0-1.04.2-1.43.59L10.3 9.45l-7.72 7.72c-.78.78-.78 2.05 0 2.83L4 21.41c.39.39.9.59 1.41.59.51 0 1.02-.2 1.41-.59l7.78-7.78 2.81-2.81c.8-.78.8-2.07 0-2.86zM5.41 20L4 18.59l7.72-7.72 1.47 1.35L5.41 20z\"/>\n",
              "  </svg>\n",
              "      </button>\n",
              "      \n",
              "  <style>\n",
              "    .colab-df-container {\n",
              "      display:flex;\n",
              "      flex-wrap:wrap;\n",
              "      gap: 12px;\n",
              "    }\n",
              "\n",
              "    .colab-df-convert {\n",
              "      background-color: #E8F0FE;\n",
              "      border: none;\n",
              "      border-radius: 50%;\n",
              "      cursor: pointer;\n",
              "      display: none;\n",
              "      fill: #1967D2;\n",
              "      height: 32px;\n",
              "      padding: 0 0 0 0;\n",
              "      width: 32px;\n",
              "    }\n",
              "\n",
              "    .colab-df-convert:hover {\n",
              "      background-color: #E2EBFA;\n",
              "      box-shadow: 0px 1px 2px rgba(60, 64, 67, 0.3), 0px 1px 3px 1px rgba(60, 64, 67, 0.15);\n",
              "      fill: #174EA6;\n",
              "    }\n",
              "\n",
              "    [theme=dark] .colab-df-convert {\n",
              "      background-color: #3B4455;\n",
              "      fill: #D2E3FC;\n",
              "    }\n",
              "\n",
              "    [theme=dark] .colab-df-convert:hover {\n",
              "      background-color: #434B5C;\n",
              "      box-shadow: 0px 1px 3px 1px rgba(0, 0, 0, 0.15);\n",
              "      filter: drop-shadow(0px 1px 2px rgba(0, 0, 0, 0.3));\n",
              "      fill: #FFFFFF;\n",
              "    }\n",
              "  </style>\n",
              "\n",
              "      <script>\n",
              "        const buttonEl =\n",
              "          document.querySelector('#df-abdecfd3-8cbd-44bb-838b-aabe62be0835 button.colab-df-convert');\n",
              "        buttonEl.style.display =\n",
              "          google.colab.kernel.accessAllowed ? 'block' : 'none';\n",
              "\n",
              "        async function convertToInteractive(key) {\n",
              "          const element = document.querySelector('#df-abdecfd3-8cbd-44bb-838b-aabe62be0835');\n",
              "          const dataTable =\n",
              "            await google.colab.kernel.invokeFunction('convertToInteractive',\n",
              "                                                     [key], {});\n",
              "          if (!dataTable) return;\n",
              "\n",
              "          const docLinkHtml = 'Like what you see? Visit the ' +\n",
              "            '<a target=\"_blank\" href=https://colab.research.google.com/notebooks/data_table.ipynb>data table notebook</a>'\n",
              "            + ' to learn more about interactive tables.';\n",
              "          element.innerHTML = '';\n",
              "          dataTable['output_type'] = 'display_data';\n",
              "          await google.colab.output.renderOutput(dataTable, element);\n",
              "          const docLink = document.createElement('div');\n",
              "          docLink.innerHTML = docLinkHtml;\n",
              "          element.appendChild(docLink);\n",
              "        }\n",
              "      </script>\n",
              "    </div>\n",
              "  </div>\n",
              "  "
            ]
          },
          "metadata": {}
        },
        {
          "output_type": "stream",
          "name": "stdout",
          "text": [
            "Number of authentic notes: 762\n",
            "Number of forged notes: 610\n"
          ]
        }
      ]
    },
    {
      "cell_type": "markdown",
      "source": [
        "4つの説明変数のばらつきはそれほど大きくは無いですが、後で係数を比較するときの解釈性を考慮して、全データについて各説明変数が平均0,標準偏差1となるように標準化することにします。\n",
        "\n",
        "また、データの順番をランダムにシャッフルした上で、訓練データとテストデータに半分ずつ分割します。この処理は、randomモジュールやnumpy.randomサブモジュールの`shuffle()`関数などを使って自分で実装しても大した手間ではありませんが、ここでは、Scikit-learnに含まれる `train_test_split()`関数を使って楽をすることにします。\n",
        "\n",
        "以下のコードで、\n",
        "* 訓練データ (説明変数: Xtr, 目標変数: ytr)\n",
        "* テストデータ (説明変数: Xte, 目標変数: yte)\n",
        "を準備しています。\n",
        "\n",
        "<font color=\"red\"> この時点では、説明変数データの行列`Xtr`,`Xte`</font>には`1`の列がありません。"
      ],
      "metadata": {
        "id": "VqOLpOQgadOk"
      }
    },
    {
      "cell_type": "code",
      "source": [
        "from sklearn.model_selection import train_test_split\n",
        "dfbnx = dfbn.iloc[:,:4] # 4つの説明変数を取り出す\n",
        "dfbnx = (dfbnx-dfbnx.mean())/dfbnx.std() # 説明変数を標準化\n",
        "Xtr,Xte,ytr,yte = train_test_split(dfbnx.values,dfbn.iloc[:,4].values,test_size=0.5,random_state=1234)"
      ],
      "metadata": {
        "id": "v4LKyMP7Vjso"
      },
      "execution_count": null,
      "outputs": []
    },
    {
      "cell_type": "markdown",
      "source": [
        "## Scikit-learn のロジスティック回帰モデルの利用\n",
        "\n",
        "本例題(の訓練データ)に対して、前述した<font color=\"red\">ニュートン法に基づくアルゴリズムで自分でロジスティック回帰モデルのパラメータを求めるのは本日の課題でやってもらう</font>として、ここでは、scikit-learn のLogisticRegressionを使ってやってみます。\n",
        "\n",
        "### LogisticRegressionモデルの訓練\n",
        "\n",
        "前述のように、<font color=\"red\">scikit-learnのロジスティック回帰では、デフォルト(既定)でL2正則化が有効になっていますが、`penalty=None`オプションでこれを解除</font>しています。"
      ],
      "metadata": {
        "id": "ogVsOwGGfKEN"
      }
    },
    {
      "cell_type": "code",
      "source": [
        "# L2正則化はオフ\n",
        "mdl_lr = LogisticRegression(penalty=None)\n",
        "# 訓練データでモデルを学習\n",
        "mdl_lr.fit(Xtr,ytr)\n",
        "# パラメータの切片(b0)\n",
        "print(mdl_lr.intercept_)\n",
        "# 残りのパラメータ(b1,..,b4 )\n",
        "print(mdl_lr.coef_)"
      ],
      "metadata": {
        "colab": {
          "base_uri": "https://localhost:8080/"
        },
        "id": "KGnHrE0LdqNV",
        "outputId": "e7640fe7-083a-4be0-d28e-7d62c1e18421"
      },
      "execution_count": null,
      "outputs": [
        {
          "output_type": "stream",
          "name": "stdout",
          "text": [
            "[-19.23747012]\n",
            "[[-39.58183971 -44.90907261 -41.55315514  -2.57686289]]\n"
          ]
        }
      ]
    },
    {
      "cell_type": "markdown",
      "source": [
        "### 訓練したロジスティック回帰モデルによる分類（結果の予測）\n",
        "\n",
        "訓練を行ったロジスティック回帰モデルのパラメータ$\\hat{\\boldsymbol{\\beta}}$を使って、与えられた説明変数ベクトル$\\boldsymbol{x}$を分類すること、すなわち、\n",
        "目標変数$y$の値(0または1)を予測するには、ロジスティック関数に$\\hat{\\boldsymbol{\\beta}} \\cdot \\boldsymbol{x}$を入れた値、すなわち、\n",
        "$$\n",
        "f(\\hat{\\boldsymbol{\\beta}}\\cdot \\boldsymbol{x})=\\frac{1}{1+e^{-\\hat{\\boldsymbol{\\beta}}\\cdot \\boldsymbol{x}}}\n",
        "$$\n",
        "が中間の確率0.5よりも大きいか小さいかを見れば良いので、\n",
        "$$\n",
        "\\hat{y} = \\left\\{\n",
        "  \\begin{matrix}\n",
        "  0 & \\mbox{if $\\frac{1}{1+e^{-\\hat{\\boldsymbol{\\beta}}\\cdot \\boldsymbol{x}}} < 0.5$} \\\\\n",
        "  1 & \\mbox{if $\\frac{1}{1+e^{-\\hat{\\boldsymbol{\\beta}}\\cdot \\boldsymbol{x}}} \\geq 0.5$}\n",
        "  \\end{matrix}\n",
        "  \\right.\n",
        "$$\n",
        "とすれば良いのですが、そもそもロジスティック関数が単調増加であること、また、$f(0)=0.5$であることを考えれば、もっと簡単に、$\\hat{\\boldsymbol{\\beta}} \\cdot \\boldsymbol{x}$ の符号を見れば良いことが分かります。すなわち、\n",
        "$$\n",
        "\\hat{y} =  \n",
        "\\left\\{\n",
        "  \\begin{matrix}\n",
        "  0 & \\mbox{if $\\hat{\\boldsymbol{\\beta}}\\cdot \\boldsymbol{x} < 0$} \\\\\n",
        "  1 & \\mbox{if $\\hat{\\boldsymbol{\\beta}}\\cdot \\boldsymbol{x} \\geq 0$}\n",
        "  \\end{matrix}\n",
        "  \\right.\n",
        "$$\n",
        "です。\n",
        "\n",
        "ただし、Scikit-learn の LogsiticRegressionクラスでは、`predict()`メソッドが用意されていて、テストデータ（および訓練データ）の説明変数のデータを与えるだけで、分類結果を0または1の値で返してくれます。\n"
      ],
      "metadata": {
        "id": "WPNu2OBS5P1U"
      }
    },
    {
      "cell_type": "code",
      "source": [
        "# 訓練データについて予測し直したラベル\n",
        "yhtr = mdl_lr.predict(Xtr)\n",
        "print(\"Prediction on training data:\\n\",yhtr)\n",
        "# テストデータについての予測ラベル\n",
        "yhte = mdl_lr.predict(Xte)\n",
        "print(\"Prediction on test data:\\n\",yhte)\n"
      ],
      "metadata": {
        "colab": {
          "base_uri": "https://localhost:8080/"
        },
        "id": "vCCpBwYKft6N",
        "outputId": "87c83c52-c3f7-4bf7-9119-57dbb85f1c6a"
      },
      "execution_count": null,
      "outputs": [
        {
          "output_type": "stream",
          "name": "stdout",
          "text": [
            "Prediction on training data:\n",
            " [0 1 1 1 0 0 0 0 1 0 0 0 0 0 0 1 0 1 1 1 0 1 0 1 0 0 1 0 0 0 1 0 0 0 0 0 1\n",
            " 0 1 0 0 0 0 0 0 1 0 0 0 0 1 1 0 0 1 0 0 0 1 0 1 0 0 0 1 0 0 1 1 1 0 1 0 0\n",
            " 0 1 0 1 1 0 1 0 0 0 1 0 1 1 1 0 1 1 0 1 1 0 0 1 0 0 0 0 1 0 1 1 0 1 1 0 0\n",
            " 0 0 0 1 0 1 1 0 0 0 0 0 1 1 0 0 1 0 0 0 1 0 1 0 1 0 1 0 0 1 0 0 1 1 0 0 1\n",
            " 0 1 0 1 1 1 0 1 1 1 1 1 0 1 0 1 1 1 0 1 1 1 0 0 1 0 1 1 0 0 1 1 0 0 1 0 1\n",
            " 0 1 0 1 0 0 0 0 0 1 0 0 0 0 0 0 0 1 0 1 1 1 1 0 1 0 1 0 1 0 1 0 0 0 1 1 0\n",
            " 1 1 0 0 1 0 0 1 0 1 0 1 0 0 1 0 1 1 1 0 0 1 0 0 1 1 1 1 1 0 0 1 0 1 1 1 1\n",
            " 1 0 0 0 1 1 1 1 1 0 1 1 0 0 0 1 1 1 0 1 0 1 0 1 0 0 0 0 0 1 1 1 0 0 0 1 0\n",
            " 0 0 1 0 0 1 1 0 1 0 0 0 0 1 0 0 0 1 0 1 0 1 0 0 1 1 1 0 0 1 0 0 1 1 1 1 0\n",
            " 0 1 0 0 0 0 0 1 0 0 1 0 1 1 0 1 1 1 0 0 0 0 0 1 0 0 0 0 0 0 1 0 1 1 1 1 0\n",
            " 0 0 0 0 0 1 1 1 1 0 0 0 1 1 0 0 0 1 1 0 1 0 0 1 1 1 0 0 1 0 0 1 1 1 0 1 1\n",
            " 1 0 1 0 0 1 1 0 0 1 1 1 0 1 0 0 1 1 0 1 0 0 1 1 0 1 0 0 0 0 1 1 0 1 1 0 0\n",
            " 0 1 1 0 1 1 0 0 1 0 0 1 1 1 1 1 1 0 0 1 0 1 1 0 0 1 1 1 1 1 0 1 0 1 1 1 0\n",
            " 0 0 0 0 1 1 0 0 0 0 0 0 0 0 0 0 0 1 1 0 0 1 1 1 1 1 0 0 1 1 0 1 1 0 0 1 1\n",
            " 0 1 1 0 0 0 1 1 1 0 0 1 0 1 0 0 0 0 1 1 0 0 0 0 1 0 0 0 1 0 1 0 1 1 0 1 0\n",
            " 0 0 0 0 0 0 0 0 1 0 1 1 1 1 0 1 0 0 1 0 1 1 1 1 1 0 0 1 1 1 0 1 0 0 0 0 0\n",
            " 0 0 0 0 1 0 0 1 0 1 0 1 0 0 0 1 0 0 0 0 1 0 0 1 0 0 0 1 0 1 0 1 0 1 0 1 1\n",
            " 1 0 0 0 0 0 1 1 0 1 0 1 0 1 0 0 1 1 1 0 0 0 1 1 0 0 1 1 1 0 0 0 0 1 0 1 0\n",
            " 1 0 0 0 1 1 0 0 1 0 1 1 0 0 0 1 1 1 0 1]\n",
            "Prediction on test data:\n",
            " [0 0 1 1 1 1 0 0 0 0 1 0 1 0 0 1 0 1 1 1 0 0 0 1 1 1 1 0 1 1 0 1 1 1 1 0 0\n",
            " 0 0 0 0 1 0 1 1 0 0 1 0 0 0 0 0 0 0 0 0 0 0 1 0 0 0 0 0 0 0 0 1 1 1 1 1 1\n",
            " 1 1 0 0 1 0 1 1 0 0 0 0 0 0 0 1 0 0 0 0 0 1 0 0 0 1 1 0 1 1 1 1 0 0 0 1 0\n",
            " 0 1 0 1 0 0 0 1 0 0 0 0 0 1 0 1 1 0 1 1 0 0 1 0 1 0 1 1 0 0 0 0 1 0 0 1 0\n",
            " 0 1 0 0 1 1 1 0 1 0 1 1 0 1 0 1 0 0 1 0 0 0 1 0 1 1 0 1 1 1 0 0 0 1 0 0 0\n",
            " 1 1 0 1 0 0 1 0 0 0 0 0 1 0 1 1 1 0 0 1 0 1 0 0 0 0 0 0 1 1 0 1 1 1 0 1 1\n",
            " 0 0 1 0 0 0 0 1 1 0 1 1 1 0 0 0 1 1 0 1 0 0 0 1 1 0 0 1 0 1 1 0 0 1 1 0 0\n",
            " 1 1 1 1 1 0 0 1 0 0 1 1 0 0 1 0 1 1 0 0 0 0 0 1 1 1 1 1 0 1 0 1 0 1 1 0 0\n",
            " 0 1 1 0 0 0 1 0 0 1 0 1 1 1 1 1 0 1 1 0 1 0 0 0 0 1 0 0 0 0 1 0 0 1 1 0 1\n",
            " 1 0 1 1 0 0 0 1 0 1 0 0 1 0 1 0 1 0 0 0 0 1 0 1 0 0 1 0 0 1 1 1 0 1 0 1 1\n",
            " 1 0 0 0 0 0 1 0 1 1 0 0 1 0 1 0 1 1 0 0 1 0 1 0 1 0 0 0 0 0 1 1 1 1 0 0 0\n",
            " 0 0 0 0 1 1 1 0 0 0 0 0 1 0 0 1 1 0 0 1 1 1 0 0 1 0 0 1 0 0 0 1 0 0 0 1 1\n",
            " 0 1 0 1 0 1 0 1 0 0 0 1 1 0 1 0 1 0 1 0 0 0 0 0 0 0 0 0 1 1 1 0 0 0 1 1 0\n",
            " 1 1 1 0 0 0 1 0 1 0 1 1 0 0 0 0 1 0 1 0 1 1 1 1 0 1 1 1 1 1 1 1 0 1 0 0 1\n",
            " 0 1 0 0 1 1 1 1 0 1 1 1 0 1 1 0 0 1 0 0 0 0 0 1 0 1 0 0 1 1 1 1 0 0 1 1 0\n",
            " 1 0 1 1 1 1 0 0 1 1 1 0 0 0 1 1 0 0 1 0 1 0 0 1 0 0 0 1 1 1 1 0 0 0 0 1 1\n",
            " 1 0 0 0 1 1 0 1 0 1 0 1 1 0 1 0 1 1 0 0 1 0 1 0 0 1 1 1 0 1 0 0 0 0 1 0 1\n",
            " 0 1 1 0 0 0 0 0 0 0 0 1 0 1 0 0 1 0 1 0 1 1 1 1 0 1 1 0 0 1 0 0 0 1 0 1 0\n",
            " 1 1 0 0 1 1 0 1 0 0 1 0 0 0 0 1 0 1 1 0]\n"
          ]
        }
      ]
    },
    {
      "cell_type": "code",
      "source": [
        "# predict()メソッドを使わない場合\n",
        "# z = b_0 + b_1 x_1 + ... + b_4 x_4 を計算\n",
        "zte = mdl_lr.intercept_[0] + np.dot(Xte,mdl_lr.coef_.reshape(-1))\n",
        "# 0 より大きいか、小さいかを判定して、True, False を 1, 0 に変換\n",
        "yte = (zte >= 0).astype(\"int\")\n",
        "print(yte)"
      ],
      "metadata": {
        "colab": {
          "base_uri": "https://localhost:8080/"
        },
        "id": "zGbt3vWdBORG",
        "outputId": "79f127b0-4f20-47ab-a383-0116cd20abd4"
      },
      "execution_count": null,
      "outputs": [
        {
          "output_type": "stream",
          "name": "stdout",
          "text": [
            "[0 0 1 1 1 1 0 0 0 0 1 0 1 0 0 1 0 1 1 1 0 0 0 1 1 1 1 0 1 1 0 1 1 1 1 0 0\n",
            " 0 0 0 0 1 0 1 1 0 0 1 0 0 0 0 0 0 0 0 0 0 0 1 0 0 0 0 0 0 0 0 1 1 1 1 1 1\n",
            " 1 1 0 0 1 0 1 1 0 0 0 0 0 0 0 1 0 0 0 0 0 1 0 0 0 1 1 0 1 1 1 1 0 0 0 1 0\n",
            " 0 1 0 1 0 0 0 1 0 0 0 0 0 1 0 1 1 0 1 1 0 0 1 0 1 0 1 1 0 0 0 0 1 0 0 1 0\n",
            " 0 1 0 0 1 1 1 0 1 0 1 1 0 1 0 1 0 0 1 0 0 0 1 0 1 1 0 1 1 1 0 0 0 1 0 0 0\n",
            " 1 1 0 1 0 0 1 0 0 0 0 0 1 0 1 1 1 0 0 1 0 1 0 0 0 0 0 0 1 1 0 1 1 1 0 1 1\n",
            " 0 0 1 0 0 0 0 1 1 0 1 1 1 0 0 0 1 1 0 1 0 0 0 1 1 0 0 1 0 1 1 0 0 1 1 0 0\n",
            " 1 1 1 1 1 0 0 1 0 0 1 1 0 0 1 0 1 1 0 0 0 0 0 1 1 1 1 1 0 1 0 1 0 1 1 0 0\n",
            " 0 1 1 0 0 0 1 0 0 1 0 1 1 1 1 1 0 1 1 0 1 0 0 0 0 1 0 0 0 0 1 0 0 1 1 0 1\n",
            " 1 0 1 1 0 0 0 1 0 1 0 0 1 0 1 0 1 0 0 0 0 1 0 1 0 0 1 0 0 1 1 1 0 1 0 1 1\n",
            " 1 0 0 0 0 0 1 0 1 1 0 0 1 0 1 0 1 1 0 0 1 0 1 0 1 0 0 0 0 0 1 1 1 1 0 0 0\n",
            " 0 0 0 0 1 1 1 0 0 0 0 0 1 0 0 1 1 0 0 1 1 1 0 0 1 0 0 1 0 0 0 1 0 0 0 1 1\n",
            " 0 1 0 1 0 1 0 1 0 0 0 1 1 0 1 0 1 0 1 0 0 0 0 0 0 0 0 0 1 1 1 0 0 0 1 1 0\n",
            " 1 1 1 0 0 0 1 0 1 0 1 1 0 0 0 0 1 0 1 0 1 1 1 1 0 1 1 1 1 1 1 1 0 1 0 0 1\n",
            " 0 1 0 0 1 1 1 1 0 1 1 1 0 1 1 0 0 1 0 0 0 0 0 1 0 1 0 0 1 1 1 1 0 0 1 1 0\n",
            " 1 0 1 1 1 1 0 0 1 1 1 0 0 0 1 1 0 0 1 0 1 0 0 1 0 0 0 1 1 1 1 0 0 0 0 1 1\n",
            " 1 0 0 0 1 1 0 1 0 1 0 1 1 0 1 0 1 1 0 0 1 0 1 0 0 1 1 1 0 1 0 0 0 0 1 0 1\n",
            " 0 1 1 0 0 0 0 0 0 0 0 1 0 1 0 0 1 0 1 0 1 1 1 1 0 1 1 0 0 1 0 0 0 1 0 1 0\n",
            " 1 1 0 0 1 1 0 1 0 0 1 0 0 0 0 1 0 1 1 0]\n"
          ]
        }
      ]
    },
    {
      "cell_type": "markdown",
      "source": [
        "### 分類結果の評価\n",
        "\n",
        "回帰の場合は目標変数は連続値（実数値）を取るので、モデルの評価は、真値$y_i$とモデルによる予測値$\\hat{y}_i$との差 $y_i - \\hat{y}_i$に基づいて、平方根平均二乗誤差(RMSE)などを用いるのが一般的です。\n",
        "\n",
        "それに対して、分類の場合は目標変数が離散値（カテゴリー値）を取るので、<font color=\"red\">真値と予測値との差 $y_i - \\hat{y}_i$ 自体はあまり意味を持たず</font>、<font color=\"blue\">$y_i$と$\\hat{y}_i$との値の組み合わせに意味があります</font>。\n",
        "\n",
        "具体的に、今回扱っているような二値分類の場合、次のような混同行列(confusion matrix)と呼ばれる$2 \\times 2$の表で、$y_i$と$\\hat{y}_i$の組み合わせパターンを表すことができます。\n",
        "\n",
        "|     | $\\hat{y}=0$ | $\\hat{y}=1$ |\n",
        "|-----|-------------|--------------|\n",
        "|$y=0$|True Negative (TN)|False Positive (FP)|\n",
        "|$y=1$|False Negative (FN)|True Positive (TP)|\n",
        "\n",
        "真値と予測値とが一致しているか、一致していないかだけを評価すれば良さそうなものですが、現実の分類問題（例えば病気の診断など）では、<font color=\"red\">「陽性と予測して実際は陰性だった場合」（偽陽性）と、「陰性と予測して実際は陽性だった場合」（偽陰性）とは明確に区別する必要</font>があります。\n",
        "\n",
        "\n",
        "とりあえず、今回の例題の訓練データおよびテストデータについて、混同行列を求めてみましょう。Scikit-learn には、`sklearn.metrics.confusion_matrix()`という関数が用意されていて、目標変数の真値$y$のリストと、予測値$\\hat{y}$のリストを与えれば、すぐに計算してくれます。"
      ],
      "metadata": {
        "id": "OUNP3mpYB60G"
      }
    },
    {
      "cell_type": "code",
      "source": [
        "from sklearn.metrics import confusion_matrix\n",
        "\n",
        "# 訓練データの混同行列\n",
        "cmtr = confusion_matrix(ytr,yhtr)\n",
        "print(cmtr)\n",
        "\n",
        "# テストデータの混同行列\n",
        "cmte = confusion_matrix(yte,yhte)\n",
        "print(cmte)"
      ],
      "metadata": {
        "colab": {
          "base_uri": "https://localhost:8080/"
        },
        "id": "2oB7-VqCiHWl",
        "outputId": "a52fde13-8d33-4590-ec15-e3ee549fc7e8"
      },
      "execution_count": null,
      "outputs": [
        {
          "output_type": "stream",
          "name": "stdout",
          "text": [
            "[[378   2]\n",
            " [  1 305]]\n",
            "[[378   0]\n",
            " [  0 308]]\n"
          ]
        }
      ]
    },
    {
      "cell_type": "markdown",
      "source": [
        "ちなみに、今回のように、$y$が0か1かを取る場合であれば、ベクトル・行列演算を使って次のように自分で混同行列を計算するのも簡単です。"
      ],
      "metadata": {
        "id": "TMl_2zhenZzu"
      }
    },
    {
      "cell_type": "code",
      "source": [
        "np.dot(np.stack((1-ytr,ytr)),np.stack((1-yhtr,yhtr)).T)"
      ],
      "metadata": {
        "colab": {
          "base_uri": "https://localhost:8080/"
        },
        "id": "2Eux9D-antBD",
        "outputId": "09b43e3b-3632-4a11-e692-e5f04528fdb0"
      },
      "execution_count": null,
      "outputs": [
        {
          "output_type": "execute_result",
          "data": {
            "text/plain": [
              "array([[378,   2],\n",
              "       [  1, 305]])"
            ]
          },
          "metadata": {},
          "execution_count": 21
        }
      ]
    },
    {
      "cell_type": "markdown",
      "source": [
        "この混同行列を使って、いくつかの性能指標が定義されているのですが、今回は(時間も無いので、、)シンプルに、正答率(accuracy)だけ見ることにします。\n",
        "$$\n",
        "Accuracy = \\frac{予測値と真値が一致した数}{全サンプル数} = \\frac{TP+TN}{TP+TN+FP+FN}\n",
        "$$"
      ],
      "metadata": {
        "id": "XqiOpjdToQc8"
      }
    },
    {
      "cell_type": "code",
      "source": [
        "# 訓練データの正答率\n",
        "acc_tr = (cmtr[0,0]+cmtr[1,1])/np.sum(cmtr)\n",
        "print(\"Training accuracy=\",acc_tr)\n",
        "# テストデータの正答率\n",
        "acc_te = np.sum(np.diag(cmte))/np.sum(cmte)\n",
        "print(\"Test accuracy=\",acc_te)\n"
      ],
      "metadata": {
        "colab": {
          "base_uri": "https://localhost:8080/"
        },
        "id": "hTClxnsxpNng",
        "outputId": "48a04d3a-e5b9-4381-ba46-7739e7ee0e26"
      },
      "execution_count": null,
      "outputs": [
        {
          "output_type": "stream",
          "name": "stdout",
          "text": [
            "Training accuracy= 0.9956268221574344\n",
            "[378 308]\n",
            "Test accuracy= 1.0\n"
          ]
        }
      ]
    },
    {
      "cell_type": "markdown",
      "source": [
        "今回は、たまたま、テストデータの正答率が1.0、すなわち100%になりましたが、回帰のときと同様、分類においても、（期待値を取れば）訓練時の正答率よりもテスト時の正答率は悪化します。\n",
        "\n",
        "\n",
        "### ロジスティック関数との当てはまり具合\n",
        "\n",
        "冒頭でも話したように、ロジスティック回帰は分類の方法なのに「回帰」というワードが含まれています。\n",
        "\n",
        "最後に、その理由を確認する目的も兼ねて、\n",
        "$$\n",
        "z_i = b_0 + b_1 \\cdot x_1 + \\cdots + b_4 \\cdot x_4 = \\boldsymbol{\\beta}\\cdot \\boldsymbol{x}_i\n",
        "$$\n",
        "と$y_i$の値を散布図でプロットし、そこに、標準ロジスティック関数\n",
        "$$\n",
        "y = \\frac{1}{1+e^{-z}}\n",
        "$$\n",
        "を重ねてプロットしてみます。"
      ],
      "metadata": {
        "id": "rDvT7Dhnp-tp"
      }
    },
    {
      "cell_type": "code",
      "source": [
        "# 訓練データ\n",
        "ztr = np.dot(Xtr,mdl_lr.coef_.reshape(-1))+mdl_lr.intercept_\n",
        "plt.scatter(ztr,ytr)\n",
        "zarr = np.linspace(-100,60,101)\n",
        "plt.plot(zarr,logifun(zarr),\"r-\")\n",
        "plt.xlabel(\"z\")\n",
        "plt.ylabel(\"y\")"
      ],
      "metadata": {
        "colab": {
          "base_uri": "https://localhost:8080/",
          "height": 466
        },
        "id": "9xSSAdFvjya-",
        "outputId": "de4c984a-a0c6-4a17-9d3c-453d11e9d03a"
      },
      "execution_count": null,
      "outputs": [
        {
          "output_type": "execute_result",
          "data": {
            "text/plain": [
              "Text(0, 0.5, 'y')"
            ]
          },
          "metadata": {},
          "execution_count": 26
        },
        {
          "output_type": "display_data",
          "data": {
            "text/plain": [
              "<Figure size 640x480 with 1 Axes>"
            ],
            "image/png": "[encoded data removed]"
          },
          "metadata": {}
        }
      ]
    },
    {
      "cell_type": "code",
      "source": [
        "# テストデータ\n",
        "zte = np.dot(Xte,mdl_lr.coef_.reshape(-1))+mdl_lr.intercept_\n",
        "plt.scatter(zte,yte)\n",
        "plt.plot(zarr,logifun(zarr),\"r-\")\n",
        "plt.xlabel(\"z\")\n",
        "plt.ylabel(\"y\")"
      ],
      "metadata": {
        "colab": {
          "base_uri": "https://localhost:8080/",
          "height": 466
        },
        "id": "vy_0IKsIkp56",
        "outputId": "498e83eb-d452-4b4e-a021-a175c6b4a72a"
      },
      "execution_count": null,
      "outputs": [
        {
          "output_type": "execute_result",
          "data": {
            "text/plain": [
              "Text(0, 0.5, 'y')"
            ]
          },
          "metadata": {},
          "execution_count": 27
        },
        {
          "output_type": "display_data",
          "data": {
            "text/plain": [
              "<Figure size 640x480 with 1 Axes>"
            ],
            "image/png": "[encoded data removed]"
          },
          "metadata": {}
        }
      ]
    },
    {
      "cell_type": "markdown",
      "source": [
        "これらのグラフから明らかなように、ロジスティック回帰は、説明変数$\\boldsymbol{x}$を中間変数$z$に線形変換させた後、$z$を0か1の値を取る目標変数$y$にフィットさせています。言い換えれば、目標$y$を$z$を経由して確かに$\\boldsymbol{x}$に回帰させています。"
      ],
      "metadata": {
        "id": "36-r_hCRsqOD"
      }
    },
    {
      "cell_type": "markdown",
      "source": [
        "# 今日の課題\n",
        "\n",
        "最後に扱った「紙幣の真偽のデータセット」を使ってロジスティック回帰をもう少し深く追求してみます。詳細は別ファイルを参照してください。"
      ],
      "metadata": {
        "id": "2cwqjZ-9tmVs"
      }
    }
  ]
}