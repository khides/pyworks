{
  "nbformat": 4,
  "nbformat_minor": 0,
  "metadata": {
    "colab": {
      "provenance": []
    },
    "kernelspec": {
      "name": "python3",
      "display_name": "Python 3"
    },
    "language_info": {
      "name": "python"
    }
  },
  "cells": [
    {
      "cell_type": "markdown",
      "source": [
        "#航空宇宙情報システム学第二： 5月23日課題 (HW2023-03)\n",
        "\n",
        "授業の最後に扱ったデータファイル「紙幣の真偽判定データセット」(Banknote Authentication Dataset)を使って、ロジスティック回帰に関する以下の課題に取り組んでください。\n",
        "* 最後の(3)は結構難しいと思うので、余裕のある人だけやってください。\n",
        "\n",
        "ファイル名は、HW2023-03.ipynb のまま提出して構いません。\n",
        "\n",
        "提出期限は、3週間後の6月13日8時30分 (次々回授業の直前) とします。"
      ],
      "metadata": {
        "id": "_chCNsGINM2h"
      }
    },
    {
      "cell_type": "markdown",
      "source": [
        "# 事前準備\n",
        "\n",
        "まず、必要なモジュールをインポートした上で、データファイルを読み、標準化を行い、訓練データとテストデータに分割しておきます。"
      ],
      "metadata": {
        "id": "1b0UAafiWwZz"
      }
    },
    {
      "cell_type": "code",
      "execution_count": null,
      "metadata": {
        "id": "NtpGVlsqNFpH"
      },
      "outputs": [],
      "source": [
        "import numpy as np\n",
        "import numpy.linalg as la\n",
        "import matplotlib.pyplot as plt\n",
        "import pandas as pd\n",
        "from sklearn.linear_model import LogisticRegression\n",
        "from sklearn.model_selection import train_test_split\n",
        "from sklearn.metrics import confusion_matrix, accuracy_score"
      ]
    },
    {
      "cell_type": "code",
      "source": [
        "from google.colab import drive\n",
        "drive.mount('/content/drive')"
      ],
      "metadata": {
        "colab": {
          "base_uri": "https://localhost:8080/"
        },
        "id": "fTQeCBg_mOpl",
        "outputId": "ecc26631-9060-4c7f-dbed-d8fdc7595a17"
      },
      "execution_count": null,
      "outputs": [
        {
          "output_type": "stream",
          "name": "stdout",
          "text": [
            "Mounted at /content/drive\n"
          ]
        }
      ]
    },
    {
      "cell_type": "code",
      "source": [
        "# データを読み込み、訓練、テストデータを作成\n",
        "dfbn = pd.read_csv('/content/drive/My Drive/data_banknote_authentication.txt',header=None,names=[\"x1\",\"x2\",\"x3\",\"x4\",\"y\"])\n",
        "dfbnx = dfbn.iloc[:,:4] # 4つの説明変数を取り出す\n",
        "dfbnx = (dfbnx-dfbnx.mean())/dfbnx.std() # 説明変数を標準化\n",
        "Xtr,Xte,ytr,yte = train_test_split(dfbnx.values,dfbn.iloc[:,4].values,test_size=0.5,random_state=1234)"
      ],
      "metadata": {
        "id": "_ELVPgsTX_WP"
      },
      "execution_count": null,
      "outputs": []
    },
    {
      "cell_type": "code",
      "source": [
        "Xte"
      ],
      "metadata": {
        "colab": {
          "base_uri": "https://localhost:8080/"
        },
        "id": "d1WEPrxJo47r",
        "outputId": "312c197b-4a2c-49b4-cf28-aba4da9120c1"
      },
      "execution_count": null,
      "outputs": [
        {
          "output_type": "execute_result",
          "data": {
            "text/plain": [
              "array([[-1.58239826e-01,  1.33344429e+00, -2.88556481e-01,\n",
              "        -2.00733385e-01],\n",
              "       [ 9.87653614e-01, -2.57732335e-01,  8.98574407e-04,\n",
              "         1.13605026e+00],\n",
              "       [-2.51123770e-01,  1.96036414e-01, -1.10981293e+00,\n",
              "        -8.20482009e-01],\n",
              "       ...,\n",
              "       [-4.07016955e-02, -4.96777969e-01, -7.02842233e-02,\n",
              "         9.88973597e-01],\n",
              "       [-1.63877043e+00,  7.40758605e-01, -2.87563449e-01,\n",
              "        -2.07235424e+00],\n",
              "       [ 5.35909946e-01, -1.19911349e+00,  1.67401914e+00,\n",
              "        -1.13299377e-01]])"
            ]
          },
          "metadata": {},
          "execution_count": 4
        }
      ]
    },
    {
      "cell_type": "markdown",
      "source": [
        "# (1)Scikit-learn の LogisticRegressionを用いて、\n",
        "\n",
        "## (1-1) 訓練データでロジスティック回帰モデルを学習してください。オプション引数 `penalty=`を指定しない場合と、`penalty=None`と指定した場合とで、モデルパラメータ$\\boldsymbol{\\beta}$の値を比較してください。\n",
        "\n",
        "## (1-2) `penalty=`を指定せずに学習したモデルでテストデータを分類し、混同行列および正答率(accuracy)を計算してください。"
      ],
      "metadata": {
        "id": "S1HuCILKNMzD"
      }
    },
    {
      "cell_type": "code",
      "source": [],
      "metadata": {
        "id": "bXO7lPsFaGi_"
      },
      "execution_count": null,
      "outputs": []
    },
    {
      "cell_type": "markdown",
      "source": [
        "##(1-1)"
      ],
      "metadata": {
        "id": "XzgJIWqzn5ba"
      }
    },
    {
      "cell_type": "markdown",
      "source": [
        "penalty = None指定した場合"
      ],
      "metadata": {
        "id": "BbkGE3HnrO66"
      }
    },
    {
      "cell_type": "code",
      "source": [
        "model = LogisticRegression(penalty=None)\n",
        "model.fit(Xtr,ytr)\n",
        "beta_none = np.vstack([np.array(model.intercept_).reshape([1,1]),np.array(model.coef_).reshape([4,1])])\n",
        "# print('b0=', model.intercept_)\n",
        "# print('B=', model.coef_)\n",
        "print('beta_none = ',beta_none)"
      ],
      "metadata": {
        "colab": {
          "base_uri": "https://localhost:8080/"
        },
        "id": "mYa4ZYscrRWW",
        "outputId": "cd05f61c-f4f8-49a2-e505-806fa85824d0"
      },
      "execution_count": null,
      "outputs": [
        {
          "output_type": "stream",
          "name": "stdout",
          "text": [
            "beta_none =  [[-19.23747012]\n",
            " [-39.58183971]\n",
            " [-44.90907261]\n",
            " [-41.55315514]\n",
            " [ -2.57686289]]\n"
          ]
        }
      ]
    },
    {
      "cell_type": "markdown",
      "source": [
        "penalty指定しない場合"
      ],
      "metadata": {
        "id": "C39peBOFrFtB"
      }
    },
    {
      "cell_type": "code",
      "source": [
        "model = LogisticRegression()\n",
        "model.fit(Xtr,ytr)\n",
        "beta_pen = np.vstack([np.array(model.intercept_).reshape([1,1]),np.array(model.coef_).reshape([4,1])])\n",
        "# print('b0=', model.intercept_)\n",
        "# print('B=', model.coef_)\n",
        "print('beta=',beta_pen)"
      ],
      "metadata": {
        "colab": {
          "base_uri": "https://localhost:8080/"
        },
        "id": "JI3p1qLwn5GM",
        "outputId": "b64c00da-7d67-484a-9e47-aa8a980737f2"
      },
      "execution_count": null,
      "outputs": [
        {
          "output_type": "stream",
          "name": "stdout",
          "text": [
            "beta= [[-1.22701093]\n",
            " [-4.12818294]\n",
            " [-4.32575696]\n",
            " [-3.75177588]\n",
            " [ 0.20057435]]\n"
          ]
        }
      ]
    },
    {
      "cell_type": "markdown",
      "source": [
        "##(1-2)"
      ],
      "metadata": {
        "id": "By78l1d1M-wA"
      }
    },
    {
      "cell_type": "markdown",
      "source": [
        "正答率(penalty指定なし)"
      ],
      "metadata": {
        "id": "9bOiPqrMsD4l"
      }
    },
    {
      "cell_type": "code",
      "source": [
        "pred = model.predict(Xte)\n",
        "cmtr = confusion_matrix(yte,pred)\n",
        "print(cmtr)\n",
        "score = (cmtr[0,0]+cmtr[1,1])/np.sum(cmtr)\n",
        "print(f'正答率:{score * 100}%')"
      ],
      "metadata": {
        "colab": {
          "base_uri": "https://localhost:8080/"
        },
        "id": "hWTxFzqdsRK0",
        "outputId": "2baefff4-de20-4377-c841-4b8fd853baa2"
      },
      "execution_count": null,
      "outputs": [
        {
          "output_type": "stream",
          "name": "stdout",
          "text": [
            "[[369  13]\n",
            " [  2 302]]\n",
            "正答率:97.81341107871721%\n"
          ]
        }
      ]
    },
    {
      "cell_type": "code",
      "source": [
        "score = accuracy_score(yte, pred)\n",
        "print(f'正答率:{score * 100}%')"
      ],
      "metadata": {
        "colab": {
          "base_uri": "https://localhost:8080/"
        },
        "id": "5EvPt4BtpJqu",
        "outputId": "3636d425-149e-4ed6-badd-012becdfc492"
      },
      "execution_count": null,
      "outputs": [
        {
          "output_type": "stream",
          "name": "stdout",
          "text": [
            "正答率:97.81341107871721%\n"
          ]
        }
      ]
    },
    {
      "cell_type": "code",
      "source": [
        "# 訓練データについて予測し直したラベル\n",
        "yhtr = model.predict(Xtr)\n",
        "print(\"Prediction on training data:\\n\",yhtr)\n",
        "\n",
        "# 訓練データの混同行列\n",
        "cmtr = confusion_matrix(ytr,yhtr)\n",
        "print(cmtr)"
      ],
      "metadata": {
        "colab": {
          "base_uri": "https://localhost:8080/"
        },
        "id": "pz6scgyzNnoy",
        "outputId": "bceba4f7-717b-4c9b-d71d-3a9fee44b1b3"
      },
      "execution_count": null,
      "outputs": [
        {
          "output_type": "stream",
          "name": "stdout",
          "text": [
            "Prediction on training data:\n",
            " [0 1 1 1 0 0 0 0 1 0 0 0 0 0 0 1 0 1 1 1 0 1 0 1 0 0 1 0 0 0 1 0 1 0 0 0 1\n",
            " 0 1 0 0 0 0 0 0 1 0 0 0 0 1 1 0 0 1 0 0 0 1 0 1 1 0 0 1 0 0 1 1 1 0 1 0 0\n",
            " 0 1 0 1 1 0 1 0 0 0 1 0 1 1 1 0 1 1 0 1 1 0 1 1 0 0 0 0 1 0 1 1 0 1 1 0 0\n",
            " 0 0 0 1 0 1 1 0 0 0 0 0 1 1 0 0 1 0 0 0 1 0 1 0 1 0 1 0 0 1 0 0 1 1 0 0 1\n",
            " 0 1 0 1 1 1 0 1 1 1 1 1 0 1 0 1 1 1 0 1 1 1 0 0 1 0 1 1 0 0 1 1 0 0 1 0 1\n",
            " 0 1 0 1 0 0 0 0 0 1 0 0 0 0 0 0 0 1 0 1 1 1 1 0 1 0 1 0 1 0 1 0 0 0 1 1 0\n",
            " 1 1 0 0 1 0 0 1 0 1 0 1 0 0 1 0 1 1 1 0 0 1 0 0 1 1 1 1 1 0 0 1 0 1 1 1 1\n",
            " 1 0 0 0 1 1 1 1 1 0 1 1 0 0 1 1 1 1 0 1 0 1 0 1 0 0 0 0 0 1 1 1 0 0 0 1 0\n",
            " 0 0 1 0 0 1 1 0 1 0 0 0 0 1 0 0 0 1 0 1 0 1 0 0 1 1 1 0 0 1 0 0 1 1 1 1 0\n",
            " 0 1 0 0 0 0 0 1 0 0 1 0 1 1 0 1 1 1 0 0 0 0 0 1 0 0 0 0 0 0 1 0 1 1 1 1 0\n",
            " 0 0 0 0 0 1 1 1 1 0 0 0 1 1 0 0 0 1 1 0 1 0 0 1 1 1 0 0 1 0 0 1 1 1 0 1 1\n",
            " 1 0 1 0 0 1 1 0 0 1 1 1 0 1 0 0 1 1 0 1 0 0 1 1 0 1 0 0 0 0 1 1 0 1 1 0 0\n",
            " 0 1 1 0 1 1 0 0 1 0 0 1 1 1 1 1 1 0 0 1 0 1 1 0 0 1 1 1 1 1 0 1 0 1 1 1 0\n",
            " 0 0 0 0 1 1 0 0 0 0 0 0 0 0 0 0 0 1 1 0 0 1 1 1 1 1 0 1 1 1 1 1 1 0 0 1 1\n",
            " 0 1 1 0 0 0 1 1 1 0 0 1 0 1 0 0 0 0 1 1 0 0 0 0 1 0 0 0 1 0 1 0 1 1 0 1 0\n",
            " 0 0 0 0 0 0 0 0 1 0 1 1 1 1 0 1 0 0 1 0 1 1 1 1 1 0 0 1 1 1 0 1 0 0 0 1 0\n",
            " 0 0 0 0 1 0 0 1 0 1 0 1 0 0 0 1 0 1 0 0 1 0 0 1 0 0 0 1 0 1 0 1 0 1 0 1 1\n",
            " 1 0 0 0 0 0 1 1 0 1 0 1 0 1 0 0 1 1 1 0 0 0 1 1 0 0 1 1 1 0 0 0 0 1 0 1 0\n",
            " 1 0 0 0 1 1 0 0 1 0 1 1 0 0 0 1 1 1 0 1]\n",
            "[[370  10]\n",
            " [  1 305]]\n"
          ]
        }
      ]
    },
    {
      "cell_type": "markdown",
      "source": [
        "____\n"
      ],
      "metadata": {
        "id": "CrUDI9CKtqwv"
      }
    },
    {
      "cell_type": "markdown",
      "source": [
        "# (2) 次に、Scikit-learn を使わず、\n",
        "\n",
        "## (2-1) 授業で紹介した最尤法に基づくアルゴリズムでロジスティック回帰モデルを学習してください。\n",
        "* $\\hat{\\boldsymbol{\\beta}}$の初期解は$\\boldsymbol{0}$とかで良いと思います。\n",
        "* 繰り返し文の終了条件のことを説明しませんでしたが、対数尤度関数の値の変化量（の絶対値）が一定値以下(例えば$1.0\\times 10^{-6}$)になったら終了するということが考えられます。\n",
        "\n",
        "## (2-2) 求まったパラメータベクトル$\\hat{\\boldsymbol{\\beta}}$が、Scikit-learnの LogisticRegressionで、`penalty=None` とした場合とほぼ同じ値になることを確かめてください。\n",
        "\n",
        "## (2-3) 対角行列$\\boldsymbol{W}$の対角成分\n",
        "$$\n",
        "  w_{i,i} = w_{i} =\n",
        "  f(\\hat{\\boldsymbol{\\beta}}\\cdot \\boldsymbol{x}_i) \\cdot\n",
        "  (1-f(\\hat{\\boldsymbol{\\beta}}\\cdot \\boldsymbol{x}_i))\n",
        "$$\n",
        "## の多くがほぼ0であることを確認してください。また、$w_i$の値が比較的大きいサンプル$\\boldsymbol{x}_i$が、クラスの境界面近くにあることを確認してください。\n",
        "* $w_i$の値と$z_i = \\hat{\\boldsymbol{\\beta}}\\cdot \\boldsymbol{x}_i$ の値との関係を見るなどすると良いと思います。"
      ],
      "metadata": {
        "id": "SYNg8y5laG-1"
      }
    },
    {
      "cell_type": "code",
      "source": [],
      "metadata": {
        "id": "7KD_w3t-hPI_"
      },
      "execution_count": null,
      "outputs": []
    },
    {
      "cell_type": "markdown",
      "source": [
        "##(2-1)"
      ],
      "metadata": {
        "id": "g7S-LYe5vqlz"
      }
    },
    {
      "cell_type": "code",
      "source": [
        "# Numpyのarray型に変換\n",
        "Ylot = ytr.reshape([len(ytr),1])\n",
        "# 常に1の列を説明変数の列の左に加える\n",
        "Xlot = np.hstack([np.ones([len(Xtr),1]),Xtr])"
      ],
      "metadata": {
        "id": "r7E6rDbBxI1d"
      },
      "execution_count": null,
      "outputs": []
    },
    {
      "cell_type": "code",
      "source": [
        "# ロジスティック関数\n",
        "def logifun(z):\n",
        "  return 1/(1+np.exp(-z))\n",
        "\n",
        "# パラメータbeta に対して対数尤度を計算\n",
        "def llkhd_lot(beta):\n",
        "  ll = np.sum((1-Ylot)*np.log(1-logifun(np.dot(Xlot,beta)) + 1.0e-10)) + np.sum(Ylot*np.log(logifun(np.dot(Xlot,beta)) + 1.0e-10))\n",
        "  return ll\n"
      ],
      "metadata": {
        "id": "dIqLPth-xAqI"
      },
      "execution_count": null,
      "outputs": []
    },
    {
      "cell_type": "code",
      "source": [
        "beta = np.zeros([5,1])\n",
        "ll = llkhd_lot(beta)\n",
        "\n",
        "while True:\n",
        "  # ベクトル p\n",
        "  p = logifun(np.dot(Xlot,beta))\n",
        "  # 行列Wの対角成分を集めたベクトル\n",
        "  w = p*(1-p)\n",
        "\n",
        "  # 対角行列\n",
        "  w = w.flatten()\n",
        "  W = np.diag(w)\n",
        "\n",
        "  # 勾配ベクトル\n",
        "  g = np.dot(Xlot.T,Ylot-p)\n",
        "\n",
        "  # ヘッセ行列\n",
        "  H = - np.dot(Xlot.T,np.dot(W,Xlot))\n",
        "  # H = - np.dot(Xlot.T,w.reshape((-1,1))*Xlot)\n",
        "\n",
        "  # H^{-1} g\n",
        "  # dlt = la.solve(H,g)\n",
        "  dlt = np.dot(la.inv(H),g)\n",
        "  # パラメータ更新\n",
        "  beta -= dlt\n",
        "  if abs(llkhd_lot(beta) - ll) < 0.001:\n",
        "    break\n",
        "  ll = llkhd_lot(beta)\n",
        "  # print(f\" beta={beta}, l={llkhd_lot(beta)}\")\n",
        "# 表示\n",
        "print(f\" beta={beta}, l={llkhd_lot(beta)}\")"
      ],
      "metadata": {
        "colab": {
          "base_uri": "https://localhost:8080/"
        },
        "id": "WAaVZX3AvtLe",
        "outputId": "53f2556e-d48b-4cf7-a2aa-71d35e0c2dce"
      },
      "execution_count": null,
      "outputs": [
        {
          "output_type": "stream",
          "name": "stdout",
          "text": [
            " beta=[[-19.23174495]\n",
            " [-39.56973436]\n",
            " [-44.8958091 ]\n",
            " [-41.54054034]\n",
            " [ -2.57594946]], l=-6.341904172073264\n"
          ]
        }
      ]
    },
    {
      "cell_type": "markdown",
      "source": [
        "##(2-2)"
      ],
      "metadata": {
        "id": "yeRCjQ_0vttb"
      }
    },
    {
      "cell_type": "code",
      "source": [
        "# sklearnでpenalty = noneとした場合の結果\n",
        "beta_none =  [[-19.23747012]\n",
        " [-39.58183971]\n",
        " [-44.90907261]\n",
        " [-41.55315514]\n",
        " [ -2.57686289]]"
      ],
      "metadata": {
        "id": "2Wk23JJFJ3XX"
      },
      "execution_count": null,
      "outputs": []
    },
    {
      "cell_type": "code",
      "source": [
        "# 自作の関数を用いた場合の結果\n",
        " beta = [[-19.23174495]\n",
        " [-39.56973436]\n",
        " [-44.8958091 ]\n",
        " [-41.54054034]\n",
        " [ -2.57594946]]"
      ],
      "metadata": {
        "id": "z4vWVsDXvv3E"
      },
      "execution_count": null,
      "outputs": []
    },
    {
      "cell_type": "markdown",
      "source": [
        "##ほとんど同じになっている"
      ],
      "metadata": {
        "id": "p3HfdtnVODCb"
      }
    },
    {
      "cell_type": "markdown",
      "source": [
        "##(2-3)"
      ],
      "metadata": {
        "id": "_g5m30a2vwS1"
      }
    },
    {
      "cell_type": "code",
      "source": [
        "z = np.dot(Xlot,beta)\n",
        "# 確率ベクトル p\n",
        "p = logifun(z)\n",
        "# 行列Wの対角成分を集めたベクトル\n",
        "w = p*(1-p)\n",
        "\n",
        "w = w.flatten()\n",
        "counter = 0\n",
        "for val in w:\n",
        "  if val > 1.0e-2:\n",
        "    counter += 1\n",
        "counter"
      ],
      "metadata": {
        "colab": {
          "base_uri": "https://localhost:8080/"
        },
        "id": "TKT5A2pXvzcR",
        "outputId": "880dad3c-f078-48c0-9e99-0a5e9304e005"
      },
      "execution_count": null,
      "outputs": [
        {
          "output_type": "execute_result",
          "data": {
            "text/plain": [
              "21"
            ]
          },
          "metadata": {},
          "execution_count": 32
        }
      ]
    },
    {
      "cell_type": "markdown",
      "source": [
        "##ほぼゼロに近い値となっているといえるだろう"
      ],
      "metadata": {
        "id": "UBDGLuNvOInv"
      }
    },
    {
      "cell_type": "markdown",
      "source": [
        "___"
      ],
      "metadata": {
        "id": "kKtKP7oOv0Ud"
      }
    },
    {
      "cell_type": "markdown",
      "source": [
        "# (3) (発展・任意課題)\n",
        "Scikit-learn で `penalty=`オプションを指定しない場合、L2正則化項が有効になり、対数尤度関数\n",
        "$$\n",
        "l(\\boldsymbol{\\beta}\\vert X,Y) = \\sum_{i=0}^{N-1} \\left\\{ (1-y_i) \\cdot \\log (1-f(\\boldsymbol{\\beta}\\cdot \\boldsymbol{x}_i))\n",
        "+ y_i \\cdot \\log f(\\boldsymbol{\\beta}\\cdot \\boldsymbol{x}_i) \\right\\}\n",
        "$$\n",
        "<font color=\"blue\">に、L2正則化項 $-\\Vert \\boldsymbol{\\beta} \\Vert^2$を加えた</font>目的関数を最大化しようとします。\n",
        "\n",
        "## (3-1) L2正則化項 $-\\Vert \\boldsymbol{\\beta} \\Vert^2$を加えることによって、どのような効果が見込めるかを考察してください。\n",
        "\n",
        "## (3-1) (2)で作った自前のロジスティック回帰にこの正則化項を加えた場合の$\\boldsymbol{\\beta}$の更新則を導出し、実装して実際に計算してみてください。"
      ],
      "metadata": {
        "id": "h71S0aHrhPqO"
      }
    },
    {
      "cell_type": "code",
      "source": [],
      "metadata": {
        "id": "yf4ZHOWnlg6R"
      },
      "execution_count": null,
      "outputs": []
    },
    {
      "cell_type": "markdown",
      "source": [
        "##(3-1)"
      ],
      "metadata": {
        "id": "kR8nIZ5-cJgK"
      }
    },
    {
      "cell_type": "markdown",
      "source": [
        "###penaltyを考慮しないと、はずれ値やノイズまで、過剰に学習してしまい、未知データへの予測精度を落ちてしまう\n",
        "###罰則項として、L2正則化項(パラメータの二乗和)を追加することで、各パラメータの値が可能なかぎり0に近づき、モデルの複雑化を防ぐ\n"
      ],
      "metadata": {
        "id": "DI0N8v4CMYng"
      }
    },
    {
      "cell_type": "markdown",
      "source": [
        "##(3-2)"
      ],
      "metadata": {
        "id": "gl5-2OE0cM2J"
      }
    },
    {
      "cell_type": "markdown",
      "source": [
        "##L2正則化項のパラメータλをいろいろな値で試して、sk-learnのメソッドを使ったときと比較した"
      ],
      "metadata": {
        "id": "W61sBvYBLyEW"
      }
    },
    {
      "cell_type": "markdown",
      "source": [
        "##λ = 1の場合"
      ],
      "metadata": {
        "id": "xCjsvUNJLVi_"
      }
    },
    {
      "cell_type": "code",
      "source": [
        "# ロジスティック関数\n",
        "def logifun(z):\n",
        "  return 1/(1+np.exp(-z))\n",
        "\n",
        "# パラメータbeta に対して対数尤度を計算\n",
        "def llkhd_lot(beta):\n",
        "  ll = np.sum((1-Ylot)*np.log(1-logifun(np.dot(Xlot,beta)) + 1.0e-10)) + np.sum(Ylot*np.log(logifun(np.dot(Xlot,beta)) + 1.0e-10)) - la.norm(beta)**2\n",
        "  return ll"
      ],
      "metadata": {
        "id": "XZzL6xB9Lfhr"
      },
      "execution_count": null,
      "outputs": []
    },
    {
      "cell_type": "code",
      "source": [
        "beta = np.zeros([5,1])\n",
        "ll = llkhd_lot(beta)\n",
        "\n",
        "while True:\n",
        "  # ベクトル p\n",
        "  p = logifun(np.dot(Xlot,beta))\n",
        "  # 行列Wの対角成分を集めたベクトル\n",
        "  w = p*(1-p)\n",
        "\n",
        "  # 対角行列\n",
        "  w = w.flatten()\n",
        "  W = np.diag(w)\n",
        "\n",
        "  # 勾配ベクトル\n",
        "  g = np.dot(Xlot.T,Ylot-p) - 2*beta\n",
        "\n",
        "  # ヘッセ行列\n",
        "  H = - np.dot(Xlot.T,np.dot(W,Xlot)) - 2*np.eye(5)\n",
        "  # H = - np.dot(Xlot.T,w.reshape((-1,1))*Xlot)\n",
        "\n",
        "  # H^{-1} g\n",
        "  # dlt = la.solve(H,g)\n",
        "  dlt = np.dot(la.inv(H),g)\n",
        "  # パラメータ更新\n",
        "  beta -= dlt\n",
        "  if abs(llkhd_lot(beta) - ll) < 1.0e-6:\n",
        "    break\n",
        "  ll = llkhd_lot(beta)\n",
        "\n",
        "  # print(f\" beta={beta}, l={llkhd_lot(beta)}\")\n",
        "# 表示\n",
        "print(f\" beta={beta}, l={llkhd_lot(beta)}\")"
      ],
      "metadata": {
        "colab": {
          "base_uri": "https://localhost:8080/"
        },
        "id": "flp_oKxkLhgc",
        "outputId": "2ae8f001-c390-4881-9fd9-ab072794f29e"
      },
      "execution_count": null,
      "outputs": [
        {
          "output_type": "stream",
          "name": "stdout",
          "text": [
            " beta=[[-0.86073461]\n",
            " [-3.51255301]\n",
            " [-3.41130092]\n",
            " [-2.96483671]\n",
            " [ 0.21569586]], l=-82.06958679248406\n"
          ]
        }
      ]
    },
    {
      "cell_type": "markdown",
      "source": [
        "##λ = 1/2の場合"
      ],
      "metadata": {
        "id": "EldG75B6LlXf"
      }
    },
    {
      "cell_type": "code",
      "source": [
        "# ロジスティック関数\n",
        "def logifun(z):\n",
        "  return 1/(1+np.exp(-z))\n",
        "\n",
        "# パラメータbeta に対して対数尤度を計算\n",
        "def llkhd_lot(beta):\n",
        "  ll = np.sum((1-Ylot)*np.log(1-logifun(np.dot(Xlot,beta)) + 1.0e-10)) + np.sum(Ylot*np.log(logifun(np.dot(Xlot,beta)) + 1.0e-10)) - 0.5*la.norm(beta)**2\n",
        "  return ll"
      ],
      "metadata": {
        "id": "W2W3aqGOcOIv"
      },
      "execution_count": null,
      "outputs": []
    },
    {
      "cell_type": "code",
      "source": [
        "beta = np.zeros([5,1])\n",
        "ll = llkhd_lot(beta)\n",
        "\n",
        "while True:\n",
        "  # ベクトル p\n",
        "  p = logifun(np.dot(Xlot,beta))\n",
        "  # 行列Wの対角成分を集めたベクトル\n",
        "  w = p*(1-p)\n",
        "\n",
        "  # 対角行列\n",
        "  w = w.flatten()\n",
        "  W = np.diag(w)\n",
        "\n",
        "  # 勾配ベクトル\n",
        "  g = np.dot(Xlot.T,Ylot-p) - beta\n",
        "\n",
        "  # ヘッセ行列\n",
        "  H = - np.dot(Xlot.T,np.dot(W,Xlot)) - np.eye(5)\n",
        "  # H = - np.dot(Xlot.T,w.reshape((-1,1))*Xlot)\n",
        "\n",
        "  # H^{-1} g\n",
        "  # dlt = la.solve(H,g)\n",
        "  dlt = np.dot(la.inv(H),g)\n",
        "  # パラメータ更新\n",
        "  beta -= dlt\n",
        "  if abs(llkhd_lot(beta) - ll) < 1.0e-6:\n",
        "    break\n",
        "  ll = llkhd_lot(beta)\n",
        "\n",
        "  # print(f\" beta={beta}, l={llkhd_lot(beta)}\")\n",
        "# 表示\n",
        "print(f\" beta={beta}, l={llkhd_lot(beta)}\")"
      ],
      "metadata": {
        "colab": {
          "base_uri": "https://localhost:8080/"
        },
        "id": "rFEeifgLGkL7",
        "outputId": "60f56158-396e-4712-8747-8507a46ea82b"
      },
      "execution_count": null,
      "outputs": [
        {
          "output_type": "stream",
          "name": "stdout",
          "text": [
            " beta=[[-1.15585177]\n",
            " [-4.09249343]\n",
            " [-4.26854119]\n",
            " [-3.7087639 ]\n",
            " [ 0.2115722 ]], l=-61.87489916407954\n"
          ]
        }
      ]
    },
    {
      "cell_type": "markdown",
      "source": [
        "##以上の結果とsklearnの結果を比較して、かなり近い値となっていることがわかる"
      ],
      "metadata": {
        "id": "KWpa3Z4eLQMH"
      }
    },
    {
      "cell_type": "code",
      "source": [
        "# sklearnの結果\n",
        "\n",
        "beta= [[-1.22701093]\n",
        " [-4.12818294]\n",
        " [-4.32575696]\n",
        " [-3.75177588]\n",
        " [ 0.20057435]]"
      ],
      "metadata": {
        "id": "-fKYiyLEIeCQ"
      },
      "execution_count": null,
      "outputs": []
    }
  ]
}