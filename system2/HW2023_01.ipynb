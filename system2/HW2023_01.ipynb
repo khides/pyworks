{
  "nbformat": 4,
  "nbformat_minor": 0,
  "metadata": {
    "colab": {
      "provenance": []
    },
    "kernelspec": {
      "name": "python3",
      "display_name": "Python 3"
    }
  },
  "cells": [
    {
      "cell_type": "markdown",
      "metadata": {
        "id": "yBvMlRLDfINN"
      },
      "source": [
        "# 航空宇宙情報システム学第二： 4月18日課題 (HW2023-01)\n",
        "\n",
        "3×3のマス目があり、0から8の番号が付いています。最初、駒は9つのマスのいずれかに等確率でランダムに置かれるとします。その後、各時刻ごとに次の<font color='blue'>[移動規則]</font>に従ってランダムに移動します。十分に時間が経過したとき、各マスに居る確率を求めてください。\n",
        "\n",
        "<font color='blue'>[移動規則]</font> <p>\n",
        "* 角のマス(0,2,6,8)に居る時は、確率1/3ずつで隣のマスに移動するか現在のマスに留まる。\n",
        "* 辺のマス(1,3,5,7)に居る時は、確率1/4ずつで隣のマスに移動するか現在のマスに留まる。\n",
        "* 真ん中のマス(4)に居る時は、確率1/5ずつで隣のマスに移動するか現在のマスに留まる。\n",
        "\n",
        "ファイル名は、HW2023-01.ipynb のまま提出して構いません。\n",
        "\n",
        "提出期限は、<font color='red'>2週間後の5月2日8時30分 (次々回授業の直前) </font>とします。\n"
      ]
    },
    {
      "cell_type": "markdown",
      "metadata": {
        "id": "iKRHIhSaEO1I"
      },
      "source": [
        "## 課題補足\n",
        "\n",
        "各マス間の遷移確率を図示すると、↓のようになります。\n",
        "\n",
        "\n",
        "![image.png](data:image/png;base64,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)\n"
      ]
    },
    {
      "cell_type": "markdown",
      "metadata": {
        "id": "xmnPIDpjH5TG"
      },
      "source": [
        "また、遷移行列 $\\boldsymbol{T}$は、\n",
        "$$\n",
        "\\boldsymbol{T} =\n",
        "\\left[ \\begin{array}{ccccccccc}\n",
        "1/3 & 1/4 & 0 & 1/4 & 0 & 0 & 0 & 0 & 0\\\\\n",
        "1/3 & 1/4 & 1/3 & 0 & 1/5 & 0 & 0 & 0 & 0\\\\\n",
        "0 & 1/4 & 1/3 & 0 & 0 & 1/4 & 0 & 0 & 0\\\\\n",
        "1/3 & 0 & 0 & 1/4 & 1/5 & 0 & 1/3 & 0 & 0\\\\\n",
        "0 & 1/4 & 0 & 1/4 & 1/5 & 1/4 & 0 & 1/4 & 0\\\\\n",
        "0 & 0 & 1/3 & 0 & 1/5 & 1/4 & 0 & 0 & 1/3\\\\\n",
        "0 & 0 & 0 & 1/4 & 0 & 0 & 1/3 & 1/4 & 0\\\\\n",
        "0 & 0 & 0 & 0 & 1/5 & 0 & 1/3 & 1/4 & 1/3\\\\\n",
        "0 & 0 & 0 & 0 & 0 & 1/4 & 0 & 1/4 & 1/3\\\\\n",
        "\\end{array}\n",
        "  \\right]\n",
        "$$\n",
        "\n",
        "のようになります。"
      ]
    },
    {
      "cell_type": "markdown",
      "metadata": {
        "id": "g4kR2DoAM8zA"
      },
      "source": [
        "このとき、時刻 $t$ において、各マスに存在する確率をベクトル\n",
        "$\\boldsymbol{p}_t$で表すと、\n",
        "$$\n",
        "\\boldsymbol{p}_{t+1} = \\boldsymbol{T} \\boldsymbol{p}_t\n",
        "$$\n",
        "が成り立ちます。\n",
        "\n",
        "ただし、最初の時刻は全てのマス目に等確率に居るとするので、確率ベクトル $\\boldsymbol{p}_0$は、\n",
        "$$\n",
        "\\boldsymbol{p}_0 = \\left[ \\begin{array}{ccccccccc}\n",
        "1/9 & 1/9 & 1/9 & 1/9 & 1/9 & 1/9 & 1/9 & 1/9 & 1/9 \\\\\n",
        "\\end{array}\n",
        "  \\right]^\\top\n",
        "$$\n",
        "と表されます。\n",
        "\n",
        "「十分に時間が経った時に各マスにコマが居る確率」は、\n",
        "$$\\boldsymbol{p}_{\\infty} = \\lim_{t \\rightarrow \\infty} \\boldsymbol{p}_{t}$$\n",
        "\n",
        "ということになります。"
      ]
    },
    {
      "cell_type": "markdown",
      "metadata": {
        "id": "dYrZU5QmVUcJ"
      },
      "source": [
        "## ヒント\n",
        "\n",
        "この問題はいくつか解き方が考えられます。\n",
        "\n",
        "1. 確率遷移の式に従って、$\\boldsymbol{p}_t$ が定常になるまで計算する。\n",
        "\n",
        "2. 定常状態では、 $\\boldsymbol{p}_{\\infty}=\\boldsymbol{T} \\boldsymbol{p}_{\\infty}$ になることを利用して、固有値・固有ベクトルから求める。\n",
        "$\\boldsymbol{T}$ の最大固有値(=1)に対応する\n",
        "固有ベクトルが $\\boldsymbol{p}_{\\infty}$ です。\n",
        "`numpy.linalg.eig` 関数を使っても良いですが、固有値が1であると分かっている\n",
        "ので、1次の連立方程式を求めて `numpy.linalg.solve`関数を使っても固有ベクトルを\n",
        "計算できます（ただし少し工夫は必要）。\n",
        "\n",
        "3. 移動規則に従って、多数のランダムシミュレーションを行い、ヒストグラム（頻度）を計算して求める。一種のモンテカルロ法になります。（さらに難しい話をすると、「多数」のシミュレーションを行う代わりに、1回の非常に長い\n",
        "シミュレーションを行って、ヒストグラムを計算しても良いです。（マルコフ連鎖モンテカルロ(MCMC)法と呼ばれています。））\n",
        "\n",
        "とりあえず、1をやってみて、余裕のある人は、2, 3 のやり方も試してみてください。\n",
        "（例年この時期は「課題が多過ぎる」という声を聞くので、無理しなくても結構です。）\n",
        "\n",
        "**(発展)**\n",
        "\n",
        "- $9\\times 9$ の遷移行列$\\boldsymbol{T}$を`np.array()`で作る際に、要素の値を愚直に与えるのは大変です。要領良く$\\boldsymbol{T}$を作る方法を考えてみてください。\n",
        "- matplotlib を使える人は、棒グラフ（ヒストグラム）や\n",
        "ヒートマップを書いてみると結果のイメージが掴めると\n",
        "思います。"
      ]
    },
    {
      "cell_type": "markdown",
      "source": [
        "_____"
      ],
      "metadata": {
        "id": "-owbX1HoCYef"
      }
    },
    {
      "cell_type": "markdown",
      "source": [
        "______"
      ],
      "metadata": {
        "id": "F1wxbSZ4zlKw"
      }
    },
    {
      "cell_type": "markdown",
      "source": [
        "# 解法１(定常になるまで繰り返す)"
      ],
      "metadata": {
        "id": "Aej5FYN1zZMn"
      }
    },
    {
      "cell_type": "code",
      "metadata": {
        "id": "wJObsaRcZGEZ"
      },
      "source": [
        "import numpy as np\n",
        "import matplotlib.pyplot as plt"
      ],
      "execution_count": null,
      "outputs": []
    },
    {
      "cell_type": "code",
      "source": [
        "arrayT = np.zeros([9, 9])\n",
        "\n",
        "for i in range(len(arrayT[0])):\n",
        "    if i == 0:\n",
        "        arrayT[i][0] = 1/3\n",
        "        arrayT[i][1] = 1/3\n",
        "        arrayT[i][3] = 1/3\n",
        "    elif i == 1:\n",
        "        arrayT[i][0] = 1/4\n",
        "        arrayT[i][1] = 1/4\n",
        "        arrayT[i][2] = 1/4\n",
        "        arrayT[i][4] = 1/4\n",
        "    elif i == 2:\n",
        "        arrayT[i][1] = 1/3\n",
        "        arrayT[i][2] = 1/3\n",
        "        arrayT[i][5] = 1/3\n",
        "    elif i == 3:\n",
        "        arrayT[i][0] = 1/4\n",
        "        arrayT[i][3] = 1/4\n",
        "        arrayT[i][4] = 1/4\n",
        "        arrayT[i][6] = 1/4\n",
        "    elif i == 4:\n",
        "        arrayT[i][1] = 1/5\n",
        "        arrayT[i][3] = 1/5\n",
        "        arrayT[i][4] = 1/5\n",
        "        arrayT[i][5] = 1/5\n",
        "        arrayT[i][7] = 1/5\n",
        "    elif i == 5:\n",
        "        arrayT[i][2] = 1/4\n",
        "        arrayT[i][4] = 1/4\n",
        "        arrayT[i][5] = 1/4\n",
        "        arrayT[i][8] = 1/4\n",
        "    elif i == 6:\n",
        "        arrayT[i][3] = 1/3\n",
        "        arrayT[i][6] = 1/3\n",
        "        arrayT[i][7] = 1/3\n",
        "    elif i == 7:\n",
        "        arrayT[i][4] = 1/4\n",
        "        arrayT[i][6] = 1/4\n",
        "        arrayT[i][7] = 1/4\n",
        "        arrayT[i][8] = 1/4\n",
        "    else:\n",
        "        arrayT[i][5] = 1/3\n",
        "        arrayT[i][7] = 1/3\n",
        "        arrayT[i][8] = 1/3\n",
        "\n",
        "arrayT = np.mat(arrayT.T)\n",
        "# arrayT = arrayT.T\n",
        "arrayT\n"
      ],
      "metadata": {
        "colab": {
          "base_uri": "https://localhost:8080/"
        },
        "id": "9fFXD4xGpNHN",
        "outputId": "bea8851f-1dc1-45b4-91da-01826e627301"
      },
      "execution_count": null,
      "outputs": [
        {
          "output_type": "execute_result",
          "data": {
            "text/plain": [
              "matrix([[0.33333333, 0.25      , 0.        , 0.25      , 0.        ,\n",
              "         0.        , 0.        , 0.        , 0.        ],\n",
              "        [0.33333333, 0.25      , 0.33333333, 0.        , 0.2       ,\n",
              "         0.        , 0.        , 0.        , 0.        ],\n",
              "        [0.        , 0.25      , 0.33333333, 0.        , 0.        ,\n",
              "         0.25      , 0.        , 0.        , 0.        ],\n",
              "        [0.33333333, 0.        , 0.        , 0.25      , 0.2       ,\n",
              "         0.        , 0.33333333, 0.        , 0.        ],\n",
              "        [0.        , 0.25      , 0.        , 0.25      , 0.2       ,\n",
              "         0.25      , 0.        , 0.25      , 0.        ],\n",
              "        [0.        , 0.        , 0.33333333, 0.        , 0.2       ,\n",
              "         0.25      , 0.        , 0.        , 0.33333333],\n",
              "        [0.        , 0.        , 0.        , 0.25      , 0.        ,\n",
              "         0.        , 0.33333333, 0.25      , 0.        ],\n",
              "        [0.        , 0.        , 0.        , 0.        , 0.2       ,\n",
              "         0.        , 0.33333333, 0.25      , 0.33333333],\n",
              "        [0.        , 0.        , 0.        , 0.        , 0.        ,\n",
              "         0.25      , 0.        , 0.25      , 0.33333333]])"
            ]
          },
          "metadata": {},
          "execution_count": 164
        }
      ]
    },
    {
      "cell_type": "code",
      "source": [
        "p0 = np.full([9,1],1/9)\n",
        "p0 = np.mat(p0)\n",
        "p0"
      ],
      "metadata": {
        "colab": {
          "base_uri": "https://localhost:8080/"
        },
        "id": "mjNECjG-sjeK",
        "outputId": "a6f87ddf-a6fe-4729-8d19-e817c1cabd81"
      },
      "execution_count": null,
      "outputs": [
        {
          "output_type": "execute_result",
          "data": {
            "text/plain": [
              "matrix([[0.11111111],\n",
              "        [0.11111111],\n",
              "        [0.11111111],\n",
              "        [0.11111111],\n",
              "        [0.11111111],\n",
              "        [0.11111111],\n",
              "        [0.11111111],\n",
              "        [0.11111111],\n",
              "        [0.11111111]])"
            ]
          },
          "metadata": {},
          "execution_count": 165
        }
      ]
    },
    {
      "cell_type": "code",
      "source": [
        "while True:\n",
        "    p0dash = np.dot(arrayT, p0)\n",
        "    if np.all(p0dash - p0 != np.zeros([9, 1])):\n",
        "        p0 = p0dash\n",
        "    else:\n",
        "        break\n",
        "\n",
        "p0 = p0.reshape(3,3)\n",
        "p0"
      ],
      "metadata": {
        "colab": {
          "base_uri": "https://localhost:8080/"
        },
        "id": "mHd63s-atFcx",
        "outputId": "c2c4b4e3-1aae-4a23-f325-7809b04699a5"
      },
      "execution_count": null,
      "outputs": [
        {
          "output_type": "execute_result",
          "data": {
            "text/plain": [
              "matrix([[0.09090909, 0.12121212, 0.09090909],\n",
              "        [0.12121212, 0.15151515, 0.12121212],\n",
              "        [0.09090909, 0.12121212, 0.09090909]])"
            ]
          },
          "metadata": {},
          "execution_count": 166
        }
      ]
    },
    {
      "cell_type": "code",
      "source": [
        "fig, ax = plt.subplots()\n",
        "im = ax.imshow(p0, cmap = 'Greys')\n",
        "fig.colorbar(im)\n",
        "plt.show()"
      ],
      "metadata": {
        "colab": {
          "base_uri": "https://localhost:8080/",
          "height": 435
        },
        "id": "pR6x6uFXwUU4",
        "outputId": "26bad2d0-a85e-44a6-d957-2ea2c6135c7d"
      },
      "execution_count": null,
      "outputs": [
        {
          "output_type": "display_data",
          "data": {
            "text/plain": [
              "<Figure size 640x480 with 2 Axes>"
            ],
            "image/png": "[encoded data removed]"
          },
          "metadata": {}
        }
      ]
    },
    {
      "cell_type": "code",
      "source": [],
      "metadata": {
        "id": "C9Q0nqkYESyY"
      },
      "execution_count": null,
      "outputs": []
    },
    {
      "cell_type": "markdown",
      "source": [
        "_________"
      ],
      "metadata": {
        "id": "U362UT5BzfaV"
      }
    },
    {
      "cell_type": "markdown",
      "source": [
        "# 解法２(固有ベクトル)"
      ],
      "metadata": {
        "id": "qXaeDyvEzh_Q"
      }
    },
    {
      "cell_type": "code",
      "source": [
        "import sympy"
      ],
      "metadata": {
        "id": "J8mQECZx5EqF"
      },
      "execution_count": null,
      "outputs": []
    },
    {
      "cell_type": "code",
      "source": [
        "# ms = sympy.Matrix(arrayT)\n",
        "# p0 = ms.eigenvects()[1][2][0]\n",
        "# p0 = sympy.matrix2numpy(p0).astype(float)\n",
        "# p0 = p0.reshape(3,3)\n",
        "# p0"
      ],
      "metadata": {
        "id": "_kdEX5Bk5U4V"
      },
      "execution_count": null,
      "outputs": []
    },
    {
      "cell_type": "code",
      "source": [
        "#numpyを使用\n",
        "\n",
        "np.linalg.eig(arrayT)"
      ],
      "metadata": {
        "id": "oEe7sXPfsnKx",
        "colab": {
          "base_uri": "https://localhost:8080/"
        },
        "outputId": "07304fdc-b8b9-4f50-a897-cadc9b775894"
      },
      "execution_count": null,
      "outputs": [
        {
          "output_type": "execute_result",
          "data": {
            "text/plain": [
              "(array([-0.46666667,  1.        ,  0.33333333,  0.25      , -0.11870241,\n",
              "         0.70203574,  0.70203574, -0.11870241,  0.25      ]),\n",
              " matrix([[ 2.23606798e-01, -2.68328157e-01,  5.00000000e-01,\n",
              "           2.56307297e-01,  4.35632427e-01, -4.89405065e-01,\n",
              "           2.85790408e-01, -3.22801350e-02,  8.90816071e-02],\n",
              "         [-3.57770876e-01, -3.57770876e-01, -2.36777010e-16,\n",
              "          -4.27178829e-02, -3.93842855e-01, -3.60889652e-01,\n",
              "          -8.22220224e-02,  4.21943673e-01, -4.83676210e-01],\n",
              "         [ 2.23606798e-01, -2.68328157e-01, -5.00000000e-01,\n",
              "           2.56307297e-01,  1.38569293e-17, -1.38166638e-17,\n",
              "          -3.97292286e-01, -4.34434810e-01,  8.90816071e-02],\n",
              "         [-3.57770876e-01, -3.57770876e-01, -2.99154210e-16,\n",
              "          -4.27178829e-02, -3.93842855e-01, -3.60889652e-01,\n",
              "           5.03708469e-01, -3.63576574e-01,  4.53982341e-01],\n",
              "         [ 5.36656315e-01, -4.47213595e-01,  3.98248485e-16,\n",
              "          -8.54357658e-01,  3.94791973e-17, -5.69523006e-16,\n",
              "           4.39089786e-17,  1.63484991e-17, -2.96938690e-01],\n",
              "         [-3.57770876e-01, -3.57770876e-01, -7.36655690e-17,\n",
              "          -4.27178829e-02,  3.93842855e-01,  3.60889652e-01,\n",
              "          -5.03708469e-01,  3.63576574e-01,  4.53982341e-01],\n",
              "         [ 2.23606798e-01, -2.68328157e-01, -5.00000000e-01,\n",
              "           2.56307297e-01, -1.24561207e-16,  3.48222272e-16,\n",
              "           3.97292286e-01,  4.34434810e-01,  8.90816071e-02],\n",
              "         [-3.57770876e-01, -3.57770876e-01,  2.38738393e-16,\n",
              "          -4.27178829e-02,  3.93842855e-01,  3.60889652e-01,\n",
              "           8.22220224e-02, -4.21943673e-01, -4.83676210e-01],\n",
              "         [ 2.23606798e-01, -2.68328157e-01,  5.00000000e-01,\n",
              "           2.56307297e-01, -4.35632427e-01,  4.89405065e-01,\n",
              "          -2.85790408e-01,  3.22801350e-02,  8.90816071e-02]]))"
            ]
          },
          "metadata": {},
          "execution_count": 170
        }
      ]
    },
    {
      "cell_type": "code",
      "source": [
        "ar = np.linalg.eig(arrayT)[0]\n",
        "ma = np.linalg.eig(arrayT)[1].T\n",
        "p0 = ma[np.argmax(ar)]\n",
        "def Div(n):\n",
        "  return n/np.sum(p0)\n",
        "p0 = list(map(Div,p0))[0].reshape(3,3)\n",
        "p0"
      ],
      "metadata": {
        "id": "Ch8XbWpmsnH5",
        "colab": {
          "base_uri": "https://localhost:8080/"
        },
        "outputId": "72c3b427-0b8b-4cd8-984d-f1b0ea1e76bf"
      },
      "execution_count": null,
      "outputs": [
        {
          "output_type": "execute_result",
          "data": {
            "text/plain": [
              "matrix([[0.09090909, 0.12121212, 0.09090909],\n",
              "        [0.12121212, 0.15151515, 0.12121212],\n",
              "        [0.09090909, 0.12121212, 0.09090909]])"
            ]
          },
          "metadata": {},
          "execution_count": 171
        }
      ]
    },
    {
      "cell_type": "code",
      "source": [
        "fig, ax = plt.subplots()\n",
        "im = ax.imshow(p0, cmap = 'Greys')\n",
        "fig.colorbar(im)\n",
        "plt.show()"
      ],
      "metadata": {
        "colab": {
          "base_uri": "https://localhost:8080/",
          "height": 435
        },
        "id": "ed7ZJdys2tMc",
        "outputId": "316eb589-0c70-48c6-e2a6-827ff76a358d"
      },
      "execution_count": null,
      "outputs": [
        {
          "output_type": "display_data",
          "data": {
            "text/plain": [
              "<Figure size 640x480 with 2 Axes>"
            ],
            "image/png": "[encoded data removed]"
          },
          "metadata": {}
        }
      ]
    },
    {
      "cell_type": "code",
      "source": [],
      "metadata": {
        "id": "T9WPPPL8snEa"
      },
      "execution_count": null,
      "outputs": []
    },
    {
      "cell_type": "markdown",
      "source": [
        "______"
      ],
      "metadata": {
        "id": "PzV07NsajRZ3"
      }
    },
    {
      "cell_type": "markdown",
      "source": [
        "# 解法３(モンテカルロ法)"
      ],
      "metadata": {
        "id": "zUogvxHyjTNd"
      }
    },
    {
      "cell_type": "code",
      "source": [
        "import random"
      ],
      "metadata": {
        "id": "4bbvZe_Zj1w9"
      },
      "execution_count": null,
      "outputs": []
    },
    {
      "cell_type": "code",
      "source": [
        "#移動規則\n",
        "\n",
        "def rule(steps):\n",
        "    cur = random.randint(0, 8)\n",
        "    for i in range(steps):\n",
        "        if cur == 0:\n",
        "            p = random.randint(0, 2)\n",
        "            if p == 0:\n",
        "                cur = 0\n",
        "            elif p == 1:\n",
        "                cur = 1\n",
        "            else:\n",
        "                cur = 3\n",
        "            continue\n",
        "\n",
        "        elif cur == 1:\n",
        "            p = random.randint(0, 3)\n",
        "            if p == 0:\n",
        "                cur = 0\n",
        "            elif p == 1:\n",
        "                cur = 1\n",
        "            elif p == 2:\n",
        "                cur = 2\n",
        "            else:\n",
        "                cur = 4\n",
        "            continue\n",
        "\n",
        "        elif cur == 2:\n",
        "            p = random.randint(0, 2)\n",
        "            if p == 0:\n",
        "                cur = 1\n",
        "            elif p == 1:\n",
        "                cur = 2\n",
        "            else:\n",
        "                cur = 5\n",
        "            continue\n",
        "\n",
        "        elif cur == 3:\n",
        "            p = random.randint(0, 3)\n",
        "            if p == 0:\n",
        "                cur = 0\n",
        "            elif p == 1:\n",
        "                cur = 3\n",
        "            elif p == 2:\n",
        "                cur = 4\n",
        "            else:\n",
        "                cur = 6\n",
        "            continue\n",
        "\n",
        "        elif cur == 4:\n",
        "            p = random.randint(0, 4)\n",
        "            if p == 0:\n",
        "                cur = 1\n",
        "            elif p == 1:\n",
        "                cur = 3\n",
        "            elif p == 2:\n",
        "                cur = 4\n",
        "            elif p == 3:\n",
        "                cur = 5\n",
        "            else:\n",
        "                cur = 7\n",
        "            continue\n",
        "\n",
        "        elif cur == 5:\n",
        "            p = random.randint(0, 3)\n",
        "            if p == 0:\n",
        "                cur = 2\n",
        "            elif p == 1:\n",
        "                cur = 4\n",
        "            elif p == 2:\n",
        "                cur = 5\n",
        "            else:\n",
        "                cur = 8\n",
        "            continue\n",
        "\n",
        "        elif cur == 6:\n",
        "            p = random.randint(0, 2)\n",
        "            if p == 0:\n",
        "                cur = 3\n",
        "            elif p == 1:\n",
        "                cur = 6\n",
        "            else:\n",
        "                cur = 7\n",
        "            continue\n",
        "\n",
        "        elif cur == 7:\n",
        "            p = random.randint(0, 3)\n",
        "            if p == 0:\n",
        "                cur = 4\n",
        "            elif p == 1:\n",
        "                cur = 6\n",
        "            elif p == 2:\n",
        "                cur = 7\n",
        "            else:\n",
        "                cur = 8\n",
        "            continue\n",
        "\n",
        "        else:\n",
        "            p = random.randint(0, 2)\n",
        "            if p == 0:\n",
        "                cur = 5\n",
        "            elif p == 1:\n",
        "                cur = 7\n",
        "            else:\n",
        "                cur = 8\n",
        "            continue\n",
        "    return cur"
      ],
      "metadata": {
        "id": "WdMR7utUjXWJ"
      },
      "execution_count": null,
      "outputs": []
    },
    {
      "cell_type": "code",
      "source": [
        "#シミュレーション実行関数\n",
        "\n",
        "def mc(steps, count):\n",
        "    data = []\n",
        "    for i in range(count):\n",
        "        data.append(rule(steps))\n",
        "\n",
        "    map = []\n",
        "    for i in range(9):\n",
        "        map.append(data.count(i))\n",
        "    m_array = np.array(map).reshape(3, 3)\n",
        "\n",
        "    return m_array\n"
      ],
      "metadata": {
        "id": "ZESyKsi8oQF1"
      },
      "execution_count": null,
      "outputs": []
    },
    {
      "cell_type": "code",
      "source": [
        "result = mc(1000,10000)\n",
        "print(result)\n",
        "fig, ax = plt.subplots()\n",
        "im = ax.imshow(result, cmap = 'Greys')\n",
        "fig.colorbar(im)\n",
        "plt.show()"
      ],
      "metadata": {
        "colab": {
          "base_uri": "https://localhost:8080/",
          "height": 490
        },
        "id": "foLYZf1xtM6a",
        "outputId": "fe21ea88-76e4-41b0-b1f7-00f7b0993c62"
      },
      "execution_count": null,
      "outputs": [
        {
          "output_type": "stream",
          "name": "stdout",
          "text": [
            "[[ 842 1288  860]\n",
            " [1206 1542 1247]\n",
            " [ 870 1235  910]]\n"
          ]
        },
        {
          "output_type": "display_data",
          "data": {
            "text/plain": [
              "<Figure size 640x480 with 2 Axes>"
            ],
            "image/png": "[encoded data removed]"
          },
          "metadata": {}
        }
      ]
    },
    {
      "cell_type": "code",
      "source": [],
      "metadata": {
        "id": "48AtxJdkEK9H"
      },
      "execution_count": null,
      "outputs": []
    },
    {
      "cell_type": "markdown",
      "source": [
        "____"
      ],
      "metadata": {
        "id": "o7HmJTW8Jl74"
      }
    },
    {
      "cell_type": "markdown",
      "source": [
        "# 解法３　別解(MCMC法)"
      ],
      "metadata": {
        "id": "V7WY0ZbiI1xc"
      }
    },
    {
      "cell_type": "code",
      "source": [
        "#移動規則\n",
        "\n",
        "def rule(cur):\n",
        "    if cur == 0:\n",
        "        p = random.randint(0, 2)\n",
        "        if p == 0:\n",
        "            cur = 0\n",
        "        elif p == 1:\n",
        "            cur = 1\n",
        "        else:\n",
        "            cur = 3\n",
        "        return cur\n",
        "\n",
        "    elif cur == 1:\n",
        "        p = random.randint(0, 3)\n",
        "        if p == 0:\n",
        "            cur = 0\n",
        "        elif p == 1:\n",
        "            cur = 1\n",
        "        elif p == 2:\n",
        "            cur = 2\n",
        "        else:\n",
        "            cur = 4\n",
        "        return cur\n",
        "\n",
        "    elif cur == 2:\n",
        "        p = random.randint(0, 2)\n",
        "        if p == 0:\n",
        "            cur = 1\n",
        "        elif p == 1:\n",
        "            cur = 2\n",
        "        else:\n",
        "            cur = 5\n",
        "        return cur\n",
        "\n",
        "    elif cur == 3:\n",
        "        p = random.randint(0, 3)\n",
        "        if p == 0:\n",
        "            cur = 0\n",
        "        elif p == 1:\n",
        "            cur = 3\n",
        "        elif p == 2:\n",
        "            cur = 4\n",
        "        else:\n",
        "            cur = 6\n",
        "        return cur\n",
        "\n",
        "    elif cur == 4:\n",
        "        p = random.randint(0, 4)\n",
        "        if p == 0:\n",
        "            cur = 1\n",
        "        elif p == 1:\n",
        "            cur = 3\n",
        "        elif p == 2:\n",
        "            cur = 4\n",
        "        elif p == 3:\n",
        "            cur = 5\n",
        "        else:\n",
        "            cur = 7\n",
        "        return cur\n",
        "\n",
        "    elif cur == 5:\n",
        "        p = random.randint(0, 3)\n",
        "        if p == 0:\n",
        "            cur = 2\n",
        "        elif p == 1:\n",
        "            cur = 4\n",
        "        elif p == 2:\n",
        "            cur = 5\n",
        "        else:\n",
        "            cur = 8\n",
        "        return cur\n",
        "\n",
        "    elif cur == 6:\n",
        "        p = random.randint(0, 2)\n",
        "        if p == 0:\n",
        "            cur = 3\n",
        "        elif p == 1:\n",
        "            cur = 6\n",
        "        else:\n",
        "            cur = 7\n",
        "        return cur\n",
        "\n",
        "    elif cur == 7:\n",
        "        p = random.randint(0, 3)\n",
        "        if p == 0:\n",
        "            cur = 4\n",
        "        elif p == 1:\n",
        "            cur = 6\n",
        "        elif p == 2:\n",
        "            cur = 7\n",
        "        else:\n",
        "            cur = 8\n",
        "        return cur\n",
        "\n",
        "    else:\n",
        "        p = random.randint(0, 2)\n",
        "        if p == 0:\n",
        "            cur = 5\n",
        "        elif p == 1:\n",
        "            cur = 7\n",
        "        else:\n",
        "            cur = 8\n",
        "        return cur"
      ],
      "metadata": {
        "id": "7BorbII6IaD1"
      },
      "execution_count": null,
      "outputs": []
    },
    {
      "cell_type": "code",
      "source": [
        "#シミュレーション実行関数\n",
        "\n",
        "def mc(steps):\n",
        "    data = []\n",
        "    cur = random.randint(0, 8)\n",
        "    for i in range(steps):\n",
        "        cur = rule(cur)\n",
        "        data.append(cur)\n",
        "\n",
        "    map = []\n",
        "    for i in range(9):\n",
        "        map.append(data.count(i))\n",
        "    m_array = np.array(map).reshape(3, 3)\n",
        "\n",
        "    return m_array\n",
        "\n"
      ],
      "metadata": {
        "id": "VdJ6Zo56FQlv"
      },
      "execution_count": null,
      "outputs": []
    },
    {
      "cell_type": "code",
      "source": [
        "result = mc(100000)\n",
        "print(result)\n",
        "fig, ax = plt.subplots()\n",
        "im = ax.imshow(result, cmap = 'Greys')\n",
        "fig.colorbar(im)\n",
        "plt.show()"
      ],
      "metadata": {
        "colab": {
          "base_uri": "https://localhost:8080/",
          "height": 490
        },
        "id": "FvVCuxPIIc-b",
        "outputId": "4ae78344-c096-4f73-db18-bea0f6477f54"
      },
      "execution_count": null,
      "outputs": [
        {
          "output_type": "stream",
          "name": "stdout",
          "text": [
            "[[ 9226 12274  8916]\n",
            " [12124 15059 11943]\n",
            " [ 9048 12161  9249]]\n"
          ]
        },
        {
          "output_type": "display_data",
          "data": {
            "text/plain": [
              "<Figure size 640x480 with 2 Axes>"
            ],
            "image/png": "[encoded data removed]"
          },
          "metadata": {}
        }
      ]
    }
  ]
}