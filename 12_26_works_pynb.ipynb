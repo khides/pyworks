{
  "nbformat": 4,
  "nbformat_minor": 0,
  "metadata": {
    "colab": {
      "provenance": [],
      "include_colab_link": true
    },
    "kernelspec": {
      "name": "python3",
      "display_name": "Python 3"
    },
    "language_info": {
      "name": "python"
    }
  },
  "cells": [
    {
      "cell_type": "markdown",
      "metadata": {
        "id": "view-in-github",
        "colab_type": "text"
      },
      "source": [
        "<a href=\"https://colab.research.google.com/github/khiides/pyworks/blob/master/12_26_works_pynb.ipynb\" target=\"_parent\"><img src=\"https://colab.research.google.com/assets/colab-badge.svg\" alt=\"Open In Colab\"/></a>"
      ]
    },
    {
      "cell_type": "markdown",
      "source": [
        "# 航空宇宙情報システム学第一 小課題5\n",
        "\n",
        "## 出題: 12月26日 , 期限: 1月23日\n",
        "\n",
        "今回は、辞書型を題材とした課題です。説明が長くてすみません。\n",
        "**最後の問題 (5) は任意課題**です。余裕のある人だけ挑戦してください。\n",
        "\n",
        "## 課題内容\n",
        "\n",
        "\n",
        "### **(1)** \n",
        "下のコードセルでは、日本各地142都市の名前のリスト `cities`、それらの都市のエリアコード(4桁の数字文字列)のリスト `acodes`, さらに、それらの都市が存在する都道府県(北海道に関しては管区レベルまで)のコードのリスト`pcodes`を定義しています。\n",
        "\n",
        "(本当は、名瀬のエリアコードは本当は'8840'のはずなのですが、事情があって'1000'に変更しています。)\n"
      ],
      "metadata": {
        "id": "1JvR-hh2owW5"
      }
    },
    {
      "cell_type": "code",
      "execution_count": null,
      "metadata": {
        "id": "EYPTfjkZPqvy"
      },
      "outputs": [],
      "source": [
        "cities = ['稚内','旭川','留萌','札幌','岩見沢','倶知安','網走','北見','紋別','根室','釧路','帯広','室蘭','浦河','函館','江差','青森','むつ','八戸','盛岡','宮古','大船渡','仙台','白石','秋田','横手','山形','米沢','酒田','新庄','福島','小名浜','若松','水戸','土浦','宇都宮','大田原','前橋','みなかみ','さいたま','熊谷','秩父','千葉','銚子','館山','東京','大島','八丈島','父島','横浜','小田原','新潟','長岡','高田','相川','富山','伏木','金沢','輪島','福井','敦賀','甲府','河口湖','長野','松本','飯田','岐阜','高山','静岡','網代','三島','浜松','名古屋','豊橋','津','尾鷲','大津','彦根','京都','舞鶴','大阪','神戸','豊岡','奈良','風屋','和歌山','潮岬','鳥取','米子','松江','浜田','西郷','岡山','津山','広島','庄原','下関','山口','柳井','萩','徳島','日和佐','高松','松山','新居浜','宇和島','高知','室戸岬','清水','福岡','八幡','飯塚','久留米','佐賀','伊万里','長崎','佐世保','厳原','福江','熊本','阿蘇乙姫','牛深','人吉','大分','中津','日田','佐伯','宮崎','延岡','都城','高千穂','鹿児島','鹿屋','種子島','名瀬','那覇','名護','久米島','南大東','宮古島','石垣島','与那国島']\n",
        "acodes = ['1100', '1200', '1300', '1400', '1500', '1600', '1710', '1720', '1730', '1800', '1900', '2000', '2100', '2200', '2300', '2400', '3110', '3120', '3130', '3310', '3320', '3330', '3410', '3420', '3210', '3220', '3510', '3520', '3530', '3540', '3610', '3620', '3630', '4010', '4020', '4110', '4120', '4210', '4220', '4310', '4320', '4330', '4510', '4520', '4530', '4410', '4420', '4430', '4440', '4610', '4620', '5410', '5420', '5430', '5440', '5510', '5520', '5610', '5620', '5710', '5720', '4910', '4920', '4810', '4820', '4830', '5210', '5220', '5010', '5020', '5030', '5040', '5110', '5120', '5310', '5320', '6010', '6020', '6110', '6120', '6200', '6310', '6320', '6410', '6420', '6510', '6520', '6910', '6920', '6810', '6820', '6830', '6610', '6620', '6710', '6720', '8110', '8120', '8130', '8140', '7110', '7120', '7200', '7310', '7320', '7330', '7410', '7420', '7430', '8210', '8220', '8230', '8240', '8510', '8520', '8410', '8420', '8430', '8440', '8610', '8620', '8630', '8640', '8310', '8320', '8330', '8340', '8710', '8720', '8730', '8740', '8810', '8820', '8830', '1000', '9110', '9120', '9130', '9200', '9300', '9410', '9420']\n",
        "pcodes = ['1a', '1a', '1a', '1b', '1b', '1b', '1c', '1c', '1c', '1c', '1c', '1c', '1d', '1d', '1d', '1d', '2', '2', '2', '3', '3', '3', '4', '4', '5', '5', '6', '6', '6', '6', '7', '7', '7', '8', '8', '9', '9', '10', '10', '11', '11', '11', '12', '12', '12', '13', '13', '13', '13', '14', '14', '15', '15', '15', '15', '16', '16', '17', '17', '18', '18', '19', '19', '20', '20', '20', '21', '21', '22', '22', '22', '22', '23', '23', '24', '24', '25', '25', '26', '26', '27', '28', '28', '29', '29', '30', '30', '31', '31', '32', '32', '32', '33', '33', '34', '34', '35', '35', '35', '35', '36', '36', '37', '38', '38', '38', '39', '39', '39', '40', '40', '40', '40', '41', '41', '42', '42', '42', '42', '43', '43', '43', '43', '44', '44', '44', '44', '45', '45', '45', '45', '46', '46', '46', '46', '47', '47', '47', '47', '47', '47', '47']"
      ]
    },
    {
      "cell_type": "markdown",
      "source": [
        "<font color=\"blue\">これらのリストから、\n",
        "(a) 都市名をキー、エリアコードを値とする辞書 `c2ac`、および、(b) 都市名をキー、都道府県コードを値とする辞書 `c2pc` を作って下さい。</font>\n",
        "例えば、\n",
        "```\n",
        ">>> c2ac[\"さいたま\"]\n",
        "'4310'\n",
        ">>> c2pc[\"父島\"]\n",
        "'13'\n",
        "```\n",
        "のようになります。"
      ],
      "metadata": {
        "id": "oTQZbZGaU188"
      }
    },
    {
      "cell_type": "markdown",
      "source": [
        "_______________________"
      ],
      "metadata": {
        "id": "kNjj_puABRaI"
      }
    },
    {
      "cell_type": "markdown",
      "source": [
        "(1)- (a) (b) 回答"
      ],
      "metadata": {
        "id": "3iuUNAhaBWcC"
      }
    },
    {
      "cell_type": "code",
      "source": [
        "c2ac={}\n",
        "for i in range(len(cities)):\n",
        "  c2ac[cities[i]]=acodes[i]\n",
        "\n",
        "print(c2ac['さいたま'])\n",
        "\n",
        "c2pc={}\n",
        "for i in range(len(cities)):\n",
        "  c2pc[cities[i]]=pcodes[i]\n",
        "\n",
        "print(c2pc['父島'])"
      ],
      "metadata": {
        "colab": {
          "base_uri": "https://localhost:8080/"
        },
        "id": "ZhKhv49rBaHt",
        "outputId": "e732b892-6538-42d8-813a-30f60db20558"
      },
      "execution_count": null,
      "outputs": [
        {
          "output_type": "stream",
          "name": "stdout",
          "text": [
            "4310\n",
            "13\n"
          ]
        }
      ]
    },
    {
      "cell_type": "markdown",
      "source": [
        "_______________"
      ],
      "metadata": {
        "id": "W6rARzBDDi-H"
      }
    },
    {
      "cell_type": "markdown",
      "source": [
        "### (2)\n",
        "次のコードセルでは、142都市の都道府県名のリスト`prefs`を定義しています。"
      ],
      "metadata": {
        "id": "Tw4nlo1zXQvR"
      }
    },
    {
      "cell_type": "code",
      "source": [
        "prefs = ['北海道', '北海道', '北海道', '北海道', '北海道', '北海道', '北海道', '北海道', '北海道', '北海道', '北海道', '北海道', '北海道', '北海道', '北海道', '北海道', '青森', '青森', '青森', '岩手', '岩手', '岩手', '宮城', '宮城', '秋田', '秋田', '山形', '山形', '山形', '山形', '福島', '福島', '福島', '茨城', '茨城', '栃木', '栃木', '群馬', '群馬', '埼玉', '埼玉', '埼玉', '千葉', '千葉', '千葉', '東京', '東京', '東京', '東京', '神奈川', '神奈川', '新潟', '新潟', '新潟', '新潟', '富山', '富山', '石川', '石川', '福井', '福井', '山梨', '山梨', '長野', '長野', '長野', '岐阜', '岐阜', '静岡', '静岡', '静岡', '静岡', '愛知', '愛知', '三重', '三重', '滋賀', '滋賀', '京都', '京都', '大阪', '兵庫', '兵庫', '奈良', '奈良', '和歌山', '和歌山', '鳥取', '鳥取', '島根', '島根', '島根', '岡山', '岡山', '広島', '広島', '山口', '山口', '山口', '山口', '徳島', '徳島', '香川', '愛媛', '愛媛', '愛媛', '高知', '高知', '高知', '福岡', '福岡', '福岡', '福岡', '佐賀', '佐賀', '長崎', '長崎', '長崎', '長崎', '熊本', '熊本', '熊本', '熊本', '大分', '大分', '大分', '大分', '宮崎', '宮崎', '宮崎', '宮崎', '鹿児島', '鹿児島', '鹿児島', '鹿児島', '沖縄', '沖縄', '沖縄', '沖縄', '沖縄', '沖縄', '沖縄']"
      ],
      "metadata": {
        "id": "X600ktftX6rN"
      },
      "execution_count": null,
      "outputs": []
    },
    {
      "cell_type": "markdown",
      "source": [
        "<font color=\"blue\">都道府県名をキー、その都道府県に含まれる**都市名のリスト**を値とする辞書`p2c`を作ってください。</font>例えば、\n",
        "```\n",
        ">>> p2c['青森']\n",
        "['青森', 'むつ', '八戸']\n",
        "```\n",
        "となります。"
      ],
      "metadata": {
        "id": "16rwsf1FYIDC"
      }
    },
    {
      "cell_type": "markdown",
      "source": [
        "________"
      ],
      "metadata": {
        "id": "IjZG9MkgE1xk"
      }
    },
    {
      "cell_type": "markdown",
      "source": [
        "(2)回答"
      ],
      "metadata": {
        "id": "mt9V69WeEtR-"
      }
    },
    {
      "cell_type": "code",
      "source": [
        "p2c={}\n",
        "for i in range(len(prefs)):\n",
        "  p2c.setdefault(prefs[i],[]).append(cities[i])\n",
        "\n",
        "p2c['青森']"
      ],
      "metadata": {
        "colab": {
          "base_uri": "https://localhost:8080/"
        },
        "id": "ZzVni4dmD6Tm",
        "outputId": "d9232382-b9e8-4773-cd9d-b2c67469c3df"
      },
      "execution_count": null,
      "outputs": [
        {
          "output_type": "execute_result",
          "data": {
            "text/plain": [
              "['青森', 'むつ', '八戸']"
            ]
          },
          "metadata": {},
          "execution_count": 4
        }
      ]
    },
    {
      "cell_type": "code",
      "source": [
        "p2c={}\n",
        "for i in range(len(prefs)):\n",
        "  if prefs[i] in p2c:\n",
        "    p2c[prefs[i]].append(cities[i])\n",
        "  else :\n",
        "    p2c[prefs[i]]=[cities[i]]\n",
        "\n",
        "p2c['青森'] "
      ],
      "metadata": {
        "colab": {
          "base_uri": "https://localhost:8080/"
        },
        "id": "K01I0nTcwQ3s",
        "outputId": "a3ddcee9-851a-4da8-ad1b-4dae6e52d854"
      },
      "execution_count": null,
      "outputs": [
        {
          "output_type": "execute_result",
          "data": {
            "text/plain": [
              "['青森', 'むつ', '八戸']"
            ]
          },
          "metadata": {},
          "execution_count": 5
        }
      ]
    },
    {
      "cell_type": "markdown",
      "source": [
        "____"
      ],
      "metadata": {
        "id": "G6AFekLbFCeM"
      }
    },
    {
      "cell_type": "markdown",
      "source": [
        "### (3)\n",
        "実は、上記のリストは、**Yahoo天気予報**で天気予報が公開されている都市のリストです。\n",
        "各地点のYahoo天気予報のページのURLは、\n",
        "```\n",
        "'https://weather.yahoo.co.jp/weather/jp/都道府県コード/エリアコード.html'\n",
        "```\n",
        "となっています。例えば、**金沢**のエリアコードは'5610', 石川県の都道府県コードは'17'なので、金沢の天気予報のページは、\n",
        "```\n",
        "'https://weather.yahoo.co.jp/weather/jp/17/5610.html'\n",
        "```\n",
        "です。<font color=\"blue\">都市名を引数`cn`として受け取り、その天気予報のページのURLを戻り値として返す関数 `get_url_by_city(cn)`を作ってください。</font>\n",
        "例えば、\n",
        "```\n",
        ">>> get_url_by_city('種子島')\n",
        "'https://weather.yahoo.co.jp/weather/jp/46/8830.html'\n",
        "```\n",
        "のようになります。実際に、いくつかの都市について正しい(有効な)URLが得られることを確認してください。また、余裕のある人は、リストに含まれていない都市名が指定されたときのエラー処理を考えて実装してみてください。"
      ],
      "metadata": {
        "id": "gZCMSkebZmZK"
      }
    },
    {
      "cell_type": "markdown",
      "source": [
        "____"
      ],
      "metadata": {
        "id": "SHg9_TpiFQEt"
      }
    },
    {
      "cell_type": "markdown",
      "source": [
        "(3)回答\n"
      ],
      "metadata": {
        "id": "DfsBO17aFUa7"
      }
    },
    {
      "cell_type": "code",
      "source": [
        "def get_url_by_city(cn):\n",
        "  acode=c2ac[cn]\n",
        "  pcode=c2pc[cn]\n",
        "  url='https://weather.yahoo.co.jp/weather/jp/{x:s}/{y:s}.html'.format(x=pcode,y=acode)\n",
        "  return url\n",
        "\n",
        "get_url_by_city('種子島')\n"
      ],
      "metadata": {
        "id": "hMYWTTy_eRth",
        "colab": {
          "base_uri": "https://localhost:8080/",
          "height": 36
        },
        "outputId": "ab21773f-f251-4049-c052-8b22bda91bbb"
      },
      "execution_count": null,
      "outputs": [
        {
          "output_type": "execute_result",
          "data": {
            "text/plain": [
              "'https://weather.yahoo.co.jp/weather/jp/46/8830.html'"
            ],
            "application/vnd.google.colaboratory.intrinsic+json": {
              "type": "string"
            }
          },
          "metadata": {},
          "execution_count": 6
        }
      ]
    },
    {
      "cell_type": "markdown",
      "source": [
        "___\n"
      ],
      "metadata": {
        "id": "cJT89pz8KuWy"
      }
    },
    {
      "cell_type": "markdown",
      "source": [
        "\n",
        "### (4)\n",
        "次のコードセルで定義された関数 `get_yweather_by_url(url)`は、指定されたYahoo天気のページから、天気予報情報をリストで返します（Webページからデータを取得することを**スクレイピング**と呼びます）。ちょっと難しいので、この関数の中身自体は無理に理解する必要はありません。"
      ],
      "metadata": {
        "id": "tgQO1uk8eSQs"
      }
    },
    {
      "cell_type": "code",
      "source": [
        "import requests\n",
        "from bs4 import BeautifulSoup\n",
        "\n",
        "def get_yweather_by_url(url):\n",
        "    r = requests.get(url)\n",
        "    soup = BeautifulSoup(r.text, 'html.parser')\n",
        "    rs = soup.find(class_='forecastCity')\n",
        "    rs = [i.strip() for i in rs.text.splitlines()]\n",
        "    rs = [i for i in rs if i != \"\"]\n",
        "    return rs\n"
      ],
      "metadata": {
        "id": "3yh1ixH3fWqs"
      },
      "execution_count": null,
      "outputs": []
    },
    {
      "cell_type": "markdown",
      "source": [
        "例えば、宇都宮の天気予報情報は、\n",
        "```\n",
        ">>> get_yweather_by_url('https://weather.yahoo.co.jp/weather/jp/9/4110.html')\n",
        "['12月22日(木)',\n",
        " '雨のち晴',\n",
        " '11℃[+2]',\n",
        " '4℃[+6]',\n",
        " :(中略)\n",
        " '風：',\n",
        " '南西の風後やや強く',\n",
        " '波：',\n",
        " '---']\n",
        "```\n",
        "のようにして得ることができます。リストの各要素が天気予報の何の情報に対応しているかは、自分で調べてください（実際の天気予報のページを見れば明らかかと思います）。\n",
        "\n",
        "この関数と(1)-(3)までの内容を使って、<font color=\"blue\">**指定された都市の天気情報を表示する関数** `print_weather_of_city(city)`を作ってください。</font>天気予報のどのような情報を、どういう形式で表示するかは自由です。例えば、シンプルに、天気と最高・最低気温を表示するのであれば、\n",
        "```\n",
        ">>> print_weather_of_city('網走')\n",
        "\n",
        "今日(12月22日(木))の網走の天気は、晴のち雪です。\n",
        "最高気温は3℃[+3]、最低気温は-7℃[+2]です。\n",
        "```\n",
        "のような感じです。各自、好きなように出力してください。"
      ],
      "metadata": {
        "id": "dEBVDZBwfygG"
      }
    },
    {
      "cell_type": "markdown",
      "source": [
        "___"
      ],
      "metadata": {
        "id": "mgovM8pxMDe7"
      }
    },
    {
      "cell_type": "markdown",
      "source": [
        "（4)回答"
      ],
      "metadata": {
        "id": "2djjwljXMdcR"
      }
    },
    {
      "cell_type": "code",
      "source": [
        "def print_weather_of_city(city):\n",
        "  url=get_url_by_city(city)\n",
        "  infolist=get_yweather_by_url(url)\n",
        "  inf='今日({date})の{cityname}の天気は、{weather}です。最高気温は{maxtemp}、最低気温は{mintemp}です。'.format(\n",
        "      date=infolist[0],cityname=city,weather=infolist[1],maxtemp=infolist[2],mintemp=infolist[3])\n",
        "\n",
        "  return inf\n",
        "\n",
        "print_weather_of_city('網走')"
      ],
      "metadata": {
        "colab": {
          "base_uri": "https://localhost:8080/",
          "height": 36
        },
        "id": "DeZ6YfnuMcq5",
        "outputId": "fd6b5924-51d6-4a45-f6c4-b08c2d9f745e"
      },
      "execution_count": null,
      "outputs": [
        {
          "output_type": "execute_result",
          "data": {
            "text/plain": [
              "'今日(12月30日(金))の網走の天気は、曇りです。最高気温は-1℃[-1]、最低気温は-5℃[0]です。'"
            ],
            "application/vnd.google.colaboratory.intrinsic+json": {
              "type": "string"
            }
          },
          "metadata": {},
          "execution_count": 8
        }
      ]
    },
    {
      "cell_type": "markdown",
      "source": [
        "_______________________________________"
      ],
      "metadata": {
        "id": "Mn2_8qU0OToz"
      }
    },
    {
      "cell_type": "markdown",
      "source": [
        "### (5) 任意（余裕のある人だけ挑戦してください）\n",
        "\n",
        "<font color=\"blue\">今日の最高気温の上位(高い順)10都市、および、最低気温上位(低い順)10都市を表示してください。</font>\n",
        "\n",
        "#### ヒント\n",
        "* `get_yweather_by_url()`で得られる最高気温、最低気温の情報は、例えば、`'3℃[+3]'` のような形式の文字列で得られるので、実際の気温を数値(整数)で得るには、文字列の`find`メソッドを使って`'℃'`の位置(インデクス)を求め、その直前までの部分文字列をスライスで得て、さらに`int`関数で整数に型変換する、ということが考えられます。\n",
        "* 最高気温、最低気温のランキングを作る場合には、都市名をキー、最高気温（または最低気温）を値とする辞書を作り、値でソートするということが考えられます。\n",
        "\n",
        "なお、142都市の天気情報をスクレイピングで取得するには、結構な時間(1〜2分程度)が掛かります（時間帯などにもよる）。\n",
        "\n",
        "ちなみに、12月22日の最高気温、最低気温トップ10は、それぞれこんな感じでした。\n",
        "```\n",
        "最高気温トップ10 (12月22日(木))\n",
        "1 位  父島 : 25 度\n",
        "2 位  南大東 : 20 度\n",
        "3 位  石垣島 : 20 度\n",
        "4 位  与那国島 : 20 度\n",
        "5 位  八丈島 : 19 度\n",
        "6 位  宮古島 : 19 度\n",
        "7 位  久米島 : 18 度\n",
        "8 位  尾鷲 : 17 度\n",
        "9 位  名瀬 : 17 度\n",
        "10 位  那覇 : 17 度\n",
        "```\n",
        "南の島々の中に、尾鷲(三重県)が食い込んでいるのが面白いです。\n",
        "\n",
        "```\n",
        "最低気温トップ10(12月22日(木))\n",
        "1 位  旭川 : -15 度\n",
        "2 位  北見 : -14 度\n",
        "3 位  帯広 : -12 度\n",
        "4 位  岩見沢 : -11 度\n",
        "5 位  紋別 : -10 度\n",
        "6 位  倶知安 : -9 度\n",
        "7 位  釧路 : -8 度\n",
        "8 位  稚内 : -7 度\n",
        "9 位  留萌 : -7 度\n",
        "10 位  網走 : -7 度\n",
        "```\n",
        "こちらは順当に全て北海道の都市でした。\n"
      ],
      "metadata": {
        "id": "U0mODq6djqMU"
      }
    },
    {
      "cell_type": "markdown",
      "source": [
        "_____________________________"
      ],
      "metadata": {
        "id": "bXgkVI4wOne6"
      }
    },
    {
      "cell_type": "markdown",
      "source": [
        "(5)回答"
      ],
      "metadata": {
        "id": "CbztLKUqOus3"
      }
    },
    {
      "cell_type": "code",
      "source": [
        "##cities=['稚内','旭川','留萌','札幌','岩見沢','倶知安','網走','北見','紋別','根室']\n",
        "\n",
        "\n",
        "maxdict={}\n",
        "mindict={}\n",
        "cur=0\n",
        "for city in cities:\n",
        "  url=get_url_by_city(city)\n",
        "  infolist=get_yweather_by_url(url)\n",
        "  maxtemp=infolist[2]\n",
        "  mintemp=infolist[3]\n",
        "  maxtemp=maxtemp[:maxtemp.find('℃')]\n",
        "  mintemp=mintemp[:mintemp.find('℃')]\n",
        "  maxdict[city]=int(maxtemp)\n",
        "  mindict[city]=int(mintemp)\n",
        "  if cur==0:\n",
        "    date=infolist[0]\n",
        "    cur=1\n",
        "\n",
        "maxsorted=sorted(maxdict.items(),key=lambda x:x[1],reverse=True)\n",
        "minsorted=sorted(mindict.items(),key=lambda x:x[1])\n",
        "\n",
        "\n",
        "#print(maxsorted)\n",
        "#print(minsorted)\n",
        "\n",
        "\n",
        "\n"
      ],
      "metadata": {
        "id": "9bBxDu8ZOrTk"
      },
      "execution_count": null,
      "outputs": []
    },
    {
      "cell_type": "code",
      "source": [
        "maxlist=[]\n",
        "for i in range(len(maxsorted)):\n",
        "  for j in range(len(maxsorted[0])):\n",
        "    maxlist.append(maxsorted[i][j])\n",
        "\n",
        "minlist=[]\n",
        "for i in range(len(minsorted)):\n",
        "  for j in range(len(minsorted[0])):\n",
        "    minlist.append(minsorted[i][j])\n",
        "\n",
        "\n",
        "maxtop10='''最高気温トップ10 ({date})\\n \n",
        "1 位  {} : {} 度 \\n\n",
        "2 位  {} : {} 度 \\n\n",
        "3 位  {} : {} 度 \\n\n",
        "4 位  {} : {} 度 \\n\n",
        "5 位  {} : {} 度 \\n\n",
        "6 位  {} : {} 度 \\n\n",
        "7 位  {} : {} 度 \\n\n",
        "8 位  {} : {} 度 \\n\n",
        "9 位  {} : {} 度 \\n\n",
        "10 位  {} : {} 度 \\n'''.format(date=date,*maxlist)\n",
        "\n",
        "print(maxtop10)\n",
        "\n",
        "print()\n",
        "\n",
        "\n",
        "mintop10='''最低気温トップ10 ({date})\\n \n",
        "1 位  {} : {} 度 \\n\n",
        "2 位  {} : {} 度 \\n\n",
        "3 位  {} : {} 度 \\n\n",
        "4 位  {} : {} 度 \\n\n",
        "5 位  {} : {} 度 \\n\n",
        "6 位  {} : {} 度 \\n\n",
        "7 位  {} : {} 度 \\n\n",
        "8 位  {} : {} 度 \\n\n",
        "9 位  {} : {} 度 \\n\n",
        "10 位  {} : {} 度 \\n'''.format(date=date,*minlist)\n",
        "\n",
        "print(mintop10)\n"
      ],
      "metadata": {
        "id": "055u1BjLXILe",
        "colab": {
          "base_uri": "https://localhost:8080/"
        },
        "outputId": "37ad9adf-4e12-4ad4-99b1-5c3bc4f55600"
      },
      "execution_count": null,
      "outputs": [
        {
          "output_type": "stream",
          "name": "stdout",
          "text": [
            "最高気温トップ10 (12月30日(金))\n",
            " \n",
            "1 位  石垣島 : 22 度 \n",
            "\n",
            "2 位  父島 : 21 度 \n",
            "\n",
            "3 位  南大東 : 21 度 \n",
            "\n",
            "4 位  宮古島 : 21 度 \n",
            "\n",
            "5 位  与那国島 : 21 度 \n",
            "\n",
            "6 位  久米島 : 19 度 \n",
            "\n",
            "7 位  那覇 : 18 度 \n",
            "\n",
            "8 位  名護 : 18 度 \n",
            "\n",
            "9 位  名瀬 : 15 度 \n",
            "\n",
            "10 位  鹿屋 : 13 度 \n",
            "\n",
            "\n",
            "最低気温トップ10 (12月30日(金))\n",
            " \n",
            "1 位  北見 : -12 度 \n",
            "\n",
            "2 位  帯広 : -8 度 \n",
            "\n",
            "3 位  釧路 : -7 度 \n",
            "\n",
            "4 位  旭川 : -6 度 \n",
            "\n",
            "5 位  函館 : -6 度 \n",
            "\n",
            "6 位  岩見沢 : -5 度 \n",
            "\n",
            "7 位  倶知安 : -5 度 \n",
            "\n",
            "8 位  網走 : -5 度 \n",
            "\n",
            "9 位  紋別 : -5 度 \n",
            "\n",
            "10 位  むつ : -5 度 \n",
            "\n"
          ]
        }
      ]
    },
    {
      "cell_type": "code",
      "source": [
        "\n"
      ],
      "metadata": {
        "id": "XscxiJ9ch3nl"
      },
      "execution_count": null,
      "outputs": []
    }
  ]
}